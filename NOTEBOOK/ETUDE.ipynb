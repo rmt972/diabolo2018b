{
 "cells": [
  {
   "cell_type": "code",
   "execution_count": 3,
   "metadata": {},
   "outputs": [
    {
     "name": "stdout",
     "output_type": "stream",
     "text": [
      "Operating system version.... Windows-10-10.0.17134-SP0\nPython version is........... 3.6.5\nscikit-learn version is..... 0.19.1\npandas version is........... 0.22.0\nnumpy version is............ 1.14.2\nmatplotlib version is....... 2.2.0\nscipy version is....... 1.0.0\n"
     ]
    }
   ],
   "source": [
    "import  sys\n",
    "\n",
    "#LOCALISATION DES DONNEES\n",
    "sys.path.insert(0, \"C:/projets_python/diabolo\")\n",
    "\n",
    "import warnings\n",
    "warnings.filterwarnings(\"ignore\")\n",
    "\n",
    "\n",
    "\n",
    "#LIBRAIRIES PERSO\n",
    "import etude_variable.MyLog as log\n",
    "import etude_variable.jouer as jouer\n",
    "import etude_variable.lecture_data as ld\n",
    "import etude_variable.analyse as ana\n",
    "\n",
    "# LIBRAIRIE PYHTON CLASSIQUES\n",
    "import pandas as pd\n",
    "import numpy as np\n",
    "import matplotlib\n",
    "import scipy\n",
    "import platform\n",
    "\n",
    "from collections import Counter\n",
    "\n",
    "#ESTIMATEUR\n",
    "import sklearn\n",
    "import xgboost as xgb\n",
    "from xgboost import XGBClassifier\n",
    "from sklearn.ensemble import  RandomForestClassifier\n",
    "from sklearn import neighbors, datasets\n",
    "from sklearn.pipeline import make_pipeline\n",
    "from sklearn.preprocessing import Imputer\n",
    "\n",
    "from scipy.stats import uniform\n",
    "from scipy.stats import randint\n",
    "\n",
    "#TRAINING\n",
    "from sklearn.model_selection import GridSearchCV\n",
    "from sklearn.model_selection import RandomizedSearchCV\n",
    "from skopt import BayesSearchCV\n",
    "import dask_searchcv as dcv\n",
    "from skopt.space import Real, Integer\n",
    "\n",
    "#Evaluateur\n",
    "from sklearn.model_selection import KFold\n",
    "\n",
    "from sklearn.model_selection import cross_val_score\n",
    "from sklearn.model_selection import StratifiedKFold\n",
    "from sklearn.model_selection import KFold\n",
    "\n",
    "from sklearn.feature_selection import SelectFromModel\n",
    "\n",
    "\n",
    "from evolutionary_search import EvolutionaryAlgorithmSearchCV\n",
    "from sklearn.utils import class_weight\n",
    "\n",
    "#outils\n",
    "from dask.diagnostics import ProgressBar\n",
    "import logging\n",
    "\n",
    "\n",
    "#Metriques\n",
    "from sklearn.metrics import confusion_matrix, accuracy_score\n",
    "from sklearn.model_selection import learning_curve\n",
    "from sklearn import  metrics\n",
    "from sklearn.metrics import  roc_auc_score\n",
    "from sklearn.metrics import  classification_report\n",
    "\n",
    "#Outils\n",
    "\n",
    "import time\n",
    "\n",
    "\n",
    "#Graphique\n",
    "from matplotlib import pyplot\n",
    "from matplotlib import pyplot as plt\n",
    "import seaborn as sns\n",
    "\n",
    "print('Operating system version....', platform.platform())\n",
    "print(\"Python version is........... %s.%s.%s\" % sys.version_info[:3])\n",
    "print('scikit-learn version is.....', sklearn.__version__)\n",
    "print('pandas version is...........', pd.__version__)\n",
    "print('numpy version is............', np.__version__)\n",
    "print('matplotlib version is.......', matplotlib.__version__)\n",
    "print('scipy version is.......', scipy.__version__)\n"
   ]
  },
  {
   "cell_type": "code",
   "execution_count": 6,
   "metadata": {},
   "outputs": [],
   "source": [
    "def split_dataset(dataset, train_percentage, feature_headers,\n",
    "                                  target_header,random_state=42,mode_debug=0):\n",
    "\n",
    "    train_x, test_x, train_y, test_y = train_test_split(dataset[feature_headers], dataset[target_header],\n",
    "                                                        train_size=train_percentage, test_size=None, random_state=42)\n",
    "\n",
    "\n",
    "    if mode_debug==1:\n",
    "        # Train and Test dataset size details\n",
    "        print(\"--------------------------------\")\n",
    "        print(\"Train_x Shape :: \", train_x.shape)\n",
    "        print(\"Train_y Shape :: \", train_y.shape)\n",
    "        print(\"Test_x Shape :: \", test_x.shape)\n",
    "        print(\"Test_y Shape :: \", test_y.shape)\n",
    "        print(\"--------------------------------\")\n",
    "\n",
    "    return train_x, test_x, train_y, test_y\n",
    "\n",
    "\n",
    "def construireFichierCSV(allure, best_model, feature_columns, response_column, mode_debug=0):\n",
    "    # lecture des données a jouer\n",
    "\n",
    "\n",
    "    xnames = ['ALLURE', 'CO_DISTANCE',\n",
    "              'CO_PRIX', 'HIPPO',\n",
    "              'IDCOURSE', 'IDPARTCIPANT',\n",
    "              'PAR_AGE', 'PAR_ARRIVE',\n",
    "              'PAR_CARRIERE',\n",
    "              'PAR_CARRIERE_Q',\n",
    "              'PAR_CLASSE_AGE',\n",
    "              'PAR_COTEDER',\n",
    "              'PAR_ENT_ECART_GAGNANT',\n",
    "              'PAR_ENT_RAPPORT_GAGNANT_M',\n",
    "              'PAR_ENT_REU_PLACE',\n",
    "              'PAR_ENT_REUSSITE_GAGNE',\n",
    "              'PAR_ENT_VICTOIRE',\n",
    "              'PAR_GAIN',\n",
    "              'pAR_JOC_ECART_GAGNANT',\n",
    "              'PAR_JOC_ECART_PLACE',\n",
    "              'PAR_JOC_NB_COURSE',\n",
    "              'PAR_JOC_PLACE_3P',\n",
    "              'pAR_JOC_RAPPORT_GAGNANT_M',\n",
    "              'PAR_JOC_REU_PLACE',\n",
    "              'pAR_JOC_REUSSITE_GAGNE',\n",
    "              'pAR_JOC_VICTOIRE',\n",
    "              'PAR_NP',\n",
    "              'PAR_NUM',\n",
    "              'PAR_PLACE',\n",
    "              'PAR_PLACE_Q',\n",
    "              'PAR_REUSSITE_3P',\n",
    "              'PAR_REUSSITE_GAGNE',\n",
    "              'PAR_REUSSITE_QUINTE',\n",
    "              'PAR_RUESSITE_PLACE',\n",
    "              'autostart',\n",
    "              'cendre',\n",
    "              'grande_piste',\n",
    "              'Point',\n",
    "              'Nb_partant', 'PAR_PROPRIO',\n",
    "              'NOM_JOC',\n",
    "              'NOM_ENTR',\n",
    "              'POIDS',\n",
    "              'CORDE',\n",
    "              'CHEVAL','MUSIC_CHEVAL', 'MUSIC_ENT',\n",
    "              'MUSIC_JOC',\n",
    "              'PAR_VALEUR',\n",
    "              'FIN_ligne']\n",
    "\n",
    "\n",
    "\n",
    "    df_numero_a_predire = ld.lecture_data('d:\\data_jour.csv', xnames, ['IDPARTCIPANT', 'IDCOURSE'],allure=allure,avec_index=True)\n",
    "    df_numero_a_predire = df_numero_a_predire.groupby(\"ALLURE\")\n",
    "    df_numero_a_predire = df_numero_a_predire.get_group(allure)\n",
    "    df_numero_a_predire = ld.my_drop(df_numero_a_predire, 'ALLURE')\n",
    "    df_numero_a_predire = ld.my_drop(df_numero_a_predire, 'PAR_ARRIVE')\n",
    "    df_numero_a_predire['SELECTION'] = 0\n",
    "\n",
    "\n",
    "    train_x, test_x, train_y, test_y = split_dataset(df_numero_a_predire, 0, feature_columns, response_column)\n",
    "    test_y = test_y['SELECTION'].ravel()\n",
    "\n",
    "    # sauvegarde\n",
    "    y_pred = best_model.predict(test_x)\n",
    "    df_pred = pd.DataFrame.from_dict(y_pred)\n",
    "    test_copy = test_x.copy()\n",
    "    \n",
    "    # UTILISATION DE BEST_MODEL\n",
    "    PROBA = best_model.predict_proba(test_x)\n",
    "    #print(\"PROBA \\n %s\" ,PROBA)\n",
    "\n",
    "    df_proba = pd.DataFrame.from_dict(PROBA)\n",
    "    #print(   df_proba)\n",
    "\n",
    "    #print(\"df final=\")\n",
    "    df_final = pd.concat([df_proba, df_pred], axis=1)\n",
    "    print(df_final.head(5))\n",
    "\n",
    "    test_x = test_copy.copy()\n",
    "    test_x = ld.my_drop(test_x, 'PAR_CLASSE_AGE')\n",
    "    test_x = ld.my_drop(test_x, 'PAR_ENT_ECART_GAGNANT')\n",
    "    test_x = ld.my_drop(test_x, 'PAR_ENT_RAPPORT_GAGNANT_M')\n",
    "    test_x = ld.my_drop(test_x, 'PAR_ENT_REU_PLACE')\n",
    "    test_x = ld.my_drop(test_x, 'PAR_ENT_REUSSITE_GAGNE')\n",
    "    test_x = ld.my_drop(test_x, 'PAR_ENT_VICTOIRE')\n",
    "    test_x = ld.my_drop(test_x, 'PAR_GAIN')\n",
    "    test_x = ld.my_drop(test_x, 'pAR_JOC_ECART_GAGNANT')\n",
    "    test_x = ld.my_drop(test_x, 'PAR_JOC_ECART_PLACE')\n",
    "    test_x = ld.my_drop(test_x, 'PAR_JOC_NB_COURSE')\n",
    "    test_x = ld.my_drop(test_x, 'PAR_JOC_PLACE_3P')\n",
    "    test_x = ld.my_drop(test_x, 'PAR_REUSSITE_GAGNE')\n",
    "    test_x = ld.my_drop(test_x, 'PAR_REUSSITE_QUINTE')\n",
    "    test_x = ld.my_drop(test_x, 'PAR_RUESSITE_PLACE')\n",
    "    test_x = ld.my_drop(test_x, 'CO_PRIX')\n",
    "    test_x = ld.my_drop(test_x, 'PAR_CARRIERE')\n",
    "    test_x = ld.my_drop(test_x, 'PAR_CARRIERE_Q')\n",
    "    test_x = ld.my_drop(test_x, 'pAR_JOC_RAPPORT_GAGNANT_M')\n",
    "    test_x = ld.my_drop(test_x, 'pAR_JOC_REUSSITE_GAGNE')\n",
    "    test_x = ld.my_drop(test_x, 'pAR_JOC_VICTOIRE')\n",
    "    test_x = ld.my_drop(test_x, 'PAR_PLACE')\n",
    "    test_x = ld.my_drop(test_x, 'PAR_PLACE_Q')\n",
    "    test_x = ld.my_drop(test_x, 'PAR_CLASSE_AGE')\n",
    "    test_x = ld.my_drop(test_x, 'pAR_JOC_VICTOIRE')\n",
    "    test_x = ld.my_drop(test_x, 'PAR_REUSSITE_3P')\n",
    "    test_x = ld.my_drop(test_x, 'PAR_JOC_REU_PLACE')\n",
    "    test_x = ld.my_drop(test_x, 'PAR_NUM')\n",
    "    test_x = ld.my_drop(test_x, 'PAR_COTEDER')\n",
    "    test_x = ld.my_drop(test_x, 'CORDE')\n",
    "    test_x = ld.my_drop(test_x, 'musique')\n",
    "    test_x = ld.my_drop(test_x, 'CHEVAL')\n",
    "    test_x = ld.my_drop(test_x, 'Nb_partant')\n",
    "\n",
    "    test_x = ld.my_drop(test_x, 'autostart')\n",
    "    test_x = ld.my_drop(test_x, 'grande_piste')\n",
    "    test_x = ld.my_drop(test_x, 'cendre')\n",
    "\n",
    "    test_x = ld.my_drop(test_x, 'PAR_PROPRIO')\n",
    "    test_x = ld.my_drop(test_x, 'NOM_JOC')\n",
    "    test_x = ld.my_drop(test_x, 'NOM_ENTR')\n",
    "\n",
    "    test_x = ld.my_drop(test_x, 'HIPPO')\n",
    "    test_x = ld.my_drop(test_x, 'PAR_AGE')\n",
    "    test_x = ld.my_drop(test_x, 'POIDS')\n",
    "    test_x = ld.my_drop(test_x, 'CO_DISTANCE')\n",
    "    test_x = ld.my_drop(test_x, 'CO_PRIX')\n",
    "    test_x = ld.my_drop(test_x, 'PAR_GAIN_NORMA')\n",
    "    test_x = ld.my_drop(test_x, 'CHEVAL2')\n",
    "    test_x = ld.my_drop(test_x, 'PAR_REUSSITE_3P2')\n",
    "    test_x = ld.my_drop(test_x, 'PAR_REUSSITE_QUINTE2')\n",
    "    test_x = ld.my_drop(test_x, 'PAR_CLASSE_AGE2')\n",
    "    test_x = ld.my_drop(test_x, 'PAR_COTEDER2')\n",
    "\n",
    "    test_x = ld.my_drop(test_x, 'MUSIC_CHEVAL')\n",
    "    test_x = ld.my_drop(test_x, 'MUSIC_ENT')\n",
    "    test_x = ld.my_drop(test_x, 'MUSIC_JOC')\n",
    "    test_x = ld.my_drop(test_x, 'PAR_VALEUR')\n",
    "\n",
    "    test_x['v0'] = 0.0\n",
    "    test_x['v1'] = 0.0\n",
    "    test_x['sel'] = 0\n",
    "\n",
    "    print(\"\\n\\nTest_x\", test_x.head(4))\n",
    "\n",
    "    # test_x\n",
    "    cumul = 1\n",
    "    nb_rows = len(df_proba.index)\n",
    "    #rint(\"nb_rows=\", nb_rows)\n",
    "\n",
    "    for i in range(0, nb_rows):\n",
    "        n = df_proba[0][i]\n",
    "        test_x['v0'][i] = n\n",
    "\n",
    "        n = df_proba[1][i]\n",
    "        test_x['v1'][i] = n\n",
    "\n",
    "\n",
    "    if (allure == 1):\n",
    "        test_x.to_csv(\"d:\\py_resultat_trot.csv\")\n",
    "\n",
    "    if (allure == 2):\n",
    "        test_x.to_csv(\"d:\\py_resultat_galop.csv\")\n",
    "\n",
    "    if (allure == 3):\n",
    "        test_x.to_csv(\"d:\\py_resultat_trot_monte.csv\")\n",
    "\n",
    "    if (allure == 4):\n",
    "        test_x.to_csv(\"d:\\py_resultat_haie.csv\")\n",
    "\n",
    "    if (allure == 5):\n",
    "        test_x.to_csv(\"d:\\py_resultat_steeple.csv\")\n",
    "\n",
    "\n",
    "    print(\"\\n\\n ALLER DANS APPLICATION DIABOLO ...Allure %s\" % allure)\n"
   ]
  },
  {
   "cell_type": "code",
   "execution_count": 9,
   "metadata": {},
   "outputs": [],
   "source": [
    "def explo_variable(dataset, svariable):\n",
    "\n",
    "     # On calcule le quantile 0,25 qui est le quartile Q1\n",
    "    mediane = np.median(dataset)\n",
    "    print (\"La mediane              \"+svariable+\"    : \", round(mediane, 2))\n",
    "\n",
    "    maxx = np.max(dataset)\n",
    "    print (\"Le max              \"+svariable+\"    : \", round(maxx, 2))\n",
    "    \n",
    "    minn = np.min(dataset)\n",
    "    print (\"Le min              \"+svariable+\"    : \", round(minn, 2))\n",
    "    \n",
    "    \n",
    "    moy = np.mean(dataset)\n",
    "    print (\"La moyenne               \"+svariable+\"   : \", round(moy, 2))\n",
    "\n",
    "    variance = np.var(dataset)\n",
    "    print (\"La variance est          \"+svariable+\"   : \", round(variance, 2))\n",
    "    \n",
    "    ecartType = np.std(dataset)\n",
    "    print (\"Le ecart type            \"+svariable+\"   : \", round(ecartType, 2))\n",
    "     \n",
    "    print(\"\")      \n",
    "    \n",
    "   # print(dataset.describe())\n",
    "    \n",
    "    print(\"\")    \n",
    "    \n",
    "\n",
    "    \n",
    "def CorrectionDesequilibre(train_x,train_y,feature_columns):\n",
    "\n",
    "    from imblearn.combine import SMOTEENN\n",
    "    from imblearn.over_sampling import SMOTE\n",
    "    #from imblearn.under_sampling import TomekLinks\n",
    "    #f\"rom imblearn.under_sampling import RandomUnderSampler\n",
    "    #from imblearn.under_sampling import AllKNN\n",
    "\n",
    "\n",
    "    print('\\nOriginal dataset shape {}'.format(Counter(train_y)))\n",
    "    #sm = SMOTEENN(ratio='minority',n_jobs=4, random_state=42,smote=SMOTE(),n_neighbors=5)\n",
    "    sm = SMOTE(ratio='auto', n_jobs=3, random_state=42,k_neighbors=50)\n",
    "    X_res, y_res = sm.fit_sample(train_x, train_y)\n",
    "    print('\\nResampled dataset shape {}'.format(Counter(y_res)))\n",
    "    # reconstitution DATAFRAME\n",
    "    train_x = pd.DataFrame(X_res, columns=feature_columns)\n",
    "    train_y = pd.Series(y_res)\n",
    "    return train_x,train_y"
   ]
  },
  {
   "cell_type": "code",
   "execution_count": 10,
   "metadata": {},
   "outputs": [],
   "source": [
    "def my_fit(estimateur, test_x,test_y, train_x, train_y, verbose=False):\n",
    "    nb_split=80\n",
    "\n",
    "    \n",
    "\n",
    "    # Correction du desequiilibre\n",
    "    #train_x, train_y = smot2(train_x=train_x, train_y=train_y, feature_columns=featurecolums)\n",
    "    #test_x, test_y = smot2(train_x=test_x, train_y=test_y, feature_columns=featurecolums)\n",
    "\n",
    "\n",
    "    log.traceLogInfo(\"\\nTEST DU FIT ......DIRECT\")\n",
    "    #kfold = StratifiedKFold(n_splits=nb_split, shuffle=False, random_state=None)\n",
    "    \n",
    "    model=estimateur\n",
    "    \n",
    "    eval_set = [(train_x, train_y), (test_x, test_y)]\n",
    "    model.fit(train_x, train_y, eval_metric=[\"error\", \"auc\"], eval_set=eval_set, verbose=verbose, early_stopping_rounds=10)\n",
    "    y_pred = model.predict(test_x)\n",
    "    predictions = [round(value) for value in y_pred]\n",
    "\n",
    "    \n",
    "    return model,y_pred,predictions\n",
    "\n",
    "\n",
    "\n",
    "def my_fit2(estimateur, train_x, train_y):\n",
    "    kfold = StratifiedKFold(n_splits=2, random_state=None, shuffle=False)\n",
    "    \n",
    "    results = cross_val_score(estimateur, train_x, train_y, cv=kfold)\n",
    "    print(\"Accuracy: %.2f%% (%.2f%%)\" % (results.mean()*100, results.std()*100))\n",
    "    \n",
    "    y_pred = model.predict(test_x)\n",
    "    predictions = [round(value) for value in y_pred]\n",
    "    return model,y_pred,predictions\n",
    "\n",
    "\n",
    "    \n",
    "    \n",
    "\n",
    "\n",
    "def fit_special(estimateur,    test_x,test_y, train_x, train_y):\n",
    "\n",
    "\n",
    "\n",
    "    # Use SelectFromModel\n",
    "    thresholds = np.sort(estimateur.best_estimator_.named_steps[\"clf\"].feature_importances_)\n",
    "\n",
    "    for thresh in thresholds:\n",
    "        # select features using threshold\n",
    "        selection = SelectFromModel(estimateur, threshold=thresh, prefit=True)\n",
    "        select_X_train = selection.transform(train_x)\n",
    "\n",
    "        # train model\n",
    "        selection_model = estimateur\n",
    "        selection_model.fit(select_X_train, train_y)\n",
    "\n",
    "        # eval model\n",
    "        select_X_test = selection.transform(test_x)\n",
    "        y_pred = selection_model.predict(select_X_test)\n",
    "        predictions = [round(value) for value in y_pred]\n",
    "        accuracy = accuracy_score(test_y, predictions)\n",
    "        print(\"Thresh=%.3f, n=%d, Accuracy: %.2f%%\" % (thresh, select_X_train.shape[1], accuracy * 100.0))\n",
    "        print(confusion_matrix(test_y, predictions))\n",
    "        print(classification_report(test_y, predictions))\n",
    "\n",
    "    y_pred = estimateur.predict(test_x)\n",
    "    predictions = [round(value) for value in y_pred]\n",
    "    return estimateur,y_pred,predictions\n"
   ]
  },
  {
   "cell_type": "code",
   "execution_count": 11,
   "metadata": {},
   "outputs": [],
   "source": []
  },
  {
   "cell_type": "code",
   "execution_count": 11,
   "metadata": {},
   "outputs": [],
   "source": [
    "def afficheEvalSet(mybest_model,\n",
    "                    set_train,\n",
    "                   set_train_cible,\n",
    "                   set_test,\n",
    "                   set_test_cible,\n",
    "                   mode_debug=0,\n",
    "                   type_eval=1):\n",
    "\n",
    "    print(\"\\nEVAL SET ....\")\n",
    "\n",
    "    set_test_cible_predicted = mybest_model.predict(set_test)\n",
    "    set_train_cible_predicted = mybest_model.predict(set_train)\n",
    "\n",
    "    if type_eval==1:\n",
    "                print(\"Evaluation TEST-----------------------------------------------------------------------\")\n",
    "                set_test_cible_probabilities = mybest_model.predict_proba(set_test)\n",
    "                score = set_test_cible_probabilities[:, 1]\n",
    "                auc = roc_auc_score(set_test_cible, set_test_cible_predicted)\n",
    "                print(\"TEST roc_auc_score :  %s\" % auc)\n",
    "    else:\n",
    "                set_train_cible_probabilities = mybest_model.predict_proba(set_train)\n",
    "                auc = roc_auc_score(set_train_cible, set_train_cible_predicted)\n",
    "                print(\"TRAINING roc_auc_score :  %s\" % auc)\n",
    "    \n",
    "    for x, y in [(set_train, set_train_cible), (set_test, set_test_cible)]:\n",
    "            yp = mybest_model.predict(x)\n",
    "            cm = confusion_matrix(y, yp.ravel())\n",
    "            print(cm)\n",
    "\n",
    "    import matplotlib.pyplot as plt\n",
    "\n",
    "    \n",
    "    \n",
    "    plt.matshow(cm)\n",
    "    plt.title('Confusion matrix')\n",
    "    plt.colorbar()\n",
    "    plt.ylabel('True label')\n",
    "    plt.xlabel('Predicted label')\n",
    "\n",
    "    if type_eval==1:\n",
    "        ntotal = len(set_test)\n",
    "        correct = set_test_cible == set_test_cible_predicted\n",
    "        numCorrect = sum(correct)\n",
    "        percent = round((100.0 * numCorrect) / ntotal, 3)\n",
    "\n",
    "        log.traceLogInfo(\"Classification Correcte des données de test : {0:d}/{1:d}  {2:8.3f}%\".format(numCorrect, ntotal, percent))\n",
    "\n",
    "        prediction_score = 100.0 * mybest_model.score(set_test, set_test_cible)\n",
    "        log.traceLogInfo('\\nScore  TEST  : %8.3f  ************************' % prediction_score)\n",
    "    else:\n",
    "        ntotal = len(set_train)\n",
    "        correct = set_train_cible== set_train_cible_predicted\n",
    "        numCorrect = sum(correct)\n",
    "        percent = round((100.0 * numCorrect) / ntotal, 3)\n",
    "\n",
    "        log.traceLogInfo(\"\\n CLASSIFICATION CORRECTE DES DONNEES DE Train  : {0:d}/{1:d}  {2:8.3f}%\".format(numCorrect, ntotal, percent))\n",
    "\n",
    "        prediction_score = 100.0 * mybest_model.score(set_train, set_train_cible)\n",
    "        log.traceLogInfo('Score  TRAINING  : %8.3f  ************************' % prediction_score)\n",
    "\n"
   ]
  },
  {
   "cell_type": "markdown",
   "metadata": {},
   "source": [
    "# RECHERCHE"
   ]
  },
  {
   "cell_type": "code",
   "execution_count": 12,
   "metadata": {},
   "outputs": [],
   "source": [
    "  # ICI ON FAIT UNE RECHERCHE DES BON PARAMTRE\n",
    "def recherche_fit_BayesSearchCV(): \n",
    "    model =XGBClassifier(base_score=0.5,\n",
    "                  booster='gbtree',\n",
    "                colsample_bylevel=0.6,\n",
    "                colsample_bytree=0.8,\n",
    "                 gamma=0.01,\n",
    "                 learning_rate=0.07, #ok\n",
    "                max_delta_step=3, #ok\n",
    "                max_depth=6, #ok\n",
    "                max_features='sqrt',\n",
    "                min_child_weight=8, #ok\n",
    "                n_estimators=1900,#ok\n",
    "                n_jobs=2,#ok\n",
    "                nthread=None,\n",
    "                objective='binary:logistic',\n",
    "                 random_state=10,\n",
    "                reg_alpha=0.1, #ok\n",
    "                reg_lambda=2.5,\n",
    "                scale_pos_weight=1,\n",
    "                 seed=800,\n",
    "                subsample=0.99,\n",
    "                silent=False\n",
    "                )\n",
    "    \n",
    "    kfold = StratifiedKFold(n_splits=20, shuffle=True, random_state=42)\n",
    "    \n",
    "    print(\"definition de BayesSearchCV\\n \")\n",
    "    searchcv = BayesSearchCV( model,refit=True, n_jobs=2, scoring=\"roc_auc\",cv=kfold,\n",
    "                    search_spaces=[\n",
    "\n",
    "                    \n",
    "                        ({'n_estimators': Integer(1000, 5000)}, 10),\n",
    "                        \n",
    "                 #      ({'max_delta_step': Integer(0, 12)},10),\n",
    "                    #    (      {'seed': Integer(25, 999)},1)\n",
    "                        #({'random_state': Integer(5, 50)},5),\n",
    "                           ( {'colsample_bylevel': Real(2e-1, 1, 'log-uniform')},5),\n",
    "                           ({'gamma': Real(0.09e-1, 1.20e-1, 'log-uniform')},5),\n",
    "                           ({'colsample_bytree': Real(1e-1, 7e-1, 'log-uniform')}, 5),\n",
    "                          #     ( {'learning_rate': Real(0.1e-2,1, 'log-uniform')},10),\n",
    "\n",
    "                        ], n_iter=200, return_train_score=False,verbose=5\n",
    "                    )\n",
    "\n",
    "    \n",
    "    \n",
    "    def on_step(optim_result):\n",
    "        score = searchcv.best_score_\n",
    "        log.traceLogInfo(\"best score: %s\" % score)\n",
    "        log.traceLogInfo(\"Params : %s\" % searchcv.best_params_)\n",
    "        log.traceLogInfo(\"iteration : %s\" % searchcv.total_iterations)\n",
    "                        #log.traceLogInfo(\"Params : %s\" % searchcv.get_params())\n",
    "        if score >= 0.99:\n",
    "                            print('Interrupting!')\n",
    "                            return True\n",
    "                        \n",
    "\n",
    "    print(\"\\nFit AVEC SEARCH ....\")\n",
    "    searchcv.fit(X=train_x, y=train_y, callback=on_step)\n",
    "    res=pd.DataFrame(searchcv.cv_results_)\n",
    "    \n",
    "    print(\"Test score :\",searchcv.score(test_x, test_y))\n",
    "    print(\"\")\n",
    "    \n",
    "    print(\"\\nDonnées bloquées :\",searchcv.scorer_)\n",
    "    print(\"Nombre de divisions de validation croisée :\", searchcv.n_splits_)\n",
    "    \n",
    "    res = res.sort_values(by=['mean_test_score'], ascending=False, axis=0)\n",
    "    res.reset_index(inplace=True, drop=True)\n",
    "    a = res[['mean_test_score', 'std_test_score']]\n",
    "\n",
    "    res.drop(['mean_test_score', 'std_test_score', 'params', 'mean_fit_time', 'mean_score_time', 'std_fit_time', 'std_score_time'], axis=1, inplace=True)\n",
    "    res = pd.concat([a, res], axis=1)\n",
    "\n",
    "    print(\"best_score_: {:.4f}\\nbest_params_: {}\".format(searchcv.best_score_, searchcv.best_params_))\n",
    "    print(\"\\nTest train :\", searchcv.score(train_x,train_y))\n",
    "    print(\"\\n TOTAL ITERATION : %s\" % searchcv.total_iterations)\n",
    "\n",
    "    print(res.head(5))\n",
    "                    # SAUVEGARDE DU MODELE\n",
    "     #                   ld.save_mymodel(clf=searchcv, allure=allure)\n",
    "\n",
    "                    #  ld.save_mymodel(clf=gsearch, allure=allure)\n",
    "    \n",
    "    y_pred = searchcv.predict(test_x)\n",
    "    predictions = [round(value) for value in y_pred]\n",
    "    return searchcv,y_pred,predictions\n"
   ]
  },
  {
   "cell_type": "code",
   "execution_count": 13,
   "metadata": {},
   "outputs": [],
   "source": [
    "def recherche_random_XGBClassifier( model, x_train, y_train,x_test,y_test,param_grid, nb_iter):\n",
    "    clf = model\n",
    "\n",
    "    \n",
    "    fit_params = {'eval_metric': 'auc',\n",
    "              'early_stopping_rounds': 10,\n",
    "              'eval_set': [(x_test, y_test)]}\n",
    "    \n",
    "    rs_clf = RandomizedSearchCV(clf, param_grid, n_iter=nb_iter,\n",
    "                            n_jobs=2, verbose=3, cv=10,\n",
    "                            fit_params=fit_params,\n",
    "                            scoring='neg_log_loss', refit=True, random_state=42)\n",
    "    print(\"Randomized search..\")\n",
    "    search_time_start = time.time()\n",
    "    rs_clf.fit(x_train, y_train)\n",
    "    print(\"Randomized search time:\", time.time() - search_time_start)\n",
    "    best_score = rs_clf.best_score_\n",
    "    best_params = rs_clf.best_params_\n",
    "    \n",
    "    print(\"Best score: {}\".format(best_score))\n",
    "    print(\"Best params: \")\n",
    "    \n",
    "    for param_name in sorted(best_params.keys()):\n",
    "       print('%s: %r' % (param_name, best_params[param_name]))\n",
    "\n",
    "\n",
    "\n",
    "    y_pred = rs_clf.predict(x_test)\n",
    "    predictions = [round(value) for value in y_pred]\n",
    "    \n",
    "    return rs_clf.best_estimator_,y_pred,predictions\n",
    "    \n",
    "    \n",
    "    "
   ]
  },
  {
   "cell_type": "code",
   "execution_count": 14,
   "metadata": {},
   "outputs": [],
   "source": [
    "def plot_importance(feature_columns, model):\n",
    "    importances = pd.DataFrame({'feature': feature_columns, 'importance': np.round(model.feature_importances_, 3)})\n",
    "    importances = importances.sort_values('importance', ascending=False).set_index('feature')\n",
    "    print(\"\")\n",
    "    print( importances)\n",
    "    importances.plot.bar()\n",
    "\n",
    "def plot_2(model,cr1=\"auc\",cr2=\"error\"):\n",
    "    \n",
    "        # retrieve performance metrics\n",
    "        results = model.evals_result()\n",
    "        epochs = len(results['validation_0'][cr1])\n",
    "        x_axis = range(0, epochs)\n",
    "\n",
    "        # plot log loss\n",
    "        fig, ax = pyplot.subplots()\n",
    "        ax.plot(x_axis, results['validation_0'][cr2], label='Train')\n",
    "        ax.plot(x_axis, results['validation_1'][cr2], label='Test')\n",
    "        ax.legend()\n",
    "        pyplot.ylabel('auc')\n",
    "        pyplot.title('XGBoost Error')\n",
    "        pyplot.show()\n",
    "\n",
    "        # plot classification error\n",
    "        fig, ax = pyplot.subplots()\n",
    "        ax.plot(x_axis, results['validation_0'][cr1], label='Train')\n",
    "        ax.plot(x_axis, results['validation_1'][cr1], label='Test')\n",
    "        ax.legend()\n",
    "        pyplot.ylabel('Classification Auc')\n",
    "        pyplot.title('XGBoost Classification Auc')\n",
    "        pyplot.show()\n",
    "    \n",
    "    \n",
    "    \n",
    "def evaluation_1(test_y, predictions,featurecolums, model):\n",
    "    print(classification_report(test_y, predictions))\n",
    "    plot_importance(feature_columns=featurecolums,model=model)\n",
    "    from sklearn.feature_selection import SelectKBest\n",
    "    from sklearn.feature_selection import chi2\n",
    "    names = feature_columns\n",
    "    print(\"----------KBEST-----------------\")\n",
    "    \n",
    "    for n in range(0, len(names)):\n",
    "        test = SelectKBest(score_func=chi2, k=9)\n",
    "        fit = test.fit(train_x, train_y)\n",
    "        print(names[n],'   ', fit.scores_[n])\n",
    "    \n",
    "\n",
    "    print(\"--------------------------\")\n",
    "    \n",
    "def evaluation_2(model, train_x, train_y, test_x, test_y):    \n",
    "    from sklearn.feature_selection import RFE\n",
    "    rfc=model\n",
    "    # create the RFE model and select 4 attributes\n",
    "    rfe_model = RFE(rfc, 9, step=1)\n",
    "    rfe_model = rfe_model.fit(train_x, train_y)\n",
    "    # summarize the selection of the attributes\n",
    "    print(rfe_model.support_)\n",
    "    print(rfe_model.ranking_)\n",
    "\n",
    "    # evaluate the model on testing set\n",
    "    pred_y = rfe_model.predict(test_x)\n",
    "    predictions = [round(value) for value in pred_y]\n",
    "    accuracy = accuracy_score(test_y, predictions)\n",
    "    print(\"Test Accuracy: %.2f%%\" % (accuracy*100.0))\n",
    "    print(train_x.mean()   )\n",
    "    \n",
    "    \n",
    "def metrique_classe(y_pred,y_true,xclass):\n",
    "    from imblearn.metrics import specificity_score\n",
    "    from imblearn.metrics import geometric_mean_score\n",
    "\n",
    "    #log.traceLogInfo(\"Classe \", xclass)\n",
    "    log.traceLogInfo(\"Sensibilité  du reequilibrage des données sur le TEST\")\n",
    "    log.traceLogInfo(\"La spécificité est intuitivement la capacité du classificateur à trouver tous les échantillons positifs\")\n",
    "    log.traceLogInfo(specificity_score(y_true, y_pred, labels=None, pos_label=xclass, average='binary', sample_weight=None))\n",
    "    print(\"\\nCalculer la moyenne géométrique\")\n",
    "    print(geometric_mean_score(y_true, y_pred,labels=None, pos_label=xclass))\n"
   ]
  },
  {
   "cell_type": "markdown",
   "metadata": {},
   "source": [
    "# CHAMPS et INDEX"
   ]
  },
  {
   "cell_type": "code",
   "execution_count": 15,
   "metadata": {},
   "outputs": [],
   "source": [
    "xnames = ['ALLURE', 'CO_DISTANCE',\n",
    "              'CO_PRIX', 'HIPPO',\n",
    "              'IDCOURSE', 'IDPARTCIPANT',\n",
    "              'PAR_AGE', 'PAR_ARRIVE',\n",
    "              'PAR_CARRIERE',\n",
    "              'PAR_CARRIERE_Q',\n",
    "              'PAR_CLASSE_AGE',\n",
    "              'PAR_COTEDER',\n",
    "              'PAR_ENT_ECART_GAGNANT',\n",
    "              'PAR_ENT_RAPPORT_GAGNANT_M',\n",
    "              'PAR_ENT_REU_PLACE',\n",
    "              'PAR_ENT_REUSSITE_GAGNE',\n",
    "              'PAR_ENT_VICTOIRE',\n",
    "              'PAR_GAIN',\n",
    "              'pAR_JOC_ECART_GAGNANT',\n",
    "              'PAR_JOC_ECART_PLACE',\n",
    "              'PAR_JOC_NB_COURSE',\n",
    "              'PAR_JOC_PLACE_3P',\n",
    "              'pAR_JOC_RAPPORT_GAGNANT_M',\n",
    "              'PAR_JOC_REU_PLACE',\n",
    "              'pAR_JOC_REUSSITE_GAGNE',\n",
    "              'pAR_JOC_VICTOIRE',\n",
    "              'PAR_NP',\n",
    "              'PAR_NUM',\n",
    "              'PAR_PLACE',\n",
    "              'PAR_PLACE_Q',\n",
    "              'PAR_REUSSITE_3P',\n",
    "              'PAR_REUSSITE_GAGNE',\n",
    "              'PAR_REUSSITE_QUINTE',\n",
    "              'PAR_RUESSITE_PLACE',\n",
    "              'autostart',\n",
    "              'cendre',\n",
    "              'grande_piste',\n",
    "              'Point',\n",
    "              'Nb_partant', 'PAR_PROPRIO',\n",
    "              'NOM_JOC',\n",
    "              'NOM_ENTR',\n",
    "              'POIDS',\n",
    "              'CORDE', 'CHEVAL', 'MUSIC_CHEVAL',\n",
    "              'MUSIC_ENT',\n",
    "              'MUSIC_JOC',\n",
    "              'PAR_VALEUR',\n",
    "              'FIN_ligne']\n",
    "\n",
    "index_col = ['IDPARTCIPANT', 'IDCOURSE']\n",
    "\n",
    "\n",
    "def assign_selection(W):\n",
    "    if W < 5:\n",
    "        return 1\n",
    "    else:\n",
    "        return 0\n",
    "    \n",
    "    # Creating bins for the win column\n",
    "def assign_selection2(W):\n",
    "    if W == 1.0:\n",
    "        return 1\n",
    "    if W == 0.0:\n",
    "        return 0\n",
    "\n"
   ]
  },
  {
   "cell_type": "markdown",
   "metadata": {},
   "source": [
    "# LECTURE DES DONNEES"
   ]
  },
  {
   "cell_type": "code",
   "execution_count": 16,
   "metadata": {},
   "outputs": [],
   "source": [
    "allure_etudier=1"
   ]
  },
  {
   "cell_type": "code",
   "execution_count": 22,
   "metadata": {
    "collapsed": true
   },
   "outputs": [
    {
     "name": "stdout",
     "output_type": "stream",
     "text": [
      "Lecture data d:\\data_diabolo.csv\n"
     ]
    },
    {
     "name": "stdout",
     "output_type": "stream",
     "text": [
      "Fin de lecture  de d:\\data_diabolo.csv\n<class 'pandas.core.frame.DataFrame'>\nRangeIndex: 539600 entries, 0 to 539599\nData columns (total 14 columns):\nALLURE                   539600 non-null int64\nIDCOURSE                 539600 non-null int64\nIDPARTCIPANT             539600 non-null int64\nPAR_ARRIVE               539600 non-null int64\nPAR_ENT_REU_PLACE        539600 non-null float64\nPAR_ENT_VICTOIRE         539600 non-null int64\npAR_JOC_ECART_GAGNANT    539600 non-null int64\nPAR_JOC_NB_COURSE        539600 non-null int64\nPAR_JOC_REU_PLACE        539600 non-null float64\nPAR_PLACE                539600 non-null int64\nPAR_REUSSITE_3P          539600 non-null float64\nPAR_REUSSITE_GAGNE       539600 non-null float64\nPAR_RUESSITE_PLACE       539600 non-null float64\nPoint                    539600 non-null int64\ndtypes: float64(5), int64(9)\nmemory usage: 57.6 MB\nNone\n"
     ]
    }
   ],
   "source": [
    "  # Lecture des données sans index\n",
    "df = ld.lecture_data('d:\\data_diabolo.csv', xnames, xindex_col=index_col, allure=allure_etudier, avec_index=False)\n",
    "print(df.info())\n",
    "    \n",
    "\n"
   ]
  },
  {
   "cell_type": "code",
   "execution_count": 27,
   "metadata": {},
   "outputs": [
    {
     "name": "stdout",
     "output_type": "stream",
     "text": [
      "La mediane              PAR_REUSSITE_3P    :  0.27\nLe max              PAR_REUSSITE_3P    :  1.0\nLe min              PAR_REUSSITE_3P    :  0.0\nLa moyenne               PAR_REUSSITE_3P   :  0.29\nLa variance est          PAR_REUSSITE_3P   :  0.03\nLe ecart type            PAR_REUSSITE_3P   :  0.18\n\n\n"
     ]
    }
   ],
   "source": [
    "explo_variable(df['PAR_REUSSITE_3P'],\"PAR_REUSSITE_3P\")"
   ]
  },
  {
   "cell_type": "markdown",
   "metadata": {},
   "source": [
    "# Filtre des données  :  Allure "
   ]
  },
  {
   "cell_type": "code",
   "execution_count": 28,
   "metadata": {},
   "outputs": [
    {
     "name": "stdout",
     "output_type": "stream",
     "text": [
      "(276545, 13)\n"
     ]
    }
   ],
   "source": [
    "\n",
    "#Filtre des données¶\n",
    "df2=df[df.Point>0]\n",
    "    #df = df[df.PAR_COTEDER > 0]\n",
    "df2 = df2[df2.PAR_ARRIVE > 0]  # On garde la ligne qui possede information arrivée\n",
    "\n",
    "df2 = df2.groupby(\"ALLURE\")\n",
    "df2 = df2.get_group(allure_etudier)\n",
    "df2 = ld.my_drop(df2, 'ALLURE')\n",
    "\n",
    "if allure_etudier == 2 or allure_etudier == 4 or allure_etudier == 5:\n",
    "    df2 = df2[df2.POIDS > 0]\n",
    "    df2 = df2[df2.POIDS < 80]\n",
    "#  on a lu les données avant l 'ajout de la colonne SELECTIOB\n",
    "df2['SELECTION2'] = df2['PAR_ARRIVE'].apply(assign_selection)\n",
    "\n",
    "df2.drop([\"PAR_ARRIVE\"], axis=1, inplace=True)\n",
    "print(df2.shape)"
   ]
  },
  {
   "cell_type": "code",
   "execution_count": 29,
   "metadata": {},
   "outputs": [],
   "source": []
  },
  {
   "cell_type": "markdown",
   "metadata": {},
   "source": [
    "# Definition de la cible"
   ]
  },
  {
   "cell_type": "code",
   "execution_count": 29,
   "metadata": {},
   "outputs": [],
   "source": []
  },
  {
   "cell_type": "code",
   "execution_count": 29,
   "metadata": {},
   "outputs": [
    {
     "name": "stdout",
     "output_type": "stream",
     "text": [
      "(1) Shape df_gagnant   (276545, 11) \n\n(2) FEATURES  Index(['PAR_ENT_REU_PLACE', 'PAR_ENT_VICTOIRE', 'pAR_JOC_ECART_GAGNANT',\n       'PAR_JOC_NB_COURSE', 'PAR_JOC_REU_PLACE', 'PAR_PLACE',\n       'PAR_REUSSITE_3P', 'PAR_REUSSITE_GAGNE', 'PAR_RUESSITE_PLACE', 'Point'],\n      dtype='object')\n(3) response column  ['SELECTION']\n"
     ]
    }
   ],
   "source": [
    "Lib_features_df = df2.columns\n",
    "xdata = df2.values\n",
    "df_gagnant = pd.DataFrame(data=xdata, columns=Lib_features_df)\n",
    "\n",
    "df_gagnant['SELECTION'] = df_gagnant['SELECTION2'].apply(assign_selection2)\n",
    "df_gagnant.drop([\"SELECTION2\"], axis=1, inplace=True)\n",
    "df_gagnant = df_gagnant.set_index(index_col)\n",
    "\n",
    "df_gagnant_len = len(df_gagnant.columns) - 1\n",
    "Lib_features = df_gagnant.columns[:df_gagnant_len]\n",
    "feature_columns = Lib_features  ##<<<<<<<<<<<<<<<<\n",
    "response_column = ['SELECTION']  ##<<<<<<<<<<<<<<<<\n",
    "log.traceLogdebug(\"Features                   : %s \" % Lib_features, \" <<<<************\")\n",
    "\n",
    "print(\"(1) Shape df_gagnant  \", df_gagnant.shape,\"\\n\")\n",
    "print(\"(2) FEATURES \",Lib_features)\n",
    "print(\"(3) response column \",response_column)\n",
    "# df_gagnant, feature_columns, response_column, ratio SONT DEFINI\n"
   ]
  },
  {
   "cell_type": "markdown",
   "metadata": {},
   "source": [
    ""
   ]
  },
  {
   "cell_type": "markdown",
   "metadata": {},
   "source": [
    ""
   ]
  },
  {
   "cell_type": "markdown",
   "metadata": {},
   "source": [
    "# CORRELATION\n"
   ]
  },
  {
   "cell_type": "code",
   "execution_count": 30,
   "metadata": {},
   "outputs": [
    {
     "data": {
      "text/plain": [
       "<matplotlib.axes._subplots.AxesSubplot at 0x1c126e1bb70>"
      ]
     },
     "execution_count": 30,
     "metadata": {},
     "output_type": "execute_result"
    },
    {
     "data": {
      "image/png": "[encoded data removed]",
      "text/plain": [
       "<Figure size 1080x1080 with 2 Axes>"
      ]
     },
     "metadata": {},
     "output_type": "display_data"
    }
   ],
   "source": [
    "#Enfin, quelque chose de vraiment cool que vous pouvez mettre \n",
    "\n",
    "#dans une carte de chaleur est une matrice de corrélation. \n",
    "#Pandas DataFrame a une méthode corr qui calcule le coefficient de corrélation de Pearson (peut être un autre)\n",
    "#entre tous les couples de colonnes numériques du DataFrame.\n",
    "\n",
    "fig, ax = plt.subplots(figsize=(15,15))\n",
    "sns.heatmap(df_gagnant.corr(), annot=True, fmt=\".2f\", linewidths=.4, ax=ax)\n"
   ]
  },
  {
   "cell_type": "code",
   "execution_count": 31,
   "metadata": {},
   "outputs": [
    {
     "name": "stdout",
     "output_type": "stream",
     "text": [
      "Proportion: 2.42 : 1\nTotal number of records : 276545 \nNombre de participations avec SELECTION = 0 : 195698\nNombre de participations avec SELECTION = 1  : 80847\nPourcentage 0: 70.7653%,  pourcentage 1 : 29.2347%\n"
     ]
    },
    {
     "data": {
      "image/png": "[encoded data removed]",
      "text/plain": [
       "<Figure size 432x288 with 1 Axes>"
      ]
     },
     "metadata": {},
     "output_type": "display_data"
    }
   ],
   "source": [
    "target_count = df_gagnant['SELECTION'].value_counts()\n",
    "\n",
    "\n",
    "print('Proportion:', round(target_count[0] / target_count[1], 2), ': 1')\n",
    "target_count.plot(kind='bar', title='Count (target)')\n",
    "\n",
    "normal_trans_perc = sum(df_gagnant['SELECTION'] == 0) / (sum(df_gagnant['SELECTION'] == 0) + sum(df_gagnant['SELECTION'] == 1))\n",
    "fraud_trans_perc = 1 - normal_trans_perc\n",
    "print('Total number of records : {} '.format(len(df_gagnant)))\n",
    "print('Nombre de participations avec SELECTION = 0 : {}'.format(sum(df_gagnant['SELECTION'] == 0)))\n",
    "print('Nombre de participations avec SELECTION = 1  : {}'.format(sum(df_gagnant['SELECTION'] == 1)))\n",
    "print('Pourcentage 0: {:.4f}%,  pourcentage 1 : {:.4f}%'.format(normal_trans_perc * 100,fraud_trans_perc * 100))\n",
    "\n",
    "\n"
   ]
  },
  {
   "cell_type": "markdown",
   "metadata": {},
   "source": [
    "# Definition des set"
   ]
  },
  {
   "cell_type": "code",
   "execution_count": 32,
   "metadata": {},
   "outputs": [
    {
     "name": "stdout",
     "output_type": "stream",
     "text": [
      "Train_x (185285, 10)\nTrain y (185285, 1)\nTest x (91260, 10)\nTest y (91260, 1)\ntrain_eval_X (276545, 10)\ntrain_eval_Y (276545, 1)\nTest x (91260, 10)\nTest y (91260, 1)\n"
     ]
    }
   ],
   "source": [
    "from sklearn.model_selection import train_test_split\n",
    "\n",
    "train_x, test_x, train_y, test_y = train_test_split(df_gagnant[feature_columns],\n",
    "                                                     df_gagnant[response_column], test_size=0.33, random_state=42)\n",
    "train_eval_X =  df_gagnant[feature_columns]\n",
    "train_eval_Y=  df_gagnant[response_column]\n",
    "\n",
    "\n",
    "\n",
    "\n",
    "\n",
    "print(\"Train_x\",train_x.shape)\n",
    "print(\"Train y\",train_y.shape)\n",
    "print(\"Test x\",test_x.shape)\n",
    "print(\"Test y\",test_y.shape)\n",
    "\n",
    "print(\"train_eval_X\",train_eval_X.shape)\n",
    "print(\"train_eval_Y\",train_eval_Y.shape)\n",
    "\n",
    "print(\"Test x\",test_x.shape)\n",
    "print(\"Test y\",test_y.shape)\n",
    "\n",
    "test_y = test_y['SELECTION'].ravel()\n",
    "train_y = train_y['SELECTION'].ravel()\n",
    "\n"
   ]
  },
  {
   "cell_type": "markdown",
   "metadata": {},
   "source": [
    "# ESTIMATEUR"
   ]
  },
  {
   "cell_type": "code",
   "execution_count": 49,
   "metadata": {},
   "outputs": [
    {
     "name": "stdout",
     "output_type": "stream",
     "text": [
      "Randomized search..\nFitting 10 folds for each of 50 candidates, totalling 500 fits\n"
     ]
    },
    {
     "name": "stderr",
     "output_type": "stream",
     "text": [
      "c:\\python\\lib\\site-packages\\sklearn\\model_selection\\_search.py:584: DeprecationWarning: \"fit_params\" as a constructor argument was deprecated in version 0.19 and will be removed in version 0.21. Pass fit parameters to the \"fit\" method instead.\n  '\"fit\" method instead.', DeprecationWarning)\n"
     ]
    },
    {
     "name": "stderr",
     "output_type": "stream",
     "text": [
      "[Parallel(n_jobs=2)]: Done  28 tasks      | elapsed: 14.6min\n"
     ]
    },
    {
     "name": "stderr",
     "output_type": "stream",
     "text": [
      "[Parallel(n_jobs=2)]: Done 124 tasks      | elapsed: 63.4min\n"
     ]
    },
    {
     "name": "stderr",
     "output_type": "stream",
     "text": [
      "[Parallel(n_jobs=2)]: Done 284 tasks      | elapsed: 144.1min\n"
     ]
    },
    {
     "name": "stderr",
     "output_type": "stream",
     "text": [
      "[Parallel(n_jobs=2)]: Done 500 out of 500 | elapsed: 251.3min finished\n"
     ]
    },
    {
     "name": "stdout",
     "output_type": "stream",
     "text": [
      "[0]\tvalidation_0-auc:0.690052\n"
     ]
    },
    {
     "name": "stdout",
     "output_type": "stream",
     "text": [
      "Will train until validation_0-auc hasn't improved in 10 rounds.\n"
     ]
    },
    {
     "name": "stdout",
     "output_type": "stream",
     "text": [
      "[1]\tvalidation_0-auc:0.694991\n"
     ]
    },
    {
     "name": "stdout",
     "output_type": "stream",
     "text": [
      "[2]\tvalidation_0-auc:0.696049\n"
     ]
    },
    {
     "name": "stdout",
     "output_type": "stream",
     "text": [
      "[3]\tvalidation_0-auc:0.697239\n"
     ]
    },
    {
     "name": "stdout",
     "output_type": "stream",
     "text": [
      "[4]\tvalidation_0-auc:0.697653\n"
     ]
    },
    {
     "name": "stdout",
     "output_type": "stream",
     "text": [
      "[5]\tvalidation_0-auc:0.697896\n"
     ]
    },
    {
     "name": "stdout",
     "output_type": "stream",
     "text": [
      "[6]\tvalidation_0-auc:0.697904\n"
     ]
    },
    {
     "name": "stdout",
     "output_type": "stream",
     "text": [
      "[7]\tvalidation_0-auc:0.698064\n"
     ]
    },
    {
     "name": "stdout",
     "output_type": "stream",
     "text": [
      "[8]\tvalidation_0-auc:0.698199\n"
     ]
    },
    {
     "name": "stdout",
     "output_type": "stream",
     "text": [
      "[9]\tvalidation_0-auc:0.698524\n"
     ]
    },
    {
     "name": "stdout",
     "output_type": "stream",
     "text": [
      "[10]\tvalidation_0-auc:0.698659\n"
     ]
    },
    {
     "name": "stdout",
     "output_type": "stream",
     "text": [
      "[11]\tvalidation_0-auc:0.698832\n"
     ]
    },
    {
     "name": "stdout",
     "output_type": "stream",
     "text": [
      "[12]\tvalidation_0-auc:0.698863\n"
     ]
    },
    {
     "name": "stdout",
     "output_type": "stream",
     "text": [
      "[13]\tvalidation_0-auc:0.698895\n"
     ]
    },
    {
     "name": "stdout",
     "output_type": "stream",
     "text": [
      "[14]\tvalidation_0-auc:0.698982\n"
     ]
    },
    {
     "name": "stdout",
     "output_type": "stream",
     "text": [
      "[15]\tvalidation_0-auc:0.698999\n"
     ]
    },
    {
     "name": "stdout",
     "output_type": "stream",
     "text": [
      "[16]\tvalidation_0-auc:0.699081\n"
     ]
    },
    {
     "name": "stdout",
     "output_type": "stream",
     "text": [
      "[17]\tvalidation_0-auc:0.69907\n"
     ]
    },
    {
     "name": "stdout",
     "output_type": "stream",
     "text": [
      "[18]\tvalidation_0-auc:0.699151\n"
     ]
    },
    {
     "name": "stdout",
     "output_type": "stream",
     "text": [
      "[19]\tvalidation_0-auc:0.699171\n"
     ]
    },
    {
     "name": "stdout",
     "output_type": "stream",
     "text": [
      "[20]\tvalidation_0-auc:0.699237\n"
     ]
    },
    {
     "name": "stdout",
     "output_type": "stream",
     "text": [
      "[21]\tvalidation_0-auc:0.699266\n"
     ]
    },
    {
     "name": "stdout",
     "output_type": "stream",
     "text": [
      "[22]\tvalidation_0-auc:0.699258\n"
     ]
    },
    {
     "name": "stdout",
     "output_type": "stream",
     "text": [
      "[23]\tvalidation_0-auc:0.699325\n"
     ]
    },
    {
     "name": "stdout",
     "output_type": "stream",
     "text": [
      "[24]\tvalidation_0-auc:0.699353\n"
     ]
    },
    {
     "name": "stdout",
     "output_type": "stream",
     "text": [
      "[25]\tvalidation_0-auc:0.69939\n"
     ]
    },
    {
     "name": "stdout",
     "output_type": "stream",
     "text": [
      "[26]\tvalidation_0-auc:0.699389\n"
     ]
    },
    {
     "name": "stdout",
     "output_type": "stream",
     "text": [
      "[27]\tvalidation_0-auc:0.699397\n"
     ]
    },
    {
     "name": "stdout",
     "output_type": "stream",
     "text": [
      "[28]\tvalidation_0-auc:0.699506\n"
     ]
    },
    {
     "name": "stdout",
     "output_type": "stream",
     "text": [
      "[29]\tvalidation_0-auc:0.699586\n"
     ]
    },
    {
     "name": "stdout",
     "output_type": "stream",
     "text": [
      "[30]\tvalidation_0-auc:0.699665\n"
     ]
    },
    {
     "name": "stdout",
     "output_type": "stream",
     "text": [
      "[31]\tvalidation_0-auc:0.699678\n"
     ]
    },
    {
     "name": "stdout",
     "output_type": "stream",
     "text": [
      "[32]\tvalidation_0-auc:0.699741\n"
     ]
    },
    {
     "name": "stdout",
     "output_type": "stream",
     "text": [
      "[33]\tvalidation_0-auc:0.699797\n"
     ]
    },
    {
     "name": "stdout",
     "output_type": "stream",
     "text": [
      "[34]\tvalidation_0-auc:0.699818\n"
     ]
    },
    {
     "name": "stdout",
     "output_type": "stream",
     "text": [
      "[35]\tvalidation_0-auc:0.699856\n"
     ]
    },
    {
     "name": "stdout",
     "output_type": "stream",
     "text": [
      "[36]\tvalidation_0-auc:0.699879\n"
     ]
    },
    {
     "name": "stdout",
     "output_type": "stream",
     "text": [
      "[37]\tvalidation_0-auc:0.699915\n"
     ]
    },
    {
     "name": "stdout",
     "output_type": "stream",
     "text": [
      "[38]\tvalidation_0-auc:0.699955\n"
     ]
    },
    {
     "name": "stdout",
     "output_type": "stream",
     "text": [
      "[39]\tvalidation_0-auc:0.700009\n"
     ]
    },
    {
     "name": "stdout",
     "output_type": "stream",
     "text": [
      "[40]\tvalidation_0-auc:0.700062\n"
     ]
    },
    {
     "name": "stdout",
     "output_type": "stream",
     "text": [
      "[41]\tvalidation_0-auc:0.700144\n"
     ]
    },
    {
     "name": "stdout",
     "output_type": "stream",
     "text": [
      "[42]\tvalidation_0-auc:0.700117\n"
     ]
    },
    {
     "name": "stdout",
     "output_type": "stream",
     "text": [
      "[43]\tvalidation_0-auc:0.700152\n"
     ]
    },
    {
     "name": "stdout",
     "output_type": "stream",
     "text": [
      "[44]\tvalidation_0-auc:0.700145\n"
     ]
    },
    {
     "name": "stdout",
     "output_type": "stream",
     "text": [
      "[45]\tvalidation_0-auc:0.700156\n"
     ]
    },
    {
     "name": "stdout",
     "output_type": "stream",
     "text": [
      "[46]\tvalidation_0-auc:0.700192\n"
     ]
    },
    {
     "name": "stdout",
     "output_type": "stream",
     "text": [
      "[47]\tvalidation_0-auc:0.700204\n"
     ]
    },
    {
     "name": "stdout",
     "output_type": "stream",
     "text": [
      "[48]\tvalidation_0-auc:0.700258\n"
     ]
    },
    {
     "name": "stdout",
     "output_type": "stream",
     "text": [
      "[49]\tvalidation_0-auc:0.70026\n"
     ]
    },
    {
     "name": "stdout",
     "output_type": "stream",
     "text": [
      "[50]\tvalidation_0-auc:0.700239\n"
     ]
    },
    {
     "name": "stdout",
     "output_type": "stream",
     "text": [
      "[51]\tvalidation_0-auc:0.700258\n"
     ]
    },
    {
     "name": "stdout",
     "output_type": "stream",
     "text": [
      "[52]\tvalidation_0-auc:0.700333\n"
     ]
    },
    {
     "name": "stdout",
     "output_type": "stream",
     "text": [
      "[53]\tvalidation_0-auc:0.700349\n"
     ]
    },
    {
     "name": "stdout",
     "output_type": "stream",
     "text": [
      "[54]\tvalidation_0-auc:0.700394\n"
     ]
    },
    {
     "name": "stdout",
     "output_type": "stream",
     "text": [
      "[55]\tvalidation_0-auc:0.700412\n"
     ]
    },
    {
     "name": "stdout",
     "output_type": "stream",
     "text": [
      "[56]\tvalidation_0-auc:0.700464\n"
     ]
    },
    {
     "name": "stdout",
     "output_type": "stream",
     "text": [
      "[57]\tvalidation_0-auc:0.700495\n"
     ]
    },
    {
     "name": "stdout",
     "output_type": "stream",
     "text": [
      "[58]\tvalidation_0-auc:0.700533\n"
     ]
    },
    {
     "name": "stdout",
     "output_type": "stream",
     "text": [
      "[59]\tvalidation_0-auc:0.700574\n"
     ]
    },
    {
     "name": "stdout",
     "output_type": "stream",
     "text": [
      "[60]\tvalidation_0-auc:0.700612\n"
     ]
    },
    {
     "name": "stdout",
     "output_type": "stream",
     "text": [
      "[61]\tvalidation_0-auc:0.70066\n"
     ]
    },
    {
     "name": "stdout",
     "output_type": "stream",
     "text": [
      "[62]\tvalidation_0-auc:0.700677\n"
     ]
    },
    {
     "name": "stdout",
     "output_type": "stream",
     "text": [
      "[63]\tvalidation_0-auc:0.700712\n"
     ]
    },
    {
     "name": "stdout",
     "output_type": "stream",
     "text": [
      "[64]\tvalidation_0-auc:0.700728\n"
     ]
    },
    {
     "name": "stdout",
     "output_type": "stream",
     "text": [
      "[65]\tvalidation_0-auc:0.700755\n"
     ]
    },
    {
     "name": "stdout",
     "output_type": "stream",
     "text": [
      "[66]\tvalidation_0-auc:0.700794\n"
     ]
    },
    {
     "name": "stdout",
     "output_type": "stream",
     "text": [
      "[67]\tvalidation_0-auc:0.700829\n"
     ]
    },
    {
     "name": "stdout",
     "output_type": "stream",
     "text": [
      "[68]\tvalidation_0-auc:0.700847\n"
     ]
    },
    {
     "name": "stdout",
     "output_type": "stream",
     "text": [
      "[69]\tvalidation_0-auc:0.700872\n"
     ]
    },
    {
     "name": "stdout",
     "output_type": "stream",
     "text": [
      "[70]\tvalidation_0-auc:0.700894\n"
     ]
    },
    {
     "name": "stdout",
     "output_type": "stream",
     "text": [
      "[71]\tvalidation_0-auc:0.700929\n"
     ]
    },
    {
     "name": "stdout",
     "output_type": "stream",
     "text": [
      "[72]\tvalidation_0-auc:0.700951\n"
     ]
    },
    {
     "name": "stdout",
     "output_type": "stream",
     "text": [
      "[73]\tvalidation_0-auc:0.70098\n"
     ]
    },
    {
     "name": "stdout",
     "output_type": "stream",
     "text": [
      "[74]\tvalidation_0-auc:0.701016\n"
     ]
    },
    {
     "name": "stdout",
     "output_type": "stream",
     "text": [
      "[75]\tvalidation_0-auc:0.70103\n"
     ]
    },
    {
     "name": "stdout",
     "output_type": "stream",
     "text": [
      "[76]\tvalidation_0-auc:0.701058\n"
     ]
    },
    {
     "name": "stdout",
     "output_type": "stream",
     "text": [
      "[77]\tvalidation_0-auc:0.701066\n"
     ]
    },
    {
     "name": "stdout",
     "output_type": "stream",
     "text": [
      "[78]\tvalidation_0-auc:0.701102\n"
     ]
    },
    {
     "name": "stdout",
     "output_type": "stream",
     "text": [
      "[79]\tvalidation_0-auc:0.70113\n"
     ]
    },
    {
     "name": "stdout",
     "output_type": "stream",
     "text": [
      "[80]\tvalidation_0-auc:0.701179\n"
     ]
    },
    {
     "name": "stdout",
     "output_type": "stream",
     "text": [
      "[81]\tvalidation_0-auc:0.701187\n"
     ]
    },
    {
     "name": "stdout",
     "output_type": "stream",
     "text": [
      "[82]\tvalidation_0-auc:0.701195\n"
     ]
    },
    {
     "name": "stdout",
     "output_type": "stream",
     "text": [
      "[83]\tvalidation_0-auc:0.701227\n"
     ]
    },
    {
     "name": "stdout",
     "output_type": "stream",
     "text": [
      "[84]\tvalidation_0-auc:0.701248\n"
     ]
    },
    {
     "name": "stdout",
     "output_type": "stream",
     "text": [
      "[85]\tvalidation_0-auc:0.701262\n"
     ]
    },
    {
     "name": "stdout",
     "output_type": "stream",
     "text": [
      "[86]\tvalidation_0-auc:0.701293\n"
     ]
    },
    {
     "name": "stdout",
     "output_type": "stream",
     "text": [
      "[87]\tvalidation_0-auc:0.701318\n"
     ]
    },
    {
     "name": "stdout",
     "output_type": "stream",
     "text": [
      "[88]\tvalidation_0-auc:0.701336\n"
     ]
    },
    {
     "name": "stdout",
     "output_type": "stream",
     "text": [
      "[89]\tvalidation_0-auc:0.701357\n"
     ]
    },
    {
     "name": "stdout",
     "output_type": "stream",
     "text": [
      "[90]\tvalidation_0-auc:0.701385\n"
     ]
    },
    {
     "name": "stdout",
     "output_type": "stream",
     "text": [
      "[91]\tvalidation_0-auc:0.701397\n"
     ]
    },
    {
     "name": "stdout",
     "output_type": "stream",
     "text": [
      "[92]\tvalidation_0-auc:0.701431\n"
     ]
    },
    {
     "name": "stdout",
     "output_type": "stream",
     "text": [
      "[93]\tvalidation_0-auc:0.701463\n"
     ]
    },
    {
     "name": "stdout",
     "output_type": "stream",
     "text": [
      "[94]\tvalidation_0-auc:0.701512\n"
     ]
    },
    {
     "name": "stdout",
     "output_type": "stream",
     "text": [
      "[95]\tvalidation_0-auc:0.701539\n"
     ]
    },
    {
     "name": "stdout",
     "output_type": "stream",
     "text": [
      "[96]\tvalidation_0-auc:0.70155\n"
     ]
    },
    {
     "name": "stdout",
     "output_type": "stream",
     "text": [
      "[97]\tvalidation_0-auc:0.70159\n"
     ]
    },
    {
     "name": "stdout",
     "output_type": "stream",
     "text": [
      "[98]\tvalidation_0-auc:0.70162\n"
     ]
    },
    {
     "name": "stdout",
     "output_type": "stream",
     "text": [
      "[99]\tvalidation_0-auc:0.701653\n"
     ]
    },
    {
     "name": "stdout",
     "output_type": "stream",
     "text": [
      "[100]\tvalidation_0-auc:0.701687\n"
     ]
    },
    {
     "name": "stdout",
     "output_type": "stream",
     "text": [
      "[101]\tvalidation_0-auc:0.701698\n"
     ]
    },
    {
     "name": "stdout",
     "output_type": "stream",
     "text": [
      "[102]\tvalidation_0-auc:0.701733\n"
     ]
    },
    {
     "name": "stdout",
     "output_type": "stream",
     "text": [
      "[103]\tvalidation_0-auc:0.701748\n"
     ]
    },
    {
     "name": "stdout",
     "output_type": "stream",
     "text": [
      "[104]\tvalidation_0-auc:0.701775\n"
     ]
    },
    {
     "name": "stdout",
     "output_type": "stream",
     "text": [
      "[105]\tvalidation_0-auc:0.701779\n"
     ]
    },
    {
     "name": "stdout",
     "output_type": "stream",
     "text": [
      "[106]\tvalidation_0-auc:0.701803\n"
     ]
    },
    {
     "name": "stdout",
     "output_type": "stream",
     "text": [
      "[107]\tvalidation_0-auc:0.701834\n"
     ]
    },
    {
     "name": "stdout",
     "output_type": "stream",
     "text": [
      "[108]\tvalidation_0-auc:0.701858\n"
     ]
    },
    {
     "name": "stdout",
     "output_type": "stream",
     "text": [
      "[109]\tvalidation_0-auc:0.701876\n"
     ]
    },
    {
     "name": "stdout",
     "output_type": "stream",
     "text": [
      "[110]\tvalidation_0-auc:0.701907\n"
     ]
    },
    {
     "name": "stdout",
     "output_type": "stream",
     "text": [
      "[111]\tvalidation_0-auc:0.701943\n"
     ]
    },
    {
     "name": "stdout",
     "output_type": "stream",
     "text": [
      "[112]\tvalidation_0-auc:0.701983\n"
     ]
    },
    {
     "name": "stdout",
     "output_type": "stream",
     "text": [
      "[113]\tvalidation_0-auc:0.702001\n"
     ]
    },
    {
     "name": "stdout",
     "output_type": "stream",
     "text": [
      "[114]\tvalidation_0-auc:0.702019\n"
     ]
    },
    {
     "name": "stdout",
     "output_type": "stream",
     "text": [
      "[115]\tvalidation_0-auc:0.702049\n"
     ]
    },
    {
     "name": "stdout",
     "output_type": "stream",
     "text": [
      "[116]\tvalidation_0-auc:0.702082\n"
     ]
    },
    {
     "name": "stdout",
     "output_type": "stream",
     "text": [
      "[117]\tvalidation_0-auc:0.702103\n"
     ]
    },
    {
     "name": "stdout",
     "output_type": "stream",
     "text": [
      "[118]\tvalidation_0-auc:0.702132\n"
     ]
    },
    {
     "name": "stdout",
     "output_type": "stream",
     "text": [
      "[119]\tvalidation_0-auc:0.702171\n"
     ]
    },
    {
     "name": "stdout",
     "output_type": "stream",
     "text": [
      "[120]\tvalidation_0-auc:0.702202\n"
     ]
    },
    {
     "name": "stdout",
     "output_type": "stream",
     "text": [
      "[121]\tvalidation_0-auc:0.702213\n"
     ]
    },
    {
     "name": "stdout",
     "output_type": "stream",
     "text": [
      "[122]\tvalidation_0-auc:0.70224\n"
     ]
    },
    {
     "name": "stdout",
     "output_type": "stream",
     "text": [
      "[123]\tvalidation_0-auc:0.70228\n"
     ]
    },
    {
     "name": "stdout",
     "output_type": "stream",
     "text": [
      "[124]\tvalidation_0-auc:0.702295\n"
     ]
    },
    {
     "name": "stdout",
     "output_type": "stream",
     "text": [
      "[125]\tvalidation_0-auc:0.702316\n"
     ]
    },
    {
     "name": "stdout",
     "output_type": "stream",
     "text": [
      "[126]\tvalidation_0-auc:0.702354\n"
     ]
    },
    {
     "name": "stdout",
     "output_type": "stream",
     "text": [
      "[127]\tvalidation_0-auc:0.702361\n"
     ]
    },
    {
     "name": "stdout",
     "output_type": "stream",
     "text": [
      "[128]\tvalidation_0-auc:0.702385\n"
     ]
    },
    {
     "name": "stdout",
     "output_type": "stream",
     "text": [
      "[129]\tvalidation_0-auc:0.702404\n"
     ]
    },
    {
     "name": "stdout",
     "output_type": "stream",
     "text": [
      "[130]\tvalidation_0-auc:0.70243\n"
     ]
    },
    {
     "name": "stdout",
     "output_type": "stream",
     "text": [
      "[131]\tvalidation_0-auc:0.702441\n"
     ]
    },
    {
     "name": "stdout",
     "output_type": "stream",
     "text": [
      "[132]\tvalidation_0-auc:0.702469\n"
     ]
    },
    {
     "name": "stdout",
     "output_type": "stream",
     "text": [
      "[133]\tvalidation_0-auc:0.702502\n"
     ]
    },
    {
     "name": "stdout",
     "output_type": "stream",
     "text": [
      "[134]\tvalidation_0-auc:0.702514\n"
     ]
    },
    {
     "name": "stdout",
     "output_type": "stream",
     "text": [
      "[135]\tvalidation_0-auc:0.702526\n"
     ]
    },
    {
     "name": "stdout",
     "output_type": "stream",
     "text": [
      "[136]\tvalidation_0-auc:0.702541\n"
     ]
    },
    {
     "name": "stdout",
     "output_type": "stream",
     "text": [
      "[137]\tvalidation_0-auc:0.702553\n"
     ]
    },
    {
     "name": "stdout",
     "output_type": "stream",
     "text": [
      "[138]\tvalidation_0-auc:0.70257\n"
     ]
    },
    {
     "name": "stdout",
     "output_type": "stream",
     "text": [
      "[139]\tvalidation_0-auc:0.702592\n"
     ]
    },
    {
     "name": "stdout",
     "output_type": "stream",
     "text": [
      "[140]\tvalidation_0-auc:0.702608\n"
     ]
    },
    {
     "name": "stdout",
     "output_type": "stream",
     "text": [
      "[141]\tvalidation_0-auc:0.702613\n"
     ]
    },
    {
     "name": "stdout",
     "output_type": "stream",
     "text": [
      "[142]\tvalidation_0-auc:0.702629\n"
     ]
    },
    {
     "name": "stdout",
     "output_type": "stream",
     "text": [
      "[143]\tvalidation_0-auc:0.702653\n"
     ]
    },
    {
     "name": "stdout",
     "output_type": "stream",
     "text": [
      "[144]\tvalidation_0-auc:0.702662\n"
     ]
    },
    {
     "name": "stdout",
     "output_type": "stream",
     "text": [
      "[145]\tvalidation_0-auc:0.702685\n"
     ]
    },
    {
     "name": "stdout",
     "output_type": "stream",
     "text": [
      "[146]\tvalidation_0-auc:0.702699\n"
     ]
    },
    {
     "name": "stdout",
     "output_type": "stream",
     "text": [
      "[147]\tvalidation_0-auc:0.702724\n"
     ]
    },
    {
     "name": "stdout",
     "output_type": "stream",
     "text": [
      "[148]\tvalidation_0-auc:0.702736\n"
     ]
    },
    {
     "name": "stdout",
     "output_type": "stream",
     "text": [
      "[149]\tvalidation_0-auc:0.702762\n"
     ]
    },
    {
     "name": "stdout",
     "output_type": "stream",
     "text": [
      "[150]\tvalidation_0-auc:0.702786\n"
     ]
    },
    {
     "name": "stdout",
     "output_type": "stream",
     "text": [
      "[151]\tvalidation_0-auc:0.702796\n"
     ]
    },
    {
     "name": "stdout",
     "output_type": "stream",
     "text": [
      "[152]\tvalidation_0-auc:0.702826\n"
     ]
    },
    {
     "name": "stdout",
     "output_type": "stream",
     "text": [
      "[153]\tvalidation_0-auc:0.702849\n"
     ]
    },
    {
     "name": "stdout",
     "output_type": "stream",
     "text": [
      "[154]\tvalidation_0-auc:0.702853\n"
     ]
    },
    {
     "name": "stdout",
     "output_type": "stream",
     "text": [
      "[155]\tvalidation_0-auc:0.702866\n"
     ]
    },
    {
     "name": "stdout",
     "output_type": "stream",
     "text": [
      "[156]\tvalidation_0-auc:0.70289\n"
     ]
    },
    {
     "name": "stdout",
     "output_type": "stream",
     "text": [
      "[157]\tvalidation_0-auc:0.702906\n"
     ]
    },
    {
     "name": "stdout",
     "output_type": "stream",
     "text": [
      "[158]\tvalidation_0-auc:0.702929\n"
     ]
    },
    {
     "name": "stdout",
     "output_type": "stream",
     "text": [
      "[159]\tvalidation_0-auc:0.702951\n"
     ]
    },
    {
     "name": "stdout",
     "output_type": "stream",
     "text": [
      "[160]\tvalidation_0-auc:0.702982\n"
     ]
    },
    {
     "name": "stdout",
     "output_type": "stream",
     "text": [
      "[161]\tvalidation_0-auc:0.703009\n"
     ]
    },
    {
     "name": "stdout",
     "output_type": "stream",
     "text": [
      "[162]\tvalidation_0-auc:0.703019\n"
     ]
    },
    {
     "name": "stdout",
     "output_type": "stream",
     "text": [
      "[163]\tvalidation_0-auc:0.703054\n"
     ]
    },
    {
     "name": "stdout",
     "output_type": "stream",
     "text": [
      "[164]\tvalidation_0-auc:0.70308\n"
     ]
    },
    {
     "name": "stdout",
     "output_type": "stream",
     "text": [
      "[165]\tvalidation_0-auc:0.703095\n"
     ]
    },
    {
     "name": "stdout",
     "output_type": "stream",
     "text": [
      "[166]\tvalidation_0-auc:0.703122\n"
     ]
    },
    {
     "name": "stdout",
     "output_type": "stream",
     "text": [
      "[167]\tvalidation_0-auc:0.703144\n"
     ]
    },
    {
     "name": "stdout",
     "output_type": "stream",
     "text": [
      "[168]\tvalidation_0-auc:0.703162\n"
     ]
    },
    {
     "name": "stdout",
     "output_type": "stream",
     "text": [
      "[169]\tvalidation_0-auc:0.703192\n"
     ]
    },
    {
     "name": "stdout",
     "output_type": "stream",
     "text": [
      "[170]\tvalidation_0-auc:0.703214\n"
     ]
    },
    {
     "name": "stdout",
     "output_type": "stream",
     "text": [
      "[171]\tvalidation_0-auc:0.703233\n"
     ]
    },
    {
     "name": "stdout",
     "output_type": "stream",
     "text": [
      "[172]\tvalidation_0-auc:0.703253\n"
     ]
    },
    {
     "name": "stdout",
     "output_type": "stream",
     "text": [
      "[173]\tvalidation_0-auc:0.703278\n"
     ]
    },
    {
     "name": "stdout",
     "output_type": "stream",
     "text": [
      "[174]\tvalidation_0-auc:0.703303\n"
     ]
    },
    {
     "name": "stdout",
     "output_type": "stream",
     "text": [
      "[175]\tvalidation_0-auc:0.703313\n"
     ]
    },
    {
     "name": "stdout",
     "output_type": "stream",
     "text": [
      "[176]\tvalidation_0-auc:0.703326\n"
     ]
    },
    {
     "name": "stdout",
     "output_type": "stream",
     "text": [
      "[177]\tvalidation_0-auc:0.703351\n"
     ]
    },
    {
     "name": "stdout",
     "output_type": "stream",
     "text": [
      "[178]\tvalidation_0-auc:0.703373\n"
     ]
    },
    {
     "name": "stdout",
     "output_type": "stream",
     "text": [
      "[179]\tvalidation_0-auc:0.703393\n"
     ]
    },
    {
     "name": "stdout",
     "output_type": "stream",
     "text": [
      "[180]\tvalidation_0-auc:0.703405\n"
     ]
    },
    {
     "name": "stdout",
     "output_type": "stream",
     "text": [
      "[181]\tvalidation_0-auc:0.703418\n"
     ]
    },
    {
     "name": "stdout",
     "output_type": "stream",
     "text": [
      "[182]\tvalidation_0-auc:0.703439\n"
     ]
    },
    {
     "name": "stdout",
     "output_type": "stream",
     "text": [
      "[183]\tvalidation_0-auc:0.703453\n"
     ]
    },
    {
     "name": "stdout",
     "output_type": "stream",
     "text": [
      "[184]\tvalidation_0-auc:0.703479\n"
     ]
    },
    {
     "name": "stdout",
     "output_type": "stream",
     "text": [
      "[185]\tvalidation_0-auc:0.703509\n"
     ]
    },
    {
     "name": "stdout",
     "output_type": "stream",
     "text": [
      "[186]\tvalidation_0-auc:0.703523\n"
     ]
    },
    {
     "name": "stdout",
     "output_type": "stream",
     "text": [
      "[187]\tvalidation_0-auc:0.703541\n"
     ]
    },
    {
     "name": "stdout",
     "output_type": "stream",
     "text": [
      "[188]\tvalidation_0-auc:0.703574\n"
     ]
    },
    {
     "name": "stdout",
     "output_type": "stream",
     "text": [
      "[189]\tvalidation_0-auc:0.703595\n"
     ]
    },
    {
     "name": "stdout",
     "output_type": "stream",
     "text": [
      "[190]\tvalidation_0-auc:0.703623\n"
     ]
    },
    {
     "name": "stdout",
     "output_type": "stream",
     "text": [
      "[191]\tvalidation_0-auc:0.703643\n"
     ]
    },
    {
     "name": "stdout",
     "output_type": "stream",
     "text": [
      "[192]\tvalidation_0-auc:0.70366\n"
     ]
    },
    {
     "name": "stdout",
     "output_type": "stream",
     "text": [
      "[193]\tvalidation_0-auc:0.703675\n"
     ]
    },
    {
     "name": "stdout",
     "output_type": "stream",
     "text": [
      "[194]\tvalidation_0-auc:0.703692\n"
     ]
    },
    {
     "name": "stdout",
     "output_type": "stream",
     "text": [
      "[195]\tvalidation_0-auc:0.703709\n"
     ]
    },
    {
     "name": "stdout",
     "output_type": "stream",
     "text": [
      "[196]\tvalidation_0-auc:0.70373\n"
     ]
    },
    {
     "name": "stdout",
     "output_type": "stream",
     "text": [
      "[197]\tvalidation_0-auc:0.703741\n"
     ]
    },
    {
     "name": "stdout",
     "output_type": "stream",
     "text": [
      "[198]\tvalidation_0-auc:0.703752\n"
     ]
    },
    {
     "name": "stdout",
     "output_type": "stream",
     "text": [
      "[199]\tvalidation_0-auc:0.703774\n"
     ]
    },
    {
     "name": "stdout",
     "output_type": "stream",
     "text": [
      "[200]\tvalidation_0-auc:0.703778\n"
     ]
    },
    {
     "name": "stdout",
     "output_type": "stream",
     "text": [
      "[201]\tvalidation_0-auc:0.703794\n"
     ]
    },
    {
     "name": "stdout",
     "output_type": "stream",
     "text": [
      "[202]\tvalidation_0-auc:0.703818\n"
     ]
    },
    {
     "name": "stdout",
     "output_type": "stream",
     "text": [
      "[203]\tvalidation_0-auc:0.703837\n"
     ]
    },
    {
     "name": "stdout",
     "output_type": "stream",
     "text": [
      "[204]\tvalidation_0-auc:0.703856\n"
     ]
    },
    {
     "name": "stdout",
     "output_type": "stream",
     "text": [
      "[205]\tvalidation_0-auc:0.703867\n"
     ]
    },
    {
     "name": "stdout",
     "output_type": "stream",
     "text": [
      "[206]\tvalidation_0-auc:0.70388\n"
     ]
    },
    {
     "name": "stdout",
     "output_type": "stream",
     "text": [
      "[207]\tvalidation_0-auc:0.703905\n"
     ]
    },
    {
     "name": "stdout",
     "output_type": "stream",
     "text": [
      "[208]\tvalidation_0-auc:0.703933\n"
     ]
    },
    {
     "name": "stdout",
     "output_type": "stream",
     "text": [
      "[209]\tvalidation_0-auc:0.703948\n"
     ]
    },
    {
     "name": "stdout",
     "output_type": "stream",
     "text": [
      "[210]\tvalidation_0-auc:0.703967\n"
     ]
    },
    {
     "name": "stdout",
     "output_type": "stream",
     "text": [
      "[211]\tvalidation_0-auc:0.703977\n"
     ]
    },
    {
     "name": "stdout",
     "output_type": "stream",
     "text": [
      "[212]\tvalidation_0-auc:0.703997\n"
     ]
    },
    {
     "name": "stdout",
     "output_type": "stream",
     "text": [
      "[213]\tvalidation_0-auc:0.70401\n"
     ]
    },
    {
     "name": "stdout",
     "output_type": "stream",
     "text": [
      "[214]\tvalidation_0-auc:0.704021\n"
     ]
    },
    {
     "name": "stdout",
     "output_type": "stream",
     "text": [
      "[215]\tvalidation_0-auc:0.704045\n"
     ]
    },
    {
     "name": "stdout",
     "output_type": "stream",
     "text": [
      "[216]\tvalidation_0-auc:0.704058\n"
     ]
    },
    {
     "name": "stdout",
     "output_type": "stream",
     "text": [
      "[217]\tvalidation_0-auc:0.70407\n"
     ]
    },
    {
     "name": "stdout",
     "output_type": "stream",
     "text": [
      "[218]\tvalidation_0-auc:0.70408\n"
     ]
    },
    {
     "name": "stdout",
     "output_type": "stream",
     "text": [
      "[219]\tvalidation_0-auc:0.704103\n"
     ]
    },
    {
     "name": "stdout",
     "output_type": "stream",
     "text": [
      "[220]\tvalidation_0-auc:0.70412\n"
     ]
    },
    {
     "name": "stdout",
     "output_type": "stream",
     "text": [
      "[221]\tvalidation_0-auc:0.704132\n"
     ]
    },
    {
     "name": "stdout",
     "output_type": "stream",
     "text": [
      "[222]\tvalidation_0-auc:0.704155\n"
     ]
    },
    {
     "name": "stdout",
     "output_type": "stream",
     "text": [
      "[223]\tvalidation_0-auc:0.704167\n"
     ]
    },
    {
     "name": "stdout",
     "output_type": "stream",
     "text": [
      "[224]\tvalidation_0-auc:0.704183\n"
     ]
    },
    {
     "name": "stdout",
     "output_type": "stream",
     "text": [
      "[225]\tvalidation_0-auc:0.704204\n"
     ]
    },
    {
     "name": "stdout",
     "output_type": "stream",
     "text": [
      "[226]\tvalidation_0-auc:0.704216\n"
     ]
    },
    {
     "name": "stdout",
     "output_type": "stream",
     "text": [
      "[227]\tvalidation_0-auc:0.704222\n"
     ]
    },
    {
     "name": "stdout",
     "output_type": "stream",
     "text": [
      "[228]\tvalidation_0-auc:0.704232\n"
     ]
    },
    {
     "name": "stdout",
     "output_type": "stream",
     "text": [
      "[229]\tvalidation_0-auc:0.704241\n"
     ]
    },
    {
     "name": "stdout",
     "output_type": "stream",
     "text": [
      "[230]\tvalidation_0-auc:0.704261\n"
     ]
    },
    {
     "name": "stdout",
     "output_type": "stream",
     "text": [
      "[231]\tvalidation_0-auc:0.704265\n"
     ]
    },
    {
     "name": "stdout",
     "output_type": "stream",
     "text": [
      "[232]\tvalidation_0-auc:0.704279\n"
     ]
    },
    {
     "name": "stdout",
     "output_type": "stream",
     "text": [
      "[233]\tvalidation_0-auc:0.704287\n"
     ]
    },
    {
     "name": "stdout",
     "output_type": "stream",
     "text": [
      "[234]\tvalidation_0-auc:0.704308\n"
     ]
    },
    {
     "name": "stdout",
     "output_type": "stream",
     "text": [
      "[235]\tvalidation_0-auc:0.704329\n"
     ]
    },
    {
     "name": "stdout",
     "output_type": "stream",
     "text": [
      "[236]\tvalidation_0-auc:0.704336\n"
     ]
    },
    {
     "name": "stdout",
     "output_type": "stream",
     "text": [
      "[237]\tvalidation_0-auc:0.704354\n"
     ]
    },
    {
     "name": "stdout",
     "output_type": "stream",
     "text": [
      "[238]\tvalidation_0-auc:0.704362\n"
     ]
    },
    {
     "name": "stdout",
     "output_type": "stream",
     "text": [
      "[239]\tvalidation_0-auc:0.704381\n"
     ]
    },
    {
     "name": "stdout",
     "output_type": "stream",
     "text": [
      "[240]\tvalidation_0-auc:0.704391\n"
     ]
    },
    {
     "name": "stdout",
     "output_type": "stream",
     "text": [
      "[241]\tvalidation_0-auc:0.704416\n"
     ]
    },
    {
     "name": "stdout",
     "output_type": "stream",
     "text": [
      "[242]\tvalidation_0-auc:0.704425\n"
     ]
    },
    {
     "name": "stdout",
     "output_type": "stream",
     "text": [
      "[243]\tvalidation_0-auc:0.704444\n"
     ]
    },
    {
     "name": "stdout",
     "output_type": "stream",
     "text": [
      "[244]\tvalidation_0-auc:0.70445\n"
     ]
    },
    {
     "name": "stdout",
     "output_type": "stream",
     "text": [
      "[245]\tvalidation_0-auc:0.704466\n"
     ]
    },
    {
     "name": "stdout",
     "output_type": "stream",
     "text": [
      "[246]\tvalidation_0-auc:0.704473\n"
     ]
    },
    {
     "name": "stdout",
     "output_type": "stream",
     "text": [
      "[247]\tvalidation_0-auc:0.704491\n"
     ]
    },
    {
     "name": "stdout",
     "output_type": "stream",
     "text": [
      "[248]\tvalidation_0-auc:0.704502\n"
     ]
    },
    {
     "name": "stdout",
     "output_type": "stream",
     "text": [
      "[249]\tvalidation_0-auc:0.704508\n"
     ]
    },
    {
     "name": "stdout",
     "output_type": "stream",
     "text": [
      "[250]\tvalidation_0-auc:0.704517\n"
     ]
    },
    {
     "name": "stdout",
     "output_type": "stream",
     "text": [
      "[251]\tvalidation_0-auc:0.704541\n"
     ]
    },
    {
     "name": "stdout",
     "output_type": "stream",
     "text": [
      "[252]\tvalidation_0-auc:0.704563\n"
     ]
    },
    {
     "name": "stdout",
     "output_type": "stream",
     "text": [
      "[253]\tvalidation_0-auc:0.70457\n"
     ]
    },
    {
     "name": "stdout",
     "output_type": "stream",
     "text": [
      "[254]\tvalidation_0-auc:0.704573\n"
     ]
    },
    {
     "name": "stdout",
     "output_type": "stream",
     "text": [
      "[255]\tvalidation_0-auc:0.704598\n"
     ]
    },
    {
     "name": "stdout",
     "output_type": "stream",
     "text": [
      "[256]\tvalidation_0-auc:0.7046\n"
     ]
    },
    {
     "name": "stdout",
     "output_type": "stream",
     "text": [
      "[257]\tvalidation_0-auc:0.704608\n"
     ]
    },
    {
     "name": "stdout",
     "output_type": "stream",
     "text": [
      "[258]\tvalidation_0-auc:0.704613\n"
     ]
    },
    {
     "name": "stdout",
     "output_type": "stream",
     "text": [
      "[259]\tvalidation_0-auc:0.704626\n"
     ]
    },
    {
     "name": "stdout",
     "output_type": "stream",
     "text": [
      "[260]\tvalidation_0-auc:0.70464\n"
     ]
    },
    {
     "name": "stdout",
     "output_type": "stream",
     "text": [
      "[261]\tvalidation_0-auc:0.704655\n"
     ]
    },
    {
     "name": "stdout",
     "output_type": "stream",
     "text": [
      "[262]\tvalidation_0-auc:0.704665\n"
     ]
    },
    {
     "name": "stdout",
     "output_type": "stream",
     "text": [
      "[263]\tvalidation_0-auc:0.704675\n"
     ]
    },
    {
     "name": "stdout",
     "output_type": "stream",
     "text": [
      "[264]\tvalidation_0-auc:0.704698\n"
     ]
    },
    {
     "name": "stdout",
     "output_type": "stream",
     "text": [
      "[265]\tvalidation_0-auc:0.704702\n"
     ]
    },
    {
     "name": "stdout",
     "output_type": "stream",
     "text": [
      "[266]\tvalidation_0-auc:0.704711\n"
     ]
    },
    {
     "name": "stdout",
     "output_type": "stream",
     "text": [
      "[267]\tvalidation_0-auc:0.704727\n"
     ]
    },
    {
     "name": "stdout",
     "output_type": "stream",
     "text": [
      "[268]\tvalidation_0-auc:0.704736\n"
     ]
    },
    {
     "name": "stdout",
     "output_type": "stream",
     "text": [
      "[269]\tvalidation_0-auc:0.70475\n"
     ]
    },
    {
     "name": "stdout",
     "output_type": "stream",
     "text": [
      "[270]\tvalidation_0-auc:0.704753\n"
     ]
    },
    {
     "name": "stdout",
     "output_type": "stream",
     "text": [
      "[271]\tvalidation_0-auc:0.70476\n"
     ]
    },
    {
     "name": "stdout",
     "output_type": "stream",
     "text": [
      "[272]\tvalidation_0-auc:0.704771\n"
     ]
    },
    {
     "name": "stdout",
     "output_type": "stream",
     "text": [
      "[273]\tvalidation_0-auc:0.704785\n"
     ]
    },
    {
     "name": "stdout",
     "output_type": "stream",
     "text": [
      "[274]\tvalidation_0-auc:0.704799\n"
     ]
    },
    {
     "name": "stdout",
     "output_type": "stream",
     "text": [
      "[275]\tvalidation_0-auc:0.704813\n"
     ]
    },
    {
     "name": "stdout",
     "output_type": "stream",
     "text": [
      "[276]\tvalidation_0-auc:0.704824\n"
     ]
    },
    {
     "name": "stdout",
     "output_type": "stream",
     "text": [
      "[277]\tvalidation_0-auc:0.704844\n"
     ]
    },
    {
     "name": "stdout",
     "output_type": "stream",
     "text": [
      "[278]\tvalidation_0-auc:0.704859\n"
     ]
    },
    {
     "name": "stdout",
     "output_type": "stream",
     "text": [
      "[279]\tvalidation_0-auc:0.704879\n"
     ]
    },
    {
     "name": "stdout",
     "output_type": "stream",
     "text": [
      "[280]\tvalidation_0-auc:0.704884\n"
     ]
    },
    {
     "name": "stdout",
     "output_type": "stream",
     "text": [
      "[281]\tvalidation_0-auc:0.704891\n"
     ]
    },
    {
     "name": "stdout",
     "output_type": "stream",
     "text": [
      "[282]\tvalidation_0-auc:0.704907\n"
     ]
    },
    {
     "name": "stdout",
     "output_type": "stream",
     "text": [
      "[283]\tvalidation_0-auc:0.704922\n"
     ]
    },
    {
     "name": "stdout",
     "output_type": "stream",
     "text": [
      "[284]\tvalidation_0-auc:0.704937\n"
     ]
    },
    {
     "name": "stdout",
     "output_type": "stream",
     "text": [
      "[285]\tvalidation_0-auc:0.704946\n"
     ]
    },
    {
     "name": "stdout",
     "output_type": "stream",
     "text": [
      "[286]\tvalidation_0-auc:0.704957\n"
     ]
    },
    {
     "name": "stdout",
     "output_type": "stream",
     "text": [
      "[287]\tvalidation_0-auc:0.704968\n"
     ]
    },
    {
     "name": "stdout",
     "output_type": "stream",
     "text": [
      "[288]\tvalidation_0-auc:0.704975\n"
     ]
    },
    {
     "name": "stdout",
     "output_type": "stream",
     "text": [
      "[289]\tvalidation_0-auc:0.704988\n"
     ]
    },
    {
     "name": "stdout",
     "output_type": "stream",
     "text": [
      "[290]\tvalidation_0-auc:0.705008\n"
     ]
    },
    {
     "name": "stdout",
     "output_type": "stream",
     "text": [
      "[291]\tvalidation_0-auc:0.70502\n"
     ]
    },
    {
     "name": "stdout",
     "output_type": "stream",
     "text": [
      "[292]\tvalidation_0-auc:0.705037\n"
     ]
    },
    {
     "name": "stdout",
     "output_type": "stream",
     "text": [
      "[293]\tvalidation_0-auc:0.705043\n"
     ]
    },
    {
     "name": "stdout",
     "output_type": "stream",
     "text": [
      "[294]\tvalidation_0-auc:0.705045\n"
     ]
    },
    {
     "name": "stdout",
     "output_type": "stream",
     "text": [
      "[295]\tvalidation_0-auc:0.705064\n"
     ]
    },
    {
     "name": "stdout",
     "output_type": "stream",
     "text": [
      "[296]\tvalidation_0-auc:0.705064\n"
     ]
    },
    {
     "name": "stdout",
     "output_type": "stream",
     "text": [
      "[297]\tvalidation_0-auc:0.705075\n"
     ]
    },
    {
     "name": "stdout",
     "output_type": "stream",
     "text": [
      "[298]\tvalidation_0-auc:0.705092\n"
     ]
    },
    {
     "name": "stdout",
     "output_type": "stream",
     "text": [
      "[299]\tvalidation_0-auc:0.705107\n"
     ]
    },
    {
     "name": "stdout",
     "output_type": "stream",
     "text": [
      "[300]\tvalidation_0-auc:0.705118\n"
     ]
    },
    {
     "name": "stdout",
     "output_type": "stream",
     "text": [
      "[301]\tvalidation_0-auc:0.705127\n"
     ]
    },
    {
     "name": "stdout",
     "output_type": "stream",
     "text": [
      "[302]\tvalidation_0-auc:0.705137\n"
     ]
    },
    {
     "name": "stdout",
     "output_type": "stream",
     "text": [
      "[303]\tvalidation_0-auc:0.705142\n"
     ]
    },
    {
     "name": "stdout",
     "output_type": "stream",
     "text": [
      "[304]\tvalidation_0-auc:0.705156\n"
     ]
    },
    {
     "name": "stdout",
     "output_type": "stream",
     "text": [
      "[305]\tvalidation_0-auc:0.705173\n"
     ]
    },
    {
     "name": "stdout",
     "output_type": "stream",
     "text": [
      "[306]\tvalidation_0-auc:0.705186\n"
     ]
    },
    {
     "name": "stdout",
     "output_type": "stream",
     "text": [
      "[307]\tvalidation_0-auc:0.705203\n"
     ]
    },
    {
     "name": "stdout",
     "output_type": "stream",
     "text": [
      "[308]\tvalidation_0-auc:0.705217\n"
     ]
    },
    {
     "name": "stdout",
     "output_type": "stream",
     "text": [
      "[309]\tvalidation_0-auc:0.705225\n"
     ]
    },
    {
     "name": "stdout",
     "output_type": "stream",
     "text": [
      "[310]\tvalidation_0-auc:0.705238\n"
     ]
    },
    {
     "name": "stdout",
     "output_type": "stream",
     "text": [
      "[311]\tvalidation_0-auc:0.705252\n"
     ]
    },
    {
     "name": "stdout",
     "output_type": "stream",
     "text": [
      "[312]\tvalidation_0-auc:0.705259\n"
     ]
    },
    {
     "name": "stdout",
     "output_type": "stream",
     "text": [
      "[313]\tvalidation_0-auc:0.705274\n"
     ]
    },
    {
     "name": "stdout",
     "output_type": "stream",
     "text": [
      "[314]\tvalidation_0-auc:0.705286\n"
     ]
    },
    {
     "name": "stdout",
     "output_type": "stream",
     "text": [
      "[315]\tvalidation_0-auc:0.70529\n"
     ]
    },
    {
     "name": "stdout",
     "output_type": "stream",
     "text": [
      "[316]\tvalidation_0-auc:0.705313\n"
     ]
    },
    {
     "name": "stdout",
     "output_type": "stream",
     "text": [
      "[317]\tvalidation_0-auc:0.705324\n"
     ]
    },
    {
     "name": "stdout",
     "output_type": "stream",
     "text": [
      "[318]\tvalidation_0-auc:0.705328\n"
     ]
    },
    {
     "name": "stdout",
     "output_type": "stream",
     "text": [
      "[319]\tvalidation_0-auc:0.705335\n"
     ]
    },
    {
     "name": "stdout",
     "output_type": "stream",
     "text": [
      "[320]\tvalidation_0-auc:0.705353\n"
     ]
    },
    {
     "name": "stdout",
     "output_type": "stream",
     "text": [
      "[321]\tvalidation_0-auc:0.705357\n"
     ]
    },
    {
     "name": "stdout",
     "output_type": "stream",
     "text": [
      "[322]\tvalidation_0-auc:0.705379\n"
     ]
    },
    {
     "name": "stdout",
     "output_type": "stream",
     "text": [
      "[323]\tvalidation_0-auc:0.705385\n"
     ]
    },
    {
     "name": "stdout",
     "output_type": "stream",
     "text": [
      "[324]\tvalidation_0-auc:0.705389\n"
     ]
    },
    {
     "name": "stdout",
     "output_type": "stream",
     "text": [
      "[325]\tvalidation_0-auc:0.705398\n"
     ]
    },
    {
     "name": "stdout",
     "output_type": "stream",
     "text": [
      "[326]\tvalidation_0-auc:0.70541\n"
     ]
    },
    {
     "name": "stdout",
     "output_type": "stream",
     "text": [
      "[327]\tvalidation_0-auc:0.70542\n"
     ]
    },
    {
     "name": "stdout",
     "output_type": "stream",
     "text": [
      "[328]\tvalidation_0-auc:0.705433\n"
     ]
    },
    {
     "name": "stdout",
     "output_type": "stream",
     "text": [
      "[329]\tvalidation_0-auc:0.705435\n"
     ]
    },
    {
     "name": "stdout",
     "output_type": "stream",
     "text": [
      "[330]\tvalidation_0-auc:0.705452\n"
     ]
    },
    {
     "name": "stdout",
     "output_type": "stream",
     "text": [
      "[331]\tvalidation_0-auc:0.705457\n"
     ]
    },
    {
     "name": "stdout",
     "output_type": "stream",
     "text": [
      "[332]\tvalidation_0-auc:0.70547\n"
     ]
    },
    {
     "name": "stdout",
     "output_type": "stream",
     "text": [
      "[333]\tvalidation_0-auc:0.705485\n"
     ]
    },
    {
     "name": "stdout",
     "output_type": "stream",
     "text": [
      "[334]\tvalidation_0-auc:0.705498\n"
     ]
    },
    {
     "name": "stdout",
     "output_type": "stream",
     "text": [
      "[335]\tvalidation_0-auc:0.705504\n"
     ]
    },
    {
     "name": "stdout",
     "output_type": "stream",
     "text": [
      "[336]\tvalidation_0-auc:0.705509\n"
     ]
    },
    {
     "name": "stdout",
     "output_type": "stream",
     "text": [
      "[337]\tvalidation_0-auc:0.705516\n"
     ]
    },
    {
     "name": "stdout",
     "output_type": "stream",
     "text": [
      "[338]\tvalidation_0-auc:0.705522\n"
     ]
    },
    {
     "name": "stdout",
     "output_type": "stream",
     "text": [
      "[339]\tvalidation_0-auc:0.705535\n"
     ]
    },
    {
     "name": "stdout",
     "output_type": "stream",
     "text": [
      "[340]\tvalidation_0-auc:0.70554\n"
     ]
    },
    {
     "name": "stdout",
     "output_type": "stream",
     "text": [
      "[341]\tvalidation_0-auc:0.705547\n"
     ]
    },
    {
     "name": "stdout",
     "output_type": "stream",
     "text": [
      "[342]\tvalidation_0-auc:0.705558\n"
     ]
    },
    {
     "name": "stdout",
     "output_type": "stream",
     "text": [
      "[343]\tvalidation_0-auc:0.705569\n"
     ]
    },
    {
     "name": "stdout",
     "output_type": "stream",
     "text": [
      "[344]\tvalidation_0-auc:0.70558\n"
     ]
    },
    {
     "name": "stdout",
     "output_type": "stream",
     "text": [
      "[345]\tvalidation_0-auc:0.705587\n"
     ]
    },
    {
     "name": "stdout",
     "output_type": "stream",
     "text": [
      "[346]\tvalidation_0-auc:0.705599\n"
     ]
    },
    {
     "name": "stdout",
     "output_type": "stream",
     "text": [
      "[347]\tvalidation_0-auc:0.705606\n"
     ]
    },
    {
     "name": "stdout",
     "output_type": "stream",
     "text": [
      "[348]\tvalidation_0-auc:0.705606\n"
     ]
    },
    {
     "name": "stdout",
     "output_type": "stream",
     "text": [
      "[349]\tvalidation_0-auc:0.705613\n"
     ]
    },
    {
     "name": "stdout",
     "output_type": "stream",
     "text": [
      "[350]\tvalidation_0-auc:0.705628\n"
     ]
    },
    {
     "name": "stdout",
     "output_type": "stream",
     "text": [
      "[351]\tvalidation_0-auc:0.705637\n"
     ]
    },
    {
     "name": "stdout",
     "output_type": "stream",
     "text": [
      "[352]\tvalidation_0-auc:0.705653\n"
     ]
    },
    {
     "name": "stdout",
     "output_type": "stream",
     "text": [
      "[353]\tvalidation_0-auc:0.705656\n"
     ]
    },
    {
     "name": "stdout",
     "output_type": "stream",
     "text": [
      "[354]\tvalidation_0-auc:0.705658\n"
     ]
    },
    {
     "name": "stdout",
     "output_type": "stream",
     "text": [
      "[355]\tvalidation_0-auc:0.705668\n"
     ]
    },
    {
     "name": "stdout",
     "output_type": "stream",
     "text": [
      "[356]\tvalidation_0-auc:0.70567\n"
     ]
    },
    {
     "name": "stdout",
     "output_type": "stream",
     "text": [
      "[357]\tvalidation_0-auc:0.705676\n"
     ]
    },
    {
     "name": "stdout",
     "output_type": "stream",
     "text": [
      "[358]\tvalidation_0-auc:0.705681\n"
     ]
    },
    {
     "name": "stdout",
     "output_type": "stream",
     "text": [
      "[359]\tvalidation_0-auc:0.705694\n"
     ]
    },
    {
     "name": "stdout",
     "output_type": "stream",
     "text": [
      "[360]\tvalidation_0-auc:0.705702\n"
     ]
    },
    {
     "name": "stdout",
     "output_type": "stream",
     "text": [
      "[361]\tvalidation_0-auc:0.705708\n"
     ]
    },
    {
     "name": "stdout",
     "output_type": "stream",
     "text": [
      "[362]\tvalidation_0-auc:0.705717\n"
     ]
    },
    {
     "name": "stdout",
     "output_type": "stream",
     "text": [
      "[363]\tvalidation_0-auc:0.705723\n"
     ]
    },
    {
     "name": "stdout",
     "output_type": "stream",
     "text": [
      "[364]\tvalidation_0-auc:0.705743\n"
     ]
    },
    {
     "name": "stdout",
     "output_type": "stream",
     "text": [
      "[365]\tvalidation_0-auc:0.70576\n"
     ]
    },
    {
     "name": "stdout",
     "output_type": "stream",
     "text": [
      "[366]\tvalidation_0-auc:0.705766\n"
     ]
    },
    {
     "name": "stdout",
     "output_type": "stream",
     "text": [
      "[367]\tvalidation_0-auc:0.705782\n"
     ]
    },
    {
     "name": "stdout",
     "output_type": "stream",
     "text": [
      "[368]\tvalidation_0-auc:0.705792\n"
     ]
    },
    {
     "name": "stdout",
     "output_type": "stream",
     "text": [
      "[369]\tvalidation_0-auc:0.705799\n"
     ]
    },
    {
     "name": "stdout",
     "output_type": "stream",
     "text": [
      "[370]\tvalidation_0-auc:0.705804\n"
     ]
    },
    {
     "name": "stdout",
     "output_type": "stream",
     "text": [
      "[371]\tvalidation_0-auc:0.705813\n"
     ]
    },
    {
     "name": "stdout",
     "output_type": "stream",
     "text": [
      "[372]\tvalidation_0-auc:0.70581\n"
     ]
    },
    {
     "name": "stdout",
     "output_type": "stream",
     "text": [
      "[373]\tvalidation_0-auc:0.705819\n"
     ]
    },
    {
     "name": "stdout",
     "output_type": "stream",
     "text": [
      "[374]\tvalidation_0-auc:0.705824\n"
     ]
    },
    {
     "name": "stdout",
     "output_type": "stream",
     "text": [
      "[375]\tvalidation_0-auc:0.705831\n"
     ]
    },
    {
     "name": "stdout",
     "output_type": "stream",
     "text": [
      "[376]\tvalidation_0-auc:0.705834\n"
     ]
    },
    {
     "name": "stdout",
     "output_type": "stream",
     "text": [
      "[377]\tvalidation_0-auc:0.705845\n"
     ]
    },
    {
     "name": "stdout",
     "output_type": "stream",
     "text": [
      "[378]\tvalidation_0-auc:0.705854\n"
     ]
    },
    {
     "name": "stdout",
     "output_type": "stream",
     "text": [
      "[379]\tvalidation_0-auc:0.705866\n"
     ]
    },
    {
     "name": "stdout",
     "output_type": "stream",
     "text": [
      "[380]\tvalidation_0-auc:0.705868\n"
     ]
    },
    {
     "name": "stdout",
     "output_type": "stream",
     "text": [
      "[381]\tvalidation_0-auc:0.705869\n"
     ]
    },
    {
     "name": "stdout",
     "output_type": "stream",
     "text": [
      "[382]\tvalidation_0-auc:0.705877\n"
     ]
    },
    {
     "name": "stdout",
     "output_type": "stream",
     "text": [
      "[383]\tvalidation_0-auc:0.705885\n"
     ]
    },
    {
     "name": "stdout",
     "output_type": "stream",
     "text": [
      "[384]\tvalidation_0-auc:0.705887\n"
     ]
    },
    {
     "name": "stdout",
     "output_type": "stream",
     "text": [
      "[385]\tvalidation_0-auc:0.705888\n"
     ]
    },
    {
     "name": "stdout",
     "output_type": "stream",
     "text": [
      "[386]\tvalidation_0-auc:0.705891\n"
     ]
    },
    {
     "name": "stdout",
     "output_type": "stream",
     "text": [
      "[387]\tvalidation_0-auc:0.705897\n"
     ]
    },
    {
     "name": "stdout",
     "output_type": "stream",
     "text": [
      "[388]\tvalidation_0-auc:0.705902\n"
     ]
    },
    {
     "name": "stdout",
     "output_type": "stream",
     "text": [
      "[389]\tvalidation_0-auc:0.705907\n"
     ]
    },
    {
     "name": "stdout",
     "output_type": "stream",
     "text": [
      "[390]\tvalidation_0-auc:0.705908\n"
     ]
    },
    {
     "name": "stdout",
     "output_type": "stream",
     "text": [
      "[391]\tvalidation_0-auc:0.705913\n"
     ]
    },
    {
     "name": "stdout",
     "output_type": "stream",
     "text": [
      "[392]\tvalidation_0-auc:0.705913\n"
     ]
    },
    {
     "name": "stdout",
     "output_type": "stream",
     "text": [
      "[393]\tvalidation_0-auc:0.705919\n"
     ]
    },
    {
     "name": "stdout",
     "output_type": "stream",
     "text": [
      "[394]\tvalidation_0-auc:0.70593\n"
     ]
    },
    {
     "name": "stdout",
     "output_type": "stream",
     "text": [
      "[395]\tvalidation_0-auc:0.705933\n"
     ]
    },
    {
     "name": "stdout",
     "output_type": "stream",
     "text": [
      "[396]\tvalidation_0-auc:0.705936\n"
     ]
    },
    {
     "name": "stdout",
     "output_type": "stream",
     "text": [
      "[397]\tvalidation_0-auc:0.70594\n"
     ]
    },
    {
     "name": "stdout",
     "output_type": "stream",
     "text": [
      "[398]\tvalidation_0-auc:0.705941\n"
     ]
    },
    {
     "name": "stdout",
     "output_type": "stream",
     "text": [
      "[399]\tvalidation_0-auc:0.705943\n"
     ]
    },
    {
     "name": "stdout",
     "output_type": "stream",
     "text": [
      "[400]\tvalidation_0-auc:0.705945\n"
     ]
    },
    {
     "name": "stdout",
     "output_type": "stream",
     "text": [
      "[401]\tvalidation_0-auc:0.705951\n"
     ]
    },
    {
     "name": "stdout",
     "output_type": "stream",
     "text": [
      "[402]\tvalidation_0-auc:0.705954\n"
     ]
    },
    {
     "name": "stdout",
     "output_type": "stream",
     "text": [
      "[403]\tvalidation_0-auc:0.705958\n"
     ]
    },
    {
     "name": "stdout",
     "output_type": "stream",
     "text": [
      "[404]\tvalidation_0-auc:0.705967\n"
     ]
    },
    {
     "name": "stdout",
     "output_type": "stream",
     "text": [
      "[405]\tvalidation_0-auc:0.705969\n"
     ]
    },
    {
     "name": "stdout",
     "output_type": "stream",
     "text": [
      "[406]\tvalidation_0-auc:0.705973\n"
     ]
    },
    {
     "name": "stdout",
     "output_type": "stream",
     "text": [
      "[407]\tvalidation_0-auc:0.705978\n"
     ]
    },
    {
     "name": "stdout",
     "output_type": "stream",
     "text": [
      "[408]\tvalidation_0-auc:0.705987\n"
     ]
    },
    {
     "name": "stdout",
     "output_type": "stream",
     "text": [
      "[409]\tvalidation_0-auc:0.70599\n"
     ]
    },
    {
     "name": "stdout",
     "output_type": "stream",
     "text": [
      "[410]\tvalidation_0-auc:0.705985\n"
     ]
    },
    {
     "name": "stdout",
     "output_type": "stream",
     "text": [
      "[411]\tvalidation_0-auc:0.705994\n"
     ]
    },
    {
     "name": "stdout",
     "output_type": "stream",
     "text": [
      "[412]\tvalidation_0-auc:0.706002\n"
     ]
    },
    {
     "name": "stdout",
     "output_type": "stream",
     "text": [
      "[413]\tvalidation_0-auc:0.706006\n"
     ]
    },
    {
     "name": "stdout",
     "output_type": "stream",
     "text": [
      "[414]\tvalidation_0-auc:0.706002\n"
     ]
    },
    {
     "name": "stdout",
     "output_type": "stream",
     "text": [
      "[415]\tvalidation_0-auc:0.706006\n"
     ]
    },
    {
     "name": "stdout",
     "output_type": "stream",
     "text": [
      "[416]\tvalidation_0-auc:0.70602\n"
     ]
    },
    {
     "name": "stdout",
     "output_type": "stream",
     "text": [
      "[417]\tvalidation_0-auc:0.706024\n"
     ]
    },
    {
     "name": "stdout",
     "output_type": "stream",
     "text": [
      "[418]\tvalidation_0-auc:0.706027\n"
     ]
    },
    {
     "name": "stdout",
     "output_type": "stream",
     "text": [
      "[419]\tvalidation_0-auc:0.706036\n"
     ]
    },
    {
     "name": "stdout",
     "output_type": "stream",
     "text": [
      "[420]\tvalidation_0-auc:0.706035\n"
     ]
    },
    {
     "name": "stdout",
     "output_type": "stream",
     "text": [
      "[421]\tvalidation_0-auc:0.706038\n"
     ]
    },
    {
     "name": "stdout",
     "output_type": "stream",
     "text": [
      "[422]\tvalidation_0-auc:0.706044\n"
     ]
    },
    {
     "name": "stdout",
     "output_type": "stream",
     "text": [
      "[423]\tvalidation_0-auc:0.706054\n"
     ]
    },
    {
     "name": "stdout",
     "output_type": "stream",
     "text": [
      "[424]\tvalidation_0-auc:0.706063\n"
     ]
    },
    {
     "name": "stdout",
     "output_type": "stream",
     "text": [
      "[425]\tvalidation_0-auc:0.70608\n"
     ]
    },
    {
     "name": "stdout",
     "output_type": "stream",
     "text": [
      "[426]\tvalidation_0-auc:0.706089\n"
     ]
    },
    {
     "name": "stdout",
     "output_type": "stream",
     "text": [
      "[427]\tvalidation_0-auc:0.706094\n"
     ]
    },
    {
     "name": "stdout",
     "output_type": "stream",
     "text": [
      "[428]\tvalidation_0-auc:0.706103\n"
     ]
    },
    {
     "name": "stdout",
     "output_type": "stream",
     "text": [
      "[429]\tvalidation_0-auc:0.70611\n"
     ]
    },
    {
     "name": "stdout",
     "output_type": "stream",
     "text": [
      "[430]\tvalidation_0-auc:0.706114\n"
     ]
    },
    {
     "name": "stdout",
     "output_type": "stream",
     "text": [
      "[431]\tvalidation_0-auc:0.706114\n"
     ]
    },
    {
     "name": "stdout",
     "output_type": "stream",
     "text": [
      "[432]\tvalidation_0-auc:0.706117\n"
     ]
    },
    {
     "name": "stdout",
     "output_type": "stream",
     "text": [
      "[433]\tvalidation_0-auc:0.706119\n"
     ]
    },
    {
     "name": "stdout",
     "output_type": "stream",
     "text": [
      "[434]\tvalidation_0-auc:0.70612\n"
     ]
    },
    {
     "name": "stdout",
     "output_type": "stream",
     "text": [
      "[435]\tvalidation_0-auc:0.70613\n"
     ]
    },
    {
     "name": "stdout",
     "output_type": "stream",
     "text": [
      "[436]\tvalidation_0-auc:0.706134\n"
     ]
    },
    {
     "name": "stdout",
     "output_type": "stream",
     "text": [
      "[437]\tvalidation_0-auc:0.706137\n"
     ]
    },
    {
     "name": "stdout",
     "output_type": "stream",
     "text": [
      "[438]\tvalidation_0-auc:0.706149\n"
     ]
    },
    {
     "name": "stdout",
     "output_type": "stream",
     "text": [
      "[439]\tvalidation_0-auc:0.706146\n"
     ]
    },
    {
     "name": "stdout",
     "output_type": "stream",
     "text": [
      "[440]\tvalidation_0-auc:0.706151\n"
     ]
    },
    {
     "name": "stdout",
     "output_type": "stream",
     "text": [
      "[441]\tvalidation_0-auc:0.706157\n"
     ]
    },
    {
     "name": "stdout",
     "output_type": "stream",
     "text": [
      "[442]\tvalidation_0-auc:0.706163\n"
     ]
    },
    {
     "name": "stdout",
     "output_type": "stream",
     "text": [
      "[443]\tvalidation_0-auc:0.706163\n"
     ]
    },
    {
     "name": "stdout",
     "output_type": "stream",
     "text": [
      "[444]\tvalidation_0-auc:0.706163\n"
     ]
    },
    {
     "name": "stdout",
     "output_type": "stream",
     "text": [
      "[445]\tvalidation_0-auc:0.706168\n"
     ]
    },
    {
     "name": "stdout",
     "output_type": "stream",
     "text": [
      "[446]\tvalidation_0-auc:0.706177\n"
     ]
    },
    {
     "name": "stdout",
     "output_type": "stream",
     "text": [
      "[447]\tvalidation_0-auc:0.706177\n"
     ]
    },
    {
     "name": "stdout",
     "output_type": "stream",
     "text": [
      "[448]\tvalidation_0-auc:0.706182\n"
     ]
    },
    {
     "name": "stdout",
     "output_type": "stream",
     "text": [
      "[449]\tvalidation_0-auc:0.706184\n"
     ]
    },
    {
     "name": "stdout",
     "output_type": "stream",
     "text": [
      "[450]\tvalidation_0-auc:0.706188\n"
     ]
    },
    {
     "name": "stdout",
     "output_type": "stream",
     "text": [
      "[451]\tvalidation_0-auc:0.706197\n"
     ]
    },
    {
     "name": "stdout",
     "output_type": "stream",
     "text": [
      "[452]\tvalidation_0-auc:0.706201\n"
     ]
    },
    {
     "name": "stdout",
     "output_type": "stream",
     "text": [
      "[453]\tvalidation_0-auc:0.706203\n"
     ]
    },
    {
     "name": "stdout",
     "output_type": "stream",
     "text": [
      "[454]\tvalidation_0-auc:0.70621\n"
     ]
    },
    {
     "name": "stdout",
     "output_type": "stream",
     "text": [
      "[455]\tvalidation_0-auc:0.706219\n"
     ]
    },
    {
     "name": "stdout",
     "output_type": "stream",
     "text": [
      "[456]\tvalidation_0-auc:0.706219\n"
     ]
    },
    {
     "name": "stdout",
     "output_type": "stream",
     "text": [
      "[457]\tvalidation_0-auc:0.706226\n"
     ]
    },
    {
     "name": "stdout",
     "output_type": "stream",
     "text": [
      "[458]\tvalidation_0-auc:0.706231\n"
     ]
    },
    {
     "name": "stdout",
     "output_type": "stream",
     "text": [
      "[459]\tvalidation_0-auc:0.706236\n"
     ]
    },
    {
     "name": "stdout",
     "output_type": "stream",
     "text": [
      "[460]\tvalidation_0-auc:0.706239\n"
     ]
    },
    {
     "name": "stdout",
     "output_type": "stream",
     "text": [
      "[461]\tvalidation_0-auc:0.706244\n"
     ]
    },
    {
     "name": "stdout",
     "output_type": "stream",
     "text": [
      "[462]\tvalidation_0-auc:0.70625\n"
     ]
    },
    {
     "name": "stdout",
     "output_type": "stream",
     "text": [
      "[463]\tvalidation_0-auc:0.706259\n"
     ]
    },
    {
     "name": "stdout",
     "output_type": "stream",
     "text": [
      "[464]\tvalidation_0-auc:0.706269\n"
     ]
    },
    {
     "name": "stdout",
     "output_type": "stream",
     "text": [
      "[465]\tvalidation_0-auc:0.70627\n"
     ]
    },
    {
     "name": "stdout",
     "output_type": "stream",
     "text": [
      "[466]\tvalidation_0-auc:0.706271\n"
     ]
    },
    {
     "name": "stdout",
     "output_type": "stream",
     "text": [
      "[467]\tvalidation_0-auc:0.706273\n"
     ]
    },
    {
     "name": "stdout",
     "output_type": "stream",
     "text": [
      "[468]\tvalidation_0-auc:0.706279\n"
     ]
    },
    {
     "name": "stdout",
     "output_type": "stream",
     "text": [
      "[469]\tvalidation_0-auc:0.706286\n"
     ]
    },
    {
     "name": "stdout",
     "output_type": "stream",
     "text": [
      "[470]\tvalidation_0-auc:0.706284\n"
     ]
    },
    {
     "name": "stdout",
     "output_type": "stream",
     "text": [
      "[471]\tvalidation_0-auc:0.706288\n"
     ]
    },
    {
     "name": "stdout",
     "output_type": "stream",
     "text": [
      "[472]\tvalidation_0-auc:0.706291\n"
     ]
    },
    {
     "name": "stdout",
     "output_type": "stream",
     "text": [
      "[473]\tvalidation_0-auc:0.706293\n"
     ]
    },
    {
     "name": "stdout",
     "output_type": "stream",
     "text": [
      "[474]\tvalidation_0-auc:0.706297\n"
     ]
    },
    {
     "name": "stdout",
     "output_type": "stream",
     "text": [
      "[475]\tvalidation_0-auc:0.706302\n"
     ]
    },
    {
     "name": "stdout",
     "output_type": "stream",
     "text": [
      "[476]\tvalidation_0-auc:0.706307\n"
     ]
    },
    {
     "name": "stdout",
     "output_type": "stream",
     "text": [
      "[477]\tvalidation_0-auc:0.70631\n"
     ]
    },
    {
     "name": "stdout",
     "output_type": "stream",
     "text": [
      "[478]\tvalidation_0-auc:0.706315\n"
     ]
    },
    {
     "name": "stdout",
     "output_type": "stream",
     "text": [
      "[479]\tvalidation_0-auc:0.706313\n"
     ]
    },
    {
     "name": "stdout",
     "output_type": "stream",
     "text": [
      "[480]\tvalidation_0-auc:0.706319\n"
     ]
    },
    {
     "name": "stdout",
     "output_type": "stream",
     "text": [
      "[481]\tvalidation_0-auc:0.706319\n"
     ]
    },
    {
     "name": "stdout",
     "output_type": "stream",
     "text": [
      "[482]\tvalidation_0-auc:0.706322\n"
     ]
    },
    {
     "name": "stdout",
     "output_type": "stream",
     "text": [
      "[483]\tvalidation_0-auc:0.706325\n"
     ]
    },
    {
     "name": "stdout",
     "output_type": "stream",
     "text": [
      "[484]\tvalidation_0-auc:0.706329\n"
     ]
    },
    {
     "name": "stdout",
     "output_type": "stream",
     "text": [
      "[485]\tvalidation_0-auc:0.706336\n"
     ]
    },
    {
     "name": "stdout",
     "output_type": "stream",
     "text": [
      "[486]\tvalidation_0-auc:0.706343\n"
     ]
    },
    {
     "name": "stdout",
     "output_type": "stream",
     "text": [
      "[487]\tvalidation_0-auc:0.706348\n"
     ]
    },
    {
     "name": "stdout",
     "output_type": "stream",
     "text": [
      "[488]\tvalidation_0-auc:0.706344\n"
     ]
    },
    {
     "name": "stdout",
     "output_type": "stream",
     "text": [
      "[489]\tvalidation_0-auc:0.706342\n"
     ]
    },
    {
     "name": "stdout",
     "output_type": "stream",
     "text": [
      "[490]\tvalidation_0-auc:0.70634\n"
     ]
    },
    {
     "name": "stdout",
     "output_type": "stream",
     "text": [
      "[491]\tvalidation_0-auc:0.706342\n"
     ]
    },
    {
     "name": "stdout",
     "output_type": "stream",
     "text": [
      "[492]\tvalidation_0-auc:0.706344\n"
     ]
    },
    {
     "name": "stdout",
     "output_type": "stream",
     "text": [
      "[493]\tvalidation_0-auc:0.706353\n"
     ]
    },
    {
     "name": "stdout",
     "output_type": "stream",
     "text": [
      "[494]\tvalidation_0-auc:0.706363\n"
     ]
    },
    {
     "name": "stdout",
     "output_type": "stream",
     "text": [
      "[495]\tvalidation_0-auc:0.706362\n"
     ]
    },
    {
     "name": "stdout",
     "output_type": "stream",
     "text": [
      "[496]\tvalidation_0-auc:0.706366\n"
     ]
    },
    {
     "name": "stdout",
     "output_type": "stream",
     "text": [
      "[497]\tvalidation_0-auc:0.706368\n"
     ]
    },
    {
     "name": "stdout",
     "output_type": "stream",
     "text": [
      "[498]\tvalidation_0-auc:0.706374\n"
     ]
    },
    {
     "name": "stdout",
     "output_type": "stream",
     "text": [
      "[499]\tvalidation_0-auc:0.706386\n"
     ]
    },
    {
     "name": "stdout",
     "output_type": "stream",
     "text": [
      "[500]\tvalidation_0-auc:0.706389\n"
     ]
    },
    {
     "name": "stdout",
     "output_type": "stream",
     "text": [
      "[501]\tvalidation_0-auc:0.706393\n"
     ]
    },
    {
     "name": "stdout",
     "output_type": "stream",
     "text": [
      "[502]\tvalidation_0-auc:0.706395\n"
     ]
    },
    {
     "name": "stdout",
     "output_type": "stream",
     "text": [
      "[503]\tvalidation_0-auc:0.706399\n"
     ]
    },
    {
     "name": "stdout",
     "output_type": "stream",
     "text": [
      "[504]\tvalidation_0-auc:0.7064\n"
     ]
    },
    {
     "name": "stdout",
     "output_type": "stream",
     "text": [
      "[505]\tvalidation_0-auc:0.706401\n"
     ]
    },
    {
     "name": "stdout",
     "output_type": "stream",
     "text": [
      "[506]\tvalidation_0-auc:0.706403\n"
     ]
    },
    {
     "name": "stdout",
     "output_type": "stream",
     "text": [
      "[507]\tvalidation_0-auc:0.706407\n"
     ]
    },
    {
     "name": "stdout",
     "output_type": "stream",
     "text": [
      "[508]\tvalidation_0-auc:0.706412\n"
     ]
    },
    {
     "name": "stdout",
     "output_type": "stream",
     "text": [
      "[509]\tvalidation_0-auc:0.706416\n"
     ]
    },
    {
     "name": "stdout",
     "output_type": "stream",
     "text": [
      "[510]\tvalidation_0-auc:0.706421\n"
     ]
    },
    {
     "name": "stdout",
     "output_type": "stream",
     "text": [
      "[511]\tvalidation_0-auc:0.706432\n"
     ]
    },
    {
     "name": "stdout",
     "output_type": "stream",
     "text": [
      "[512]\tvalidation_0-auc:0.706449\n"
     ]
    },
    {
     "name": "stdout",
     "output_type": "stream",
     "text": [
      "[513]\tvalidation_0-auc:0.706451\n"
     ]
    },
    {
     "name": "stdout",
     "output_type": "stream",
     "text": [
      "[514]\tvalidation_0-auc:0.706457\n"
     ]
    },
    {
     "name": "stdout",
     "output_type": "stream",
     "text": [
      "[515]\tvalidation_0-auc:0.706461\n"
     ]
    },
    {
     "name": "stdout",
     "output_type": "stream",
     "text": [
      "[516]\tvalidation_0-auc:0.706462\n"
     ]
    },
    {
     "name": "stdout",
     "output_type": "stream",
     "text": [
      "[517]\tvalidation_0-auc:0.706462\n"
     ]
    },
    {
     "name": "stdout",
     "output_type": "stream",
     "text": [
      "[518]\tvalidation_0-auc:0.706466\n"
     ]
    },
    {
     "name": "stdout",
     "output_type": "stream",
     "text": [
      "[519]\tvalidation_0-auc:0.706468\n"
     ]
    },
    {
     "name": "stdout",
     "output_type": "stream",
     "text": [
      "[520]\tvalidation_0-auc:0.70647\n"
     ]
    },
    {
     "name": "stdout",
     "output_type": "stream",
     "text": [
      "[521]\tvalidation_0-auc:0.706471\n"
     ]
    },
    {
     "name": "stdout",
     "output_type": "stream",
     "text": [
      "[522]\tvalidation_0-auc:0.70647\n"
     ]
    },
    {
     "name": "stdout",
     "output_type": "stream",
     "text": [
      "[523]\tvalidation_0-auc:0.706477\n"
     ]
    },
    {
     "name": "stdout",
     "output_type": "stream",
     "text": [
      "[524]\tvalidation_0-auc:0.706477\n"
     ]
    },
    {
     "name": "stdout",
     "output_type": "stream",
     "text": [
      "[525]\tvalidation_0-auc:0.706479\n"
     ]
    },
    {
     "name": "stdout",
     "output_type": "stream",
     "text": [
      "[526]\tvalidation_0-auc:0.706479\n"
     ]
    },
    {
     "name": "stdout",
     "output_type": "stream",
     "text": [
      "[527]\tvalidation_0-auc:0.70648\n"
     ]
    },
    {
     "name": "stdout",
     "output_type": "stream",
     "text": [
      "[528]\tvalidation_0-auc:0.706486\n"
     ]
    },
    {
     "name": "stdout",
     "output_type": "stream",
     "text": [
      "[529]\tvalidation_0-auc:0.706486\n"
     ]
    },
    {
     "name": "stdout",
     "output_type": "stream",
     "text": [
      "[530]\tvalidation_0-auc:0.706486\n"
     ]
    },
    {
     "name": "stdout",
     "output_type": "stream",
     "text": [
      "[531]\tvalidation_0-auc:0.706485\n"
     ]
    },
    {
     "name": "stdout",
     "output_type": "stream",
     "text": [
      "[532]\tvalidation_0-auc:0.706486\n"
     ]
    },
    {
     "name": "stdout",
     "output_type": "stream",
     "text": [
      "[533]\tvalidation_0-auc:0.70649\n"
     ]
    },
    {
     "name": "stdout",
     "output_type": "stream",
     "text": [
      "[534]\tvalidation_0-auc:0.70649\n"
     ]
    },
    {
     "name": "stdout",
     "output_type": "stream",
     "text": [
      "[535]\tvalidation_0-auc:0.706493\n"
     ]
    },
    {
     "name": "stdout",
     "output_type": "stream",
     "text": [
      "[536]\tvalidation_0-auc:0.706495\n"
     ]
    },
    {
     "name": "stdout",
     "output_type": "stream",
     "text": [
      "[537]\tvalidation_0-auc:0.706501\n"
     ]
    },
    {
     "name": "stdout",
     "output_type": "stream",
     "text": [
      "[538]\tvalidation_0-auc:0.706499\n"
     ]
    },
    {
     "name": "stdout",
     "output_type": "stream",
     "text": [
      "[539]\tvalidation_0-auc:0.706497\n"
     ]
    },
    {
     "name": "stdout",
     "output_type": "stream",
     "text": [
      "[540]\tvalidation_0-auc:0.706498\n"
     ]
    },
    {
     "name": "stdout",
     "output_type": "stream",
     "text": [
      "[541]\tvalidation_0-auc:0.706503\n"
     ]
    },
    {
     "name": "stdout",
     "output_type": "stream",
     "text": [
      "[542]\tvalidation_0-auc:0.706513\n"
     ]
    },
    {
     "name": "stdout",
     "output_type": "stream",
     "text": [
      "[543]\tvalidation_0-auc:0.706517\n"
     ]
    },
    {
     "name": "stdout",
     "output_type": "stream",
     "text": [
      "[544]\tvalidation_0-auc:0.706515\n"
     ]
    },
    {
     "name": "stdout",
     "output_type": "stream",
     "text": [
      "[545]\tvalidation_0-auc:0.706524\n"
     ]
    },
    {
     "name": "stdout",
     "output_type": "stream",
     "text": [
      "[546]\tvalidation_0-auc:0.706527\n"
     ]
    },
    {
     "name": "stdout",
     "output_type": "stream",
     "text": [
      "[547]\tvalidation_0-auc:0.706531\n"
     ]
    },
    {
     "name": "stdout",
     "output_type": "stream",
     "text": [
      "[548]\tvalidation_0-auc:0.706531\n"
     ]
    },
    {
     "name": "stdout",
     "output_type": "stream",
     "text": [
      "[549]\tvalidation_0-auc:0.706536\n"
     ]
    },
    {
     "name": "stdout",
     "output_type": "stream",
     "text": [
      "[550]\tvalidation_0-auc:0.706537\n"
     ]
    },
    {
     "name": "stdout",
     "output_type": "stream",
     "text": [
      "[551]\tvalidation_0-auc:0.706542\n"
     ]
    },
    {
     "name": "stdout",
     "output_type": "stream",
     "text": [
      "[552]\tvalidation_0-auc:0.706542\n"
     ]
    },
    {
     "name": "stdout",
     "output_type": "stream",
     "text": [
      "[553]\tvalidation_0-auc:0.706545\n"
     ]
    },
    {
     "name": "stdout",
     "output_type": "stream",
     "text": [
      "[554]\tvalidation_0-auc:0.706545\n"
     ]
    },
    {
     "name": "stdout",
     "output_type": "stream",
     "text": [
      "[555]\tvalidation_0-auc:0.706549\n"
     ]
    },
    {
     "name": "stdout",
     "output_type": "stream",
     "text": [
      "[556]\tvalidation_0-auc:0.706547\n"
     ]
    },
    {
     "name": "stdout",
     "output_type": "stream",
     "text": [
      "[557]\tvalidation_0-auc:0.706554\n"
     ]
    },
    {
     "name": "stdout",
     "output_type": "stream",
     "text": [
      "[558]\tvalidation_0-auc:0.706556\n"
     ]
    },
    {
     "name": "stdout",
     "output_type": "stream",
     "text": [
      "[559]\tvalidation_0-auc:0.706556\n"
     ]
    },
    {
     "name": "stdout",
     "output_type": "stream",
     "text": [
      "[560]\tvalidation_0-auc:0.706557\n"
     ]
    },
    {
     "name": "stdout",
     "output_type": "stream",
     "text": [
      "[561]\tvalidation_0-auc:0.706559\n"
     ]
    },
    {
     "name": "stdout",
     "output_type": "stream",
     "text": [
      "[562]\tvalidation_0-auc:0.706563\n"
     ]
    },
    {
     "name": "stdout",
     "output_type": "stream",
     "text": [
      "[563]\tvalidation_0-auc:0.706564\n"
     ]
    },
    {
     "name": "stdout",
     "output_type": "stream",
     "text": [
      "[564]\tvalidation_0-auc:0.706569\n"
     ]
    },
    {
     "name": "stdout",
     "output_type": "stream",
     "text": [
      "[565]\tvalidation_0-auc:0.706571\n"
     ]
    },
    {
     "name": "stdout",
     "output_type": "stream",
     "text": [
      "[566]\tvalidation_0-auc:0.706571\n"
     ]
    },
    {
     "name": "stdout",
     "output_type": "stream",
     "text": [
      "[567]\tvalidation_0-auc:0.706571\n"
     ]
    },
    {
     "name": "stdout",
     "output_type": "stream",
     "text": [
      "[568]\tvalidation_0-auc:0.706569\n"
     ]
    },
    {
     "name": "stdout",
     "output_type": "stream",
     "text": [
      "[569]\tvalidation_0-auc:0.70657\n"
     ]
    },
    {
     "name": "stdout",
     "output_type": "stream",
     "text": [
      "[570]\tvalidation_0-auc:0.706572\n"
     ]
    },
    {
     "name": "stdout",
     "output_type": "stream",
     "text": [
      "[571]\tvalidation_0-auc:0.70658\n"
     ]
    },
    {
     "name": "stdout",
     "output_type": "stream",
     "text": [
      "[572]\tvalidation_0-auc:0.706577\n"
     ]
    },
    {
     "name": "stdout",
     "output_type": "stream",
     "text": [
      "[573]\tvalidation_0-auc:0.706575\n"
     ]
    },
    {
     "name": "stdout",
     "output_type": "stream",
     "text": [
      "[574]\tvalidation_0-auc:0.706574\n"
     ]
    },
    {
     "name": "stdout",
     "output_type": "stream",
     "text": [
      "[575]\tvalidation_0-auc:0.706575\n"
     ]
    },
    {
     "name": "stdout",
     "output_type": "stream",
     "text": [
      "[576]\tvalidation_0-auc:0.706582\n"
     ]
    },
    {
     "name": "stdout",
     "output_type": "stream",
     "text": [
      "[577]\tvalidation_0-auc:0.706586\n"
     ]
    },
    {
     "name": "stdout",
     "output_type": "stream",
     "text": [
      "[578]\tvalidation_0-auc:0.706597\n"
     ]
    },
    {
     "name": "stdout",
     "output_type": "stream",
     "text": [
      "[579]\tvalidation_0-auc:0.706597\n"
     ]
    },
    {
     "name": "stdout",
     "output_type": "stream",
     "text": [
      "[580]\tvalidation_0-auc:0.706597\n"
     ]
    },
    {
     "name": "stdout",
     "output_type": "stream",
     "text": [
      "[581]\tvalidation_0-auc:0.706607\n"
     ]
    },
    {
     "name": "stdout",
     "output_type": "stream",
     "text": [
      "[582]\tvalidation_0-auc:0.706611\n"
     ]
    },
    {
     "name": "stdout",
     "output_type": "stream",
     "text": [
      "[583]\tvalidation_0-auc:0.706616\n"
     ]
    },
    {
     "name": "stdout",
     "output_type": "stream",
     "text": [
      "[584]\tvalidation_0-auc:0.706618\n"
     ]
    },
    {
     "name": "stdout",
     "output_type": "stream",
     "text": [
      "[585]\tvalidation_0-auc:0.706618\n"
     ]
    },
    {
     "name": "stdout",
     "output_type": "stream",
     "text": [
      "[586]\tvalidation_0-auc:0.706621\n"
     ]
    },
    {
     "name": "stdout",
     "output_type": "stream",
     "text": [
      "[587]\tvalidation_0-auc:0.706628\n"
     ]
    },
    {
     "name": "stdout",
     "output_type": "stream",
     "text": [
      "[588]\tvalidation_0-auc:0.706631\n"
     ]
    },
    {
     "name": "stdout",
     "output_type": "stream",
     "text": [
      "[589]\tvalidation_0-auc:0.706635\n"
     ]
    },
    {
     "name": "stdout",
     "output_type": "stream",
     "text": [
      "[590]\tvalidation_0-auc:0.706636\n"
     ]
    },
    {
     "name": "stdout",
     "output_type": "stream",
     "text": [
      "[591]\tvalidation_0-auc:0.706638\n"
     ]
    },
    {
     "name": "stdout",
     "output_type": "stream",
     "text": [
      "[592]\tvalidation_0-auc:0.706641\n"
     ]
    },
    {
     "name": "stdout",
     "output_type": "stream",
     "text": [
      "[593]\tvalidation_0-auc:0.706643\n"
     ]
    },
    {
     "name": "stdout",
     "output_type": "stream",
     "text": [
      "[594]\tvalidation_0-auc:0.706645\n"
     ]
    },
    {
     "name": "stdout",
     "output_type": "stream",
     "text": [
      "[595]\tvalidation_0-auc:0.706646\n"
     ]
    },
    {
     "name": "stdout",
     "output_type": "stream",
     "text": [
      "[596]\tvalidation_0-auc:0.706643\n"
     ]
    },
    {
     "name": "stdout",
     "output_type": "stream",
     "text": [
      "[597]\tvalidation_0-auc:0.706649\n"
     ]
    },
    {
     "name": "stdout",
     "output_type": "stream",
     "text": [
      "[598]\tvalidation_0-auc:0.706649\n"
     ]
    },
    {
     "name": "stdout",
     "output_type": "stream",
     "text": [
      "[599]\tvalidation_0-auc:0.706652\n"
     ]
    },
    {
     "name": "stdout",
     "output_type": "stream",
     "text": [
      "[600]\tvalidation_0-auc:0.706654\n"
     ]
    },
    {
     "name": "stdout",
     "output_type": "stream",
     "text": [
      "[601]\tvalidation_0-auc:0.706653\n"
     ]
    },
    {
     "name": "stdout",
     "output_type": "stream",
     "text": [
      "[602]\tvalidation_0-auc:0.706649\n"
     ]
    },
    {
     "name": "stdout",
     "output_type": "stream",
     "text": [
      "[603]\tvalidation_0-auc:0.706654\n"
     ]
    },
    {
     "name": "stdout",
     "output_type": "stream",
     "text": [
      "[604]\tvalidation_0-auc:0.70666\n"
     ]
    },
    {
     "name": "stdout",
     "output_type": "stream",
     "text": [
      "[605]\tvalidation_0-auc:0.706661\n"
     ]
    },
    {
     "name": "stdout",
     "output_type": "stream",
     "text": [
      "[606]\tvalidation_0-auc:0.706664\n"
     ]
    },
    {
     "name": "stdout",
     "output_type": "stream",
     "text": [
      "[607]\tvalidation_0-auc:0.706666\n"
     ]
    },
    {
     "name": "stdout",
     "output_type": "stream",
     "text": [
      "[608]\tvalidation_0-auc:0.706666\n"
     ]
    },
    {
     "name": "stdout",
     "output_type": "stream",
     "text": [
      "[609]\tvalidation_0-auc:0.706666\n"
     ]
    },
    {
     "name": "stdout",
     "output_type": "stream",
     "text": [
      "[610]\tvalidation_0-auc:0.706663\n"
     ]
    },
    {
     "name": "stdout",
     "output_type": "stream",
     "text": [
      "[611]\tvalidation_0-auc:0.706663\n"
     ]
    },
    {
     "name": "stdout",
     "output_type": "stream",
     "text": [
      "[612]\tvalidation_0-auc:0.706666\n"
     ]
    },
    {
     "name": "stdout",
     "output_type": "stream",
     "text": [
      "[613]\tvalidation_0-auc:0.706671\n"
     ]
    },
    {
     "name": "stdout",
     "output_type": "stream",
     "text": [
      "[614]\tvalidation_0-auc:0.706674\n"
     ]
    },
    {
     "name": "stdout",
     "output_type": "stream",
     "text": [
      "[615]\tvalidation_0-auc:0.706674\n"
     ]
    },
    {
     "name": "stdout",
     "output_type": "stream",
     "text": [
      "[616]\tvalidation_0-auc:0.706675\n"
     ]
    },
    {
     "name": "stdout",
     "output_type": "stream",
     "text": [
      "[617]\tvalidation_0-auc:0.706673\n"
     ]
    },
    {
     "name": "stdout",
     "output_type": "stream",
     "text": [
      "[618]\tvalidation_0-auc:0.706674\n"
     ]
    },
    {
     "name": "stdout",
     "output_type": "stream",
     "text": [
      "[619]\tvalidation_0-auc:0.706682\n"
     ]
    },
    {
     "name": "stdout",
     "output_type": "stream",
     "text": [
      "[620]\tvalidation_0-auc:0.706687\n"
     ]
    },
    {
     "name": "stdout",
     "output_type": "stream",
     "text": [
      "[621]\tvalidation_0-auc:0.706693\n"
     ]
    },
    {
     "name": "stdout",
     "output_type": "stream",
     "text": [
      "[622]\tvalidation_0-auc:0.706698\n"
     ]
    },
    {
     "name": "stdout",
     "output_type": "stream",
     "text": [
      "[623]\tvalidation_0-auc:0.706701\n"
     ]
    },
    {
     "name": "stdout",
     "output_type": "stream",
     "text": [
      "[624]\tvalidation_0-auc:0.706704\n"
     ]
    },
    {
     "name": "stdout",
     "output_type": "stream",
     "text": [
      "[625]\tvalidation_0-auc:0.706704\n"
     ]
    },
    {
     "name": "stdout",
     "output_type": "stream",
     "text": [
      "[626]\tvalidation_0-auc:0.706711\n"
     ]
    },
    {
     "name": "stdout",
     "output_type": "stream",
     "text": [
      "[627]\tvalidation_0-auc:0.706708\n"
     ]
    },
    {
     "name": "stdout",
     "output_type": "stream",
     "text": [
      "[628]\tvalidation_0-auc:0.70671\n"
     ]
    },
    {
     "name": "stdout",
     "output_type": "stream",
     "text": [
      "[629]\tvalidation_0-auc:0.706708\n"
     ]
    },
    {
     "name": "stdout",
     "output_type": "stream",
     "text": [
      "[630]\tvalidation_0-auc:0.706709\n"
     ]
    },
    {
     "name": "stdout",
     "output_type": "stream",
     "text": [
      "[631]\tvalidation_0-auc:0.706713\n"
     ]
    },
    {
     "name": "stdout",
     "output_type": "stream",
     "text": [
      "[632]\tvalidation_0-auc:0.706717\n"
     ]
    },
    {
     "name": "stdout",
     "output_type": "stream",
     "text": [
      "[633]\tvalidation_0-auc:0.706715\n"
     ]
    },
    {
     "name": "stdout",
     "output_type": "stream",
     "text": [
      "[634]\tvalidation_0-auc:0.706712\n"
     ]
    },
    {
     "name": "stdout",
     "output_type": "stream",
     "text": [
      "[635]\tvalidation_0-auc:0.706711\n"
     ]
    },
    {
     "name": "stdout",
     "output_type": "stream",
     "text": [
      "[636]\tvalidation_0-auc:0.706711\n"
     ]
    },
    {
     "name": "stdout",
     "output_type": "stream",
     "text": [
      "[637]\tvalidation_0-auc:0.706708\n"
     ]
    },
    {
     "name": "stdout",
     "output_type": "stream",
     "text": [
      "[638]\tvalidation_0-auc:0.706709\n"
     ]
    },
    {
     "name": "stdout",
     "output_type": "stream",
     "text": [
      "[639]\tvalidation_0-auc:0.706707\n"
     ]
    },
    {
     "name": "stdout",
     "output_type": "stream",
     "text": [
      "[640]\tvalidation_0-auc:0.706707\n"
     ]
    },
    {
     "name": "stdout",
     "output_type": "stream",
     "text": [
      "[641]\tvalidation_0-auc:0.706709\n"
     ]
    },
    {
     "name": "stdout",
     "output_type": "stream",
     "text": [
      "[642]\tvalidation_0-auc:0.706709\n"
     ]
    },
    {
     "name": "stdout",
     "output_type": "stream",
     "text": [
      "Stopping. Best iteration:\n[632]\tvalidation_0-auc:0.706717\n\n"
     ]
    },
    {
     "name": "stdout",
     "output_type": "stream",
     "text": [
      "Randomized search time: 15132.194390296936\nBest score: -0.545842250060527\nBest params: \nn_estimators: 2000\nseed: 900\nsilent: False\n"
     ]
    },
    {
     "name": "stdout",
     "output_type": "stream",
     "text": [
      "XGBClassifier(base_score=0.5, booster='gbtree', colsample_bylevel=0.6,\n       colsample_bytree=1.0, gamma=1.0, learning_rate=0.012,\n       max_delta_step=3, max_depth=8, max_features='sqrt',\n       min_child_weight=0.5, missing=None, n_estimators=2000, n_jobs=3,\n       nthread=None, objective='binary:logistic', random_state=42,\n       reg_alpha=0.1, reg_lambda=5.0, scale_pos_weight=1, seed=900,\n       silent=False, subsample=0.9)\n"
     ]
    },
    {
     "name": "stderr",
     "output_type": "stream",
     "text": [
      "c:\\python\\lib\\site-packages\\sklearn\\preprocessing\\label.py:151: DeprecationWarning: The truth value of an empty array is ambiguous. Returning False, but in future this will result in an error. Use `array.size > 0` to check that an array is not empty.\n  if diff:\n"
     ]
    }
   ],
   "source": [
    " #searchcv,y_pred,predictions=recherche_fit_BayesSearchCV()\n",
    "model=XGBClassifier(base_score=0.5,\n",
    "                  booster='gbtree',\n",
    "                colsample_bylevel=0.2,\n",
    "                colsample_bytree=0.8,\n",
    "                 gamma=0.01,\n",
    "                 learning_rate=0.06, #ok\n",
    "                max_delta_step=3, #ok\n",
    "                max_depth=8, #ok\n",
    "               max_features='sqrt',\n",
    "                min_child_weight=8, #ok\n",
    "                n_estimators=1800,#ok\n",
    "                n_jobs=3,#ok\n",
    "                nthread=None,\n",
    "                objective='binary:logistic',\n",
    "                 random_state=42,\n",
    "                reg_alpha=0.1, #ok\n",
    "                reg_lambda=2.5,\n",
    "\n",
    "                 seed=800,\n",
    "                subsample=0.99,\n",
    "                silent=False)\n",
    "\n",
    "               \n",
    "model=XGBClassifier(base_score=0.5, booster='gbtree', colsample_bylevel=0.6,\n",
    "       colsample_bytree=1.0, gamma=1.0, learning_rate=0.012,\n",
    "       max_delta_step=3, max_depth=8, max_features='sqrt',\n",
    "       min_child_weight=0.5, missing=None, n_estimators=1800, n_jobs=3,\n",
    "       nthread=None, objective='binary:logistic', random_state=42,\n",
    "       reg_alpha=0.1, reg_lambda=5.0, scale_pos_weight=1, seed=800,\n",
    "       silent=False, subsample=0.9)\n",
    " \n",
    "param_grid = {'silent': [False],\n",
    "     #   'max_depth': [ 7, 8,9],\n",
    "     #   'learning_rate': [0.009,0.01,0.011,0.012,0.18,0.02,0.03,0.04, 0.05],\n",
    "     #   'subsample': [0.5, 0.6, 0.7, 0.8, 0.9, 1.0],\n",
    "     #   'colsample_bytree': [0.4, 0.5, 0.6, 0.7, 0.8, 0.9, 1.0],\n",
    "     #   'colsample_bylevel': [0.4, 0.5, 0.6, 0.7, 0.8, 0.9, 1.0],\n",
    "     #   'min_child_weight': [0.5, 1.0, 3.0, 5.0, 7.0, 10.0],\n",
    "     #   'gamma': [0, 0.25, 0.5, 1.0],\n",
    "        'seed': [500, 600, 700, 800,900,1000],\n",
    "     #   'reg_lambda': [0.1, 1.0, 5.0, 10.0, 50.0, 100.0]\n",
    "        'n_estimators': [500,700,900,1000,1100,1200,1300,1400,1500,1600,1700,1800,1900,2000,2100,2000]\n",
    "              }       \n",
    "\n",
    "searchcv,y_pred,predictions=recherche_random_XGBClassifier( model, train_x, train_y,test_x,test_y,param_grid,50)\n",
    "\n",
    "print(searchcv)\n",
    "\n",
    "model=searchcv\n",
    "\n",
    "    "
   ]
  },
  {
   "cell_type": "code",
   "execution_count": 50,
   "metadata": {},
   "outputs": [
    {
     "name": "stdout",
     "output_type": "stream",
     "text": [
      "XGBClassifier(base_score=0.5, booster='gbtree', colsample_bylevel=0.6,\n       colsample_bytree=1.0, gamma=1.0, learning_rate=0.012,\n       max_delta_step=3, max_depth=8, max_features='sqrt',\n       min_child_weight=0.5, missing=None, n_estimators=2000, n_jobs=3,\n       nthread=None, objective='binary:logistic', random_state=42,\n       reg_alpha=0.1, reg_lambda=5.0, scale_pos_weight=1, seed=900,\n       silent=False, subsample=0.9)\n"
     ]
    }
   ],
   "source": [
    ""
   ]
  },
  {
   "cell_type": "code",
   "execution_count": 50,
   "metadata": {},
   "outputs": [
    {
     "name": "stdout",
     "output_type": "stream",
     "text": [
      "XGBClassifier(base_score=0.5, booster='gbtree', colsample_bylevel=0.6,\n       colsample_bytree=1.0, gamma=1.0, learning_rate=0.012,\n       max_delta_step=3, max_depth=8, max_features='sqrt',\n       min_child_weight=0.5, missing=None, n_estimators=2000, n_jobs=3,\n       nthread=None, objective='binary:logistic', random_state=42,\n       reg_alpha=0.1, reg_lambda=5.0, scale_pos_weight=1, seed=900,\n       silent=False, subsample=0.9)\n"
     ]
    }
   ],
   "source": [
    "#res=pd.DataFrame(searchcv.cv_results_)\n",
    "\n",
    "print(searchcv)\n",
    "\n",
    "model=searchcv"
   ]
  },
  {
   "cell_type": "code",
   "execution_count": 52,
   "metadata": {},
   "outputs": [
    {
     "name": "stdout",
     "output_type": "stream",
     "text": [
      "************************************************************  Accuracy: 73.16%\n"
     ]
    },
    {
     "name": "stderr",
     "output_type": "stream",
     "text": [
      "c:\\python\\lib\\site-packages\\sklearn\\preprocessing\\label.py:151: DeprecationWarning: The truth value of an empty array is ambiguous. Returning False, but in future this will result in an error. Use `array.size > 0` to check that an array is not empty.\n  if diff:\n"
     ]
    }
   ],
   "source": [
    "\n",
    "\n",
    "eval_set = [(train_x, train_y), (test_x, test_y)]\n",
    "model.fit(train_x, train_y, eval_metric=[\"error\", \"auc\"], eval_set=eval_set, verbose=False, early_stopping_rounds=20)\n",
    "y_pred = model.predict(test_x)\n",
    "predictions = [round(value) for value in y_pred]\n",
    "accuracy = accuracy_score(test_y, predictions)\n",
    "print(\"************************************************************  Accuracy: %.2f%%\" % (accuracy * 100.0))\n"
   ]
  },
  {
   "cell_type": "code",
   "execution_count": 53,
   "metadata": {},
   "outputs": [
    {
     "name": "stdout",
     "output_type": "stream",
     "text": [
      "Sauvegarde modele ...\n"
     ]
    }
   ],
   "source": [
    "ld.save_mymodel(model, allure_etudier)\n",
    "#model = ld.load_mymodel(allure_etudier)"
   ]
  },
  {
   "cell_type": "code",
   "execution_count": 54,
   "metadata": {},
   "outputs": [
    {
     "name": "stdout",
     "output_type": "stream",
     "text": [
      "             precision    recall  f1-score   support\n\n          0       0.75      0.94      0.83     64748\n          1       0.60      0.23      0.33     26512\n\navg / total       0.70      0.73      0.69     91260\n\n"
     ]
    },
    {
     "name": "stdout",
     "output_type": "stream",
     "text": [
      "\n                       importance\nfeature                          \nPoint                       0.146\nPAR_JOC_NB_COURSE           0.127\nPAR_REUSSITE_3P             0.110\nPAR_RUESSITE_PLACE          0.103\nPAR_ENT_REU_PLACE           0.096\nPAR_REUSSITE_GAGNE          0.095\nPAR_ENT_VICTOIRE            0.089\nPAR_JOC_REU_PLACE           0.083\nPAR_PLACE                   0.080\npAR_JOC_ECART_GAGNANT       0.071\n----------KBEST-----------------\nPAR_ENT_REU_PLACE     410.46793585772593\nPAR_ENT_VICTOIRE     55372.03006495803\npAR_JOC_ECART_GAGNANT    "
     ]
    },
    {
     "name": "stdout",
     "output_type": "stream",
     "text": [
      " 1689.5122389923677\nPAR_JOC_NB_COURSE     887065.7333467295\nPAR_JOC_REU_PLACE     689.0024335252153\nPAR_PLACE     3955.76815932817\n"
     ]
    },
    {
     "name": "stdout",
     "output_type": "stream",
     "text": [
      "PAR_REUSSITE_3P     1103.8031853004568\nPAR_REUSSITE_GAGNE     688.5602249326653\nPAR_RUESSITE_PLACE     475.2687922538851\nPoint     242694.24344309105\n--------------------------\n"
     ]
    },
    {
     "data": {
      "image/png": "[encoded data removed]",
      "text/plain": [
       "<Figure size 432x288 with 1 Axes>"
      ]
     },
     "metadata": {},
     "output_type": "display_data"
    }
   ],
   "source": [
    "evaluation_1(test_y, predictions,feature_columns, model)\n",
    "\n",
    "#evaluation_2(model, train_x, train_y, test_x, test_y)    \n",
    "\n"
   ]
  },
  {
   "cell_type": "code",
   "execution_count": 56,
   "metadata": {},
   "outputs": [
    {
     "name": "stdout",
     "output_type": "stream",
     "text": [
      "Sensibilité  du reequilibrage des données sur le TEST\nLa spécificité est intuitivement la capacité du classificateur à trouver tous les échantillons positifs\n0.9376196948168283\n\nCalculer la moyenne géométrique\n0.46282936092255733\n"
     ]
    },
    {
     "name": "stderr",
     "output_type": "stream",
     "text": [
      "c:\\python\\lib\\site-packages\\sklearn\\preprocessing\\label.py:151: DeprecationWarning: The truth value of an empty array is ambiguous. Returning False, but in future this will result in an error. Use `array.size > 0` to check that an array is not empty.\n  if diff:\n"
     ]
    }
   ],
   "source": [
    "y_pred = model.predict(test_x)\n",
    "metrique_classe(y_pred=y_pred, y_true=test_y, xclass=1)\n"
   ]
  },
  {
   "cell_type": "code",
   "execution_count": 57,
   "metadata": {},
   "outputs": [
    {
     "name": "stdout",
     "output_type": "stream",
     "text": [
      "\nEVAL SET ....\n"
     ]
    },
    {
     "name": "stderr",
     "output_type": "stream",
     "text": [
      "c:\\python\\lib\\site-packages\\sklearn\\preprocessing\\label.py:151: DeprecationWarning: The truth value of an empty array is ambiguous. Returning False, but in future this will result in an error. Use `array.size > 0` to check that an array is not empty.\n  if diff:\n"
     ]
    },
    {
     "name": "stderr",
     "output_type": "stream",
     "text": [
      "c:\\python\\lib\\site-packages\\sklearn\\preprocessing\\label.py:151: DeprecationWarning: The truth value of an empty array is ambiguous. Returning False, but in future this will result in an error. Use `array.size > 0` to check that an array is not empty.\n  if diff:\n"
     ]
    },
    {
     "name": "stdout",
     "output_type": "stream",
     "text": [
      "Evaluation TEST-----------------------------------------------------------------------\n"
     ]
    },
    {
     "name": "stdout",
     "output_type": "stream",
     "text": [
      "TEST roc_auc_score :  0.5830411388990598\n"
     ]
    },
    {
     "name": "stderr",
     "output_type": "stream",
     "text": [
      "c:\\python\\lib\\site-packages\\sklearn\\preprocessing\\label.py:151: DeprecationWarning: The truth value of an empty array is ambiguous. Returning False, but in future this will result in an error. Use `array.size > 0` to check that an array is not empty.\n  if diff:\n"
     ]
    },
    {
     "name": "stdout",
     "output_type": "stream",
     "text": [
      "[[124491   6459]\n [ 40200  14135]]\n"
     ]
    },
    {
     "name": "stderr",
     "output_type": "stream",
     "text": [
      "c:\\python\\lib\\site-packages\\sklearn\\preprocessing\\label.py:151: DeprecationWarning: The truth value of an empty array is ambiguous. Returning False, but in future this will result in an error. Use `array.size > 0` to check that an array is not empty.\n  if diff:\n"
     ]
    },
    {
     "name": "stdout",
     "output_type": "stream",
     "text": [
      "[[60709  4039]\n [20455  6057]]\n"
     ]
    },
    {
     "name": "stdout",
     "output_type": "stream",
     "text": [
      "Classification Correcte des données de test : 66766/91260    73.160%\n\nScore  TEST  :   73.160  ************************\n"
     ]
    },
    {
     "name": "stderr",
     "output_type": "stream",
     "text": [
      "c:\\python\\lib\\site-packages\\sklearn\\preprocessing\\label.py:151: DeprecationWarning: The truth value of an empty array is ambiguous. Returning False, but in future this will result in an error. Use `array.size > 0` to check that an array is not empty.\n  if diff:\n"
     ]
    },
    {
     "data": {
      "image/png": "[encoded data removed]",
      "text/plain": [
       "<Figure size 288x288 with 2 Axes>"
      ]
     },
     "metadata": {},
     "output_type": "display_data"
    }
   ],
   "source": [
    "afficheEvalSet(model,train_x,train_y,test_x,test_y,type_eval=1)\n",
    "afficheEvalSet(model,train_x,train_y,test_x,test_y,type_eval=2)"
   ]
  },
  {
   "cell_type": "code",
   "execution_count": 59,
   "metadata": {},
   "outputs": [
    {
     "name": "stdout",
     "output_type": "stream",
     "text": [
      "\nEVAL SET ....\n"
     ]
    },
    {
     "name": "stderr",
     "output_type": "stream",
     "text": [
      "c:\\python\\lib\\site-packages\\sklearn\\preprocessing\\label.py:151: DeprecationWarning: The truth value of an empty array is ambiguous. Returning False, but in future this will result in an error. Use `array.size > 0` to check that an array is not empty.\n  if diff:\n"
     ]
    },
    {
     "name": "stderr",
     "output_type": "stream",
     "text": [
      "c:\\python\\lib\\site-packages\\sklearn\\preprocessing\\label.py:151: DeprecationWarning: The truth value of an empty array is ambiguous. Returning False, but in future this will result in an error. Use `array.size > 0` to check that an array is not empty.\n  if diff:\n"
     ]
    },
    {
     "name": "stdout",
     "output_type": "stream",
     "text": [
      "TRAINING roc_auc_score :  0.6054106123913514\n"
     ]
    },
    {
     "name": "stderr",
     "output_type": "stream",
     "text": [
      "c:\\python\\lib\\site-packages\\sklearn\\preprocessing\\label.py:151: DeprecationWarning: The truth value of an empty array is ambiguous. Returning False, but in future this will result in an error. Use `array.size > 0` to check that an array is not empty.\n  if diff:\n"
     ]
    },
    {
     "name": "stdout",
     "output_type": "stream",
     "text": [
      "[[124491   6459]\n [ 40200  14135]]\n"
     ]
    },
    {
     "name": "stderr",
     "output_type": "stream",
     "text": [
      "c:\\python\\lib\\site-packages\\sklearn\\preprocessing\\label.py:151: DeprecationWarning: The truth value of an empty array is ambiguous. Returning False, but in future this will result in an error. Use `array.size > 0` to check that an array is not empty.\n  if diff:\n"
     ]
    },
    {
     "name": "stdout",
     "output_type": "stream",
     "text": [
      "[[60709  4039]\n [20455  6057]]\n"
     ]
    },
    {
     "name": "stdout",
     "output_type": "stream",
     "text": [
      "\n CLASSIFICATION CORRECTE DES DONNEES DE Train  : 138626/185285    74.818%\nScore  TRAINING  :   74.818  ************************\n"
     ]
    },
    {
     "name": "stderr",
     "output_type": "stream",
     "text": [
      "c:\\python\\lib\\site-packages\\sklearn\\preprocessing\\label.py:151: DeprecationWarning: The truth value of an empty array is ambiguous. Returning False, but in future this will result in an error. Use `array.size > 0` to check that an array is not empty.\n  if diff:\n"
     ]
    },
    {
     "data": {
      "image/png": "[encoded data removed]",
      "text/plain": [
       "<Figure size 288x288 with 2 Axes>"
      ]
     },
     "metadata": {},
     "output_type": "display_data"
    }
   ],
   "source": [
    "afficheEvalSet(model,train_x,train_y,test_x,test_y,type_eval=2)"
   ]
  },
  {
   "cell_type": "markdown",
   "metadata": {},
   "source": [
    "# CSV"
   ]
  },
  {
   "cell_type": "code",
   "execution_count": 60,
   "metadata": {},
   "outputs": [
    {
     "name": "stdout",
     "output_type": "stream",
     "text": [
      "Lecture data d:\\data_jour.csv\n"
     ]
    },
    {
     "name": "stdout",
     "output_type": "stream",
     "text": [
      "Fin de lecture  de d:\\data_jour.csv\n          0         1  0\n0  0.692472  0.307528  0\n1  0.688023  0.311977  0\n2  0.958765  0.041235  0\n3  0.379729  0.620271  1\n4  0.505182  0.494818  0\n\n\nTest_x                        Point   v0   v1  sel\nIDPARTCIPANT IDCOURSE                      \n1124956      90884       102  0.0  0.0    0\n1125037      90891       198  0.0  0.0    0\n1125377      90924        45  0.0  0.0    0\n1125396      90925       264  0.0  0.0    0\n"
     ]
    },
    {
     "name": "stderr",
     "output_type": "stream",
     "text": [
      "c:\\python\\lib\\site-packages\\sklearn\\preprocessing\\label.py:151: DeprecationWarning: The truth value of an empty array is ambiguous. Returning False, but in future this will result in an error. Use `array.size > 0` to check that an array is not empty.\n  if diff:\n"
     ]
    },
    {
     "name": "stdout",
     "output_type": "stream",
     "text": [
      "\n\n ALLER DANS APPLICATION DIABOLO ...Allure 1\n"
     ]
    }
   ],
   "source": [
    "construireFichierCSV(1, model, feature_columns, response_column, 0)"
   ]
  },
  {
   "cell_type": "code",
   "execution_count": null,
   "metadata": {},
   "outputs": [],
   "source": []
  },
  {
   "cell_type": "code",
   "execution_count": null,
   "metadata": {},
   "outputs": [],
   "source": []
  }
 ],
 "metadata": {
  "celltoolbar": "Attachments",
  "kernelspec": {
   "display_name": "Python 3",
   "language": "python",
   "name": "python3"
  },
  "language_info": {
   "codemirror_mode": {
    "name": "ipython",
    "version": 3
   },
   "file_extension": ".py",
   "mimetype": "text/x-python",
   "name": "python",
   "nbconvert_exporter": "python",
   "pygments_lexer": "ipython3",
   "version": "3.6.5rc1"
  }
 },
 "nbformat": 4,
 "nbformat_minor": 2
}
