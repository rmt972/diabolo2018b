{
 "cells": [
  {
   "cell_type": "markdown",
   "metadata": {},
   "source": [
    "# DIABOLO\n"
   ]
  },
  {
   "cell_type": "code",
   "execution_count": 1,
   "metadata": {},
   "outputs": [],
   "source": [
    "# Import all libraries needed for the tutorial\n",
    "\n",
    "# General syntax to import specific functions in a library: \n",
    "##from (library) import (specific library function)\n",
    "#from  pandas import DataFrame, read_csv\n",
    "\n",
    "# General syntax to import a library but no functions: \n",
    "##import (library) as (give the library a nickname/alias)\n",
    "\n",
    "import pandas as pd\n",
    "import numpy as np\n",
    "\n",
    "import platform\n",
    "import sys\n",
    "\n",
    "import sklearn\n",
    "\n",
    "\n",
    "from __future__ import print_function\n",
    "from ipywidgets import interact, interactive, fixed, interact_manual\n",
    "import ipywidgets as widgets\n",
    "\n",
    "from sklearn import tree\n",
    "from sklearn.tree import DecisionTreeClassifier, export_graphviz\n",
    "from sklearn.ensemble import RandomForestClassifier\n",
    "from sklearn.tree import DecisionTreeRegressor\n",
    "from sklearn.model_selection import train_test_split\n",
    "\n",
    "from sklearn import svm, datasets\n",
    "\n",
    "from sklearn.metrics import confusion_matrix\n",
    "from sklearn.metrics import roc_auc_score, roc_curve, auc, classification_report\n",
    "from sklearn.metrics import f1_score, precision_score, recall_score\n",
    "from sklearn.metrics import mean_squared_error, cohen_kappa_score, make_scorer\n",
    "from sklearn.metrics import confusion_matrix, accuracy_score, average_precision_score\n",
    "from sklearn.metrics import precision_recall_curve, SCORERS\n",
    "from sklearn.model_selection import learning_curve\n",
    "from sklearn.model_selection import ShuffleSplit\n",
    "from sklearn.externals import joblib\n",
    "from sklearn.model_selection import RandomizedSearchCV\n",
    "import scipy\n",
    "from scipy.stats import randint as sp_randint\n",
    "\n",
    "\n",
    "from treeinterpreter import treeinterpreter as ti\n",
    "\n",
    "import matplotlib\n",
    "from matplotlib import pyplot as plt\n",
    "import seaborn as sns\n",
    "from sklearn.metrics import accuracy_score\n",
    "from itertools import *\n",
    "\n",
    "import graphviz as gv\n",
    "\n",
    "import pydotplus\n",
    "import io\n",
    "from scipy import misc\n",
    "import time\n"
   ]
  },
  {
   "cell_type": "markdown",
   "metadata": {},
   "source": [
    "# environnement"
   ]
  },
  {
   "cell_type": "code",
   "execution_count": 2,
   "metadata": {},
   "outputs": [
    {
     "name": "stdout",
     "output_type": "stream",
     "text": [
      "Operating system version.... Windows-10-10.0.16299-SP0\n",
      "Python version is........... 3.6.3\n",
      "scikit-learn version is..... 0.19.1\n",
      "pandas version is........... 0.22.0\n",
      "numpy version is............ 1.13.3\n",
      "matplotlib version is....... 2.1.2\n",
      "scipy version is....... 1.0.0\n"
     ]
    }
   ],
   "source": [
    "print('Operating system version....', platform.platform())\n",
    "print(\"Python version is........... %s.%s.%s\" % sys.version_info[:3])\n",
    "print('scikit-learn version is.....', sklearn.__version__)\n",
    "print('pandas version is...........', pd.__version__)\n",
    "print('numpy version is............', np.__version__)\n",
    "print('matplotlib version is.......', matplotlib.__version__)\n",
    "print('scipy version is.......', scipy.__version__)\n"
   ]
  },
  {
   "cell_type": "code",
   "execution_count": 3,
   "metadata": {
    "tags": [
     "procedure"
    ]
   },
   "outputs": [],
   "source": [
    "# SELCTION DATAFRAME\n",
    "def ConstruireDataFrame_one(df):\n",
    "    \n",
    "    df_gagnant = df    \n",
    "    \n",
    "    # les lignes sans GAIN sont éliminées\n",
    "    df_gagnant=df_gagnant[df_gagnant.PAR_GAIN >0] # On garde les lignes avec GAIN\n",
    "    \n",
    "    #les lignes sans arrivée n'apporte rien\n",
    "    df_gagnant=df_gagnant[df_gagnant.PAR_ARRIVE>0] # On garde la ligne qui possede information arrivée\n",
    "\n",
    "    print(df_gagnant.shape)\n",
    "    return df_gagnant\n",
    "\n",
    "\n",
    "def CorrelationDesVariable(df_gagnant):\n",
    "    \n",
    "    fig2, ax = plt.subplots(figsize=(20,20))\n",
    "    sns.heatmap(df_gagnant.corr(), annot=True, fmt=\".2f\", linewidths=0.5, ax=ax)\n",
    "    plt.show()\n",
    "    \n",
    "    #--------------------------SEPARATION DES DONNES------------------------------\n",
    "def split_dataset(dataset, train_percentage, feature_headers, target_header):\n",
    "\n",
    "    train_x, test_x, train_y, test_y = train_test_split(dataset[feature_headers],  dataset[target_header],\n",
    "                                                        train_size=train_percentage, random_state=42)\n",
    "     # Train and Test dataset size details\n",
    "    print (\"Train_x Shape :: \", train_x.shape)    \n",
    "    print (\"Train_y Shape :: \", train_y.shape)\n",
    "    print (\"Test_x Shape :: \", test_x.shape)    \n",
    "    print (\"Test_y Shape :: \", test_y.shape)\n",
    "    \n",
    "    \n",
    "    return train_x, test_x, train_y, test_y\n",
    "\n",
    "    #---------------CLASSIFICATION FOREST------------------------\n",
    "\n",
    "\n",
    "def classificationTree(criterion, splitter,max_leaf_nodes, min_samples_split):    \n",
    "    #ESTIMATEUR : arbre avec classification\n",
    "    \n",
    "    #### c=DecisionTreeClassifier(criterion='gini',splitter='best',max_leaf_nodes=17,min_samples_split=5000)\n",
    "    \n",
    "    c=DecisionTreeClassifier(criterion,splitter, max_leaf_nodes,min_samples_split)\n",
    "    print(c.class_weight)\n",
    "    \n",
    "    \n",
    "    \n",
    "    \n",
    "    return c\n",
    "\n",
    "\n",
    "\n",
    "\n",
    "#---------------------------------------------------------------------------------\n",
    "def show_arbre(arbre, my_Features, path):\n",
    "    \n",
    "    f=io.StringIO()\n",
    "\n",
    "    \n",
    "    export_graphviz(arbre, out_file=f, feature_names=my_Features,class_names=[\"0\",\"1\"],filled=1,\n",
    "                    label=\"all\",impurity=1,proportion=1,rotate=1,rounded=1 )\n",
    "    pydotplus.graph_from_dot_data(f.getvalue()).write_png(path)\n",
    "    img=misc.imread(path)\n",
    "    plt.rcParams[\"figure.figsize\"] = (10,10)\n",
    "    plt.imshow(img)\n",
    "    \n",
    "    plt.show()\n",
    "    \n",
    "#--------------------------------------------------------------------------------------\n",
    "def lecture_data(Fichier, xnames, xindex_col):\n",
    "    \n",
    "                    df=pd.read_csv (Fichier,\n",
    "                                       index_col=xindex_col, \n",
    "                                       sep=';',\n",
    "                                       names=xnames,skipinitialspace=True,\n",
    "                                       encoding='Latin-1' )\n",
    "                        \n",
    "       \n",
    "                    #Suppression de la collone TROT\n",
    "                    df.drop([\"FIN_ligne\"], axis=1, inplace=True)\n",
    "                    #Suppression de la collone TROT\n",
    "                    df.drop([\"PAR_NP\"], axis=1, inplace=True)\n",
    "                    #Suppression de la collone TROT\n",
    "                 #   df.drop([\"PAR_COTEDER\"], axis=1, inplace=True)\n",
    "                    #Suppression de la collone TROT\n",
    "                    df.drop([\"cendre\"], axis=1, inplace=True)\n",
    "                    #Suppression de la collone TROT\n",
    "                    ##df.drop([\"autostart\"], axis=1, inplace=True)\n",
    "                    #Suppression de la collone TROT\n",
    "                    df.drop([\"grande_piste\"], axis=1, inplace=True)\n",
    "                    df.drop([\"CO_DISTANCE\"], axis=1, inplace=True)\n",
    "                    df.drop([\"musique\"], axis=1, inplace=True)\n",
    "                    \n",
    "                    df.drop([\"PAR_CLASSE_AGE\"], axis=1, inplace=True)\n",
    "                    df.drop([\"PAR_ENT_ECART_GAGNANT\"], axis=1, inplace=True)\n",
    "                    df.drop([\"PAR_ENT_RAPPORT_GAGNANT_M\"], axis=1, inplace=True)\n",
    "                    df.drop([\"PAR_ENT_VICTOIRE\"], axis=1, inplace=True)\n",
    "                    df.drop([\"PAR_GAIN\"], axis=1, inplace=True)\n",
    "                    df.drop([\"pAR_JOC_ECART_GAGNANT\"], axis=1, inplace=True)\n",
    "                    df.drop([\"PAR_JOC_ECART_PLACE\"], axis=1, inplace=True)\n",
    "                    df.drop([\"PAR_JOC_NB_COURSE\"], axis=1, inplace=True)\n",
    "                    df.drop([\"CO_PRIX\"], axis=1, inplace=True)\n",
    "                    df.drop([\"PAR_CARRIERE\"], axis=1, inplace=True)\n",
    "                    df.drop([\"PAR_CARRIERE_Q\"], axis=1, inplace=True)\n",
    "                    df.drop([\"pAR_JOC_RAPPORT_GAGNANT_M\"], axis=1, inplace=True)\n",
    "                    \n",
    "                    df.drop([\"PAR_COTEDER\"], axis=1, inplace=True)\n",
    "\n",
    "\n",
    "\n",
    "\n",
    "\n",
    "\n",
    "                    return df \n",
    "\n",
    "\n",
    "\n",
    "    "
   ]
  },
  {
   "cell_type": "code",
   "execution_count": 4,
   "metadata": {},
   "outputs": [],
   "source": [
    "#Tracer les courbes d'apprentissage\n",
    "def Plot_learning_curve(estimator, title, X, y, ylim = None, cv = None,\n",
    "                        n_jobs = 1, train_sizes = np.linspace(0.1, 1.0, 5)):\n",
    "    plt.figure()\n",
    "    plt.title(title)\n",
    "    if ylim is not None:\n",
    "        plt.ylim(*ylim)\n",
    "    plt.xlabel(\"Training examples\")\n",
    "    plt.ylabel(\"Score\")\n",
    "    train_sizes, train_scores, test_scores = learning_curve(estimator, \n",
    "                                                            X, y,\n",
    "                                                            cv = cv,\n",
    "                                                            n_jobs = n_jobs,\n",
    "                                                            train_sizes = train_sizes)\n",
    "    train_scores_mean = np.mean(train_scores, axis=1)\n",
    "    train_scores_std = np.std(train_scores, axis=1)\n",
    "    test_scores_mean = np.mean(test_scores, axis=1)\n",
    "    test_scores_std = np.std(test_scores, axis=1)\n",
    "    plt.grid()\n",
    "\n",
    "    plt.fill_between(train_sizes, train_scores_mean - train_scores_std,\n",
    "                     train_scores_mean + train_scores_std, alpha=0.1,\n",
    "                     color=\"r\")\n",
    "    plt.fill_between(train_sizes, test_scores_mean - test_scores_std,\n",
    "                     test_scores_mean + test_scores_std, alpha=0.1, color=\"g\")\n",
    "    plt.plot(train_sizes, train_scores_mean, 'o-', color=\"r\",\n",
    "             label=\"Training score\")\n",
    "    plt.plot(train_sizes, test_scores_mean, 'o-', color=\"g\",\n",
    "             label=\"Cross-validation score\")\n",
    "\n",
    "    plt.legend(loc=\"best\")\n",
    "    plt.show()\n",
    "    return"
   ]
  },
  {
   "cell_type": "markdown",
   "metadata": {},
   "source": [
    "#  LECTURE DES DONNES"
   ]
  },
  {
   "cell_type": "code",
   "execution_count": 5,
   "metadata": {
    "scrolled": false
   },
   "outputs": [
    {
     "name": "stdout",
     "output_type": "stream",
     "text": [
      " df  (440349, 17)\n",
      "\n",
      " df_numero_a_predire  (898, 17)\n",
      "ALLURE                    float64\n",
      "PAR_ARRIVE                float64\n",
      "PAR_ENT_REU_PLACE         float64\n",
      "PAR_ENT_REUSSITE_GAGNE    float64\n",
      "PAR_JOC_PLACE_3P          float64\n",
      "PAR_JOC_REU_PLACE         float64\n",
      "pAR_JOC_REUSSITE_GAGNE    float64\n",
      "pAR_JOC_VICTOIRE          float64\n",
      "PAR_PLACE                 float64\n",
      "PAR_PLACE_Q               float64\n",
      "PAR_REUSSITE_3P           float64\n",
      "PAR_REUSSITE_GAGNE        float64\n",
      "PAR_REUSSITE_QUINTE       float64\n",
      "PAR_RUESSITE_PLACE        float64\n",
      "autostart                 float64\n",
      "Point                     float64\n",
      "Nb_partant                float64\n",
      "dtype: object\n"
     ]
    },
    {
     "data": {
      "text/html": [
       "<div>\n",
       "<style scoped>\n",
       "    .dataframe tbody tr th:only-of-type {\n",
       "        vertical-align: middle;\n",
       "    }\n",
       "\n",
       "    .dataframe tbody tr th {\n",
       "        vertical-align: top;\n",
       "    }\n",
       "\n",
       "    .dataframe thead th {\n",
       "        text-align: right;\n",
       "    }\n",
       "</style>\n",
       "<table border=\"1\" class=\"dataframe\">\n",
       "  <thead>\n",
       "    <tr style=\"text-align: right;\">\n",
       "      <th></th>\n",
       "      <th></th>\n",
       "      <th></th>\n",
       "      <th>ALLURE</th>\n",
       "      <th>PAR_ARRIVE</th>\n",
       "      <th>PAR_ENT_REU_PLACE</th>\n",
       "      <th>PAR_ENT_REUSSITE_GAGNE</th>\n",
       "      <th>PAR_JOC_PLACE_3P</th>\n",
       "      <th>PAR_JOC_REU_PLACE</th>\n",
       "      <th>pAR_JOC_REUSSITE_GAGNE</th>\n",
       "      <th>pAR_JOC_VICTOIRE</th>\n",
       "      <th>PAR_PLACE</th>\n",
       "      <th>PAR_PLACE_Q</th>\n",
       "      <th>PAR_REUSSITE_3P</th>\n",
       "      <th>PAR_REUSSITE_GAGNE</th>\n",
       "      <th>PAR_REUSSITE_QUINTE</th>\n",
       "      <th>PAR_RUESSITE_PLACE</th>\n",
       "      <th>autostart</th>\n",
       "      <th>Point</th>\n",
       "      <th>Nb_partant</th>\n",
       "    </tr>\n",
       "    <tr>\n",
       "      <th>IDPARTCIPANT</th>\n",
       "      <th>IDCOURSE</th>\n",
       "      <th>PAR_NUM</th>\n",
       "      <th></th>\n",
       "      <th></th>\n",
       "      <th></th>\n",
       "      <th></th>\n",
       "      <th></th>\n",
       "      <th></th>\n",
       "      <th></th>\n",
       "      <th></th>\n",
       "      <th></th>\n",
       "      <th></th>\n",
       "      <th></th>\n",
       "      <th></th>\n",
       "      <th></th>\n",
       "      <th></th>\n",
       "      <th></th>\n",
       "      <th></th>\n",
       "      <th></th>\n",
       "    </tr>\n",
       "  </thead>\n",
       "  <tbody>\n",
       "    <tr>\n",
       "      <th>563653.0</th>\n",
       "      <th>45585.0</th>\n",
       "      <th>3.0</th>\n",
       "      <td>1.0</td>\n",
       "      <td>4.0</td>\n",
       "      <td>0.27</td>\n",
       "      <td>0.10</td>\n",
       "      <td>3.0</td>\n",
       "      <td>0.07</td>\n",
       "      <td>0.02</td>\n",
       "      <td>1.0</td>\n",
       "      <td>10.0</td>\n",
       "      <td>1.0</td>\n",
       "      <td>0.205480</td>\n",
       "      <td>0.068493</td>\n",
       "      <td>0.000000</td>\n",
       "      <td>0.136986</td>\n",
       "      <td>1.0</td>\n",
       "      <td>196.0</td>\n",
       "      <td>13.0</td>\n",
       "    </tr>\n",
       "    <tr>\n",
       "      <th>563909.0</th>\n",
       "      <th>45607.0</th>\n",
       "      <th>8.0</th>\n",
       "      <td>1.0</td>\n",
       "      <td>99.0</td>\n",
       "      <td>0.30</td>\n",
       "      <td>0.10</td>\n",
       "      <td>6.0</td>\n",
       "      <td>0.15</td>\n",
       "      <td>0.05</td>\n",
       "      <td>2.0</td>\n",
       "      <td>2.0</td>\n",
       "      <td>0.0</td>\n",
       "      <td>0.085714</td>\n",
       "      <td>0.028571</td>\n",
       "      <td>0.000000</td>\n",
       "      <td>0.057143</td>\n",
       "      <td>1.0</td>\n",
       "      <td>156.0</td>\n",
       "      <td>14.0</td>\n",
       "    </tr>\n",
       "    <tr>\n",
       "      <th>563654.0</th>\n",
       "      <th>45585.0</th>\n",
       "      <th>4.0</th>\n",
       "      <td>1.0</td>\n",
       "      <td>1.0</td>\n",
       "      <td>0.20</td>\n",
       "      <td>0.08</td>\n",
       "      <td>187.0</td>\n",
       "      <td>0.25</td>\n",
       "      <td>0.08</td>\n",
       "      <td>61.0</td>\n",
       "      <td>10.0</td>\n",
       "      <td>2.0</td>\n",
       "      <td>0.350877</td>\n",
       "      <td>0.175439</td>\n",
       "      <td>0.017544</td>\n",
       "      <td>0.175439</td>\n",
       "      <td>1.0</td>\n",
       "      <td>231.0</td>\n",
       "      <td>13.0</td>\n",
       "    </tr>\n",
       "    <tr>\n",
       "      <th>563910.0</th>\n",
       "      <th>45607.0</th>\n",
       "      <th>9.0</th>\n",
       "      <td>1.0</td>\n",
       "      <td>99.0</td>\n",
       "      <td>0.06</td>\n",
       "      <td>0.00</td>\n",
       "      <td>2.0</td>\n",
       "      <td>0.18</td>\n",
       "      <td>0.00</td>\n",
       "      <td>0.0</td>\n",
       "      <td>2.0</td>\n",
       "      <td>0.0</td>\n",
       "      <td>0.100000</td>\n",
       "      <td>0.033333</td>\n",
       "      <td>0.000000</td>\n",
       "      <td>0.066667</td>\n",
       "      <td>1.0</td>\n",
       "      <td>66.0</td>\n",
       "      <td>14.0</td>\n",
       "    </tr>\n",
       "    <tr>\n",
       "      <th>563655.0</th>\n",
       "      <th>45585.0</th>\n",
       "      <th>5.0</th>\n",
       "      <td>1.0</td>\n",
       "      <td>99.0</td>\n",
       "      <td>0.00</td>\n",
       "      <td>0.00</td>\n",
       "      <td>23.0</td>\n",
       "      <td>0.16</td>\n",
       "      <td>0.02</td>\n",
       "      <td>4.0</td>\n",
       "      <td>11.0</td>\n",
       "      <td>5.0</td>\n",
       "      <td>0.303030</td>\n",
       "      <td>0.136364</td>\n",
       "      <td>0.030303</td>\n",
       "      <td>0.166667</td>\n",
       "      <td>1.0</td>\n",
       "      <td>198.0</td>\n",
       "      <td>13.0</td>\n",
       "    </tr>\n",
       "  </tbody>\n",
       "</table>\n",
       "</div>"
      ],
      "text/plain": [
       "                               ALLURE  PAR_ARRIVE  PAR_ENT_REU_PLACE  \\\n",
       "IDPARTCIPANT IDCOURSE PAR_NUM                                          \n",
       "563653.0     45585.0  3.0         1.0         4.0               0.27   \n",
       "563909.0     45607.0  8.0         1.0        99.0               0.30   \n",
       "563654.0     45585.0  4.0         1.0         1.0               0.20   \n",
       "563910.0     45607.0  9.0         1.0        99.0               0.06   \n",
       "563655.0     45585.0  5.0         1.0        99.0               0.00   \n",
       "\n",
       "                               PAR_ENT_REUSSITE_GAGNE  PAR_JOC_PLACE_3P  \\\n",
       "IDPARTCIPANT IDCOURSE PAR_NUM                                             \n",
       "563653.0     45585.0  3.0                        0.10               3.0   \n",
       "563909.0     45607.0  8.0                        0.10               6.0   \n",
       "563654.0     45585.0  4.0                        0.08             187.0   \n",
       "563910.0     45607.0  9.0                        0.00               2.0   \n",
       "563655.0     45585.0  5.0                        0.00              23.0   \n",
       "\n",
       "                               PAR_JOC_REU_PLACE  pAR_JOC_REUSSITE_GAGNE  \\\n",
       "IDPARTCIPANT IDCOURSE PAR_NUM                                              \n",
       "563653.0     45585.0  3.0                   0.07                    0.02   \n",
       "563909.0     45607.0  8.0                   0.15                    0.05   \n",
       "563654.0     45585.0  4.0                   0.25                    0.08   \n",
       "563910.0     45607.0  9.0                   0.18                    0.00   \n",
       "563655.0     45585.0  5.0                   0.16                    0.02   \n",
       "\n",
       "                               pAR_JOC_VICTOIRE  PAR_PLACE  PAR_PLACE_Q  \\\n",
       "IDPARTCIPANT IDCOURSE PAR_NUM                                             \n",
       "563653.0     45585.0  3.0                   1.0       10.0          1.0   \n",
       "563909.0     45607.0  8.0                   2.0        2.0          0.0   \n",
       "563654.0     45585.0  4.0                  61.0       10.0          2.0   \n",
       "563910.0     45607.0  9.0                   0.0        2.0          0.0   \n",
       "563655.0     45585.0  5.0                   4.0       11.0          5.0   \n",
       "\n",
       "                               PAR_REUSSITE_3P  PAR_REUSSITE_GAGNE  \\\n",
       "IDPARTCIPANT IDCOURSE PAR_NUM                                        \n",
       "563653.0     45585.0  3.0             0.205480            0.068493   \n",
       "563909.0     45607.0  8.0             0.085714            0.028571   \n",
       "563654.0     45585.0  4.0             0.350877            0.175439   \n",
       "563910.0     45607.0  9.0             0.100000            0.033333   \n",
       "563655.0     45585.0  5.0             0.303030            0.136364   \n",
       "\n",
       "                               PAR_REUSSITE_QUINTE  PAR_RUESSITE_PLACE  \\\n",
       "IDPARTCIPANT IDCOURSE PAR_NUM                                            \n",
       "563653.0     45585.0  3.0                 0.000000            0.136986   \n",
       "563909.0     45607.0  8.0                 0.000000            0.057143   \n",
       "563654.0     45585.0  4.0                 0.017544            0.175439   \n",
       "563910.0     45607.0  9.0                 0.000000            0.066667   \n",
       "563655.0     45585.0  5.0                 0.030303            0.166667   \n",
       "\n",
       "                               autostart  Point  Nb_partant  \n",
       "IDPARTCIPANT IDCOURSE PAR_NUM                                \n",
       "563653.0     45585.0  3.0            1.0  196.0        13.0  \n",
       "563909.0     45607.0  8.0            1.0  156.0        14.0  \n",
       "563654.0     45585.0  4.0            1.0  231.0        13.0  \n",
       "563910.0     45607.0  9.0            1.0   66.0        14.0  \n",
       "563655.0     45585.0  5.0            1.0  198.0        13.0  "
      ]
     },
     "execution_count": 5,
     "metadata": {},
     "output_type": "execute_result"
    }
   ],
   "source": [
    "xnames=['ALLURE'\n",
    "                    ,'CO_DISTANCE',\n",
    "                    'CO_PRIX',\n",
    "                    'IDCOURSE',\n",
    "                    'IDPARTCIPANT',\n",
    "                    'PAR_ARRIVE',\n",
    "                    'PAR_CARRIERE',\n",
    "                    'PAR_CARRIERE_Q' ,\n",
    "                    'PAR_CLASSE_AGE',\n",
    "                    'PAR_COTEDER',\n",
    "                    'PAR_ENT_ECART_GAGNANT',\n",
    "                    'PAR_ENT_RAPPORT_GAGNANT_M',\n",
    "                    'PAR_ENT_REU_PLACE',\n",
    "                    'PAR_ENT_REUSSITE_GAGNE',\n",
    "                    'PAR_ENT_VICTOIRE',\n",
    "                    'PAR_GAIN',\n",
    "                    'pAR_JOC_ECART_GAGNANT',\n",
    "                    'PAR_JOC_ECART_PLACE',\n",
    "                    'PAR_JOC_NB_COURSE',\n",
    "                    'PAR_JOC_PLACE_3P',\n",
    "                    'pAR_JOC_RAPPORT_GAGNANT_M',\n",
    "                    'PAR_JOC_REU_PLACE',\n",
    "                    'pAR_JOC_REUSSITE_GAGNE',\n",
    "                    'pAR_JOC_VICTOIRE',\n",
    "                    'PAR_NP',\n",
    "                    'PAR_NUM',\n",
    "                    'PAR_PLACE',\n",
    "                    'PAR_PLACE_Q',\n",
    "                    'PAR_REUSSITE_3P',\n",
    "                    'PAR_REUSSITE_GAGNE',\n",
    "                    'PAR_REUSSITE_QUINTE',\n",
    "                    'PAR_RUESSITE_PLACE',\n",
    "                    'autostart',\n",
    "                    'cendre',\n",
    "                    'grande_piste',\n",
    "                    'Point',\n",
    "                    'Nb_partant','musique','FIN_ligne']\n",
    "\n",
    "df=lecture_data('d:\\diabollo_al_1.csv',xnames,['IDPARTCIPANT','IDCOURSE','PAR_NUM'])\n",
    "\n",
    "df_numero_a_predire=lecture_data('d:\\diabollo_al_1_D.csv',xnames,['IDPARTCIPANT','IDCOURSE','PAR_NUM'])\n",
    "\n",
    "print(\" df \",df.shape)\n",
    "print(\"\")\n",
    "print(\" df_numero_a_predire \",df_numero_a_predire.shape)\n",
    "print(df.dtypes) # lignes = observations\n",
    "\n",
    "df.head()\n"
   ]
  },
  {
   "cell_type": "code",
   "execution_count": 6,
   "metadata": {},
   "outputs": [],
   "source": [
    "df=df.groupby(\"ALLURE\")     \n",
    "df=df.get_group(4) \n",
    "#Suppression de la collone TROT\n",
    "df.drop([\"ALLURE\"], axis=1, inplace=True)\n",
    "\n",
    "\n",
    "\n"
   ]
  },
  {
   "cell_type": "code",
   "execution_count": 7,
   "metadata": {},
   "outputs": [],
   "source": [
    "df_numero_a_predire=df_numero_a_predire.groupby(\"ALLURE\") \n",
    "\n",
    "df_numero_a_predire=df_numero_a_predire.get_group(4) \n",
    "\n",
    "#Suppression de la collone TROT\n",
    "df_numero_a_predire.drop([\"ALLURE\"], axis=1, inplace=True)\n"
   ]
  },
  {
   "cell_type": "code",
   "execution_count": 8,
   "metadata": {},
   "outputs": [
    {
     "name": "stdout",
     "output_type": "stream",
     "text": [
      " df  (17758, 16)\n",
      "\n",
      " df_numero_a_predire  (26, 16)\n"
     ]
    }
   ],
   "source": [
    "print(\" df \",df.shape)\n",
    "print(\"\")\n",
    "print(\" df_numero_a_predire \",df_numero_a_predire.shape)"
   ]
  },
  {
   "cell_type": "code",
   "execution_count": null,
   "metadata": {},
   "outputs": [],
   "source": []
  },
  {
   "cell_type": "markdown",
   "metadata": {},
   "source": [
    "La normalisation des ensembles de données est une exigence courante pour de nombreux estimateurs d'apprentissage automatique mis en œuvre dans scikit-learn; \n",
    "ils peuvent se comporter mal \n",
    "si les caractéristiques individuelles ne ressemblent pas plus ou moins à des données standard normalement distribuées: gaussiennes avec une moyenne nulle et une variance unitaire ."
   ]
  },
  {
   "cell_type": "markdown",
   "metadata": {},
   "source": [
    "# CORRELATION DES DONNEES"
   ]
  },
  {
   "cell_type": "code",
   "execution_count": 9,
   "metadata": {},
   "outputs": [
    {
     "name": "stdout",
     "output_type": "stream",
     "text": [
      "(17758, 16)\n",
      "PAR_ARRIVE                float64\n",
      "PAR_ENT_REU_PLACE         float64\n",
      "PAR_ENT_REUSSITE_GAGNE    float64\n",
      "PAR_JOC_PLACE_3P          float64\n",
      "PAR_JOC_REU_PLACE         float64\n",
      "pAR_JOC_REUSSITE_GAGNE    float64\n",
      "pAR_JOC_VICTOIRE          float64\n",
      "PAR_PLACE                 float64\n",
      "PAR_PLACE_Q               float64\n",
      "PAR_REUSSITE_3P           float64\n",
      "PAR_REUSSITE_GAGNE        float64\n",
      "PAR_REUSSITE_QUINTE       float64\n",
      "PAR_RUESSITE_PLACE        float64\n",
      "autostart                 float64\n",
      "Point                     float64\n",
      "Nb_partant                float64\n",
      "dtype: object\n"
     ]
    }
   ],
   "source": [
    "# trvail sur les courses de trot (allure=1)\n",
    "# dimensions\n",
    "\n",
    "print(df.shape) # lignes = observations\n",
    "print(df.dtypes) # lignes = observations\n"
   ]
  },
  {
   "cell_type": "code",
   "execution_count": null,
   "metadata": {},
   "outputs": [],
   "source": []
  },
  {
   "cell_type": "markdown",
   "metadata": {},
   "source": [
    "L’analyse univariée permet d’explorer une seule feature à la fois. \n",
    "Cette analyse se base sur les statistiques descriptives.\n",
    "Ces dernières permettent de tirer des indications concises sur une feature donnée.\n",
    "Parmi ces indicateurs, on retrouve la moyenne, la médiane ainsi que les mesures de dispersion de données."
   ]
  },
  {
   "cell_type": "markdown",
   "metadata": {},
   "source": [
    "Petite exploration dur la variable PAR_REUSSITE_3P\n",
    "\n",
    "VARIANCE : \n",
    "indique de quelle manière la série de données d’une feature se disperse autour de la moyenne. Une variance élevée indique que les valeurs sont très écartées les unes des autres et vice versa.\n",
    "\n",
    "écart type : \n",
    "L’écart type est aussi une mesure de dispersion des données. Il est tout simplement la racine carrée de la variance. On utilise souvent l’écart type que la variance pour mieux appréhender le degré de dispersion des données."
   ]
  },
  {
   "cell_type": "markdown",
   "metadata": {},
   "source": [
    "# TYPAGE du DATAFRAME AVEC ARRIVE\n",
    "\n",
    "# DF_GAGNANT"
   ]
  },
  {
   "cell_type": "code",
   "execution_count": 10,
   "metadata": {},
   "outputs": [
    {
     "name": "stdout",
     "output_type": "stream",
     "text": [
      "(17758, 16)\n",
      "(17739, 16)\n"
     ]
    }
   ],
   "source": [
    "#gagnant\n",
    "#sélection des chevaux dans les 5 premiers\n",
    "\n",
    "\n",
    "df_gagnant = df\n",
    "\n",
    "# ne sert pas pour calcul\n",
    "#df_gagnant.drop([\"IDPARTCIPANT\"], axis=1, inplace=True)\n",
    "#df_gagnant.drop([\"IDCOURSE\"], axis=1, inplace=True)\n",
    "#df_gagnant.drop([\"PAR_NUM\"], axis=1, inplace=True)\n",
    "\n",
    "\n",
    "\n",
    "# les lignes sans GAIN sont éliminées\n",
    "#df_gagnant=df_gagnant[df_gagnant.PAR_GAIN >0] # On garde les lignes avec GAIN\n",
    "#df_gagnant=df_gagnant[df_gagnant.PAR_GAIN <1000000] # On garde les lignes avec GAIN\n",
    "\n",
    "\n",
    "#df_gagnant=df_gagnant[df_gagnant.Nb_partant >5] # On garde les lignes avec GAIN\n",
    "#df_gagnant=df_gagnant[df_gagnant.Nb_partant <16] # On garde les lignes avec GAIN\n",
    "#df_gagnant.drop([\"Nb_partant\"], axis=1, inplace=True)\n",
    "\n",
    "#les lignes sans arrivée n'apporte rien\n",
    "df_gagnant=df_gagnant[df_gagnant.PAR_ARRIVE>0] # On garde la ligne qui possede information arrivée\n",
    "#df_gagnant=df_gagnant[df_gagnant.CO_PRIX<50000] # On garde la ligne qui possede information arrivée\n",
    "# trvail sur les courses de trot (allure=1)\n",
    "print(df.shape) # description de l'ensemble\n",
    "print(df_gagnant.shape) # description de l'ensemble\n",
    "\n"
   ]
  },
  {
   "cell_type": "code",
   "execution_count": 11,
   "metadata": {},
   "outputs": [
    {
     "data": {
      "text/plain": [
       "Index(['PAR_ARRIVE', 'PAR_ENT_REU_PLACE', 'PAR_ENT_REUSSITE_GAGNE',\n",
       "       'PAR_JOC_PLACE_3P', 'PAR_JOC_REU_PLACE', 'pAR_JOC_REUSSITE_GAGNE',\n",
       "       'pAR_JOC_VICTOIRE', 'PAR_PLACE', 'PAR_PLACE_Q', 'PAR_REUSSITE_3P',\n",
       "       'PAR_REUSSITE_GAGNE', 'PAR_REUSSITE_QUINTE', 'PAR_RUESSITE_PLACE',\n",
       "       'autostart', 'Point', 'Nb_partant'],\n",
       "      dtype='object')"
      ]
     },
     "execution_count": 11,
     "metadata": {},
     "output_type": "execute_result"
    }
   ],
   "source": [
    "\n",
    "\n",
    "\n",
    "COLUM=df_gagnant.columns\n",
    "COLUM\n",
    "\n"
   ]
  },
  {
   "cell_type": "code",
   "execution_count": 12,
   "metadata": {},
   "outputs": [
    {
     "data": {
      "image/png": "[encoded data removed]",
      "text/plain": [
       "<matplotlib.figure.Figure at 0x206bdff27f0>"
      ]
     },
     "metadata": {},
     "output_type": "display_data"
    }
   ],
   "source": [
    "pd.DataFrame.hist(df_gagnant, figsize = [15,15]);"
   ]
  },
  {
   "cell_type": "markdown",
   "metadata": {},
   "source": [
    "# CORRELATION DES DONNEE AVEC CHEVAUX PARMI LES 3 PREMIERS"
   ]
  },
  {
   "cell_type": "code",
   "execution_count": 13,
   "metadata": {},
   "outputs": [],
   "source": [
    "# Creating bins for the win column\n",
    "def assign_selection(W):\n",
    "    \n",
    "    if W >=1 and W <=3:\n",
    "        return 1\n",
    "    if W >3:\n",
    "        return 0\n",
    "    \n"
   ]
  },
  {
   "cell_type": "code",
   "execution_count": 14,
   "metadata": {},
   "outputs": [
    {
     "name": "stdout",
     "output_type": "stream",
     "text": [
      "(17739, 14)\n"
     ]
    },
    {
     "name": "stderr",
     "output_type": "stream",
     "text": [
      "C:\\ProgramData\\Anaconda3\\lib\\site-packages\\ipykernel_launcher.py:3: SettingWithCopyWarning: \n",
      "A value is trying to be set on a copy of a slice from a DataFrame.\n",
      "Try using .loc[row_indexer,col_indexer] = value instead\n",
      "\n",
      "See the caveats in the documentation: http://pandas.pydata.org/pandas-docs/stable/indexing.html#indexing-view-versus-copy\n",
      "  This is separate from the ipykernel package so we can avoid doing imports until\n",
      "C:\\ProgramData\\Anaconda3\\lib\\site-packages\\ipykernel_launcher.py:18: SettingWithCopyWarning: \n",
      "A value is trying to be set on a copy of a slice from a DataFrame\n",
      "\n",
      "See the caveats in the documentation: http://pandas.pydata.org/pandas-docs/stable/indexing.html#indexing-view-versus-copy\n",
      "C:\\ProgramData\\Anaconda3\\lib\\site-packages\\ipykernel_launcher.py:19: SettingWithCopyWarning: \n",
      "A value is trying to be set on a copy of a slice from a DataFrame\n",
      "\n",
      "See the caveats in the documentation: http://pandas.pydata.org/pandas-docs/stable/indexing.html#indexing-view-versus-copy\n",
      "C:\\ProgramData\\Anaconda3\\lib\\site-packages\\ipykernel_launcher.py:20: SettingWithCopyWarning: \n",
      "A value is trying to be set on a copy of a slice from a DataFrame\n",
      "\n",
      "See the caveats in the documentation: http://pandas.pydata.org/pandas-docs/stable/indexing.html#indexing-view-versus-copy\n"
     ]
    }
   ],
   "source": [
    "\n",
    "#df_gagnant['SELECTION'] = (df_gagnant.PAR_ARRIVE<=3).astype(int)\n",
    "df_gagnant['SELECTION'] = df_gagnant['PAR_ARRIVE'].apply(assign_selection)\n",
    "#Suppression de la colonne PAR_ARRIVE\n",
    "#longueur\n",
    "nb=len(df_gagnant)\n",
    "\n",
    "# pour chaque ligne du df_gagnant\n",
    "#for i in xrange(df_gagnant):\n",
    "\n",
    "\n",
    "\n",
    "\n",
    "#Suppression de la PAR_ARRIVE\n",
    "# Elle ne sert plus\n",
    "#df_gagnant.drop([\"IDPARTCIPANT\"], axis=1, inplace=True)\n",
    "#df_gagnant.drop([\"IDCOURSE\"], axis=1, inplace=True)\n",
    "df_gagnant.drop([\"PAR_ARRIVE\"], axis=1, inplace=True)\n",
    "df_gagnant.drop([\"Nb_partant\"], axis=1, inplace=True)\n",
    "df_gagnant.drop([\"autostart\"], axis=1, inplace=True)\n",
    "\n",
    "\n",
    "\n",
    "\n",
    "print(df_gagnant.shape) # description de l'ensemble"
   ]
  },
  {
   "cell_type": "markdown",
   "metadata": {},
   "source": [
    "# Les plus forte correlations avec SELECTION sont :\n",
    "\n",
    " PAR_REUSSITE_3P\n",
    " Point\n",
    " PAR_JOC_REU_PLACE\n",
    "\n",
    "\n",
    "PAR_REUSSITE_GAGNE\n",
    "PAR_ENT_REU_PLACE\n",
    "PAR_JOC_REUSSITE_GAGNE\n",
    "PAR_ENT_REUSSITE_GAGNE\n",
    "PAR_JOC_NB_COURSE\n",
    "PAR_JOC_PLACE_3P\n",
    "PAR_JOC_VICTOIRE\n",
    "PAR_ENT_VICTOIRE\n",
    "\n",
    "\n",
    "\n",
    "\n",
    "\n"
   ]
  },
  {
   "cell_type": "code",
   "execution_count": 15,
   "metadata": {},
   "outputs": [
    {
     "name": "stdout",
     "output_type": "stream",
     "text": [
      "Index(['PAR_ENT_REU_PLACE', 'PAR_ENT_REUSSITE_GAGNE', 'PAR_JOC_PLACE_3P',\n",
      "       'PAR_JOC_REU_PLACE', 'pAR_JOC_REUSSITE_GAGNE', 'pAR_JOC_VICTOIRE',\n",
      "       'PAR_PLACE', 'PAR_PLACE_Q', 'PAR_REUSSITE_3P', 'PAR_REUSSITE_GAGNE',\n",
      "       'PAR_REUSSITE_QUINTE', 'PAR_RUESSITE_PLACE', 'Point', 'SELECTION'],\n",
      "      dtype='object')\n",
      "(17739, 14)\n"
     ]
    }
   ],
   "source": [
    "\n",
    "COLUM=df_gagnant.columns\n",
    "print(COLUM)\n",
    "print(df_gagnant.shape) # description de l'ensemble\n"
   ]
  },
  {
   "cell_type": "code",
   "execution_count": 16,
   "metadata": {},
   "outputs": [
    {
     "name": "stdout",
     "output_type": "stream",
     "text": [
      "(17739, 14)\n",
      "['PAR_ENT_REU_PLACE', 'PAR_ENT_REUSSITE_GAGNE', 'PAR_JOC_PLACE_3P', 'PAR_JOC_REU_PLACE', 'pAR_JOC_REUSSITE_GAGNE', 'pAR_JOC_VICTOIRE', 'PAR_PLACE', 'PAR_PLACE_Q', 'PAR_REUSSITE_3P', 'PAR_REUSSITE_GAGNE', 'PAR_REUSSITE_QUINTE', 'PAR_RUESSITE_PLACE', 'Point']\n"
     ]
    }
   ],
   "source": [
    "print(df_gagnant.shape) # description de l'ensemble\n",
    "Lib_features = list(df_gagnant.columns[:13]) # Liebllé des variable DATA\n",
    "\n",
    "#---------------------------------------------------\n",
    "feature_columns = Lib_features\n",
    "#feature_columns=[\"Point\",\"PAR_RUESSITE_PLACE\",\"PAR_REUSSITE_QUINTE\",\"PAR_ENT_REUSSITE_GAGNE\",\"PAR_REUSSITE_3P\",\"PAR_PLACE_Q\",\"PAR_PLACE\",\"pAR_JOC_VICTOIRE\"]\n",
    "n_features =len(feature_columns)\n",
    "#---------------------------------------------------\n",
    "\n",
    "print(feature_columns)\n",
    "lib_cible =  \"SELECTION\" # libellé de la variable CIBLE\n",
    "response_column = [\"SELECTION\"]\n",
    "\n",
    "my_Features=[\"Point\",\"PAR_COTEDER\"]\n",
    "##my_Features=[\"PAR_REUSSITE_3P\",\"Point\",\"PAR_JOC_REU_PLACE\",\"PAR_REUSSITE_GAGNE\",\"PAR_ENT_REU_PLACE\",\"PAR_ENT_VICTOIRE\"]\n",
    "#Lib_features=my_Features\n",
    "#my_Features = Lib_features\n",
    "#Lib_features=my_Features"
   ]
  },
  {
   "cell_type": "code",
   "execution_count": 17,
   "metadata": {},
   "outputs": [
    {
     "data": {
      "image/png": "[encoded data removed]",
      "text/plain": [
       "<matplotlib.figure.Figure at 0x206be44aa20>"
      ]
     },
     "metadata": {},
     "output_type": "display_data"
    }
   ],
   "source": [
    "pd.DataFrame.hist(df_gagnant, figsize = [15,15]);"
   ]
  },
  {
   "cell_type": "markdown",
   "metadata": {},
   "source": [
    "#  SEPARATION DES DONNEES\n",
    "\n",
    "# Training et Test"
   ]
  },
  {
   "cell_type": "code",
   "execution_count": 18,
   "metadata": {},
   "outputs": [
    {
     "name": "stdout",
     "output_type": "stream",
     "text": [
      "Train_x Shape ::  (14191, 13)\n",
      "Train_y Shape ::  (14191,)\n",
      "Test_x Shape ::  (3548, 13)\n",
      "Test_y Shape ::  (3548,)\n",
      "Index(['PAR_ENT_REU_PLACE', 'PAR_ENT_REUSSITE_GAGNE', 'PAR_JOC_PLACE_3P',\n",
      "       'PAR_JOC_REU_PLACE', 'pAR_JOC_REUSSITE_GAGNE', 'pAR_JOC_VICTOIRE',\n",
      "       'PAR_PLACE', 'PAR_PLACE_Q', 'PAR_REUSSITE_3P', 'PAR_REUSSITE_GAGNE',\n",
      "       'PAR_REUSSITE_QUINTE', 'PAR_RUESSITE_PLACE', 'Point'],\n",
      "      dtype='object')\n"
     ]
    },
    {
     "name": "stderr",
     "output_type": "stream",
     "text": [
      "C:\\ProgramData\\Anaconda3\\lib\\site-packages\\sklearn\\model_selection\\_split.py:2026: FutureWarning: From version 0.21, test_size will always complement train_size unless both are specified.\n",
      "  FutureWarning)\n"
     ]
    }
   ],
   "source": [
    "df_scale = df_gagnant.copy()\n",
    "\n",
    "\n",
    "train_x, test_x, train_y, test_y = split_dataset(df_gagnant, 0.8, Lib_features, lib_cible)    \n",
    "\n",
    "#print(df_gagnant.columns) # description de l'ensemble\n",
    "print(train_x.columns) # description de l'ensemble"
   ]
  },
  {
   "cell_type": "code",
   "execution_count": 19,
   "metadata": {},
   "outputs": [],
   "source": [
    "from sklearn.preprocessing import StandardScaler\n",
    "mms=StandardScaler()\n",
    "train_x=mms.fit_transform(train_x)\n",
    "test_x=mms.transform(test_x)\n"
   ]
  },
  {
   "cell_type": "code",
   "execution_count": 20,
   "metadata": {},
   "outputs": [
    {
     "data": {
      "text/plain": [
       "array([-1.9395105 , -1.23846207, -0.97853216, -1.8989828 , -1.15935258,\n",
       "       -0.7954048 , -0.44049359, -0.27780224,  1.35315634,  2.80194511,\n",
       "       -0.18697744, -0.49273678, -1.55390571])"
      ]
     },
     "execution_count": 20,
     "metadata": {},
     "output_type": "execute_result"
    }
   ],
   "source": [
    "train_x[0]"
   ]
  },
  {
   "cell_type": "code",
   "execution_count": 21,
   "metadata": {},
   "outputs": [],
   "source": [
    "# Définir une classe TIme au temps d'exécution total de l'ordinateur\n",
    "class Timer:\n",
    "  def __init__(self):\n",
    "    self.start = time.time()\n",
    "\n",
    "  def restart(self):\n",
    "    self.start = time.time()\n",
    "\n",
    "  def get_time(self):\n",
    "    end = time.time()\n",
    "    m, s = divmod(end - self.start, 60)\n",
    "    h, m = divmod(m, 60)\n",
    "    time_str = \"%02d:%02d:%02d\" % (h, m, s)\n",
    "    return time_str\n"
   ]
  },
  {
   "cell_type": "code",
   "execution_count": 22,
   "metadata": {},
   "outputs": [],
   "source": [
    "# Utility function to report best scores\n",
    "def report(results, n_top=20):\n",
    "    for i in range(1, n_top + 1):\n",
    "        candidates = np.flatnonzero(results['rank_test_score'] == i)\n",
    "        for candidate in candidates:\n",
    "            print(\"Model with rank: {0}\".format(i))\n",
    "            print(\"Mean validation score: {0:.3f} (std: {1:.3f})\".format(\n",
    "                  results['mean_test_score'][candidate],\n",
    "                  results['std_test_score'][candidate]))\n",
    "            print(\"Parameters: {0}\".format(results['params'][candidate]))\n",
    "          \n",
    "            print(\"\")            "
   ]
  },
  {
   "cell_type": "code",
   "execution_count": 23,
   "metadata": {},
   "outputs": [],
   "source": [
    "#Définir une fonction d'utilité pour signaler les meilleurs scores\n",
    "def Report_scores(results, n_top=3):\n",
    "    for i in range(1, n_top + 1):\n",
    "        candidates = np.flatnonzero(results['rank_test_score'] == i)\n",
    "        for candidate in candidates:\n",
    "            print(\"Model with rank: {0}\".format(i))\n",
    "            print(\"Mean validation score: {0:.3f} (std: {1:.3f})\".format(\n",
    "                  results['mean_test_score'][candidate],\n",
    "                  results['std_test_score'][candidate]))\n",
    "            print(\"Parameters: {0}\".format(results['params'][candidate]))\n",
    "            print(\"\")"
   ]
  },
  {
   "cell_type": "code",
   "execution_count": 24,
   "metadata": {},
   "outputs": [],
   "source": [
    "#Définir une méthode pour tracer l'importance du prédicteur\n",
    "def Plot_predictor_importance(best_model, feature_columns):\n",
    "    feature_importance = best_model.feature_importances_\n",
    "    feature_importance = 100.0 * (feature_importance / feature_importance.max())\n",
    "    sorted_idx = np.argsort(feature_importance)\n",
    "    y_pos  = np.arange(sorted_idx.shape[0]) + .5\n",
    "    fig, ax = plt.subplots()\n",
    "    ax.barh(y_pos, \n",
    "            feature_importance[sorted_idx], \n",
    "            align='center', \n",
    "            color='green', \n",
    "            ecolor='black', \n",
    "            height=1)\n",
    "    ax.set_yticks(y_pos)\n",
    "    ax.set_yticklabels(feature_columns)\n",
    "    ax.invert_yaxis()\n",
    "    ax.set_xlabel('Relative Importance')\n",
    "    ax.set_title('Predictor Importance')\n",
    "    plt.show()"
   ]
  },
  {
   "cell_type": "code",
   "execution_count": 25,
   "metadata": {},
   "outputs": [],
   "source": [
    "#Définir une méthode pour imprimer la matrice de confusion et les indicateurs de performance\n",
    "def Print_confusion_matrix(cm, auc, heading):\n",
    "    print('\\n', heading)\n",
    "    print(cm)\n",
    "    true_negative  = cm[0,0]\n",
    "    true_positive  = cm[1,1]\n",
    "    false_negative = cm[1,0]\n",
    "    false_positive = cm[0,1]\n",
    "    total = true_negative + true_positive + false_negative + false_positive\n",
    "    accuracy = (true_positive + true_negative)/total\n",
    "    precision = (true_positive)/(true_positive + false_positive)\n",
    "    recall = (true_positive)/(true_positive + false_negative)\n",
    "    misclassification_rate = (false_positive + false_negative)/total\n",
    "    F1 = (2*true_positive)/(2*true_positive + false_positive + false_negative)\n",
    "    print('accuracy.................%7.4f' % accuracy)\n",
    "    print('precision................%7.4f' % precision)\n",
    "    print('recall...................%7.4f' % recall)\n",
    "    print('F1.......................%7.4f' % F1)\n",
    "    print('auc......................%7.4f' % auc)"
   ]
  },
  {
   "cell_type": "markdown",
   "metadata": {},
   "source": [
    "# hyper parametres"
   ]
  },
  {
   "cell_type": "code",
   "execution_count": 26,
   "metadata": {},
   "outputs": [],
   "source": [
    "# specify parameters and distributions to sample from\n",
    "param_dist = {\"max_leaf_nodes\": [None,100,1000,1500,2000,2100,2500, 4000,5000],\n",
    "              \"min_samples_leaf\": [5,50,100,500,1000,200,1000,4000,500],\n",
    "                \"splitter\" : (\"best\", \"random\"),\n",
    "                 \"random_state\": [None,15,20,30,42,50],\n",
    "              \"criterion\": [\"gini\", \"entropy\"]}"
   ]
  },
  {
   "cell_type": "markdown",
   "metadata": {},
   "source": [
    "# Construction de l'estimateur"
   ]
  },
  {
   "cell_type": "code",
   "execution_count": 27,
   "metadata": {},
   "outputs": [],
   "source": [
    "# build a classifier\n",
    "clf = DecisionTreeClassifier(class_weight = 'balanced')\n"
   ]
  },
  {
   "cell_type": "markdown",
   "metadata": {
    "slideshow": {
     "slide_type": "-"
    }
   },
   "source": [
    "# Iteration de l'estimateur avec RandomizeSearch"
   ]
  },
  {
   "cell_type": "code",
   "execution_count": 28,
   "metadata": {},
   "outputs": [
    {
     "name": "stdout",
     "output_type": "stream",
     "text": [
      "\n",
      "Temps de calcul est : 00:00:00\n"
     ]
    }
   ],
   "source": [
    "my_timer = Timer()\n",
    "n_iter_search = 10\n",
    "estimator = RandomizedSearchCV(clf,\n",
    "                                   param_distributions = param_dist,\n",
    "                                   n_iter = n_iter_search)                                                  \n",
    "elapsed = my_timer.get_time()\n",
    "print(\"\\nTemps de calcul est : %s\" % elapsed) "
   ]
  },
  {
   "cell_type": "code",
   "execution_count": 29,
   "metadata": {},
   "outputs": [],
   "source": [
    "#n_iter_search = 20\n",
    "#random_search = RandomizedSearchCV(clf, param_distributions=param_dist,\n",
    "#                                   n_iter=n_iter_search)"
   ]
  },
  {
   "cell_type": "markdown",
   "metadata": {},
   "source": [
    "# FIT"
   ]
  },
  {
   "cell_type": "code",
   "execution_count": 30,
   "metadata": {},
   "outputs": [],
   "source": [
    "fit = estimator.fit(train_x,train_y)\n",
    "    "
   ]
  },
  {
   "cell_type": "markdown",
   "metadata": {},
   "source": [
    "# Cross Validation + Tracer les courbes d'apprentissage."
   ]
  },
  {
   "cell_type": "code",
   "execution_count": 31,
   "metadata": {},
   "outputs": [
    {
     "name": "stdout",
     "output_type": "stream",
     "text": [
      "\n",
      "Temps de calcul est : 00:00:00\n"
     ]
    }
   ],
   "source": [
    "my_timer = Timer()\n",
    "cv_ = ShuffleSplit(n_splits = 20, test_size = 0.20, random_state = 0)\n",
    "#Plot_learning_curve(estimator,'Learning Curves',train_x, train_y, cv = cv_,n_jobs = 1)\n",
    "elapsed = my_timer.get_time()\n",
    "print(\"\\nTemps de calcul est : %s\" % elapsed) "
   ]
  },
  {
   "cell_type": "markdown",
   "metadata": {},
   "source": [
    "# affichage score"
   ]
  },
  {
   "cell_type": "code",
   "execution_count": 32,
   "metadata": {},
   "outputs": [
    {
     "name": "stdout",
     "output_type": "stream",
     "text": [
      "Model with rank: 1\n",
      "Mean validation score: 0.664 (std: 0.006)\n",
      "Parameters: {'splitter': 'best', 'random_state': 42, 'min_samples_leaf': 5, 'max_leaf_nodes': 100, 'criterion': 'gini'}\n",
      "\n",
      "Model with rank: 2\n",
      "Mean validation score: 0.662 (std: 0.013)\n",
      "Parameters: {'splitter': 'best', 'random_state': None, 'min_samples_leaf': 500, 'max_leaf_nodes': 2500, 'criterion': 'entropy'}\n",
      "\n",
      "Model with rank: 3\n",
      "Mean validation score: 0.660 (std: 0.006)\n",
      "Parameters: {'splitter': 'best', 'random_state': 20, 'min_samples_leaf': 50, 'max_leaf_nodes': None, 'criterion': 'gini'}\n",
      "\n",
      "\n",
      "Temps de calcul REPORT est : 00:00:00\n"
     ]
    }
   ],
   "source": [
    "my_timer = Timer()\n",
    "Report_scores(estimator.cv_results_, n_top = 3)\n",
    "elapsed = my_timer.get_time()\n",
    "print(\"\\nTemps de calcul REPORT est : %s\" % elapsed) \n"
   ]
  },
  {
   "cell_type": "markdown",
   "metadata": {},
   "source": [
    "# Meilleur modele :  BEST_MODEL\n"
   ]
  },
  {
   "cell_type": "code",
   "execution_count": 33,
   "metadata": {},
   "outputs": [
    {
     "name": "stdout",
     "output_type": "stream",
     "text": [
      "\n",
      "best_model:\n",
      " DecisionTreeClassifier(class_weight='balanced', criterion='gini',\n",
      "            max_depth=None, max_features=None, max_leaf_nodes=100,\n",
      "            min_impurity_decrease=0.0, min_impurity_split=None,\n",
      "            min_samples_leaf=5, min_samples_split=2,\n",
      "            min_weight_fraction_leaf=0.0, presort=False, random_state=42,\n",
      "            splitter='best')\n"
     ]
    }
   ],
   "source": [
    "best_model = estimator.best_estimator_\n",
    "print('\\nbest_model:\\n', best_model)\n"
   ]
  },
  {
   "cell_type": "markdown",
   "metadata": {},
   "source": [
    "# Importance des features"
   ]
  },
  {
   "cell_type": "code",
   "execution_count": 34,
   "metadata": {},
   "outputs": [
    {
     "name": "stdout",
     "output_type": "stream",
     "text": [
      "\n",
      "Feature Importances: [ 0.022727    0.01369003  0.0313065   0.02364329  0.01827718  0.02884063\n",
      "  0.02167539  0.00978563  0.63391841  0.00599682  0.00201567  0.01001325\n",
      "  0.17811019]\n"
     ]
    },
    {
     "data": {
      "image/png": "[encoded data removed]",
      "text/plain": [
       "<matplotlib.figure.Figure at 0x206be44bf98>"
      ]
     },
     "metadata": {},
     "output_type": "display_data"
    }
   ],
   "source": [
    "print('\\nFeature Importances:', best_model.feature_importances_)\n",
    "Plot_predictor_importance(best_model, feature_columns)"
   ]
  },
  {
   "cell_type": "code",
   "execution_count": 35,
   "metadata": {},
   "outputs": [],
   "source": [
    "y_predicted = best_model.predict(train_x)\n",
    "probabilities = best_model.predict_proba(train_x)"
   ]
  },
  {
   "cell_type": "code",
   "execution_count": 36,
   "metadata": {},
   "outputs": [
    {
     "name": "stdout",
     "output_type": "stream",
     "text": [
      "\n",
      "Classification report:\n",
      "              precision    recall  f1-score   support\n",
      "\n",
      "          0       0.88      0.69      0.78     10321\n",
      "          1       0.48      0.75      0.59      3870\n",
      "\n",
      "avg / total       0.77      0.71      0.72     14191\n",
      "\n"
     ]
    }
   ],
   "source": [
    "c_report = classification_report(train_y, y_predicted)\n",
    "print('\\nClassification report:\\n', c_report)\n"
   ]
  },
  {
   "cell_type": "markdown",
   "metadata": {},
   "source": [
    "# Matrice de confusion du ensemble d'entrainement"
   ]
  },
  {
   "cell_type": "code",
   "execution_count": 37,
   "metadata": {},
   "outputs": [
    {
     "name": "stdout",
     "output_type": "stream",
     "text": [
      "\n",
      " Confusion matrics of the training dataset\n",
      "[[7154 3167]\n",
      " [ 958 2912]]\n",
      "accuracy................. 0.7093\n",
      "precision................ 0.4790\n",
      "recall................... 0.7525\n",
      "F1....................... 0.5854\n",
      "auc...................... 0.7228\n"
     ]
    }
   ],
   "source": [
    "    y_predicted_train = best_model.predict(train_x)\n",
    "    cm = confusion_matrix(train_y, y_predicted_train)\n",
    "    auc = roc_auc_score(train_y, y_predicted_train)\n",
    "    Print_confusion_matrix(cm, auc, 'Confusion matrics of the training dataset')"
   ]
  },
  {
   "cell_type": "code",
   "execution_count": 38,
   "metadata": {},
   "outputs": [
    {
     "name": "stdout",
     "output_type": "stream",
     "text": [
      "\n",
      "Correct classifications on test data: 2408/3548   67.869%\n",
      "Forest Prediction Score on test data:   67.869\n"
     ]
    }
   ],
   "source": [
    "y_predicted = best_model.predict(test_x)\n",
    "cm = confusion_matrix(test_y, y_predicted)\n",
    "auc = roc_auc_score(test_y, y_predicted)\n",
    "\n",
    "ntotal = len(test_y)\n",
    "correct = test_y == y_predicted\n",
    "numCorrect = sum(correct)\n",
    "percent = round( (100.0*numCorrect)/ntotal, 6)\n",
    "print(\"\\nCorrect classifications on test data: {0:d}/{1:d} {2:8.3f}%\".format(numCorrect, ntotal, percent))\n",
    "prediction_score = 100.0*best_model.score(test_x, test_y)\n",
    "print('Forest Prediction Score on test data: %8.3f' % prediction_score)\n",
    "\n"
   ]
  },
  {
   "cell_type": "markdown",
   "metadata": {},
   "source": [
    "# PROBA  = Ensemble des probabilités de X_TEST"
   ]
  },
  {
   "cell_type": "code",
   "execution_count": 39,
   "metadata": {},
   "outputs": [],
   "source": [
    "PROBA=best_model.predict_proba(test_x)\n",
    "#PROBAL=best_model.predict_log_proba(test_x)"
   ]
  },
  {
   "cell_type": "markdown",
   "metadata": {},
   "source": [
    "# DONNEES DE TEST = X_TEST"
   ]
  },
  {
   "cell_type": "code",
   "execution_count": 40,
   "metadata": {},
   "outputs": [
    {
     "data": {
      "text/html": [
       "<div>\n",
       "<style scoped>\n",
       "    .dataframe tbody tr th:only-of-type {\n",
       "        vertical-align: middle;\n",
       "    }\n",
       "\n",
       "    .dataframe tbody tr th {\n",
       "        vertical-align: top;\n",
       "    }\n",
       "\n",
       "    .dataframe thead th {\n",
       "        text-align: right;\n",
       "    }\n",
       "</style>\n",
       "<table border=\"1\" class=\"dataframe\">\n",
       "  <thead>\n",
       "    <tr style=\"text-align: right;\">\n",
       "      <th></th>\n",
       "      <th>0</th>\n",
       "      <th>1</th>\n",
       "    </tr>\n",
       "  </thead>\n",
       "  <tbody>\n",
       "    <tr>\n",
       "      <th>0</th>\n",
       "      <td>0.660131</td>\n",
       "      <td>0.339869</td>\n",
       "    </tr>\n",
       "    <tr>\n",
       "      <th>1</th>\n",
       "      <td>0.683700</td>\n",
       "      <td>0.316300</td>\n",
       "    </tr>\n",
       "    <tr>\n",
       "      <th>2</th>\n",
       "      <td>0.699228</td>\n",
       "      <td>0.300772</td>\n",
       "    </tr>\n",
       "    <tr>\n",
       "      <th>3</th>\n",
       "      <td>0.971828</td>\n",
       "      <td>0.028172</td>\n",
       "    </tr>\n",
       "    <tr>\n",
       "      <th>4</th>\n",
       "      <td>0.523968</td>\n",
       "      <td>0.476032</td>\n",
       "    </tr>\n",
       "  </tbody>\n",
       "</table>\n",
       "</div>"
      ],
      "text/plain": [
       "          0         1\n",
       "0  0.660131  0.339869\n",
       "1  0.683700  0.316300\n",
       "2  0.699228  0.300772\n",
       "3  0.971828  0.028172\n",
       "4  0.523968  0.476032"
      ]
     },
     "execution_count": 40,
     "metadata": {},
     "output_type": "execute_result"
    }
   ],
   "source": [
    "data_frame_proba = pd.DataFrame.from_dict(PROBA)\n",
    "data_frame_proba.head()"
   ]
  },
  {
   "cell_type": "code",
   "execution_count": 41,
   "metadata": {},
   "outputs": [
    {
     "data": {
      "text/plain": [
       "array([[ 0.66013119,  0.33986881],\n",
       "       [ 0.68369998,  0.31630002],\n",
       "       [ 0.69922774,  0.30077226],\n",
       "       ..., \n",
       "       [ 0.66013119,  0.33986881],\n",
       "       [ 0.11198244,  0.88801756],\n",
       "       [ 0.66013119,  0.33986881]])"
      ]
     },
     "execution_count": 41,
     "metadata": {},
     "output_type": "execute_result"
    }
   ],
   "source": [
    "PROBA[1]\n",
    "PROBA\n"
   ]
  },
  {
   "cell_type": "markdown",
   "metadata": {},
   "source": [
    "# JOUER"
   ]
  },
  {
   "cell_type": "code",
   "execution_count": 42,
   "metadata": {},
   "outputs": [
    {
     "name": "stdout",
     "output_type": "stream",
     "text": [
      "Train_x Shape ::  (0, 13)\n",
      "Train_y Shape ::  (0, 1)\n",
      "Test_x Shape ::  (26, 13)\n",
      "Test_y Shape ::  (26, 1)\n"
     ]
    },
    {
     "name": "stderr",
     "output_type": "stream",
     "text": [
      "C:\\ProgramData\\Anaconda3\\lib\\site-packages\\sklearn\\model_selection\\_split.py:2026: FutureWarning: From version 0.21, test_size will always complement train_size unless both are specified.\n",
      "  FutureWarning)\n"
     ]
    },
    {
     "data": {
      "text/html": [
       "<div>\n",
       "<style scoped>\n",
       "    .dataframe tbody tr th:only-of-type {\n",
       "        vertical-align: middle;\n",
       "    }\n",
       "\n",
       "    .dataframe tbody tr th {\n",
       "        vertical-align: top;\n",
       "    }\n",
       "\n",
       "    .dataframe thead th {\n",
       "        text-align: right;\n",
       "    }\n",
       "</style>\n",
       "<table border=\"1\" class=\"dataframe\">\n",
       "  <thead>\n",
       "    <tr style=\"text-align: right;\">\n",
       "      <th></th>\n",
       "      <th></th>\n",
       "      <th></th>\n",
       "      <th>PAR_ENT_REU_PLACE</th>\n",
       "      <th>PAR_ENT_REUSSITE_GAGNE</th>\n",
       "      <th>PAR_JOC_PLACE_3P</th>\n",
       "      <th>PAR_JOC_REU_PLACE</th>\n",
       "      <th>pAR_JOC_REUSSITE_GAGNE</th>\n",
       "      <th>pAR_JOC_VICTOIRE</th>\n",
       "      <th>PAR_PLACE</th>\n",
       "      <th>PAR_PLACE_Q</th>\n",
       "      <th>PAR_REUSSITE_3P</th>\n",
       "      <th>PAR_REUSSITE_GAGNE</th>\n",
       "      <th>PAR_REUSSITE_QUINTE</th>\n",
       "      <th>PAR_RUESSITE_PLACE</th>\n",
       "      <th>Point</th>\n",
       "    </tr>\n",
       "    <tr>\n",
       "      <th>IDPARTCIPANT</th>\n",
       "      <th>IDCOURSE</th>\n",
       "      <th>PAR_NUM</th>\n",
       "      <th></th>\n",
       "      <th></th>\n",
       "      <th></th>\n",
       "      <th></th>\n",
       "      <th></th>\n",
       "      <th></th>\n",
       "      <th></th>\n",
       "      <th></th>\n",
       "      <th></th>\n",
       "      <th></th>\n",
       "      <th></th>\n",
       "      <th></th>\n",
       "      <th></th>\n",
       "    </tr>\n",
       "  </thead>\n",
       "  <tbody>\n",
       "    <tr>\n",
       "      <th>604099.0</th>\n",
       "      <th>48830.0</th>\n",
       "      <th>9.0</th>\n",
       "      <td>0.23</td>\n",
       "      <td>0.08</td>\n",
       "      <td>38.0</td>\n",
       "      <td>0.21</td>\n",
       "      <td>0.04</td>\n",
       "      <td>8.0</td>\n",
       "      <td>19.0</td>\n",
       "      <td>9.0</td>\n",
       "      <td>0.433333</td>\n",
       "      <td>0.116667</td>\n",
       "      <td>0.05</td>\n",
       "      <td>0.316667</td>\n",
       "      <td>288.0</td>\n",
       "    </tr>\n",
       "    <tr>\n",
       "      <th>604056.0</th>\n",
       "      <th>48826.0</th>\n",
       "      <th>4.0</th>\n",
       "      <td>0.00</td>\n",
       "      <td>0.00</td>\n",
       "      <td>12.0</td>\n",
       "      <td>0.21</td>\n",
       "      <td>0.01</td>\n",
       "      <td>1.0</td>\n",
       "      <td>8.0</td>\n",
       "      <td>1.0</td>\n",
       "      <td>0.414634</td>\n",
       "      <td>0.219512</td>\n",
       "      <td>0.00</td>\n",
       "      <td>0.195122</td>\n",
       "      <td>164.0</td>\n",
       "    </tr>\n",
       "    <tr>\n",
       "      <th>604089.0</th>\n",
       "      <th>48830.0</th>\n",
       "      <th>1.0</th>\n",
       "      <td>0.26</td>\n",
       "      <td>0.09</td>\n",
       "      <td>9.0</td>\n",
       "      <td>0.34</td>\n",
       "      <td>0.07</td>\n",
       "      <td>2.0</td>\n",
       "      <td>2.0</td>\n",
       "      <td>0.0</td>\n",
       "      <td>0.333333</td>\n",
       "      <td>0.250000</td>\n",
       "      <td>0.00</td>\n",
       "      <td>0.083333</td>\n",
       "      <td>134.0</td>\n",
       "    </tr>\n",
       "    <tr>\n",
       "      <th>604066.0</th>\n",
       "      <th>48827.0</th>\n",
       "      <th>6.0</th>\n",
       "      <td>0.34</td>\n",
       "      <td>0.13</td>\n",
       "      <td>7.0</td>\n",
       "      <td>0.23</td>\n",
       "      <td>0.06</td>\n",
       "      <td>2.0</td>\n",
       "      <td>0.0</td>\n",
       "      <td>0.0</td>\n",
       "      <td>0.000000</td>\n",
       "      <td>0.000000</td>\n",
       "      <td>0.00</td>\n",
       "      <td>0.000000</td>\n",
       "      <td>94.0</td>\n",
       "    </tr>\n",
       "    <tr>\n",
       "      <th>604044.0</th>\n",
       "      <th>48824.0</th>\n",
       "      <th>3.0</th>\n",
       "      <td>0.59</td>\n",
       "      <td>0.27</td>\n",
       "      <td>157.0</td>\n",
       "      <td>0.59</td>\n",
       "      <td>0.29</td>\n",
       "      <td>79.0</td>\n",
       "      <td>4.0</td>\n",
       "      <td>0.0</td>\n",
       "      <td>1.000000</td>\n",
       "      <td>0.000000</td>\n",
       "      <td>0.00</td>\n",
       "      <td>1.000000</td>\n",
       "      <td>305.0</td>\n",
       "    </tr>\n",
       "  </tbody>\n",
       "</table>\n",
       "</div>"
      ],
      "text/plain": [
       "                               PAR_ENT_REU_PLACE  PAR_ENT_REUSSITE_GAGNE  \\\n",
       "IDPARTCIPANT IDCOURSE PAR_NUM                                              \n",
       "604099.0     48830.0  9.0                   0.23                    0.08   \n",
       "604056.0     48826.0  4.0                   0.00                    0.00   \n",
       "604089.0     48830.0  1.0                   0.26                    0.09   \n",
       "604066.0     48827.0  6.0                   0.34                    0.13   \n",
       "604044.0     48824.0  3.0                   0.59                    0.27   \n",
       "\n",
       "                               PAR_JOC_PLACE_3P  PAR_JOC_REU_PLACE  \\\n",
       "IDPARTCIPANT IDCOURSE PAR_NUM                                        \n",
       "604099.0     48830.0  9.0                  38.0               0.21   \n",
       "604056.0     48826.0  4.0                  12.0               0.21   \n",
       "604089.0     48830.0  1.0                   9.0               0.34   \n",
       "604066.0     48827.0  6.0                   7.0               0.23   \n",
       "604044.0     48824.0  3.0                 157.0               0.59   \n",
       "\n",
       "                               pAR_JOC_REUSSITE_GAGNE  pAR_JOC_VICTOIRE  \\\n",
       "IDPARTCIPANT IDCOURSE PAR_NUM                                             \n",
       "604099.0     48830.0  9.0                        0.04               8.0   \n",
       "604056.0     48826.0  4.0                        0.01               1.0   \n",
       "604089.0     48830.0  1.0                        0.07               2.0   \n",
       "604066.0     48827.0  6.0                        0.06               2.0   \n",
       "604044.0     48824.0  3.0                        0.29              79.0   \n",
       "\n",
       "                               PAR_PLACE  PAR_PLACE_Q  PAR_REUSSITE_3P  \\\n",
       "IDPARTCIPANT IDCOURSE PAR_NUM                                            \n",
       "604099.0     48830.0  9.0           19.0          9.0         0.433333   \n",
       "604056.0     48826.0  4.0            8.0          1.0         0.414634   \n",
       "604089.0     48830.0  1.0            2.0          0.0         0.333333   \n",
       "604066.0     48827.0  6.0            0.0          0.0         0.000000   \n",
       "604044.0     48824.0  3.0            4.0          0.0         1.000000   \n",
       "\n",
       "                               PAR_REUSSITE_GAGNE  PAR_REUSSITE_QUINTE  \\\n",
       "IDPARTCIPANT IDCOURSE PAR_NUM                                            \n",
       "604099.0     48830.0  9.0                0.116667                 0.05   \n",
       "604056.0     48826.0  4.0                0.219512                 0.00   \n",
       "604089.0     48830.0  1.0                0.250000                 0.00   \n",
       "604066.0     48827.0  6.0                0.000000                 0.00   \n",
       "604044.0     48824.0  3.0                0.000000                 0.00   \n",
       "\n",
       "                               PAR_RUESSITE_PLACE  Point  \n",
       "IDPARTCIPANT IDCOURSE PAR_NUM                             \n",
       "604099.0     48830.0  9.0                0.316667  288.0  \n",
       "604056.0     48826.0  4.0                0.195122  164.0  \n",
       "604089.0     48830.0  1.0                0.083333  134.0  \n",
       "604066.0     48827.0  6.0                0.000000   94.0  \n",
       "604044.0     48824.0  3.0                1.000000  305.0  "
      ]
     },
     "execution_count": 42,
     "metadata": {},
     "output_type": "execute_result"
    }
   ],
   "source": [
    "\n",
    "df_numero_a_predire[lib_cible] =0\n",
    "train_x, test_x, train_y, test_y = split_dataset(df_numero_a_predire, 0, feature_columns, response_column)   \n",
    "\n",
    "test_copy = test_x.copy()\n",
    "\n",
    "test_x.head()"
   ]
  },
  {
   "cell_type": "code",
   "execution_count": 43,
   "metadata": {},
   "outputs": [],
   "source": [
    "#from sklearn.preprocessing import MinMaxScaler\n",
    "#mms=MinMaxScaler()\n",
    "#test_x=mms.fit_transform(test_x)\n",
    "#test_x=mms.transform(test_x)\n",
    "\n",
    "from sklearn.preprocessing import StandardScaler\n",
    "mms=StandardScaler()\n",
    "test_x=mms.fit_transform(test_x)\n",
    "#test_x=mms.transform(test_x)\n"
   ]
  },
  {
   "cell_type": "code",
   "execution_count": 44,
   "metadata": {},
   "outputs": [],
   "source": [
    "y_pred=best_model.predict(test_x)\n"
   ]
  },
  {
   "cell_type": "code",
   "execution_count": 45,
   "metadata": {},
   "outputs": [
    {
     "name": "stdout",
     "output_type": "stream",
     "text": [
      "[0 0 0 0 1 1 1 1 0 0 0 1 1 0 0 1 1 0 0 0 1 0 1 0 1 0]\n"
     ]
    }
   ],
   "source": [
    "\n",
    "df_pred = pd.DataFrame.from_dict(y_pred)\n",
    "#print(df_pred)\n",
    "print(y_pred)\n"
   ]
  },
  {
   "cell_type": "code",
   "execution_count": 46,
   "metadata": {},
   "outputs": [],
   "source": [
    "PROBA=best_model.predict_proba(test_x)\n",
    "\n",
    "\n",
    "df_proba = pd.DataFrame.from_dict(PROBA)\n",
    "\n"
   ]
  },
  {
   "cell_type": "code",
   "execution_count": 47,
   "metadata": {},
   "outputs": [
    {
     "data": {
      "text/html": [
       "<div>\n",
       "<style scoped>\n",
       "    .dataframe tbody tr th:only-of-type {\n",
       "        vertical-align: middle;\n",
       "    }\n",
       "\n",
       "    .dataframe tbody tr th {\n",
       "        vertical-align: top;\n",
       "    }\n",
       "\n",
       "    .dataframe thead th {\n",
       "        text-align: right;\n",
       "    }\n",
       "</style>\n",
       "<table border=\"1\" class=\"dataframe\">\n",
       "  <thead>\n",
       "    <tr style=\"text-align: right;\">\n",
       "      <th></th>\n",
       "      <th>0</th>\n",
       "      <th>1</th>\n",
       "      <th>0</th>\n",
       "    </tr>\n",
       "  </thead>\n",
       "  <tbody>\n",
       "    <tr>\n",
       "      <th>0</th>\n",
       "      <td>0.714266</td>\n",
       "      <td>0.285734</td>\n",
       "      <td>0</td>\n",
       "    </tr>\n",
       "    <tr>\n",
       "      <th>1</th>\n",
       "      <td>0.523968</td>\n",
       "      <td>0.476032</td>\n",
       "      <td>0</td>\n",
       "    </tr>\n",
       "    <tr>\n",
       "      <th>2</th>\n",
       "      <td>0.660131</td>\n",
       "      <td>0.339869</td>\n",
       "      <td>0</td>\n",
       "    </tr>\n",
       "    <tr>\n",
       "      <th>3</th>\n",
       "      <td>0.939489</td>\n",
       "      <td>0.060511</td>\n",
       "      <td>0</td>\n",
       "    </tr>\n",
       "    <tr>\n",
       "      <th>4</th>\n",
       "      <td>0.111982</td>\n",
       "      <td>0.888018</td>\n",
       "      <td>1</td>\n",
       "    </tr>\n",
       "  </tbody>\n",
       "</table>\n",
       "</div>"
      ],
      "text/plain": [
       "          0         1  0\n",
       "0  0.714266  0.285734  0\n",
       "1  0.523968  0.476032  0\n",
       "2  0.660131  0.339869  0\n",
       "3  0.939489  0.060511  0\n",
       "4  0.111982  0.888018  1"
      ]
     },
     "execution_count": 47,
     "metadata": {},
     "output_type": "execute_result"
    }
   ],
   "source": [
    "# ajouter a test_x les collone 0 et 1 (probabilité)\n",
    "\n",
    "\n",
    "df_final =pd.concat([df_proba,df_pred], axis=1)\n",
    "\n",
    "\n",
    "df_final.head()\n",
    "\n"
   ]
  },
  {
   "cell_type": "code",
   "execution_count": 48,
   "metadata": {},
   "outputs": [],
   "source": [
    "test_x = test_copy.copy()"
   ]
  },
  {
   "cell_type": "code",
   "execution_count": 49,
   "metadata": {},
   "outputs": [],
   "source": [
    "def my_drop(df,col):\n",
    "    if col in df:\n",
    "        df.drop([col], axis=1, inplace=True)\n",
    "    return df    "
   ]
  },
  {
   "cell_type": "code",
   "execution_count": 50,
   "metadata": {},
   "outputs": [
    {
     "data": {
      "text/html": [
       "<div>\n",
       "<style scoped>\n",
       "    .dataframe tbody tr th:only-of-type {\n",
       "        vertical-align: middle;\n",
       "    }\n",
       "\n",
       "    .dataframe tbody tr th {\n",
       "        vertical-align: top;\n",
       "    }\n",
       "\n",
       "    .dataframe thead th {\n",
       "        text-align: right;\n",
       "    }\n",
       "</style>\n",
       "<table border=\"1\" class=\"dataframe\">\n",
       "  <thead>\n",
       "    <tr style=\"text-align: right;\">\n",
       "      <th></th>\n",
       "      <th></th>\n",
       "      <th></th>\n",
       "      <th>Point</th>\n",
       "    </tr>\n",
       "    <tr>\n",
       "      <th>IDPARTCIPANT</th>\n",
       "      <th>IDCOURSE</th>\n",
       "      <th>PAR_NUM</th>\n",
       "      <th></th>\n",
       "    </tr>\n",
       "  </thead>\n",
       "  <tbody>\n",
       "    <tr>\n",
       "      <th>604099.0</th>\n",
       "      <th>48830.0</th>\n",
       "      <th>9.0</th>\n",
       "      <td>288.0</td>\n",
       "    </tr>\n",
       "    <tr>\n",
       "      <th>604056.0</th>\n",
       "      <th>48826.0</th>\n",
       "      <th>4.0</th>\n",
       "      <td>164.0</td>\n",
       "    </tr>\n",
       "    <tr>\n",
       "      <th>604089.0</th>\n",
       "      <th>48830.0</th>\n",
       "      <th>1.0</th>\n",
       "      <td>134.0</td>\n",
       "    </tr>\n",
       "    <tr>\n",
       "      <th>604066.0</th>\n",
       "      <th>48827.0</th>\n",
       "      <th>6.0</th>\n",
       "      <td>94.0</td>\n",
       "    </tr>\n",
       "    <tr>\n",
       "      <th>604044.0</th>\n",
       "      <th>48824.0</th>\n",
       "      <th>3.0</th>\n",
       "      <td>305.0</td>\n",
       "    </tr>\n",
       "  </tbody>\n",
       "</table>\n",
       "</div>"
      ],
      "text/plain": [
       "                               Point\n",
       "IDPARTCIPANT IDCOURSE PAR_NUM       \n",
       "604099.0     48830.0  9.0      288.0\n",
       "604056.0     48826.0  4.0      164.0\n",
       "604089.0     48830.0  1.0      134.0\n",
       "604066.0     48827.0  6.0       94.0\n",
       "604044.0     48824.0  3.0      305.0"
      ]
     },
     "execution_count": 50,
     "metadata": {},
     "output_type": "execute_result"
    }
   ],
   "source": [
    "test_x=my_drop(test_x,'PAR_CLASSE_AGE')\n",
    "test_x=my_drop(test_x,'PAR_ENT_ECART_GAGNANT')\n",
    "test_x=my_drop(test_x,'PAR_ENT_RAPPORT_GAGNANT_M')\n",
    "test_x=my_drop(test_x,'PAR_ENT_REU_PLACE')\n",
    "test_x=my_drop(test_x,'PAR_ENT_REUSSITE_GAGNE')\n",
    "test_x=my_drop(test_x,'PAR_ENT_VICTOIRE')\n",
    "test_x=my_drop(test_x,'PAR_GAIN')\n",
    "test_x=my_drop(test_x,'pAR_JOC_ECART_GAGNANT')\n",
    "test_x=my_drop(test_x,'PAR_JOC_ECART_PLACE')\n",
    "test_x=my_drop(test_x,'PAR_JOC_NB_COURSE')\n",
    "test_x=my_drop(test_x,'PAR_JOC_PLACE_3P')\n",
    "test_x=my_drop(test_x,'PAR_REUSSITE_GAGNE')\n",
    "test_x=my_drop(test_x,'PAR_REUSSITE_QUINTE')\n",
    "test_x=my_drop(test_x,'PAR_RUESSITE_PLACE')\n",
    "test_x=my_drop(test_x,'CO_PRIX')\n",
    "test_x=my_drop(test_x,'PAR_CARRIERE')\n",
    "test_x=my_drop(test_x,'PAR_CARRIERE_Q')\n",
    "test_x=my_drop(test_x,'pAR_JOC_RAPPORT_GAGNANT_M')\n",
    "test_x=my_drop(test_x,'pAR_JOC_REUSSITE_GAGNE')\n",
    "test_x=my_drop(test_x,'pAR_JOC_VICTOIRE')\n",
    "test_x=my_drop(test_x,'PAR_PLACE')\n",
    "test_x=my_drop(test_x,'PAR_PLACE_Q')\n",
    "test_x=my_drop(test_x,'PAR_CLASSE_AGE')\n",
    "test_x=my_drop(test_x,'pAR_JOC_VICTOIRE')\n",
    "test_x=my_drop(test_x,'PAR_REUSSITE_3P')\n",
    "test_x=my_drop(test_x,'PAR_JOC_REU_PLACE')\n",
    "test_x=my_drop(test_x,'PAR_COTEDER')\n",
    "test_x=my_drop(test_x,'musique')\n",
    "\n",
    "test_x.head()\n"
   ]
  },
  {
   "cell_type": "code",
   "execution_count": 51,
   "metadata": {},
   "outputs": [
    {
     "name": "stdout",
     "output_type": "stream",
     "text": [
      "Index(['Point'], dtype='object')\n"
     ]
    }
   ],
   "source": [
    "print(test_x.columns)\n",
    "\n"
   ]
  },
  {
   "cell_type": "code",
   "execution_count": 52,
   "metadata": {},
   "outputs": [],
   "source": [
    "test_x['v0']=0.0\n",
    "test_x['v1']=0.0\n",
    "test_x['sel']=0\n",
    "#test_x\n",
    "\n"
   ]
  },
  {
   "cell_type": "code",
   "execution_count": 53,
   "metadata": {},
   "outputs": [
    {
     "name": "stderr",
     "output_type": "stream",
     "text": [
      "C:\\ProgramData\\Anaconda3\\lib\\site-packages\\ipykernel_launcher.py:8: SettingWithCopyWarning: \n",
      "A value is trying to be set on a copy of a slice from a DataFrame\n",
      "\n",
      "See the caveats in the documentation: http://pandas.pydata.org/pandas-docs/stable/indexing.html#indexing-view-versus-copy\n",
      "  \n",
      "C:\\ProgramData\\Anaconda3\\lib\\site-packages\\ipykernel_launcher.py:10: SettingWithCopyWarning: \n",
      "A value is trying to be set on a copy of a slice from a DataFrame\n",
      "\n",
      "See the caveats in the documentation: http://pandas.pydata.org/pandas-docs/stable/indexing.html#indexing-view-versus-copy\n",
      "  # Remove the CWD from sys.path while we load stuff.\n"
     ]
    },
    {
     "name": "stdout",
     "output_type": "stream",
     "text": [
      "\n",
      "Temps de la copie est : 00:00:01\n"
     ]
    }
   ],
   "source": [
    "cumul=1\n",
    "\n",
    "my_timer = Timer()\n",
    "nb_rows=len(df_proba.index)\n",
    "\n",
    "for i in range(0,nb_rows):\n",
    "    n=df_proba[0][i]\n",
    "    test_x['v0'][i]=n    \n",
    "    n=df_proba[1][i]\n",
    "    test_x['v1'][i]=n      \n",
    "    #i +=1\n",
    "    \n",
    "\n",
    "elapsed = my_timer.get_time()\n",
    "print(\"\\nTemps de la copie est : %s\" % elapsed)     \n",
    "    \n"
   ]
  },
  {
   "cell_type": "code",
   "execution_count": 54,
   "metadata": {},
   "outputs": [
    {
     "data": {
      "text/html": [
       "<div>\n",
       "<style scoped>\n",
       "    .dataframe tbody tr th:only-of-type {\n",
       "        vertical-align: middle;\n",
       "    }\n",
       "\n",
       "    .dataframe tbody tr th {\n",
       "        vertical-align: top;\n",
       "    }\n",
       "\n",
       "    .dataframe thead th {\n",
       "        text-align: right;\n",
       "    }\n",
       "</style>\n",
       "<table border=\"1\" class=\"dataframe\">\n",
       "  <thead>\n",
       "    <tr style=\"text-align: right;\">\n",
       "      <th></th>\n",
       "      <th></th>\n",
       "      <th></th>\n",
       "      <th>Point</th>\n",
       "      <th>v0</th>\n",
       "      <th>v1</th>\n",
       "      <th>sel</th>\n",
       "    </tr>\n",
       "    <tr>\n",
       "      <th>IDPARTCIPANT</th>\n",
       "      <th>IDCOURSE</th>\n",
       "      <th>PAR_NUM</th>\n",
       "      <th></th>\n",
       "      <th></th>\n",
       "      <th></th>\n",
       "      <th></th>\n",
       "    </tr>\n",
       "  </thead>\n",
       "  <tbody>\n",
       "    <tr>\n",
       "      <th>604099.0</th>\n",
       "      <th>48830.0</th>\n",
       "      <th>9.0</th>\n",
       "      <td>288.0</td>\n",
       "      <td>0.714266</td>\n",
       "      <td>0.285734</td>\n",
       "      <td>0</td>\n",
       "    </tr>\n",
       "    <tr>\n",
       "      <th>604056.0</th>\n",
       "      <th>48826.0</th>\n",
       "      <th>4.0</th>\n",
       "      <td>164.0</td>\n",
       "      <td>0.523968</td>\n",
       "      <td>0.476032</td>\n",
       "      <td>0</td>\n",
       "    </tr>\n",
       "    <tr>\n",
       "      <th>604089.0</th>\n",
       "      <th>48830.0</th>\n",
       "      <th>1.0</th>\n",
       "      <td>134.0</td>\n",
       "      <td>0.660131</td>\n",
       "      <td>0.339869</td>\n",
       "      <td>0</td>\n",
       "    </tr>\n",
       "    <tr>\n",
       "      <th>604066.0</th>\n",
       "      <th>48827.0</th>\n",
       "      <th>6.0</th>\n",
       "      <td>94.0</td>\n",
       "      <td>0.939489</td>\n",
       "      <td>0.060511</td>\n",
       "      <td>0</td>\n",
       "    </tr>\n",
       "    <tr>\n",
       "      <th>604044.0</th>\n",
       "      <th>48824.0</th>\n",
       "      <th>3.0</th>\n",
       "      <td>305.0</td>\n",
       "      <td>0.111982</td>\n",
       "      <td>0.888018</td>\n",
       "      <td>0</td>\n",
       "    </tr>\n",
       "  </tbody>\n",
       "</table>\n",
       "</div>"
      ],
      "text/plain": [
       "                               Point        v0        v1  sel\n",
       "IDPARTCIPANT IDCOURSE PAR_NUM                                \n",
       "604099.0     48830.0  9.0      288.0  0.714266  0.285734    0\n",
       "604056.0     48826.0  4.0      164.0  0.523968  0.476032    0\n",
       "604089.0     48830.0  1.0      134.0  0.660131  0.339869    0\n",
       "604066.0     48827.0  6.0       94.0  0.939489  0.060511    0\n",
       "604044.0     48824.0  3.0      305.0  0.111982  0.888018    0"
      ]
     },
     "execution_count": 54,
     "metadata": {},
     "output_type": "execute_result"
    }
   ],
   "source": [
    "test_x.head()"
   ]
  },
  {
   "cell_type": "markdown",
   "metadata": {},
   "source": [
    "# Recuperation du resultat de la predication sous forme CSV\n",
    "# Ce fichier est lu par EXE windev !!!!!!!\n",
    "# Pour chaque course,numero un pourcentage pour chaque classe"
   ]
  },
  {
   "cell_type": "code",
   "execution_count": 55,
   "metadata": {},
   "outputs": [],
   "source": [
    "test_x.to_csv('d:\\py_resultat.csv')\n",
    "\n"
   ]
  },
  {
   "cell_type": "code",
   "execution_count": null,
   "metadata": {},
   "outputs": [],
   "source": []
  },
  {
   "cell_type": "code",
   "execution_count": null,
   "metadata": {},
   "outputs": [],
   "source": []
  },
  {
   "cell_type": "code",
   "execution_count": null,
   "metadata": {},
   "outputs": [],
   "source": []
  },
  {
   "cell_type": "code",
   "execution_count": null,
   "metadata": {},
   "outputs": [],
   "source": []
  },
  {
   "cell_type": "code",
   "execution_count": null,
   "metadata": {},
   "outputs": [],
   "source": []
  },
  {
   "cell_type": "code",
   "execution_count": null,
   "metadata": {},
   "outputs": [],
   "source": []
  }
 ],
 "metadata": {
  "celltoolbar": "Slideshow",
  "kernelspec": {
   "display_name": "Python 3",
   "language": "python",
   "name": "python3"
  },
  "language_info": {
   "codemirror_mode": {
    "name": "ipython",
    "version": 3
   },
   "file_extension": ".py",
   "mimetype": "text/x-python",
   "name": "python",
   "nbconvert_exporter": "python",
   "pygments_lexer": "ipython3",
   "version": "3.6.3"
  }
 },
 "nbformat": 4,
 "nbformat_minor": 2
}
