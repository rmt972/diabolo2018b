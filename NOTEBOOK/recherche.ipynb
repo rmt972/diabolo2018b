{
 "cells": [
  {
   "cell_type": "code",
   "execution_count": 2,
   "metadata": {
    "collapsed": true
   },
   "outputs": [
    {
     "name": "stdout",
     "output_type": "stream",
     "text": [
      "Operating system version.... Windows-10-10.0.16299-SP0\nPython version is........... 3.6.5\nscikit-learn version is..... 0.19.1\npandas version is........... 0.22.0\nnumpy version is............ 1.14.2\nmatplotlib version is....... 2.2.0\nscipy version is....... 1.0.0\n"
     ]
    }
   ],
   "source": [
    "import  sys\n",
    "sys.path.insert(0, \"C:/projets_python/diabolo\")\n",
    "import etude_variable.test\n",
    "\n",
    "import etude_variable.lecture_data as ld\n",
    "\n",
    "import  etude_variable.analyse as ana\n",
    "\n",
    "import sklearn\n",
    "\n",
    "from sklearn.metrics import confusion_matrix, accuracy_score, make_scorer\n",
    "from sklearn.model_selection import learning_curve\n",
    "from sklearn import  metrics\n",
    "from sklearn.metrics import  roc_auc_score\n",
    "\n",
    "import etude_variable.jouer as jouer\n",
    "\n",
    "import pandas as pd\n",
    "import numpy as np\n",
    "from sklearn.utils import class_weight\n",
    "import matplotlib\n",
    "import scipy\n",
    "from imblearn.over_sampling import     SMOTE\n",
    "import platform\n",
    "\n",
    "from matplotlib import pyplot as plt\n",
    "from sklearn.model_selection import RandomizedSearchCV\n",
    "from sklearn.model_selection import train_test_split\n",
    "\n",
    "from sklearn.preprocessing import StandardScaler\n",
    "from sklearn.pipeline import make_pipeline\n",
    "from sklearn.tree import DecisionTreeClassifier\n",
    "\n",
    "from matplotlib import pyplot\n",
    "\n",
    "\n",
    "\n",
    "from time import time\n",
    "from operator import itemgetter\n",
    "from xgboost import XGBClassifier\n",
    "from sklearn.model_selection import GridSearchCV\n",
    "\n",
    "import xgboost as xgb\n",
    "\n",
    "\n",
    "# make sure to use position 1\n",
    "\n",
    "\n",
    "print('Operating system version....', platform.platform())\n",
    "print(\"Python version is........... %s.%s.%s\" % sys.version_info[:3])\n",
    "print('scikit-learn version is.....', sklearn.__version__)\n",
    "print('pandas version is...........', pd.__version__)\n",
    "print('numpy version is............', np.__version__)\n",
    "print('matplotlib version is.......', matplotlib.__version__)\n",
    "print('scipy version is.......', scipy.__version__)\n",
    "\n"
   ]
  },
  {
   "cell_type": "code",
   "execution_count": 2,
   "metadata": {
    "collapsed": true
   },
   "outputs": [
    {
     "name": "stdout",
     "output_type": "stream",
     "text": [
      "\nDF Après LECTURE --------------  d:\\diabollo_al_1.csv\n"
     ]
    },
    {
     "name": "stdout",
     "output_type": "stream",
     "text": [
      "\n\nNormalisation scaler ....\n"
     ]
    },
    {
     "name": "stdout",
     "output_type": "stream",
     "text": [
      "\n\ndf gagnant defini....\n(0, 'HIPPO')\n(1, 'PAR_CARRIERE')\n(2, 'PAR_CARRIERE_Q')\n(3, 'PAR_CLASSE_AGE')\n(4, 'PAR_COTEDER')\n(5, 'PAR_ENT_ECART_GAGNANT')\n(6, 'PAR_ENT_RAPPORT_GAGNANT_M')\n(7, 'PAR_ENT_REU_PLACE')\n(8, 'PAR_ENT_REUSSITE_GAGNE')\n(9, 'PAR_ENT_VICTOIRE')\n(10, 'PAR_GAIN')\n(11, 'pAR_JOC_ECART_GAGNANT')\n(12, 'PAR_JOC_ECART_PLACE')\n(13, 'PAR_JOC_NB_COURSE')\n(14, 'PAR_JOC_PLACE_3P')\n(15, 'pAR_JOC_RAPPORT_GAGNANT_M')\n(16, 'PAR_JOC_REU_PLACE')\n(17, 'pAR_JOC_REUSSITE_GAGNE')\n(18, 'pAR_JOC_VICTOIRE')\n(19, 'PAR_NUM')\n(20, 'PAR_PLACE')\n(21, 'PAR_PLACE_Q')\n(22, 'PAR_REUSSITE_3P')\n(23, 'PAR_REUSSITE_GAGNE')\n(24, 'PAR_REUSSITE_QUINTE')\n(25, 'PAR_RUESSITE_PLACE')\n(26, 'autostart')\n(27, 'Point')\n(28, 'Nb_partant')\n(29, 'PAR_PROPRIO')\n(30, 'NOM_JOC')\n(31, 'NOM_ENTR')\n(32, 'CHEVAL')\nFeatures                   :   Index(['HIPPO', 'PAR_CARRIERE', 'PAR_CARRIERE_Q', 'PAR_CLASSE_AGE',\n       'PAR_COTEDER', 'PAR_ENT_ECART_GAGNANT', 'PAR_ENT_RAPPORT_GAGNANT_M',\n       'PAR_ENT_REU_PLACE', 'PAR_ENT_REUSSITE_GAGNE', 'PAR_ENT_VICTOIRE',\n       'PAR_GAIN', 'pAR_JOC_ECART_GAGNANT', 'PAR_JOC_ECART_PLACE',\n       'PAR_JOC_NB_COURSE', 'PAR_JOC_PLACE_3P', 'pAR_JOC_RAPPORT_GAGNANT_M',\n       'PAR_JOC_REU_PLACE', 'pAR_JOC_REUSSITE_GAGNE', 'pAR_JOC_VICTOIRE',\n       'PAR_NUM', 'PAR_PLACE', 'PAR_PLACE_Q', 'PAR_REUSSITE_3P',\n       'PAR_REUSSITE_GAGNE', 'PAR_REUSSITE_QUINTE', 'PAR_RUESSITE_PLACE',\n       'autostart', 'Point', 'Nb_partant', 'PAR_PROPRIO', 'NOM_JOC',\n       'NOM_ENTR', 'CHEVAL'],\n      dtype='object')  <<<<************\n\nClass 0: 230164\n\nClass 1: 63617\n\nProportion: 3.62 : 1\n"
     ]
    },
    {
     "data": {
      "image/png": "[encoded data removed]",
      "text/plain": [
       "<Figure size 432x288 with 1 Axes>"
      ]
     },
     "metadata": {},
     "output_type": "display_data"
    },
    {
     "name": "stdout",
     "output_type": "stream",
     "text": [
      "Total number of records : 293781 \nNombre de participations avec SELECTION=0 : 230164\nNombre de participations avec SELECTION=1  : 63617\nPourcentage 0: 78.3454%,  pourcentage 1 : 21.6546%\n"
     ]
    }
   ],
   "source": [
    "\n",
    "\n",
    "df_gagnant,  feature_columns, response_column = ld.calul_data_allure(allure_etudier = 1,mode_debug=0)\n",
    "taille_training = 0.75\n"
   ]
  },
  {
   "cell_type": "code",
   "execution_count": 3,
   "metadata": {
    "collapsed": true
   },
   "outputs": [
    {
     "name": "stdout",
     "output_type": "stream",
     "text": [
      "---------Training data statistics-----------\nTotal number of records : 220335 \n"
     ]
    },
    {
     "name": "stdout",
     "output_type": "stream",
     "text": [
      "Total 0 : 172535\nTotal 1 : 47800\nPercent 0 : 78.3058%,  1 is : 21.6942%\n---------Testing data statistics-----------\nTotal number of records : 73446 \nTotal 0 : 57629\nTotal 1: 15817\nPercent 0 : 78.4645%,  1 : 21.5355%\n"
     ]
    }
   ],
   "source": [
    "\n",
    "train_x, test_x, train_y, test_y = ana.my_split(df=df_gagnant,\n",
    "                                                                              taille_entrainement=taille_training,\n",
    "                                                                              feature_columns =feature_columns,\n",
    "                                                                              response_column =response_column,\n",
    "                                                                               random_state=42,\n",
    "                                                                              mode_debug=0)\n",
    "\n",
    "\n",
    "test_y = test_y['SELECTION'].ravel()\n",
    "train_y = train_y['SELECTION'].ravel()\n"
   ]
  },
  {
   "cell_type": "code",
   "execution_count": 4,
   "metadata": {
    "collapsed": false
   },
   "outputs": [],
   "source": [
    "fig,ax=plt.subplots(7,4,figsize=(25,20))\n",
    "\n",
    "num=df_gagnant.columns\n",
    "count=0\n",
    "for i in range(7):\n",
    "    for j in range(4):\n",
    "        ax[i,j].hist(np.array(df_gagnant[num[count]]))\n",
    "        ax[i,j].set_title(num[count])\n",
    "        count+=1\n",
    "plt.subplots_adjust(wspace=0.5, hspace=0.7)\n",
    "\n",
    "\n"
   ]
  },
  {
   "cell_type": "code",
   "execution_count": 5,
   "metadata": {
    "collapsed": false
   },
   "outputs": [],
   "source": [
    "from imblearn.over_sampling import SMOTE, RandomOverSampler, ADASYN\n",
    "\n",
    "from imblearn.under_sampling import NearMiss\n",
    "from imblearn.combine import SMOTEENN, SMOTETomek\n",
    "from imblearn.ensemble import BalanceCascade\n"
   ]
  },
  {
   "cell_type": "code",
   "execution_count": 13,
   "metadata": {
    "collapsed": false
   },
   "outputs": [],
   "source": [
    "\n",
    "\n",
    "sm = SMOTE(kind='regular')\n",
    "# sm = SMOTE(kind='svm')\n",
    "\n",
    "\n",
    "# sm= RandomOverSampler()\n",
    "train_x,train_y=sm.fit_sample(train_x,train_y)\n",
    "\n",
    "train_x=pd.DataFrame(train_x,columns=feature_columns)\n",
    "train_y=pd.Series(train_y)\n",
    "\n",
    "print (train_x.shape, train_y.shape, train_y.sum() , test_y.sum())\n",
    "\n",
    "\n",
    "\n",
    "    \n"
   ]
  },
  {
   "cell_type": "code",
   "execution_count": 14,
   "metadata": {
    "collapsed": false
   },
   "outputs": [],
   "source": [
    "model=XGBClassifier()\n",
    "\n",
    "\n"
   ]
  },
  {
   "cell_type": "code",
   "execution_count": 15,
   "metadata": {},
   "outputs": [],
   "source": [
    "model=model.fit(X=train_x,y=train_y,verbose=True)\n",
    "\n",
    "\n",
    "\n",
    "\n",
    "\n"
   ]
  },
  {
   "cell_type": "code",
   "execution_count": 16,
   "metadata": {
    "collapsed": true
   },
   "outputs": [
    {
     "name": "stdout",
     "output_type": "stream",
     "text": [
      "EVAL SET ....\n"
     ]
    },
    {
     "name": "stderr",
     "output_type": "stream",
     "text": [
      "c:\\python\\lib\\site-packages\\sklearn\\preprocessing\\label.py:151: DeprecationWarning: The truth value of an empty array is ambiguous. Returning False, but in future this will result in an error. Use `array.size > 0` to check that an array is not empty.\n  if diff:\n"
     ]
    },
    {
     "name": "stderr",
     "output_type": "stream",
     "text": [
      "c:\\python\\lib\\site-packages\\sklearn\\preprocessing\\label.py:151: DeprecationWarning: The truth value of an empty array is ambiguous. Returning False, but in future this will result in an error. Use `array.size > 0` to check that an array is not empty.\n  if diff:\n"
     ]
    },
    {
     "name": "stderr",
     "output_type": "stream",
     "text": [
      "c:\\python\\lib\\site-packages\\sklearn\\preprocessing\\label.py:151: DeprecationWarning: The truth value of an empty array is ambiguous. Returning False, but in future this will result in an error. Use `array.size > 0` to check that an array is not empty.\n  if diff:\n"
     ]
    },
    {
     "name": "stdout",
     "output_type": "stream",
     "text": [
      "Accuracy is:  0.7723225226697166\nEvaluation TEST-----------------------------------------------------------------------\n"
     ]
    },
    {
     "name": "stdout",
     "output_type": "stream",
     "text": [
      "\n roc_auc_score :   0.6690026873668842\n"
     ]
    },
    {
     "name": "stderr",
     "output_type": "stream",
     "text": [
      "c:\\python\\lib\\site-packages\\sklearn\\preprocessing\\label.py:151: DeprecationWarning: The truth value of an empty array is ambiguous. Returning False, but in future this will result in an error. Use `array.size > 0` to check that an array is not empty.\n  if diff:\n"
     ]
    },
    {
     "name": "stdout",
     "output_type": "stream",
     "text": [
      "[[147094  25441]\n [ 32264 140271]]\n"
     ]
    },
    {
     "name": "stderr",
     "output_type": "stream",
     "text": [
      "c:\\python\\lib\\site-packages\\sklearn\\preprocessing\\label.py:151: DeprecationWarning: The truth value of an empty array is ambiguous. Returning False, but in future this will result in an error. Use `array.size > 0` to check that an array is not empty.\n  if diff:\n"
     ]
    },
    {
     "name": "stdout",
     "output_type": "stream",
     "text": [
      "[[49013  8616]\n [ 8106  7711]]\nClassification Correcte des données de test : 56724/73446    77.232%\n"
     ]
    },
    {
     "name": "stdout",
     "output_type": "stream",
     "text": [
      "\nScore  TEST  :   77.232  ************************\n"
     ]
    },
    {
     "name": "stderr",
     "output_type": "stream",
     "text": [
      "c:\\python\\lib\\site-packages\\sklearn\\preprocessing\\label.py:151: DeprecationWarning: The truth value of an empty array is ambiguous. Returning False, but in future this will result in an error. Use `array.size > 0` to check that an array is not empty.\n  if diff:\n"
     ]
    },
    {
     "data": {
      "image/png": "[encoded data removed]",
      "text/plain": [
       "<Figure size 288x288 with 2 Axes>"
      ]
     },
     "metadata": {},
     "output_type": "display_data"
    }
   ],
   "source": [
    "ana.afficheEvalSet(mybest_model=model,set_train=train_x,set_train_cible=train_y,\n",
    "                                                                     set_test=test_x, set_test_cible=test_y,mode_debug=1)\n",
    "\n",
    "\n",
    "\n",
    "                       \n",
    "                \n",
    "                \n",
    "                \n",
    "\n",
    "\n",
    " \n"
   ]
  },
  {
   "cell_type": "code",
   "execution_count": 10,
   "metadata": {},
   "outputs": [],
   "source": [
    "\n",
    "\n",
    " \n",
    " \n"
   ]
  },
  {
   "cell_type": "code",
   "execution_count": 10,
   "metadata": {},
   "outputs": [],
   "source": [
    "        "
   ]
  },
  {
   "cell_type": "code",
   "execution_count": 10,
   "metadata": {},
   "outputs": [],
   "source": [
    "\n"
   ]
  },
  {
   "cell_type": "code",
   "execution_count": 10,
   "metadata": {},
   "outputs": [],
   "source": [
    "\n",
    "\n",
    "\n",
    "\n",
    "\n",
    "\n"
   ]
  },
  {
   "cell_type": "code",
   "execution_count": 10,
   "metadata": {},
   "outputs": [],
   "source": [
    ""
   ]
  },
  {
   "cell_type": "code",
   "execution_count": 10,
   "metadata": {},
   "outputs": [],
   "source": [
    ""
   ]
  },
  {
   "cell_type": "code",
   "execution_count": 10,
   "metadata": {},
   "outputs": [],
   "source": [
    "\n",
    "    \n",
    "\n",
    "    "
   ]
  },
  {
   "cell_type": "code",
   "execution_count": 10,
   "metadata": {},
   "outputs": [],
   "source": [
    "\n"
   ]
  },
  {
   "cell_type": "code",
   "execution_count": 10,
   "metadata": {},
   "outputs": [
    {
     "ename": "NameError",
     "evalue": "name 'X_train' is not defined",
     "traceback": [
      "\u001b[1;31m---------------------------------------------------------------------------\u001b[0m",
      "\u001b[1;31mNameError\u001b[0m                                 Traceback (most recent call last)",
      "\u001b[1;32m<ipython-input-10-fab5a1ba8e02>\u001b[0m in \u001b[0;36m<module>\u001b[1;34m()\u001b[0m\n\u001b[0;32m      4\u001b[0m \u001b[0mros\u001b[0m \u001b[1;33m=\u001b[0m \u001b[0mRandomOverSampler\u001b[0m\u001b[1;33m(\u001b[0m\u001b[0mrandom_state\u001b[0m\u001b[1;33m=\u001b[0m\u001b[1;36m0\u001b[0m\u001b[1;33m)\u001b[0m\u001b[1;33m\u001b[0m\u001b[0m\n\u001b[0;32m      5\u001b[0m \u001b[1;33m\u001b[0m\u001b[0m\n\u001b[1;32m----> 6\u001b[1;33m \u001b[0mX_resampled\u001b[0m\u001b[1;33m,\u001b[0m \u001b[0my_resampled\u001b[0m \u001b[1;33m=\u001b[0m \u001b[0mros\u001b[0m\u001b[1;33m.\u001b[0m\u001b[0mfit_sample\u001b[0m\u001b[1;33m(\u001b[0m\u001b[0mX_train\u001b[0m\u001b[1;33m,\u001b[0m \u001b[0my_train\u001b[0m\u001b[1;33m)\u001b[0m\u001b[1;33m\u001b[0m\u001b[0m\n\u001b[0m\u001b[0;32m      7\u001b[0m \u001b[0mX_resampled\u001b[0m\u001b[1;33m=\u001b[0m\u001b[0mpd\u001b[0m\u001b[1;33m.\u001b[0m\u001b[0mDataFrame\u001b[0m\u001b[1;33m(\u001b[0m\u001b[0mX_resampled\u001b[0m\u001b[1;33m)\u001b[0m\u001b[1;33m\u001b[0m\u001b[0m\n\u001b[0;32m      8\u001b[0m \u001b[0my_resampled\u001b[0m\u001b[1;33m=\u001b[0m\u001b[0mpd\u001b[0m\u001b[1;33m.\u001b[0m\u001b[0mSeries\u001b[0m\u001b[1;33m(\u001b[0m\u001b[0my_resampled\u001b[0m\u001b[1;33m)\u001b[0m\u001b[1;33m\u001b[0m\u001b[0m\n",
      "\u001b[1;31mNameError\u001b[0m: name 'X_train' is not defined"
     ],
     "output_type": "error"
    }
   ],
   "source": [
    "# NAIVE RANDOM OVER-SAMPLING\n",
    "from imblearn.over_sampling import RandomOverSampler\n",
    "from imblearn.over_sampling import RandomOverSampler\n",
    "ros = RandomOverSampler(random_state=0)\n",
    "\n",
    "X_resampled, y_resampled = ros.fit_sample(X_train, y_train)\n",
    "X_resampled=pd.DataFrame(X_resampled)\n",
    "y_resampled=pd.Series(y_resampled)\n",
    "\n",
    "\n",
    "X_resampled_test, y_resampled_test = ros.fit_sample(X_test, y_test)\n",
    "\n",
    "\n",
    "\n",
    "from collections import Counter\n",
    "print(sorted(Counter(y_resampled).items()))\n",
    "\n",
    "clf=model.fit(X_resampled, y_resampled.ravel())\n",
    "\n",
    "\n",
    "y_pred = model.predict(X_resampled_test)\n",
    "\n",
    "\n",
    "\n",
    "\n",
    "\n",
    "\n",
    "\n"
   ]
  },
  {
   "cell_type": "code",
   "execution_count": 11,
   "metadata": {},
   "outputs": [],
   "source": [
    "\n",
    "\n",
    "    "
   ]
  },
  {
   "cell_type": "code",
   "execution_count": 11,
   "metadata": {},
   "outputs": [],
   "source": [
    ""
   ]
  },
  {
   "cell_type": "code",
   "execution_count": 11,
   "metadata": {},
   "outputs": [],
   "source": []
  }
 ],
 "metadata": {
  "kernelspec": {
   "display_name": "Python 2",
   "language": "python",
   "name": "python2"
  },
  "language_info": {
   "codemirror_mode": {
    "name": "ipython",
    "version": 2
   },
   "file_extension": ".py",
   "mimetype": "text/x-python",
   "name": "python",
   "nbconvert_exporter": "python",
   "pygments_lexer": "ipython2",
   "version": "2.7.6"
  }
 },
 "nbformat": 4,
 "nbformat_minor": 0
}
