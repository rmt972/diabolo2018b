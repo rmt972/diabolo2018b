{
 "cells": [
  {
   "cell_type": "code",
   "execution_count": 1,
   "metadata": {},
   "outputs": [
    {
     "name": "stdout",
     "output_type": "stream",
     "text": [
      "Operating system version.... Windows-10-10.0.16299-SP0\n",
      "Python version is........... 3.6.5\n",
      "scikit-learn version is..... 0.19.1\n",
      "pandas version is........... 0.22.0\n",
      "numpy version is............ 1.14.2\n",
      "matplotlib version is....... 2.2.0\n",
      "scipy version is....... 1.0.0\n"
     ]
    }
   ],
   "source": [
    "import  sys\n",
    "sys.path.insert(0, \"C:/projets_python/diabolo\")\n",
    "\n",
    "\n",
    "import warnings\n",
    "\n",
    "import sklearn\n",
    "import etude_variable.jouer as jouer\n",
    "import etude_variable.lecture_data as ld\n",
    "import pandas as pd\n",
    "import numpy as np\n",
    "import matplotlib\n",
    "import scipy\n",
    "import platform\n",
    "\n",
    "# make sure to use position 1\n",
    "\n",
    "\n",
    "print('Operating system version....', platform.platform())\n",
    "print(\"Python version is........... %s.%s.%s\" % sys.version_info[:3])\n",
    "print('scikit-learn version is.....', sklearn.__version__)\n",
    "print('pandas version is...........', pd.__version__)\n",
    "print('numpy version is............', np.__version__)\n",
    "print('matplotlib version is.......', matplotlib.__version__)\n",
    "print('scipy version is.......', scipy.__version__)\n"
   ]
  },
  {
   "cell_type": "code",
   "execution_count": 2,
   "metadata": {},
   "outputs": [],
   "source": [
    "\n",
    "def jouerlescourse(nb_itera, allure, mode_debug=0, actualise=0):\n",
    "    \n",
    "    global best_model_1,   best_model_2, best_model_3, best_model_4, best_model_5,\\\n",
    "            feature_columns1, feature_columns2, feature_columns3,\\\n",
    "    feature_columns4,      feature_columns5,response_column\n",
    "    \n",
    "    #ENTRAINE_ALLURE\n",
    "    best_model, feature_columns, response_column = jouer.entraine_allure(allure=allure, \n",
    "                                                                                                                             nb_iter=nb_itera,\n",
    "                                                                                                                        mode_debug=mode_debug,\n",
    "                                                                                                                           actualise=actualise)\n",
    "    \n",
    "    \n",
    "    \n",
    "    \n",
    "    if allure==1:\n",
    "        best_model_1 = best_model\n",
    "        feature_columns1 = feature_columns\n",
    "        \n",
    "    if allure==2:\n",
    "        best_model_2 = best_model\n",
    "        feature_columns2 = feature_columns\n",
    "        \n",
    "    if allure==3:\n",
    "        best_model_3 = best_model\n",
    "        feature_columns3 = feature_columns\n",
    "        \n",
    "    if allure==4:\n",
    "        best_model_4 = best_model\n",
    "        feature_columns4 = feature_columns\n",
    "        \n",
    "    if allure==5:\n",
    "        best_model_5 = best_model\n",
    "        feature_columns5 = feature_columns\n",
    "        \n",
    "            \n",
    "    jouer.construireFichierCSV(allure=allure , best_model=best_model, \n",
    "                                      feature_columns=feature_columns,  \n",
    "                                        response_column=response_column,\n",
    "                                       mode_debug=mode_debug)\n",
    "    \n"
   ]
  },
  {
   "cell_type": "code",
   "execution_count": 3,
   "metadata": {},
   "outputs": [],
   "source": [
    "def jouerlescourse(nb_itera, allure, mode_debug=0, actualise=0):\n",
    "    \n",
    "    global best_model_1,   best_model_2, best_model_3, best_model_4, best_model_5,\\\n",
    "            feature_columns1, feature_columns2, feature_columns3,\\\n",
    "    feature_columns4,      feature_columns5,response_column\n",
    "    \n",
    "    #ENTRAINE_ALLURE\n",
    "    best_model, feature_columns, response_column = jouer.entraine_allure(allure=allure, \n",
    "                                                                          nb_iter=nb_itera,mode_debug=mode_debug,actualise=actualise)\n",
    "    \n",
    "    if allure==1:\n",
    "        best_model_1 = best_model\n",
    "        feature_columns1 = feature_columns\n",
    "        \n",
    "    if allure==2:\n",
    "        best_model_2 = best_model\n",
    "        feature_columns2 = feature_columns\n",
    "        \n",
    "    if allure==3:\n",
    "        best_model_3 = best_model\n",
    "        feature_columns3 = feature_columns\n",
    "        \n",
    "    if allure==4:\n",
    "        best_model_4 = best_model\n",
    "        feature_columns4 = feature_columns\n",
    "        \n",
    "    if allure==5:\n",
    "        best_model_5 = best_model\n",
    "        feature_columns5 = feature_columns\n",
    "        \n",
    "            \n",
    "    jouer.construireFichierCSV(allure=allure , best_model=best_model, \n",
    "                                      feature_columns=feature_columns,  \n",
    "                                        response_column=response_column,\n",
    "                                       mode_debug=mode_debug)"
   ]
  },
  {
   "cell_type": "code",
   "execution_count": null,
   "metadata": {},
   "outputs": [
    {
     "name": "stdout",
     "output_type": "stream",
     "text": [
      "Lecture data d:\\data_diabolo.csv\n",
      "Fin de lecture  de d:\\data_diabolo.csv\n",
      "\n",
      "Normalisation scaler ....\n",
      "Split ...\n",
      "\n",
      "Original dataset shape Counter({0: 248772, 1: 19455})\n",
      "\n",
      "FIT DE SMOT2 ...equilibrage\n"
     ]
    },
    {
     "name": "stderr",
     "output_type": "stream",
     "text": [
      "c:\\python\\lib\\site-packages\\imblearn\\utils\\deprecation.py:50: DeprecationWarning: 'k' is deprecated from 0.2 and will be removed in 0.4. Use 'k_neighbors' instead.\n",
      "  category=DeprecationWarning)\n",
      "c:\\python\\lib\\site-packages\\imblearn\\utils\\deprecation.py:50: DeprecationWarning: 'm' is deprecated from 0.2 and will be removed in 0.4. Use 'm_neighbors' instead.\n",
      "  category=DeprecationWarning)\n"
     ]
    },
    {
     "name": "stdout",
     "output_type": "stream",
     "text": [
      "\\*=>>>>>>>>>>>>>>Resampled dataset shape Counter({1: 142770, 0: 110233})\n",
      "\n",
      "Original dataset shape Counter({0: 43877, 1: 3458})\n",
      "\n",
      "FIT DE SMOT2 ...equilibrage\n"
     ]
    },
    {
     "name": "stderr",
     "output_type": "stream",
     "text": [
      "c:\\python\\lib\\site-packages\\imblearn\\utils\\deprecation.py:50: DeprecationWarning: 'k' is deprecated from 0.2 and will be removed in 0.4. Use 'k_neighbors' instead.\n",
      "  category=DeprecationWarning)\n",
      "c:\\python\\lib\\site-packages\\imblearn\\utils\\deprecation.py:50: DeprecationWarning: 'm' is deprecated from 0.2 and will be removed in 0.4. Use 'm_neighbors' instead.\n",
      "  category=DeprecationWarning)\n"
     ]
    },
    {
     "name": "stdout",
     "output_type": "stream",
     "text": [
      "\\*=>>>>>>>>>>>>>>Resampled dataset shape Counter({1: 22791, 0: 18529})\n",
      "\n",
      "TEST DU FIT ......DIRECT\n",
      "Lecture des données estimateur  1\n"
     ]
    },
    {
     "name": "stderr",
     "output_type": "stream",
     "text": [
      "c:\\python\\lib\\site-packages\\sklearn\\preprocessing\\label.py:151: DeprecationWarning: The truth value of an empty array is ambiguous. Returning False, but in future this will result in an error. Use `array.size > 0` to check that an array is not empty.\n",
      "  if diff:\n"
     ]
    },
    {
     "name": "stdout",
     "output_type": "stream",
     "text": [
      "************************************************************  Accuracy: 94.09%\n",
      "Classification report \n",
      "\n",
      "             precision    recall  f1-score   support\n",
      "\n",
      "          0       0.95      0.92      0.93     18529\n",
      "          1       0.93      0.96      0.95     22791\n",
      "\n",
      "avg / total       0.94      0.94      0.94     41320\n",
      "\n"
     ]
    },
    {
     "data": {
      "image/png": "[encoded data removed]",
      "text/plain": [
       "<Figure size 432x288 with 1 Axes>"
      ]
     },
     "metadata": {},
     "output_type": "display_data"
    },
    {
     "data": {
      "image/png": "[encoded data removed]",
      "text/plain": [
       "<Figure size 432x288 with 1 Axes>"
      ]
     },
     "metadata": {},
     "output_type": "display_data"
    },
    {
     "data": {
      "image/png": "[encoded data removed]",
      "text/plain": [
       "<Figure size 720x720 with 1 Axes>"
      ]
     },
     "metadata": {},
     "output_type": "display_data"
    },
    {
     "name": "stdout",
     "output_type": "stream",
     "text": [
      "\n",
      "EVAL SET ....\n"
     ]
    },
    {
     "name": "stderr",
     "output_type": "stream",
     "text": [
      "c:\\python\\lib\\site-packages\\sklearn\\preprocessing\\label.py:151: DeprecationWarning: The truth value of an empty array is ambiguous. Returning False, but in future this will result in an error. Use `array.size > 0` to check that an array is not empty.\n",
      "  if diff:\n",
      "c:\\python\\lib\\site-packages\\sklearn\\preprocessing\\label.py:151: DeprecationWarning: The truth value of an empty array is ambiguous. Returning False, but in future this will result in an error. Use `array.size > 0` to check that an array is not empty.\n",
      "  if diff:\n",
      "c:\\python\\lib\\site-packages\\sklearn\\preprocessing\\label.py:151: DeprecationWarning: The truth value of an empty array is ambiguous. Returning False, but in future this will result in an error. Use `array.size > 0` to check that an array is not empty.\n",
      "  if diff:\n"
     ]
    },
    {
     "name": "stdout",
     "output_type": "stream",
     "text": [
      "Accuracy is:  0.9409486931268151\n",
      "Evaluation TEST-----------------------------------------------------------------------\n",
      "***********************************************************  \n",
      "\n",
      "Scores des classes de test  [0.68084353 0.28232318 0.09653413 ... 0.9983387  0.99908245 0.9997272 ]  **************  \n",
      "***********************************************************  \n",
      "TEST roc_auc_score :  0.93858282135702\n"
     ]
    },
    {
     "name": "stderr",
     "output_type": "stream",
     "text": [
      "c:\\python\\lib\\site-packages\\sklearn\\preprocessing\\label.py:151: DeprecationWarning: The truth value of an empty array is ambiguous. Returning False, but in future this will result in an error. Use `array.size > 0` to check that an array is not empty.\n",
      "  if diff:\n"
     ]
    },
    {
     "name": "stdout",
     "output_type": "stream",
     "text": [
      "[[105408   4825]\n",
      " [  2330 140440]]\n"
     ]
    },
    {
     "name": "stderr",
     "output_type": "stream",
     "text": [
      "c:\\python\\lib\\site-packages\\sklearn\\preprocessing\\label.py:151: DeprecationWarning: The truth value of an empty array is ambiguous. Returning False, but in future this will result in an error. Use `array.size > 0` to check that an array is not empty.\n",
      "  if diff:\n"
     ]
    },
    {
     "name": "stdout",
     "output_type": "stream",
     "text": [
      "[[16966  1563]\n",
      " [  877 21914]]\n",
      "Classification Correcte des données de test : 38880/41320    94.095%\n"
     ]
    },
    {
     "name": "stderr",
     "output_type": "stream",
     "text": [
      "c:\\python\\lib\\site-packages\\sklearn\\preprocessing\\label.py:151: DeprecationWarning: The truth value of an empty array is ambiguous. Returning False, but in future this will result in an error. Use `array.size > 0` to check that an array is not empty.\n",
      "  if diff:\n"
     ]
    },
    {
     "name": "stdout",
     "output_type": "stream",
     "text": [
      "\n",
      "Score  TEST  :   94.095  ************************\n",
      "\n",
      "EVAL SET ....\n"
     ]
    },
    {
     "name": "stderr",
     "output_type": "stream",
     "text": [
      "c:\\python\\lib\\site-packages\\sklearn\\preprocessing\\label.py:151: DeprecationWarning: The truth value of an empty array is ambiguous. Returning False, but in future this will result in an error. Use `array.size > 0` to check that an array is not empty.\n",
      "  if diff:\n",
      "c:\\python\\lib\\site-packages\\sklearn\\preprocessing\\label.py:151: DeprecationWarning: The truth value of an empty array is ambiguous. Returning False, but in future this will result in an error. Use `array.size > 0` to check that an array is not empty.\n",
      "  if diff:\n",
      "c:\\python\\lib\\site-packages\\sklearn\\preprocessing\\label.py:151: DeprecationWarning: The truth value of an empty array is ambiguous. Returning False, but in future this will result in an error. Use `array.size > 0` to check that an array is not empty.\n",
      "  if diff:\n"
     ]
    },
    {
     "name": "stdout",
     "output_type": "stream",
     "text": [
      "Accuracy is:  0.9409486931268151\n",
      "TRAINING roc_auc_score :  0.9699545616169962\n"
     ]
    },
    {
     "name": "stderr",
     "output_type": "stream",
     "text": [
      "c:\\python\\lib\\site-packages\\sklearn\\preprocessing\\label.py:151: DeprecationWarning: The truth value of an empty array is ambiguous. Returning False, but in future this will result in an error. Use `array.size > 0` to check that an array is not empty.\n",
      "  if diff:\n"
     ]
    },
    {
     "name": "stdout",
     "output_type": "stream",
     "text": [
      "[[105408   4825]\n",
      " [  2330 140440]]\n"
     ]
    },
    {
     "name": "stderr",
     "output_type": "stream",
     "text": [
      "c:\\python\\lib\\site-packages\\sklearn\\preprocessing\\label.py:151: DeprecationWarning: The truth value of an empty array is ambiguous. Returning False, but in future this will result in an error. Use `array.size > 0` to check that an array is not empty.\n",
      "  if diff:\n"
     ]
    },
    {
     "name": "stdout",
     "output_type": "stream",
     "text": [
      "[[16966  1563]\n",
      " [  877 21914]]\n",
      "\n",
      " CLASSIFICATION CORRECTE DES DONNEES DE Train  : 245848/253003    97.172%\n"
     ]
    },
    {
     "name": "stderr",
     "output_type": "stream",
     "text": [
      "c:\\python\\lib\\site-packages\\sklearn\\preprocessing\\label.py:151: DeprecationWarning: The truth value of an empty array is ambiguous. Returning False, but in future this will result in an error. Use `array.size > 0` to check that an array is not empty.\n",
      "  if diff:\n"
     ]
    },
    {
     "name": "stdout",
     "output_type": "stream",
     "text": [
      "Score  TRAINING  :   97.172  ************************\n",
      "Sauvegarde modele ...\n",
      "Lecture data d:\\data_jour.csv\n"
     ]
    }
   ],
   "source": [
    "nb=2\n",
    "\n",
    "mode_debug=0 # MODE DEBUG\n",
    "actua=0# recalcul du model 0 = actua   1=pas actuia\n",
    "\n",
    "\n",
    "jouerlescourse(nb_itera=nb, allure=1, mode_debug=mode_debug,actualise=actua)\n",
    "jouerlescourse(nb_itera=nb, allure=2,mode_debug=mode_debug,actualise=actua)\n",
    "jouerlescourse(nb_itera=nb, allure=3, mode_debug=mode_debug,actualise=actua)\n",
    "jouerlescourse(nb_itera=nb, allure=4, mode_debug=mode_debug,actualise=actua)\n",
    "jouerlescourse(nb_itera=nb, allure=5, mode_debug=mode_debug,actualise=actua)"
   ]
  },
  {
   "cell_type": "code",
   "execution_count": 5,
   "metadata": {
    "collapsed": true
   },
   "outputs": [],
   "source": []
  },
  {
   "cell_type": "code",
   "execution_count": 5,
   "metadata": {},
   "outputs": [],
   "source": [
    "\n",
    "\n",
    "\n"
   ]
  },
  {
   "cell_type": "code",
   "execution_count": 5,
   "metadata": {
    "collapsed": true
   },
   "outputs": [],
   "source": [
    "\n",
    "\n",
    "    \n"
   ]
  },
  {
   "cell_type": "code",
   "execution_count": 5,
   "metadata": {},
   "outputs": [],
   "source": [
    "\n",
    "\n",
    "                           \n",
    "    \n",
    "    \n",
    "    "
   ]
  },
  {
   "cell_type": "code",
   "execution_count": 5,
   "metadata": {
    "collapsed": true
   },
   "outputs": [],
   "source": []
  },
  {
   "cell_type": "code",
   "execution_count": 5,
   "metadata": {
    "collapsed": true
   },
   "outputs": [],
   "source": [
    "\n"
   ]
  },
  {
   "cell_type": "code",
   "execution_count": 5,
   "metadata": {
    "collapsed": true
   },
   "outputs": [],
   "source": [
    "\n",
    "\n"
   ]
  },
  {
   "cell_type": "code",
   "execution_count": 5,
   "metadata": {},
   "outputs": [],
   "source": []
  },
  {
   "cell_type": "code",
   "execution_count": 5,
   "metadata": {},
   "outputs": [],
   "source": [
    "\n"
   ]
  },
  {
   "cell_type": "code",
   "execution_count": 5,
   "metadata": {},
   "outputs": [],
   "source": []
  },
  {
   "cell_type": "code",
   "execution_count": 5,
   "metadata": {},
   "outputs": [],
   "source": []
  },
  {
   "cell_type": "code",
   "execution_count": 5,
   "metadata": {},
   "outputs": [],
   "source": []
  },
  {
   "cell_type": "code",
   "execution_count": 5,
   "metadata": {},
   "outputs": [],
   "source": []
  }
 ],
 "metadata": {
  "kernelspec": {
   "display_name": "Python 3",
   "language": "python",
   "name": "python3"
  },
  "language_info": {
   "codemirror_mode": {
    "name": "ipython",
    "version": 3
   },
   "file_extension": ".py",
   "mimetype": "text/x-python",
   "name": "python",
   "nbconvert_exporter": "python",
   "pygments_lexer": "ipython3",
   "version": "3.6.5rc1"
  }
 },
 "nbformat": 4,
 "nbformat_minor": 1
}
