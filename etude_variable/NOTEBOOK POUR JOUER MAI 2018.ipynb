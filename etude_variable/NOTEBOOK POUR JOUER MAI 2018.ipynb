{
 "cells": [
  {
   "cell_type": "code",
   "execution_count": 1,
   "metadata": {
    "collapsed": true
   },
   "outputs": [
    {
     "name": "stdout",
     "output_type": "stream",
     "text": [
      "Operating system version.... Windows-10-10.0.17134-SP0\nPython version is........... 3.6.5\nscikit-learn version is..... 0.19.1\npandas version is........... 0.22.0\nnumpy version is............ 1.14.2\nmatplotlib version is....... 2.2.0\nscipy version is....... 1.0.0\n"
     ]
    }
   ],
   "source": [
    "import  sys\n",
    "sys.path.insert(0, \"C:/projets_python/diabolo\")\n",
    "\n",
    "\n",
    "import warnings\n",
    "\n",
    "import sklearn\n",
    "import etude_variable.jouer as jouer\n",
    "import etude_variable.lecture_data as ld\n",
    "import pandas as pd\n",
    "import numpy as np\n",
    "import matplotlib\n",
    "import scipy\n",
    "import platform\n",
    "\n",
    "# make sure to use position 1\n",
    "\n",
    "\n",
    "print('Operating system version....', platform.platform())\n",
    "print(\"Python version is........... %s.%s.%s\" % sys.version_info[:3])\n",
    "print('scikit-learn version is.....', sklearn.__version__)\n",
    "print('pandas version is...........', pd.__version__)\n",
    "print('numpy version is............', np.__version__)\n",
    "print('matplotlib version is.......', matplotlib.__version__)\n",
    "print('scipy version is.......', scipy.__version__)\n"
   ]
  },
  {
   "cell_type": "code",
   "execution_count": 2,
   "metadata": {
    "collapsed": true
   },
   "outputs": [],
   "source": [
    "\n",
    "def jouerlescourse(nb_itera, allure, mode_debug=0, actualise=0):\n",
    "    \n",
    "    global best_model_1,   best_model_2, best_model_3, best_model_4, best_model_5,\\\n",
    "            feature_columns1, feature_columns2, feature_columns3,\\\n",
    "    feature_columns4,      feature_columns5,response_column\n",
    "    \n",
    "    #ENTRAINE_ALLURE\n",
    "    best_model, feature_columns, response_column = jouer.entraine_allure(allure=allure, nb_iter=nb_itera,  mode_debug=mode_debug, actualise=actualise)\n",
    "    \n",
    "    \n",
    "    \n",
    "    \n",
    "    if allure==1:\n",
    "        best_model_1 = best_model\n",
    "        feature_columns1 = feature_columns\n",
    "        \n",
    "    if allure==2:\n",
    "        best_model_2 = best_model\n",
    "        feature_columns2 = feature_columns\n",
    "        \n",
    "    if allure==3:\n",
    "        best_model_3 = best_model\n",
    "        feature_columns3 = feature_columns\n",
    "        \n",
    "    if allure==4:\n",
    "        best_model_4 = best_model\n",
    "        feature_columns4 = feature_columns\n",
    "        \n",
    "    if allure==5:\n",
    "        best_model_5 = best_model\n",
    "        feature_columns5 = feature_columns\n",
    "        \n",
    "            \n",
    "    jouer.construireFichierCSV(allure=allure , best_model=best_model, \n",
    "                                      feature_columns=feature_columns,  \n",
    "                                        response_column=response_column,\n",
    "                                       mode_debug=mode_debug)\n",
    "    \n"
   ]
  },
  {
   "cell_type": "code",
   "execution_count": 3,
   "metadata": {},
   "outputs": [],
   "source": [
    "def jouerlescourse(nb_itera, allure, mode_debug=0, actualise=0):\n",
    "    \n",
    "    global best_model_1,   best_model_2, best_model_3, best_model_4, best_model_5,\\\n",
    "            feature_columns1, feature_columns2, feature_columns3,\\\n",
    "    feature_columns4,      feature_columns5,response_column\n",
    "    \n",
    "    #ENTRAINE_ALLURE\n",
    "    best_model, feature_columns, response_column = jouer.entraine_allure(allure=allure, \n",
    "                                                                          nb_iter=nb_itera,mode_debug=mode_debug,actualise=actualise)\n",
    "    \n",
    "    if allure==1:\n",
    "        best_model_1 = best_model\n",
    "        feature_columns1 = feature_columns\n",
    "        \n",
    "    if allure==2:\n",
    "        best_model_2 = best_model\n",
    "        feature_columns2 = feature_columns\n",
    "        \n",
    "    if allure==3:\n",
    "        best_model_3 = best_model\n",
    "        feature_columns3 = feature_columns\n",
    "        \n",
    "    if allure==4:\n",
    "        best_model_4 = best_model\n",
    "        feature_columns4 = feature_columns\n",
    "        \n",
    "    if allure==5:\n",
    "        best_model_5 = best_model\n",
    "        feature_columns5 = feature_columns\n",
    "        \n",
    "            \n",
    "    jouer.construireFichierCSV(allure=allure , best_model=best_model, \n",
    "                                      feature_columns=feature_columns,  \n",
    "                                        response_column=response_column,\n",
    "                                       mode_debug=mode_debug)"
   ]
  },
  {
   "cell_type": "code",
   "execution_count": 4,
   "metadata": {
    "collapsed": true
   },
   "outputs": [
    {
     "name": "stdout",
     "output_type": "stream",
     "text": [
      " Lecture DATA\nLecture data d:\\data_diabolo.csv\n"
     ]
    },
    {
     "name": "stdout",
     "output_type": "stream",
     "text": [
      "Fin de lecture  de d:\\data_diabolo.csv\n----------------------------------------head 5\n   ALLURE  CO_PRIX  HIPPO  IDCOURSE  IDPARTCIPANT  PAR_AGE  PAR_ARRIVE  \\\n0       3    46000      1      1615         19831        6          99   \n1       3    46000      1      1615         19830        6           1   \n2       3    46000      1      1615         19829        7           2   \n3       3    46000      1      1615         19828        7          99   \n4       3    46000      1      1615         19827        6          99   \n\n   PAR_CARRIERE  PAR_CARRIERE_Q  PAR_ENT_ECART_GAGNANT   ...    \\\n0            28               0                      8   ...     \n1            37               1                     13   ...     \n2            47               0                     16   ...     \n3            44               0                     17   ...     \n4            39               1                     11   ...     \n\n   PAR_REUSSITE_3P  PAR_REUSSITE_GAGNE  PAR_REUSSITE_QUINTE  \\\n0         0.392857            0.142857                  0.0   \n1         0.162162            0.135135                  0.0   \n2         0.361702            0.127660                  0.0   \n3         0.295455            0.113636                  0.0   \n4         0.333333            0.102564                  0.0   \n\n   PAR_RUESSITE_PLACE  Point  Nb_partant  PAR_PROPRIO  NOM_JOC  NOM_ENTR  \\\n0            0.250000    205          13           53       34        52   \n1            0.027027    155          13           52       53        51   \n2            0.234043    160          13           51       52        50   \n3            0.181818    198          13           50       51        49   \n4            0.230769    207          13           49       50        48   \n\n   CHEVAL  \n0      55  \n1      54  \n2      53  \n3      52  \n4      51  \n\n[5 rows x 35 columns]\n*********\n\n\n   ALLURE  CO_PRIX  HIPPO  IDCOURSE  IDPARTCIPANT  PAR_AGE  PAR_ARRIVE  \\\n0       3    46000      1      1615         19831        6          99   \n1       3    46000      1      1615         19830        6           1   \n2       3    46000      1      1615         19829        7           2   \n3       3    46000      1      1615         19828        7          99   \n4       3    46000      1      1615         19827        6          99   \n5       3    46000      1      1615         19826        8          99   \n6       3    46000      1      1615         19825        8          99   \n7       3    46000      1      1615         19824        6           4   \n8       3    46000      1      1615         19823        6           3   \n9       3    46000      1      1615         19822        6           5   \n\n   PAR_CARRIERE  PAR_CARRIERE_Q  PAR_ENT_ECART_GAGNANT   ...    \\\n0            28               0                      8   ...     \n1            37               1                     13   ...     \n2            47               0                     16   ...     \n3            44               0                     17   ...     \n4            39               1                     11   ...     \n5            56               1                      6   ...     \n6            87               0                      5   ...     \n7            41               0                      6   ...     \n8            31               0                     13   ...     \n9            30               1                      5   ...     \n\n   PAR_REUSSITE_3P  PAR_REUSSITE_GAGNE  PAR_REUSSITE_QUINTE  \\\n0         0.392857            0.142857                  0.0   \n1         0.162162            0.135135                  0.0   \n2         0.361702            0.127660                  0.0   \n3         0.295455            0.113636                  0.0   \n4         0.333333            0.102564                  0.0   \n5         0.232143            0.089286                  0.0   \n6         0.241379            0.022988                  0.0   \n7         0.195122            0.097561                  0.0   \n8         0.354839            0.193548                  0.0   \n9         0.400000            0.166667                  0.0   \n\n   PAR_RUESSITE_PLACE  Point  Nb_partant  PAR_PROPRIO  NOM_JOC  NOM_ENTR  \\\n0            0.250000    205          13           53       34        52   \n1            0.027027    155          13           52       53        51   \n2            0.234043    160          13           51       52        50   \n3            0.181818    198          13           50       51        49   \n4            0.230769    207          13           49       50        48   \n5            0.142857    198          13           48       49        47   \n6            0.218391    142          13           47       48        46   \n7            0.097561    130          13           46       47        45   \n8            0.161290    207          13           45       46        44   \n9            0.233333    254          13           44       45        43   \n\n   CHEVAL  \n0      55  \n1      54  \n2      53  \n3      52  \n4      51  \n5      50  \n6      49  \n7      48  \n8      47  \n9      46  \n\n[10 rows x 35 columns]\n"
     ]
    },
    {
     "name": "stdout",
     "output_type": "stream",
     "text": [
      "head\n<class 'pandas.core.frame.DataFrame'>\nInt64Index: 276545 entries, 13 to 539549\nData columns (total 34 columns):\nCO_PRIX                      276545 non-null int64\nHIPPO                        276545 non-null int64\nIDCOURSE                     276545 non-null int64\nIDPARTCIPANT                 276545 non-null int64\nPAR_AGE                      276545 non-null int64\nPAR_CARRIERE                 276545 non-null int64\nPAR_CARRIERE_Q               276545 non-null int64\nPAR_ENT_ECART_GAGNANT        276545 non-null int64\nPAR_ENT_RAPPORT_GAGNANT_M    276545 non-null float64\nPAR_ENT_REU_PLACE            276545 non-null float64\nPAR_ENT_REUSSITE_GAGNE       276545 non-null float64\nPAR_ENT_VICTOIRE             276545 non-null int64\npAR_JOC_ECART_GAGNANT        276545 non-null int64\nPAR_JOC_ECART_PLACE          276545 non-null int64\nPAR_JOC_NB_COURSE            276545 non-null int64\nPAR_JOC_PLACE_3P             276545 non-null int64\npAR_JOC_RAPPORT_GAGNANT_M    276545 non-null float64\nPAR_JOC_REU_PLACE            276545 non-null float64\npAR_JOC_REUSSITE_GAGNE       276545 non-null float64\npAR_JOC_VICTOIRE             276545 non-null int64\nPAR_NUM                      276545 non-null int64\nPAR_PLACE                    276545 non-null int64\nPAR_PLACE_Q                  276545 non-null int64\nPAR_REUSSITE_3P              276545 non-null float64\nPAR_REUSSITE_GAGNE           276545 non-null float64\nPAR_REUSSITE_QUINTE          276545 non-null float64\nPAR_RUESSITE_PLACE           276545 non-null float64\nPoint                        276545 non-null int64\nNb_partant                   276545 non-null int64\nPAR_PROPRIO                  276545 non-null int64\nNOM_JOC                      276545 non-null int64\nNOM_ENTR                     276545 non-null int64\nCHEVAL                       276545 non-null int64\nSELECTION2                   276545 non-null int64\ndtypes: float64(10), int64(24)\nmemory usage: 73.8 MB\n"
     ]
    },
    {
     "name": "stdout",
     "output_type": "stream",
     "text": [
      "head\n<class 'pandas.core.frame.DataFrame'>\nMultiIndex: 276545 entries, (19849, 1616) to (743891, 60187)\nData columns (total 32 columns):\nCO_PRIX                      276545 non-null int64\nHIPPO                        276545 non-null int64\nPAR_AGE                      276545 non-null int64\nPAR_CARRIERE                 276545 non-null int64\nPAR_CARRIERE_Q               276545 non-null int64\nPAR_ENT_ECART_GAGNANT        276545 non-null int64\nPAR_ENT_RAPPORT_GAGNANT_M    276545 non-null float64\nPAR_ENT_REU_PLACE            276545 non-null float64\nPAR_ENT_REUSSITE_GAGNE       276545 non-null float64\nPAR_ENT_VICTOIRE             276545 non-null int64\npAR_JOC_ECART_GAGNANT        276545 non-null int64\nPAR_JOC_ECART_PLACE          276545 non-null int64\nPAR_JOC_NB_COURSE            276545 non-null int64\nPAR_JOC_PLACE_3P             276545 non-null int64\npAR_JOC_RAPPORT_GAGNANT_M    276545 non-null float64\nPAR_JOC_REU_PLACE            276545 non-null float64\npAR_JOC_REUSSITE_GAGNE       276545 non-null float64\npAR_JOC_VICTOIRE             276545 non-null int64\nPAR_NUM                      276545 non-null int64\nPAR_PLACE                    276545 non-null int64\nPAR_PLACE_Q                  276545 non-null int64\nPAR_REUSSITE_3P              276545 non-null float64\nPAR_REUSSITE_GAGNE           276545 non-null float64\nPAR_REUSSITE_QUINTE          276545 non-null float64\nPAR_RUESSITE_PLACE           276545 non-null float64\nPoint                        276545 non-null int64\nNb_partant                   276545 non-null int64\nPAR_PROPRIO                  276545 non-null int64\nNOM_JOC                      276545 non-null int64\nNOM_ENTR                     276545 non-null int64\nCHEVAL                       276545 non-null int64\nSELECTION                    276545 non-null int64\ndtypes: float64(10), int64(22)\nmemory usage: 71.4 MB\nSplit ...\n"
     ]
    },
    {
     "name": "stdout",
     "output_type": "stream",
     "text": [
      "class_weight =  [0.64084787 2.27496467]\n\nTEST DU FIT ......DIRECT\n\nfold ......DIRECT\nFIT ...\n"
     ]
    },
    {
     "name": "stdout",
     "output_type": "stream",
     "text": [
      "predic\n************************************************************  Accuracy: 78.38%\nClassification report \n\n             precision    recall  f1-score   support\n\n          0       0.78      1.00      0.88     32512\n          1       0.00      0.00      0.00      8970\n\navg / total       0.61      0.78      0.69     41482\n\n"
     ]
    },
    {
     "name": "stderr",
     "output_type": "stream",
     "text": [
      "c:\\python\\lib\\site-packages\\xgboost\\sklearn.py:531: RuntimeWarning: invalid value encountered in greater\n  column_indexes[class_probs > 0.5] = 1\nc:\\python\\lib\\site-packages\\sklearn\\preprocessing\\label.py:151: DeprecationWarning: The truth value of an empty array is ambiguous. Returning False, but in future this will result in an error. Use `array.size > 0` to check that an array is not empty.\n  if diff:\nc:\\python\\lib\\site-packages\\sklearn\\metrics\\classification.py:1135: UndefinedMetricWarning: Precision and F-score are ill-defined and being set to 0.0 in labels with no predicted samples.\n  'precision', 'predicted', average, warn_for)\n"
     ]
    },
    {
     "data": {
      "image/png": "[encoded data removed]",
      "text/plain": [
       "<Figure size 432x288 with 1 Axes>"
      ]
     },
     "metadata": {},
     "output_type": "display_data"
    },
    {
     "data": {
      "image/png": "[encoded data removed]",
      "text/plain": [
       "<Figure size 432x288 with 1 Axes>"
      ]
     },
     "metadata": {},
     "output_type": "display_data"
    },
    {
     "name": "stderr",
     "output_type": "stream",
     "text": [
      "c:\\python\\lib\\site-packages\\xgboost\\sklearn.py:385: RuntimeWarning: invalid value encountered in true_divide\n  return all_features / all_features.sum()\nc:\\python\\lib\\site-packages\\sklearn\\preprocessing\\label.py:151: DeprecationWarning: The truth value of an empty array is ambiguous. Returning False, but in future this will result in an error. Use `array.size > 0` to check that an array is not empty.\n  if diff:\n"
     ]
    },
    {
     "name": "stdout",
     "output_type": "stream",
     "text": [
      "\n                           importance\nfeature                              \nCO_PRIX                           NaN\nHIPPO                             NaN\nPAR_AGE                           NaN\nPAR_CARRIERE                      NaN\nPAR_CARRIERE_Q                    NaN\nPAR_ENT_ECART_GAGNANT             NaN\nPAR_ENT_RAPPORT_GAGNANT_M         NaN\nPAR_ENT_REU_PLACE                 NaN\nPAR_ENT_REUSSITE_GAGNE            NaN\nPAR_ENT_VICTOIRE                  NaN\npAR_JOC_ECART_GAGNANT             NaN\nPAR_JOC_ECART_PLACE               NaN\nPAR_JOC_NB_COURSE                 NaN\nPAR_JOC_PLACE_3P                  NaN\npAR_JOC_RAPPORT_GAGNANT_M         NaN\nPAR_JOC_REU_PLACE                 NaN\npAR_JOC_REUSSITE_GAGNE            NaN\npAR_JOC_VICTOIRE                  NaN\nPAR_NUM                           NaN\nPAR_PLACE                         NaN\nPAR_PLACE_Q                       NaN\nPAR_REUSSITE_3P                   NaN\nPAR_REUSSITE_GAGNE                NaN\nPAR_REUSSITE_QUINTE               NaN\nPAR_RUESSITE_PLACE                NaN\nPoint                             NaN\nNb_partant                        NaN\nPAR_PROPRIO                       NaN\nNOM_JOC                           NaN\nNOM_ENTR                          NaN\nCHEVAL                            NaN\n\nEVAL SET ....\n"
     ]
    },
    {
     "name": "stderr",
     "output_type": "stream",
     "text": [
      "c:\\python\\lib\\site-packages\\sklearn\\preprocessing\\label.py:151: DeprecationWarning: The truth value of an empty array is ambiguous. Returning False, but in future this will result in an error. Use `array.size > 0` to check that an array is not empty.\n  if diff:\nc:\\python\\lib\\site-packages\\sklearn\\preprocessing\\label.py:151: DeprecationWarning: The truth value of an empty array is ambiguous. Returning False, but in future this will result in an error. Use `array.size > 0` to check that an array is not empty.\n  if diff:\n"
     ]
    },
    {
     "name": "stdout",
     "output_type": "stream",
     "text": [
      "Accuracy is:  0.7837616315510342\nEvaluation TEST-----------------------------------------------------------------------\n***********************************************************  \n\nScores des classes de test  [nan nan nan ... nan nan nan]  **************  \n***********************************************************  \nTEST roc_auc_score :  0.5\n"
     ]
    },
    {
     "name": "stderr",
     "output_type": "stream",
     "text": [
      "c:\\python\\lib\\site-packages\\sklearn\\preprocessing\\label.py:151: DeprecationWarning: The truth value of an empty array is ambiguous. Returning False, but in future this will result in an error. Use `array.size > 0` to check that an array is not empty.\n  if diff:\nc:\\python\\lib\\site-packages\\sklearn\\preprocessing\\label.py:151: DeprecationWarning: The truth value of an empty array is ambiguous. Returning False, but in future this will result in an error. Use `array.size > 0` to check that an array is not empty.\n  if diff:\n"
     ]
    },
    {
     "name": "stdout",
     "output_type": "stream",
     "text": [
      "[[183400      0]\n [ 51663      0]]\n[[32512     0]\n [ 8970     0]]\nClassification Correcte des données de test : 32512/41482    78.376%"
     ]
    },
    {
     "name": "stderr",
     "output_type": "stream",
     "text": [
      "c:\\python\\lib\\site-packages\\sklearn\\preprocessing\\label.py:151: DeprecationWarning: The truth value of an empty array is ambiguous. Returning False, but in future this will result in an error. Use `array.size > 0` to check that an array is not empty.\n  if diff:\n"
     ]
    },
    {
     "name": "stdout",
     "output_type": "stream",
     "text": [
      "\n\nScore  TEST  :   78.376  ************************\n\nEVAL SET ....\n"
     ]
    },
    {
     "name": "stderr",
     "output_type": "stream",
     "text": [
      "c:\\python\\lib\\site-packages\\sklearn\\preprocessing\\label.py:151: DeprecationWarning: The truth value of an empty array is ambiguous. Returning False, but in future this will result in an error. Use `array.size > 0` to check that an array is not empty.\n  if diff:\n"
     ]
    },
    {
     "name": "stderr",
     "output_type": "stream",
     "text": [
      "c:\\python\\lib\\site-packages\\sklearn\\preprocessing\\label.py:151: DeprecationWarning: The truth value of an empty array is ambiguous. Returning False, but in future this will result in an error. Use `array.size > 0` to check that an array is not empty.\n  if diff:\nc:\\python\\lib\\site-packages\\sklearn\\preprocessing\\label.py:151: DeprecationWarning: The truth value of an empty array is ambiguous. Returning False, but in future this will result in an error. Use `array.size > 0` to check that an array is not empty.\n  if diff:\n"
     ]
    },
    {
     "name": "stdout",
     "output_type": "stream",
     "text": [
      "Accuracy is:  0.7837616315510342\n"
     ]
    },
    {
     "name": "stdout",
     "output_type": "stream",
     "text": [
      "TRAINING roc_auc_score :  0.5\n"
     ]
    },
    {
     "name": "stderr",
     "output_type": "stream",
     "text": [
      "c:\\python\\lib\\site-packages\\sklearn\\preprocessing\\label.py:151: DeprecationWarning: The truth value of an empty array is ambiguous. Returning False, but in future this will result in an error. Use `array.size > 0` to check that an array is not empty.\n  if diff:\nc:\\python\\lib\\site-packages\\sklearn\\preprocessing\\label.py:151: DeprecationWarning: The truth value of an empty array is ambiguous. Returning False, but in future this will result in an error. Use `array.size > 0` to check that an array is not empty.\n  if diff:\n"
     ]
    },
    {
     "name": "stdout",
     "output_type": "stream",
     "text": [
      "[[183400      0]\n [ 51663      0]]\n[[32512     0]\n [ 8970     0]]\n"
     ]
    },
    {
     "name": "stdout",
     "output_type": "stream",
     "text": [
      "\n CLASSIFICATION CORRECTE DES DONNEES DE Train  : 183400/235063    78.022%\n"
     ]
    },
    {
     "name": "stderr",
     "output_type": "stream",
     "text": [
      "c:\\python\\lib\\site-packages\\sklearn\\preprocessing\\label.py:151: DeprecationWarning: The truth value of an empty array is ambiguous. Returning False, but in future this will result in an error. Use `array.size > 0` to check that an array is not empty.\n  if diff:\nc:\\python\\lib\\site-packages\\sklearn\\preprocessing\\label.py:151: DeprecationWarning: The truth value of an empty array is ambiguous. Returning False, but in future this will result in an error. Use `array.size > 0` to check that an array is not empty.\n  if diff:\nC:/projets_python/diabolo\\etude_variable\\jouer.py:271: SettingWithCopyWarning: \nA value is trying to be set on a copy of a slice from a DataFrame\n\nSee the caveats in the documentation: http://pandas.pydata.org/pandas-docs/stable/indexing.html#indexing-view-versus-copy\n  test_x['v0'][i] = n\nC:/projets_python/diabolo\\etude_variable\\jouer.py:274: SettingWithCopyWarning: \nA value is trying to be set on a copy of a slice from a DataFrame\n\nSee the caveats in the documentation: http://pandas.pydata.org/pandas-docs/stable/indexing.html#indexing-view-versus-copy\n  test_x['v1'][i] = n\n"
     ]
    },
    {
     "name": "stdout",
     "output_type": "stream",
     "text": [
      "Score  TRAINING  :   78.022  ************************\nSauvegarde modele ...\nLecture data d:\\data_jour.csv\nFin de lecture  de d:\\data_jour.csv\n----------------------------------------head 5\n                       ALLURE  CO_PRIX  HIPPO  PAR_AGE  PAR_ARRIVE  \\\nIDPARTCIPANT IDCOURSE                                                \n1146553      92576          1    18000    188        5          99   \n1146809      92595          2     4729    260        4           0   \n1147065      92617          1    13000     97        5           0   \n1146554      92576          1    18000    188        5          99   \n1146810      92595          2     4729    260        4           0   \n\n                       PAR_CARRIERE  PAR_CARRIERE_Q  PAR_ENT_ECART_GAGNANT  \\\nIDPARTCIPANT IDCOURSE                                                        \n1146553      92576               25               0                      0   \n1146809      92595                0               0                      0   \n1147065      92617               32               0                      0   \n1146554      92576               34               0                      0   \n1146810      92595                0               0                      0   \n\n                       PAR_ENT_RAPPORT_GAGNANT_M  PAR_ENT_REU_PLACE   ...    \\\nIDPARTCIPANT IDCOURSE                                                 ...     \n1146553      92576                          8.45               0.30   ...     \n1146809      92595                          0.00               0.00   ...     \n1147065      92617                          0.00               0.06   ...     \n1146554      92576                          0.00               0.25   ...     \n1146810      92595                          0.00               0.00   ...     \n\n                       PAR_REUSSITE_3P  PAR_REUSSITE_GAGNE  \\\nIDPARTCIPANT IDCOURSE                                        \n1146553      92576            0.360000            0.200000   \n1146809      92595            0.000000            0.000000   \n1147065      92617            0.062500            0.000000   \n1146554      92576            0.411765            0.058824   \n1146810      92595            0.000000            0.000000   \n\n                       PAR_REUSSITE_QUINTE  PAR_RUESSITE_PLACE  Point  \\\nIDPARTCIPANT IDCOURSE                                                   \n1146553      92576                     0.0            0.160000    162   \n1146809      92595                     0.0            0.000000     17   \n1147065      92617                     0.0            0.062500     61   \n1146554      92576                     0.0            0.352941    177   \n1146810      92595                     0.0            0.000000     12   \n\n                       Nb_partant  PAR_PROPRIO  NOM_JOC  NOM_ENTR  CHEVAL  \nIDPARTCIPANT IDCOURSE                                                      \n1146553      92576             18          836      504       538   17327  \n1146809      92595             12        42201     7967     11711  109702  \n1147065      92617             13         3544     1712      1845    3417  \n1146554      92576             18        12271      473      4493   42809  \n1146810      92595             12        14371     7968      9454  109703  \n\n[5 rows x 33 columns]\n"
     ]
    },
    {
     "name": "stdout",
     "output_type": "stream",
     "text": [
      "\nTemps de calcul de la construction du fichier  est : 00:00:26\n\n\n ALLER DANS APPLICATION DIABOLO ...Allure 1\n Lecture DATA\nLecture data d:\\data_diabolo.csv\n"
     ]
    },
    {
     "name": "stdout",
     "output_type": "stream",
     "text": [
      "Fin de lecture  de d:\\data_diabolo.csv\n----------------------------------------head 5\n   ALLURE  CO_PRIX  HIPPO  IDCOURSE  IDPARTCIPANT  PAR_AGE  PAR_ARRIVE  \\\n0       3    46000      1      1615         19831        6          99   \n1       3    46000      1      1615         19830        6           1   \n2       3    46000      1      1615         19829        7           2   \n3       3    46000      1      1615         19828        7          99   \n4       3    46000      1      1615         19827        6          99   \n\n   PAR_CARRIERE  PAR_CARRIERE_Q  PAR_ENT_ECART_GAGNANT   ...    \\\n0            28               0                      8   ...     \n1            37               1                     13   ...     \n2            47               0                     16   ...     \n3            44               0                     17   ...     \n4            39               1                     11   ...     \n\n   PAR_RUESSITE_PLACE  autostart  Point  Nb_partant  PAR_PROPRIO  NOM_JOC  \\\n0            0.250000          0    205          13           53       34   \n1            0.027027          0    155          13           52       53   \n2            0.234043          0    160          13           51       52   \n3            0.181818          0    198          13           50       51   \n4            0.230769          0    207          13           49       50   \n\n   NOM_ENTR  POIDS  CORDE  CHEVAL  \n0        52     57      0      55  \n1        51     55      0      54  \n2        50     55      0      53  \n3        49     57      0      52  \n4        48     57      0      51  \n\n[5 rows x 38 columns]\n*********\n\n\n   ALLURE  CO_PRIX  HIPPO  IDCOURSE  IDPARTCIPANT  PAR_AGE  PAR_ARRIVE  \\\n0       3    46000      1      1615         19831        6          99   \n1       3    46000      1      1615         19830        6           1   \n2       3    46000      1      1615         19829        7           2   \n3       3    46000      1      1615         19828        7          99   \n4       3    46000      1      1615         19827        6          99   \n5       3    46000      1      1615         19826        8          99   \n6       3    46000      1      1615         19825        8          99   \n7       3    46000      1      1615         19824        6           4   \n8       3    46000      1      1615         19823        6           3   \n9       3    46000      1      1615         19822        6           5   \n\n   PAR_CARRIERE  PAR_CARRIERE_Q  PAR_ENT_ECART_GAGNANT   ...    \\\n0            28               0                      8   ...     \n1            37               1                     13   ...     \n2            47               0                     16   ...     \n3            44               0                     17   ...     \n4            39               1                     11   ...     \n5            56               1                      6   ...     \n6            87               0                      5   ...     \n7            41               0                      6   ...     \n8            31               0                     13   ...     \n9            30               1                      5   ...     \n\n   PAR_RUESSITE_PLACE  autostart  Point  Nb_partant  PAR_PROPRIO  NOM_JOC  \\\n0            0.250000          0    205          13           53       34   \n1            0.027027          0    155          13           52       53   \n2            0.234043          0    160          13           51       52   \n3            0.181818          0    198          13           50       51   \n4            0.230769          0    207          13           49       50   \n5            0.142857          0    198          13           48       49   \n6            0.218391          0    142          13           47       48   \n7            0.097561          0    130          13           46       47   \n8            0.161290          0    207          13           45       46   \n9            0.233333          0    254          13           44       45   \n\n   NOM_ENTR  POIDS  CORDE  CHEVAL  \n0        52     57      0      55  \n1        51     55      0      54  \n2        50     55      0      53  \n3        49     57      0      52  \n4        48     57      0      51  \n5        47     55      0      50  \n6        46     57      0      49  \n7        45     55      0      48  \n8        44     57      0      47  \n9        43     57      0      46  \n\n[10 rows x 38 columns]\n"
     ]
    },
    {
     "name": "stdout",
     "output_type": "stream",
     "text": [
      "head\n<class 'pandas.core.frame.DataFrame'>\nInt64Index: 178939 entries, 100 to 539599\nData columns (total 37 columns):\nCO_PRIX                      178939 non-null int64\nHIPPO                        178939 non-null int64\nIDCOURSE                     178939 non-null int64\nIDPARTCIPANT                 178939 non-null int64\nPAR_AGE                      178939 non-null int64\nPAR_CARRIERE                 178939 non-null int64\nPAR_CARRIERE_Q               178939 non-null int64\nPAR_ENT_ECART_GAGNANT        178939 non-null int64\nPAR_ENT_RAPPORT_GAGNANT_M    178939 non-null float64\nPAR_ENT_REU_PLACE            178939 non-null float64\nPAR_ENT_REUSSITE_GAGNE       178939 non-null float64\nPAR_ENT_VICTOIRE             178939 non-null int64\npAR_JOC_ECART_GAGNANT        178939 non-null int64\nPAR_JOC_ECART_PLACE          178939 non-null int64\nPAR_JOC_NB_COURSE            178939 non-null int64\nPAR_JOC_PLACE_3P             178939 non-null int64\npAR_JOC_RAPPORT_GAGNANT_M    178939 non-null float64\nPAR_JOC_REU_PLACE            178939 non-null float64\npAR_JOC_REUSSITE_GAGNE       178939 non-null float64\npAR_JOC_VICTOIRE             178939 non-null int64\nPAR_NUM                      178939 non-null int64\nPAR_PLACE                    178939 non-null int64\nPAR_PLACE_Q                  178939 non-null int64\nPAR_REUSSITE_3P              178939 non-null float64\nPAR_REUSSITE_GAGNE           178939 non-null float64\nPAR_REUSSITE_QUINTE          178939 non-null float64\nPAR_RUESSITE_PLACE           178939 non-null float64\nautostart                    178939 non-null int64\nPoint                        178939 non-null int64\nNb_partant                   178939 non-null int64\nPAR_PROPRIO                  178939 non-null int64\nNOM_JOC                      178939 non-null int64\nNOM_ENTR                     178939 non-null int64\nPOIDS                        178939 non-null int64\nCORDE                        178939 non-null int64\nCHEVAL                       178939 non-null int64\nSELECTION2                   178939 non-null int64\ndtypes: float64(10), int64(27)\nmemory usage: 51.9 MB\n"
     ]
    },
    {
     "name": "stdout",
     "output_type": "stream",
     "text": [
      "head\n<class 'pandas.core.frame.DataFrame'>\nMultiIndex: 178939 entries, (19932, 1622) to (743940, 60192)\nData columns (total 35 columns):\nCO_PRIX                      178939 non-null int64\nHIPPO                        178939 non-null int64\nPAR_AGE                      178939 non-null int64\nPAR_CARRIERE                 178939 non-null int64\nPAR_CARRIERE_Q               178939 non-null int64\nPAR_ENT_ECART_GAGNANT        178939 non-null int64\nPAR_ENT_RAPPORT_GAGNANT_M    178939 non-null float64\nPAR_ENT_REU_PLACE            178939 non-null float64\nPAR_ENT_REUSSITE_GAGNE       178939 non-null float64\nPAR_ENT_VICTOIRE             178939 non-null int64\npAR_JOC_ECART_GAGNANT        178939 non-null int64\nPAR_JOC_ECART_PLACE          178939 non-null int64\nPAR_JOC_NB_COURSE            178939 non-null int64\nPAR_JOC_PLACE_3P             178939 non-null int64\npAR_JOC_RAPPORT_GAGNANT_M    178939 non-null float64\nPAR_JOC_REU_PLACE            178939 non-null float64\npAR_JOC_REUSSITE_GAGNE       178939 non-null float64\npAR_JOC_VICTOIRE             178939 non-null int64\nPAR_NUM                      178939 non-null int64\nPAR_PLACE                    178939 non-null int64\nPAR_PLACE_Q                  178939 non-null int64\nPAR_REUSSITE_3P              178939 non-null float64\nPAR_REUSSITE_GAGNE           178939 non-null float64\nPAR_REUSSITE_QUINTE          178939 non-null float64\nPAR_RUESSITE_PLACE           178939 non-null float64\nautostart                    178939 non-null int64\nPoint                        178939 non-null int64\nNb_partant                   178939 non-null int64\nPAR_PROPRIO                  178939 non-null int64\nNOM_JOC                      178939 non-null int64\nNOM_ENTR                     178939 non-null int64\nPOIDS                        178939 non-null int64\nCORDE                        178939 non-null int64\nCHEVAL                       178939 non-null int64\nSELECTION                    178939 non-null int64\ndtypes: float64(10), int64(25)\nmemory usage: 50.3 MB\nSplit ...\nclass_weight =  [0.68290515 1.86682868]\n\nTEST DU FIT ......DIRECT\n\nfold ......DIRECT\nFIT ...\n"
     ]
    }
   ],
   "source": [
    "nb=2\n",
    "\n",
    "mode_debug=0 # MODE DEBUG\n",
    "actua=0# recalcul du model 0 = actua   1=pas actuia\n",
    "\n",
    "\n",
    "jouerlescourse(nb_itera=nb, allure=1, mode_debug=mode_debug,actualise=actua)\n",
    "jouerlescourse(nb_itera=nb, allure=2,mode_debug=mode_debug,actualise=actua)\n",
    "jouerlescourse(nb_itera=nb, allure=3, mode_debug=mode_debug,actualise=actua)\n",
    "jouerlescourse(nb_itera=nb, allure=4, mode_debug=mode_debug,actualise=actua)\n",
    "jouerlescourse(nb_itera=nb, allure=5, mode_debug=mode_debug,actualise=actua)"
   ]
  },
  {
   "cell_type": "code",
   "execution_count": null,
   "metadata": {
    "collapsed": true
   },
   "outputs": [],
   "source": []
  },
  {
   "cell_type": "code",
   "execution_count": 5,
   "metadata": {},
   "outputs": [],
   "source": [
    "\n",
    "\n",
    "\n"
   ]
  },
  {
   "cell_type": "code",
   "execution_count": 5,
   "metadata": {
    "collapsed": true
   },
   "outputs": [],
   "source": [
    "\n",
    "\n",
    "    \n"
   ]
  },
  {
   "cell_type": "code",
   "execution_count": 5,
   "metadata": {},
   "outputs": [],
   "source": [
    "\n",
    "\n",
    "                           \n",
    "    \n",
    "    \n",
    "    "
   ]
  },
  {
   "cell_type": "code",
   "execution_count": 5,
   "metadata": {
    "collapsed": true
   },
   "outputs": [],
   "source": []
  },
  {
   "cell_type": "code",
   "execution_count": 5,
   "metadata": {
    "collapsed": true
   },
   "outputs": [],
   "source": [
    "\n"
   ]
  },
  {
   "cell_type": "code",
   "execution_count": 5,
   "metadata": {
    "collapsed": true
   },
   "outputs": [],
   "source": [
    "\n",
    "\n"
   ]
  },
  {
   "cell_type": "code",
   "execution_count": 5,
   "metadata": {},
   "outputs": [],
   "source": []
  },
  {
   "cell_type": "code",
   "execution_count": 5,
   "metadata": {},
   "outputs": [],
   "source": [
    "\n"
   ]
  },
  {
   "cell_type": "code",
   "execution_count": 5,
   "metadata": {},
   "outputs": [],
   "source": []
  },
  {
   "cell_type": "code",
   "execution_count": 5,
   "metadata": {},
   "outputs": [],
   "source": []
  },
  {
   "cell_type": "code",
   "execution_count": 5,
   "metadata": {},
   "outputs": [],
   "source": []
  },
  {
   "cell_type": "code",
   "execution_count": 5,
   "metadata": {},
   "outputs": [],
   "source": []
  }
 ],
 "metadata": {
  "kernelspec": {
   "display_name": "Python 3",
   "language": "python",
   "name": "python3"
  },
  "language_info": {
   "codemirror_mode": {
    "name": "ipython",
    "version": 3
   },
   "file_extension": ".py",
   "mimetype": "text/x-python",
   "name": "python",
   "nbconvert_exporter": "python",
   "pygments_lexer": "ipython3",
   "version": "3.6.5rc1"
  }
 },
 "nbformat": 4,
 "nbformat_minor": 1
}
