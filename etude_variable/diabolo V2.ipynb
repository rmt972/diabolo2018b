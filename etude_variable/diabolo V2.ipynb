{
 "cells": [
  {
   "cell_type": "code",
   "execution_count": 1,
   "metadata": {
    "collapsed": true
   },
   "outputs": [
    {
     "name": "stdout",
     "output_type": "stream",
     "text": [
      "Operating system version.... Windows-10-10.0.17134-SP0\nPython version is........... 3.6.5\nscikit-learn version is..... 0.19.1\npandas version is........... 0.22.0\nnumpy version is............ 1.14.2\nmatplotlib version is....... 2.2.0\nscipy version is....... 1.0.0\n"
     ]
    }
   ],
   "source": [
    "import  sys\n",
    "sys.path.insert(0, \"C:/projets_python/diabolo\")\n",
    "\n",
    "\n",
    "import warnings\n",
    "\n",
    "import sklearn\n",
    "import etude_variable.jouer as jouer\n",
    "import etude_variable.lecture_data as ld\n",
    "import pandas as pd\n",
    "import numpy as np\n",
    "import matplotlib\n",
    "import scipy\n",
    "import platform\n",
    "\n",
    "# make sure to use position 1\n",
    "\n",
    "\n",
    "print('Operating system version....', platform.platform())\n",
    "print(\"Python version is........... %s.%s.%s\" % sys.version_info[:3])\n",
    "print('scikit-learn version is.....', sklearn.__version__)\n",
    "print('pandas version is...........', pd.__version__)\n",
    "print('numpy version is............', np.__version__)\n",
    "print('matplotlib version is.......', matplotlib.__version__)\n",
    "print('scipy version is.......', scipy.__version__)\n"
   ]
  },
  {
   "cell_type": "code",
   "execution_count": 2,
   "metadata": {
    "collapsed": true
   },
   "outputs": [],
   "source": [
    "\n",
    "def jouerlescourse(nb_itera, allure, mode_debug=0, actualise=0):\n",
    "    \n",
    "    global best_model_1,   best_model_2, best_model_3, best_model_4, best_model_5,\\\n",
    "            feature_columns1, feature_columns2, feature_columns3,\\\n",
    "    feature_columns4,      feature_columns5,response_column\n",
    "    \n",
    "    #ENTRAINE_ALLURE\n",
    "    best_model, feature_columns, response_column = jouer.entraine_allure(allure=allure, \n",
    "                                                                                                                             nb_iter=nb_itera,\n",
    "                                                                                                                        mode_debug=mode_debug,\n",
    "                                                                                                                           actualise=actualise)\n",
    "    \n",
    "    \n",
    "    \n",
    "    \n",
    "    if allure==1:\n",
    "        best_model_1 = best_model\n",
    "        feature_columns1 = feature_columns\n",
    "        \n",
    "    if allure==2:\n",
    "        best_model_2 = best_model\n",
    "        feature_columns2 = feature_columns\n",
    "        \n",
    "    if allure==3:\n",
    "        best_model_3 = best_model\n",
    "        feature_columns3 = feature_columns\n",
    "        \n",
    "    if allure==4:\n",
    "        best_model_4 = best_model\n",
    "        feature_columns4 = feature_columns\n",
    "        \n",
    "    if allure==5:\n",
    "        best_model_5 = best_model\n",
    "        feature_columns5 = feature_columns\n",
    "        \n",
    "            \n",
    "    jouer.construireFichierCSV(allure=allure , best_model=best_model, \n",
    "                                      feature_columns=feature_columns,  \n",
    "                                        response_column=response_column,\n",
    "                                       mode_debug=mode_debug)\n",
    "    \n"
   ]
  },
  {
   "cell_type": "code",
   "execution_count": 3,
   "metadata": {
    "collapsed": false
   },
   "outputs": [],
   "source": [
    "def jouerlescourse(nb_itera, allure, mode_debug=0, actualise=0):\n",
    "    \n",
    "    global best_model_1,   best_model_2, best_model_3, best_model_4, best_model_5,\\\n",
    "            feature_columns1, feature_columns2, feature_columns3,\\\n",
    "    feature_columns4,      feature_columns5,response_column\n",
    "    \n",
    "    #ENTRAINE_ALLURE\n",
    "    best_model, feature_columns, response_column = jouer.entraine_allure(allure=allure, \n",
    "                                                                          nb_iter=nb_itera,mode_debug=mode_debug,actualise=actualise)\n",
    "    \n",
    "    if allure==1:\n",
    "        best_model_1 = best_model\n",
    "        feature_columns1 = feature_columns\n",
    "        \n",
    "    if allure==2:\n",
    "        best_model_2 = best_model\n",
    "        feature_columns2 = feature_columns\n",
    "        \n",
    "    if allure==3:\n",
    "        best_model_3 = best_model\n",
    "        feature_columns3 = feature_columns\n",
    "        \n",
    "    if allure==4:\n",
    "        best_model_4 = best_model\n",
    "        feature_columns4 = feature_columns\n",
    "        \n",
    "    if allure==5:\n",
    "        best_model_5 = best_model\n",
    "        feature_columns5 = feature_columns\n",
    "        \n",
    "            \n",
    "    jouer.construireFichierCSV(allure=allure , best_model=best_model, \n",
    "                                      feature_columns=feature_columns,  \n",
    "                                        response_column=response_column,\n",
    "                                       mode_debug=mode_debug)"
   ]
  },
  {
   "cell_type": "code",
   "execution_count": 4,
   "metadata": {
    "collapsed": true
   },
   "outputs": [
    {
     "name": "stdout",
     "output_type": "stream",
     "text": [
      "Lecture data d:\\data_diabolo.csv\n"
     ]
    },
    {
     "name": "stdout",
     "output_type": "stream",
     "text": [
      "Fin de lecture  de d:\\data_diabolo.csv\n"
     ]
    },
    {
     "name": "stdout",
     "output_type": "stream",
     "text": [
      "\nNormalisation scaler ....\n"
     ]
    },
    {
     "name": "stdout",
     "output_type": "stream",
     "text": [
      "Split ...\nclass_weight =  [0.64084787 2.27496467]\n\nTEST DU FIT ......DIRECT\n"
     ]
    }
   ],
   "source": [
    "nb=2\n",
    "\n",
    "mode_debug=0 # MODE DEBUG\n",
    "actua=0# recalcul du model 0 = actua   1=pas actuia\n",
    "\n",
    "\n",
    "jouerlescourse(nb_itera=nb, allure=1, mode_debug=mode_debug,actualise=actua)\n",
    "jouerlescourse(nb_itera=nb, allure=2,mode_debug=mode_debug,actualise=actua)\n",
    "jouerlescourse(nb_itera=nb, allure=3, mode_debug=mode_debug,actualise=actua)\n",
    "jouerlescourse(nb_itera=nb, allure=4, mode_debug=mode_debug,actualise=actua)\n",
    "jouerlescourse(nb_itera=nb, allure=5, mode_debug=mode_debug,actualise=actua)"
   ]
  },
  {
   "cell_type": "code",
   "execution_count": null,
   "metadata": {
    "collapsed": true
   },
   "outputs": [],
   "source": [
    ""
   ]
  },
  {
   "cell_type": "code",
   "execution_count": 5,
   "metadata": {
    "collapsed": false
   },
   "outputs": [],
   "source": [
    "\n",
    "\n",
    "\n"
   ]
  },
  {
   "cell_type": "code",
   "execution_count": 5,
   "metadata": {
    "collapsed": true
   },
   "outputs": [],
   "source": [
    "\n",
    "\n",
    "    \n"
   ]
  },
  {
   "cell_type": "code",
   "execution_count": 5,
   "metadata": {
    "collapsed": false
   },
   "outputs": [],
   "source": [
    "\n",
    "\n",
    "                           \n",
    "    \n",
    "    \n",
    "    "
   ]
  },
  {
   "cell_type": "code",
   "execution_count": 5,
   "metadata": {
    "collapsed": true
   },
   "outputs": [],
   "source": [
    ""
   ]
  },
  {
   "cell_type": "code",
   "execution_count": 5,
   "metadata": {
    "collapsed": true
   },
   "outputs": [],
   "source": [
    "\n"
   ]
  },
  {
   "cell_type": "code",
   "execution_count": 5,
   "metadata": {
    "collapsed": true
   },
   "outputs": [],
   "source": [
    "\n",
    "\n"
   ]
  },
  {
   "cell_type": "code",
   "execution_count": 5,
   "metadata": {},
   "outputs": [],
   "source": []
  },
  {
   "cell_type": "code",
   "execution_count": 5,
   "metadata": {},
   "outputs": [],
   "source": [
    "\n"
   ]
  },
  {
   "cell_type": "code",
   "execution_count": 5,
   "metadata": {},
   "outputs": [],
   "source": []
  },
  {
   "cell_type": "code",
   "execution_count": 5,
   "metadata": {},
   "outputs": [],
   "source": []
  },
  {
   "cell_type": "code",
   "execution_count": 5,
   "metadata": {},
   "outputs": [],
   "source": []
  },
  {
   "cell_type": "code",
   "execution_count": 5,
   "metadata": {},
   "outputs": [],
   "source": []
  }
 ],
 "metadata": {
  "kernelspec": {
   "display_name": "Python 2",
   "language": "python",
   "name": "python2"
  },
  "language_info": {
   "codemirror_mode": {
    "name": "ipython",
    "version": 2
   },
   "file_extension": ".py",
   "mimetype": "text/x-python",
   "name": "python",
   "nbconvert_exporter": "python",
   "pygments_lexer": "ipython2",
   "version": "2.7.6"
  }
 },
 "nbformat": 4,
 "nbformat_minor": 0
}
