{
 "cells": [
  {
   "cell_type": "code",
   "execution_count": 1,
   "metadata": {},
   "outputs": [],
   "source": [
    "allure_etudier=1"
   ]
  },
  {
   "cell_type": "code",
   "execution_count": 2,
   "metadata": {},
   "outputs": [
    {
     "name": "stdout",
     "output_type": "stream",
     "text": [
      "Operating system version.... Windows-10-10.0.17134-SP0\nPython version is........... 3.6.5\nscikit-learn version is..... 0.19.1\npandas version is........... 0.22.0\nnumpy version is............ 1.14.2\nmatplotlib version is....... 2.2.0\nscipy version is....... 1.0.0\n"
     ]
    },
    {
     "name": "stdout",
     "output_type": "stream",
     "text": [
      "Operating system version.... Windows-10-10.0.17134-SP0\nPython version is........... 3.6.5\nscikit-learn version is..... 0.19.1\npandas version is........... 0.22.0\nnumpy version is............ 1.14.2\nmatplotlib version is....... 2.2.0\nscipy version is....... 1.0.0\n"
     ]
    }
   ],
   "source": [
    "import  sys\n",
    "\n",
    "#LOCALISATION DES DONNEES\n",
    "sys.path.insert(0, \"C:/projets_python/diabolo\")\n",
    "\n",
    "import warnings\n",
    "warnings.filterwarnings(\"ignore\")\n",
    "\n",
    "\n",
    "\n",
    "\n",
    "#LIBRAIRIES PERSO\n",
    "import etude_variable.jouer as jj\n",
    "\n",
    "\n",
    "\n",
    "# LIBRAIRIE PYHTON CLASSIQUES\n",
    "import pandas as pd\n",
    "import numpy as np\n",
    "import matplotlib\n",
    "import scipy\n",
    "import platform\n",
    "\n",
    "from collections import Counter\n",
    "\n",
    "#ESTIMATEUR\n",
    "import sklearn\n",
    "import xgboost as xgb\n",
    "from xgboost import XGBClassifier\n",
    "from sklearn.ensemble import  RandomForestClassifier\n",
    "from sklearn import neighbors, datasets\n",
    "from sklearn.pipeline import make_pipeline\n",
    "from sklearn.preprocessing import Imputer\n",
    "\n",
    "from sklearn.ensemble import GradientBoostingClassifier\n",
    "\n",
    "\n",
    "\n",
    "from scipy.stats import uniform\n",
    "from scipy.stats import randint\n",
    "\n",
    "#TRAINING\n",
    "from sklearn.model_selection import GridSearchCV\n",
    "from sklearn.model_selection import RandomizedSearchCV\n",
    "from skopt import BayesSearchCV\n",
    "import dask_searchcv as dcv\n",
    "from skopt.space import Real, Integer\n",
    "from sklearn.model_selection import cross_validate\n",
    "\n",
    "#Evaluateur\n",
    "from sklearn.model_selection import KFold\n",
    "\n",
    "from sklearn.model_selection import cross_val_score\n",
    "from sklearn.model_selection import StratifiedKFold\n",
    "from sklearn.model_selection import KFold\n",
    "\n",
    "from sklearn.feature_selection import SelectFromModel\n",
    "\n",
    "\n",
    "from evolutionary_search import EvolutionaryAlgorithmSearchCV\n",
    "from sklearn.utils import class_weight\n",
    "\n",
    "#outils\n",
    "from dask.diagnostics import ProgressBar\n",
    "import logging\n",
    "from datetime import datetime\n",
    "from sklearn.externals import joblib\n",
    "\n",
    "\n",
    "#Metriques\n",
    "from sklearn.metrics import confusion_matrix, accuracy_score\n",
    "from sklearn.model_selection import learning_curve\n",
    "from sklearn import  metrics\n",
    "from sklearn.metrics import  roc_auc_score\n",
    "from sklearn.metrics import  classification_report\n",
    "\n",
    "#Outils\n",
    "\n",
    "import time\n",
    "\n",
    "\n",
    "#Graphique\n",
    "from matplotlib import pyplot\n",
    "from matplotlib import pyplot as plt\n",
    "import seaborn as sns\n",
    "\n",
    "print('Operating system version....', platform.platform())\n",
    "print(\"Python version is........... %s.%s.%s\" % sys.version_info[:3])\n",
    "print('scikit-learn version is.....', sklearn.__version__)\n",
    "print('pandas version is...........', pd.__version__)\n",
    "print('numpy version is............', np.__version__)\n",
    "print('matplotlib version is.......', matplotlib.__version__)\n",
    "print('scipy version is.......', scipy.__version__)\n"
   ]
  },
  {
   "cell_type": "code",
   "execution_count": 3,
   "metadata": {},
   "outputs": [],
   "source": [
    "def save_mymodel(clf, allure):\n",
    "    print(\"Sauvegarde modele ...\")\n",
    "    joblib.dump(clf, 'diabolo' + str(allure) + '.pkl')\n",
    "    \n",
    "def load_mymodel(allure):\n",
    "    print(\"Restauration modele ...\")\n",
    "    clf = joblib.load('diabolo' + str(allure) + '.pkl')\n",
    "    return clf\n",
    "\n",
    "    \n",
    "    "
   ]
  },
  {
   "cell_type": "code",
   "execution_count": 4,
   "metadata": {},
   "outputs": [
    {
     "name": "stdout",
     "output_type": "stream",
     "text": [
      "Restauration modele ...\nXGBClassifier(base_score=0.5, booster='gbtree', colsample_bylevel=1,\n       colsample_bytree=0.9, gamma=0.3, learning_rate=0.07,\n       max_delta_step=4, max_depth=10, max_features='sqrt',\n       min_child_weight=13, missing=nan, n_estimators=1300, n_jobs=1,\n       nthread=None, objective='binary:logistic', random_state=10,\n       reg_alpha=0.2, reg_lambda=1, scale_pos_weight=1, seed=400,\n       silent=True, subsample=0.9)\n"
     ]
    }
   ],
   "source": [
    "model = load_mymodel(allure_etudier)\n",
    "print(model)         "
   ]
  },
  {
   "cell_type": "code",
   "execution_count": 5,
   "metadata": {},
   "outputs": [
    {
     "name": "stdout",
     "output_type": "stream",
     "text": [
      "2018-07-14 16:02:23.992154\n"
     ]
    },
    {
     "name": "stdout",
     "output_type": "stream",
     "text": [
      "\n Time taken: 0 hours 0 minutes and 2.49 seconds.\n"
     ]
    },
    {
     "name": "stdout",
     "output_type": "stream",
     "text": [
      "<class 'pandas.core.frame.DataFrame'>\nInt64Index: 238974 entries, 14 to 490294\nData columns (total 53 columns):\nCO_PRIX                      238974 non-null int64\nHIPPO                        238974 non-null int64\nIDCOURSE                     238974 non-null int64\nIDPARTCIPANT                 238974 non-null int64\nPAR_AGE                      238974 non-null int64\nPAR_CARRIERE                 238974 non-null float64\nPAR_CARRIERE_Q               238974 non-null float64\nPAR_CLASSE_AGE               238974 non-null float64\nPAR_COTEDER                  238974 non-null int64\nPAR_ENT_ECART_GAGNANT        238974 non-null int64\nPAR_ENT_RAPPORT_GAGNANT_M    238974 non-null float64\nPAR_ENT_REU_PLACE            238974 non-null float64\nPAR_ENT_REUSSITE_GAGNE       238974 non-null float64\nPAR_ENT_VICTOIRE             238974 non-null float64\nPAR_GAIN                     238974 non-null float64\npAR_JOC_ECART_GAGNANT        238974 non-null int64\nPAR_JOC_ECART_PLACE          238974 non-null int64\nPAR_JOC_NB_COURSE            238974 non-null float64\nPAR_JOC_PLACE_3P             238974 non-null float64\npAR_JOC_RAPPORT_GAGNANT_M    238974 non-null float64\nPAR_JOC_REU_PLACE            238974 non-null float64\npAR_JOC_REUSSITE_GAGNE       238974 non-null float64\npAR_JOC_VICTOIRE             238974 non-null float64\nPAR_NP                       238974 non-null int64\nPAR_NUM                      238974 non-null int64\nPAR_PLACE                    238974 non-null int64\nPAR_PLACE_Q                  238974 non-null float64\nPAR_REUSSITE_3P              238974 non-null float64\nPAR_REUSSITE_GAGNE           238974 non-null float64\nPAR_REUSSITE_QUINTE          238974 non-null float64\nPAR_RUESSITE_PLACE           238974 non-null float64\nautostart                    238974 non-null int64\ncendre                       238974 non-null int64\ngrande_piste                 238974 non-null int64\nPoint                        238974 non-null int64\nNb_partant                   238974 non-null int64\nPAR_PROPRIO                  238974 non-null int64\nNOM_JOC                      238974 non-null int64\nNOM_ENTR                     238974 non-null int64\nPOIDS                        238974 non-null int64\nCORDE                        238974 non-null int64\nCHEVAL                       238974 non-null int64\nMUSIC_CHEVAL                 42186 non-null object\nMUSIC_ENT                    238907 non-null object\nMUSIC_JOC                    238895 non-null object\nPAR_VALEUR                   238974 non-null int64\nPAR_ENT_ECART_PLACE          238974 non-null int64\nPAR_VICTOIRE                 238974 non-null float64\nPAR_VICTOIRE_Q               238974 non-null float64\nPAR_ENT_NB_COURSE            238974 non-null float64\nFIN_ligne                    238974 non-null object\nSELECTION2                   238974 non-null int64\np2018                        238974 non-null float64\ndtypes: float64(23), int64(26), object(4)\nmemory usage: 98.5+ MB\nNone\n"
     ]
    }
   ],
   "source": [
    "xnames =jj.get_names()\n",
    "xnames2 = jj.get_names2()\n",
    "\n",
    "# xnames 2 = nouvelles colonnes du fichier transformé\n",
    "# p2018 a été ajouté, SELECTION a été ajouté\n",
    "\n",
    "df2=jj.restauration(allure_etudier=allure_etudier,xnames2=xnames2)\n",
    "print(df2.info())\n"
   ]
  },
  {
   "cell_type": "code",
   "execution_count": 6,
   "metadata": {},
   "outputs": [
    {
     "name": "stdout",
     "output_type": "stream",
     "text": [
      "Suppression colonnne  0\n"
     ]
    },
    {
     "name": "stdout",
     "output_type": "stream",
     "text": [
      "Suppression colonnne  1\n"
     ]
    },
    {
     "name": "stdout",
     "output_type": "stream",
     "text": [
      "DEFINITION DE LA STRUCTURE ---------------------------------------------------------\n(1) Shape df_gagnant   (238974, 35) \n\n(2) FEATURES  Index(['PAR_AGE', 'PAR_CARRIERE', 'PAR_CARRIERE_Q', 'PAR_ENT_ECART_GAGNANT',\n       'PAR_ENT_RAPPORT_GAGNANT_M', 'PAR_ENT_REU_PLACE',\n       'PAR_ENT_REUSSITE_GAGNE', 'PAR_ENT_VICTOIRE', 'pAR_JOC_ECART_GAGNANT',\n       'PAR_JOC_ECART_PLACE', 'PAR_JOC_NB_COURSE', 'PAR_JOC_PLACE_3P',\n       'pAR_JOC_RAPPORT_GAGNANT_M', 'PAR_JOC_REU_PLACE',\n       'pAR_JOC_REUSSITE_GAGNE', 'pAR_JOC_VICTOIRE', 'PAR_NUM', 'PAR_PLACE',\n       'PAR_PLACE_Q', 'PAR_REUSSITE_3P', 'PAR_REUSSITE_GAGNE',\n       'PAR_REUSSITE_QUINTE', 'PAR_RUESSITE_PLACE', 'Point', 'Nb_partant',\n       'PAR_PROPRIO', 'NOM_JOC', 'NOM_ENTR', 'CHEVAL', 'PAR_ENT_ECART_PLACE',\n       'PAR_VICTOIRE', 'PAR_VICTOIRE_Q', 'PAR_ENT_NB_COURSE', 'p2018'],\n      dtype='object')\n(3) response column  ['SELECTION']\n"
     ]
    }
   ],
   "source": [
    "\n",
    "\n",
    "df2['SELECTION2']=df2['SELECTION2'].astype('float')\n",
    "df2['SELECTION2']=df2['SELECTION2'].astype('int')\n",
    "df2 = jj.suppression_colonne(df2=df2,allure=0)\n",
    "df2 = jj.suppression_colonne(df2=df2,allure=allure_etudier)\n",
    "\n",
    "# Creating bins for the win column\n",
    "def assign_selection2(W):\n",
    "    if W==1:\n",
    "        return 1\n",
    "    if W==0:\n",
    "        return 0\n",
    "    \n",
    "    \n",
    "\n",
    "\n",
    "Lib_features_df = df2.columns\n",
    "xdata = df2.values\n",
    "\n",
    "df_gagnant = pd.DataFrame(data=xdata, columns=Lib_features_df)\n",
    "df_gagnant['SELECTION'] = df_gagnant['SELECTION2'].apply(assign_selection2)\n",
    "df_gagnant.drop([\"SELECTION2\"], axis=1, inplace=True)\n",
    "\n",
    "index_col = ['IDPARTCIPANT', 'IDCOURSE']\n",
    "df_gagnant = df_gagnant.set_index(index_col)\n",
    "df_gagnant_len = len(df_gagnant.columns) - 1\n",
    "Lib_features = df_gagnant.columns[:df_gagnant_len]\n",
    "\n",
    "feature_columns = Lib_features  ##<<<<<<<<<<<<<<<<\n",
    "response_column = ['SELECTION']  ##<<<<<<<<<<<<<<<<\n",
    "\n",
    "print(\"DEFINITION DE LA STRUCTURE ---------------------------------------------------------\")\n",
    "print(\"(1) Shape df_gagnant  \", df_gagnant.shape,\"\\n\")\n",
    "print(\"(2) FEATURES \",Lib_features)\n",
    "print(\"(3) response column \",response_column)\n",
    "# df_gagnant, feature_columns, response_column, ratio SONT DEFINI\n"
   ]
  },
  {
   "cell_type": "code",
   "execution_count": 7,
   "metadata": {},
   "outputs": [
    {
     "name": "stdout",
     "output_type": "stream",
     "text": [
      "Proportion: 12.45 : 1\nTotal number of records : 238974 \nNombre de participations avec SELECTION = 0 : 221202\nNombre de participations avec SELECTION = 1  : 17772\nPourcentage 0: 92.5632%,  pourcentage 1 : 7.4368%\n"
     ]
    },
    {
     "data": {
      "image/png": "[encoded data removed]",
      "text/plain": [
       "<Figure size 432x288 with 1 Axes>"
      ]
     },
     "metadata": {},
     "output_type": "display_data"
    }
   ],
   "source": [
    "\n",
    "target_count = df_gagnant['SELECTION'].value_counts()\n",
    "\n",
    "print('Proportion:', round(target_count[0] / target_count[1], 2), ': 1')\n",
    "target_count.plot(kind='bar', title='Count (target)')\n",
    "normal_trans_perc = sum(df_gagnant['SELECTION'] == 0) / (sum(df_gagnant['SELECTION'] == 0) + sum(df_gagnant['SELECTION'] == 1))\n",
    "fraud_trans_perc = 1 - normal_trans_perc\n",
    "print('Total number of records : {} '.format(len(df_gagnant)))\n",
    "print('Nombre de participations avec SELECTION = 0 : {}'.format(sum(df_gagnant['SELECTION'] == 0)))\n",
    "print('Nombre de participations avec SELECTION = 1  : {}'.format(sum(df_gagnant['SELECTION'] == 1)))\n",
    "print('Pourcentage 0: {:.4f}%,  pourcentage 1 : {:.4f}%'.format(normal_trans_perc * 100,fraud_trans_perc * 100))\n"
   ]
  },
  {
   "cell_type": "code",
   "execution_count": 8,
   "metadata": {},
   "outputs": [
    {
     "name": "stdout",
     "output_type": "stream",
     "text": [
      "SPLIT des données ....\n\nTrain_x (167281, 34)\nTrain y (167281, 1)\n\nTest x (71693, 34)\nTest y (71693, 1)\n2018-07-14 16:02:31.894031\n"
     ]
    },
    {
     "name": "stdout",
     "output_type": "stream",
     "text": [
      "Fin SMOT\n\n Time taken: 0 hours 0 minutes and 1.48 seconds.\napres SMOT2\nTrain_x (309616, 34)\nTrain y (309616,)\n"
     ]
    }
   ],
   "source": [
    "\n",
    "\n",
    "#train_x, test_x, train_y, test_y = jj.split_data2(df_gagnant, feature_columns,response_column)\n",
    "from sklearn.model_selection import train_test_split\n",
    "\n",
    "train_x, test_x, train_y, test_y = train_test_split(df_gagnant[feature_columns],df_gagnant[response_column], test_size=0.30, random_state=42)\n",
    "\n",
    "train_eval_X = df_gagnant[feature_columns]\n",
    "train_eval_Y = df_gagnant[response_column]\n",
    "print(\"SPLIT des données ....\\n\")\n",
    "\n",
    "print(\"Train_x\", train_x.shape)\n",
    "print(\"Train y\", train_y.shape)\n",
    "print(\"\")\n",
    "print(\"Test x\", test_x.shape)\n",
    "print(\"Test y\", test_y.shape)\n",
    "\n",
    "#print(\"train_eval_X\", train_eval_X.shape)\n",
    "#print(\"train_eval_Y\", train_eval_Y.shape)\n",
    "\n",
    "\n",
    "#test_y = test_y['SELECTION'].ravel()\n",
    "#train_y = train_y['SELECTION'].ravel()\n",
    "\n",
    "\n",
    "\n",
    "train_x, train_y = jj.smot2(train_x=train_x, train_y=train_y, feature_columns=feature_columns)\n",
    "\n",
    "print(\"apres SMOT2\")\n",
    "print(\"Train_x\", train_x.shape)\n",
    "print(\"Train y\", train_y.shape)\n",
    "#test_x, test_y = smot2(train_x=test_x, train_y=test_y, feature_columns=feature_columns)"
   ]
  },
  {
   "cell_type": "code",
   "execution_count": 9,
   "metadata": {},
   "outputs": [],
   "source": [
    "def encodage(df_x):\n",
    "    \n",
    "    from sklearn import preprocessing\n",
    "    #le = preprocessing.LabelEncoder()\n",
    "    #df_gagnant[['HIPPO']] = le.fit_transform(df_gagnant[['HIPPO']])\n",
    "    #df_gagnant[['PAR_PROPRIO']] = le.fit_transform(df_gagnant[['PAR_PROPRIO']])\n",
    "    ##f_gagnant[['NOM_JOC']] = le.fit_transform(df_gagnant[['NOM_JOC']])\n",
    "    #df_gagnant[['NOM_ENTR']] = le.fit_transform(df_gagnant[['NOM_ENTR']])\n",
    "    #df_gagnant[['CHEVAL']] = le.fit_transform(df_gagnant[['CHEVAL']])\n",
    "    #df_gagnant[['PAR_NUM']] = le.fit_transform(df_gagnant[['PAR_NUM']])\n",
    "   # df_gagnant[['MUSIC_CHEVAL']] = le.fit_transform(df_gagnant[['MUSIC_CHEVAL']])\n",
    "\n",
    "    from sklearn.preprocessing import RobustScaler\n",
    "    from sklearn.preprocessing import quantile_transform\n",
    "\n",
    "    #scaler = RobustScaler()\n",
    "    scaler = RobustScaler( with_scaling=False, quantile_range=(25.0, 75.0), copy=False)\n",
    "    critere_scale = ['CO_PRIX','PAR_CARRIERE',\n",
    "                     'PAR_CLASSE_AGE',\n",
    "                     'PAR_COTEDER','PAR_ENT_REU_PLACE',\n",
    "                     'PAR_ENT_REUSSITE_GAGNE',\n",
    "                     'PAR_ENT_VICTOIRE',\n",
    "                     'PAR_GAIN',\n",
    "                     'pAR_JOC_ECART_GAGNANT',\n",
    "                     'PAR_JOC_ECART_PLACE',\n",
    "                     'PAR_JOC_NB_COURSE',\n",
    "                    'PAR_JOC_PLACE_3P',\n",
    "                     'pAR_JOC_RAPPORT_GAGNANT_M',\n",
    "                     'PAR_JOC_REU_PLACE',\n",
    "                     'pAR_JOC_REUSSITE_GAGNE',\n",
    "                     'pAR_JOC_VICTOIRE',\n",
    "                    'PAR_PLACE_Q',\n",
    "                     'PAR_REUSSITE_3P',\n",
    "                     'PAR_REUSSITE_GAGNE', \n",
    "                     'PAR_REUSSITE_QUINTE',\n",
    "                     'PAR_RUESSITE_PLACE',\n",
    "                     'PAR_ENT_ECART_PLACE',\n",
    "                     'PAR_VICTOIRE',\n",
    "                     'Point',\n",
    "                     \n",
    "                     'PAR_VICTOIRE_Q',\n",
    "                     'PAR_ENT_NB_COURSE',\n",
    "                     'MY_REUSSITE_CHEVAL',\n",
    "                     'POIDS',\n",
    "                     'CO_PRIX',                     \n",
    "                     'MY_REUSSITE_JOC',\n",
    "                     'MY_REUSSITE_ENT',\n",
    "                     'CLA_AGE_PRIX' ]\n",
    "    \n",
    "    \n",
    "\n",
    "\n",
    "    #df_gagnant[critere_scale] = quantile_transform(df_gagnant[critere_scale], n_quantiles=4)\n",
    "\n",
    "    #df_gagnant[critere_scale] = qt.fit_transform(df_gagnant[critere_scale])\n",
    "    df_x[critere_scale] = quantile_transform(df_x[critere_scale], n_quantiles=100, random_state=0,subsample=300000)\n",
    "\n",
    "    #df_x[critere_scale] = scaler.fit_transform(df_x[critere_scale])\n",
    "\n",
    "    return df_x,critere_scale\n"
   ]
  },
  {
   "cell_type": "code",
   "execution_count": 10,
   "metadata": {},
   "outputs": [],
   "source": [
    "def my_randomSearch(model, train_x,  train_y,  param_dist, n_iter_search):\n",
    "    \n",
    "  \n",
    "    \n",
    "    random_search =RandomizedSearchCV(            \n",
    "            model,\n",
    "            param_distributions=param_dist, \n",
    "        verbose=20,\n",
    "           n_jobs=2,\n",
    "        cv=10,\n",
    "            refit=True,\n",
    "          n_iter=n_iter_search,\n",
    "            scoring='roc_auc'\n",
    "        )\n",
    "        \n",
    "    model_search=random_search.fit(train_x, train_y)\n",
    "    model_search= model_search.best_estimator_ \n",
    "    \n",
    "\n",
    "    save_mymodel(model_search,allure_etudier)\n",
    "    \n",
    "    return model_search"
   ]
  },
  {
   "cell_type": "code",
   "execution_count": 11,
   "metadata": {},
   "outputs": [],
   "source": [
    "def rechercheXGBClassifier(model, param_dist,train_x, train_y, test_x, test_y, feature_columns, iter_search):\n",
    "    \n",
    "    model = my_randomSearch(model, train_x,train_y , param_dist=param_dist,                                             \n",
    "                                                                   n_iter_search=iter_search)   #   EVALUTION  **********************\n",
    "    \n",
    "    print(\"Meilleur model \\n\",model)\n",
    "\n",
    "    y_pred = model.predict(test_x) \n",
    "    predictions = [round(value) for value in y_pred]\n",
    "    # evaluate predictions\n",
    "    accuracy = accuracy_score(test_y, predictions)\n",
    "    print(\">>>>  Accuracy: %.2f%%\" % (accuracy * 100.0))\n",
    "\n",
    "    print(classification_report(test_y, predictions))\n",
    "    \n",
    "    #jj.afficheEvalSet(model,train_x,train_y,test_x,test_y,type_eval=1)\n",
    "    \n",
    "    \n",
    "    print(\"-----------------------------------------------------------------------------------------------------------------------------------------------------\")\n",
    "    return model\n"
   ]
  },
  {
   "cell_type": "code",
   "execution_count": 12,
   "metadata": {},
   "outputs": [
    {
     "name": "stdout",
     "output_type": "stream",
     "text": [
      "Restauration modele ...\nXGBClassifier(base_score=0.5, booster='gbtree', colsample_bylevel=1,\n       colsample_bytree=0.9, gamma=0.3, learning_rate=0.07,\n       max_delta_step=4, max_depth=10, max_features='sqrt',\n       min_child_weight=13, missing=nan, n_estimators=1300, n_jobs=1,\n       nthread=None, objective='binary:logistic', random_state=10,\n       reg_alpha=0.2, reg_lambda=1, scale_pos_weight=1, seed=400,\n       silent=True, subsample=0.9)\n"
     ]
    }
   ],
   "source": [
    "model = load_mymodel(allure_etudier)\n",
    "print(model)\n"
   ]
  },
  {
   "cell_type": "code",
   "execution_count": 14,
   "metadata": {},
   "outputs": [],
   "source": [
    "\n",
    "model=XGBClassifier(base_score=0.5, booster='gbtree', colsample_bylevel=1,\n",
    "       colsample_bytree=0.9, gamma=0.3, learning_rate=0.07,\n",
    "       max_delta_step=4, max_depth=10, max_features='sqrt',\n",
    "       min_child_weight=13, n_estimators=1300, n_jobs=3,\n",
    "       nthread=None, objective='binary:logistic', random_state=10,\n",
    "       reg_alpha=0.2, reg_lambda=1, scale_pos_weight=1, seed=400,\n",
    "       silent=False, subsample=0.9)\n"
   ]
  },
  {
   "cell_type": "code",
   "execution_count": null,
   "metadata": {},
   "outputs": [
    {
     "name": "stdout",
     "output_type": "stream",
     "text": [
      "Sauvegarde modele ...\n"
     ]
    }
   ],
   "source": [
    "param_dist = {\n",
    "                         \"max_depth\": range(6, 12,1),\n",
    "                         \"min_child_weight\":range(11,14,1)                       \n",
    "                        }    \n",
    "    \n",
    "model2=rechercheXGBClassifier(model, param_dist,train_x, train_y,  test_x, test_y,feature_columns=feature_columns,iter_search=5)\n"
   ]
  },
  {
   "cell_type": "code",
   "execution_count": 16,
   "metadata": {},
   "outputs": [
    {
     "name": "stdout",
     "output_type": "stream",
     "text": [
      "Sauvegarde modele ...\n"
     ]
    }
   ],
   "source": [
    "save_mymodel(clf=model2, allure=allure_etudier)\n",
    "\n"
   ]
  },
  {
   "cell_type": "code",
   "execution_count": 34,
   "metadata": {},
   "outputs": [
    {
     "name": "stdout",
     "output_type": "stream",
     "text": [
      "Restauration modele ...\n",
      "XGBClassifier(base_score=0.5, booster='gbtree', colsample_bylevel=0.6,\n",
      "       colsample_bytree=1.0, gamma=1.0, learning_rate=0.012,\n",
      "       max_delta_step=3, max_depth=14, max_features='sqrt',\n",
      "       min_child_weight=6, missing=nan, n_estimators=2100, n_jobs=3,\n",
      "       nthread=None, objective='binary:logistic', random_state=42,\n",
      "       reg_alpha=0.1, reg_lambda=5.0, scale_pos_weight=1, seed=900,\n",
      "       silent=False, subsample=0.9)\n",
      "Fitting 10 folds for each of 10 candidates, totalling 100 fits\n"
     ]
    },
    {
     "name": "stderr",
     "output_type": "stream",
     "text": [
      "[Parallel(n_jobs=2)]: Done   1 tasks      | elapsed: 16.5min\n",
      "[Parallel(n_jobs=2)]: Done   2 tasks      | elapsed: 16.5min\n",
      "[Parallel(n_jobs=2)]: Done   3 tasks      | elapsed: 32.5min\n",
      "[Parallel(n_jobs=2)]: Done   4 tasks      | elapsed: 32.8min\n",
      "[Parallel(n_jobs=2)]: Done   5 tasks      | elapsed: 48.6min\n",
      "[Parallel(n_jobs=2)]: Done   6 tasks      | elapsed: 48.9min\n",
      "[Parallel(n_jobs=2)]: Done   7 tasks      | elapsed: 64.7min\n",
      "[Parallel(n_jobs=2)]: Done   8 tasks      | elapsed: 65.1min\n",
      "[Parallel(n_jobs=2)]: Done   9 tasks      | elapsed: 80.8min\n",
      "[Parallel(n_jobs=2)]: Done  10 tasks      | elapsed: 81.2min\n",
      "[Parallel(n_jobs=2)]: Done  11 tasks      | elapsed: 96.7min\n",
      "[Parallel(n_jobs=2)]: Done  12 tasks      | elapsed: 97.0min\n",
      "[Parallel(n_jobs=2)]: Done  13 tasks      | elapsed: 112.4min\n",
      "[Parallel(n_jobs=2)]: Done  14 tasks      | elapsed: 112.7min\n",
      "[Parallel(n_jobs=2)]: Done  15 tasks      | elapsed: 128.0min\n",
      "[Parallel(n_jobs=2)]: Done  16 tasks      | elapsed: 128.1min\n",
      "[Parallel(n_jobs=2)]: Done  17 tasks      | elapsed: 143.4min\n",
      "[Parallel(n_jobs=2)]: Done  18 tasks      | elapsed: 143.6min\n",
      "[Parallel(n_jobs=2)]: Done  19 tasks      | elapsed: 158.8min\n",
      "[Parallel(n_jobs=2)]: Done  20 tasks      | elapsed: 159.0min\n",
      "[Parallel(n_jobs=2)]: Done  21 tasks      | elapsed: 171.7min\n",
      "[Parallel(n_jobs=2)]: Done  22 tasks      | elapsed: 171.9min\n",
      "[Parallel(n_jobs=2)]: Done  23 tasks      | elapsed: 184.5min\n",
      "[Parallel(n_jobs=2)]: Done  24 tasks      | elapsed: 184.6min\n",
      "[Parallel(n_jobs=2)]: Done  25 tasks      | elapsed: 197.0min\n",
      "[Parallel(n_jobs=2)]: Done  26 tasks      | elapsed: 197.2min\n",
      "[Parallel(n_jobs=2)]: Done  27 tasks      | elapsed: 209.7min\n",
      "[Parallel(n_jobs=2)]: Done  28 tasks      | elapsed: 209.8min\n",
      "[Parallel(n_jobs=2)]: Done  29 tasks      | elapsed: 222.4min\n",
      "[Parallel(n_jobs=2)]: Done  30 tasks      | elapsed: 222.5min\n",
      "[Parallel(n_jobs=2)]: Done  31 tasks      | elapsed: 235.3min\n",
      "[Parallel(n_jobs=2)]: Done  32 tasks      | elapsed: 235.3min\n",
      "[Parallel(n_jobs=2)]: Done  33 tasks      | elapsed: 247.9min\n",
      "[Parallel(n_jobs=2)]: Done  34 tasks      | elapsed: 248.1min\n",
      "[Parallel(n_jobs=2)]: Done  35 tasks      | elapsed: 260.4min\n",
      "[Parallel(n_jobs=2)]: Done  36 tasks      | elapsed: 260.8min\n",
      "[Parallel(n_jobs=2)]: Done  37 tasks      | elapsed: 273.1min\n",
      "[Parallel(n_jobs=2)]: Done  38 tasks      | elapsed: 273.5min\n",
      "[Parallel(n_jobs=2)]: Done  39 tasks      | elapsed: 285.7min\n",
      "[Parallel(n_jobs=2)]: Done  40 tasks      | elapsed: 286.2min\n",
      "[Parallel(n_jobs=2)]: Done  41 tasks      | elapsed: 298.1min\n",
      "[Parallel(n_jobs=2)]: Done  42 tasks      | elapsed: 298.5min\n",
      "[Parallel(n_jobs=2)]: Done  43 tasks      | elapsed: 310.5min\n",
      "[Parallel(n_jobs=2)]: Done  44 tasks      | elapsed: 310.6min\n",
      "[Parallel(n_jobs=2)]: Done  45 tasks      | elapsed: 322.6min\n",
      "[Parallel(n_jobs=2)]: Done  46 tasks      | elapsed: 322.7min\n",
      "[Parallel(n_jobs=2)]: Done  47 tasks      | elapsed: 334.6min\n",
      "[Parallel(n_jobs=2)]: Done  48 tasks      | elapsed: 334.7min\n",
      "[Parallel(n_jobs=2)]: Done  49 tasks      | elapsed: 346.6min\n",
      "[Parallel(n_jobs=2)]: Done  50 tasks      | elapsed: 346.7min\n",
      "[Parallel(n_jobs=2)]: Done  51 tasks      | elapsed: 359.0min\n",
      "[Parallel(n_jobs=2)]: Done  52 tasks      | elapsed: 359.1min\n",
      "[Parallel(n_jobs=2)]: Done  53 tasks      | elapsed: 371.1min\n",
      "[Parallel(n_jobs=2)]: Done  54 tasks      | elapsed: 371.3min\n",
      "[Parallel(n_jobs=2)]: Done  55 tasks      | elapsed: 383.3min\n",
      "[Parallel(n_jobs=2)]: Done  56 tasks      | elapsed: 383.5min\n",
      "[Parallel(n_jobs=2)]: Done  57 tasks      | elapsed: 396.8min\n",
      "[Parallel(n_jobs=2)]: Done  58 tasks      | elapsed: 396.9min\n",
      "[Parallel(n_jobs=2)]: Done  59 tasks      | elapsed: 408.9min\n",
      "[Parallel(n_jobs=2)]: Done  60 tasks      | elapsed: 409.0min\n",
      "[Parallel(n_jobs=2)]: Done  61 tasks      | elapsed: 421.7min\n",
      "[Parallel(n_jobs=2)]: Done  62 tasks      | elapsed: 421.9min\n",
      "[Parallel(n_jobs=2)]: Done  63 tasks      | elapsed: 434.4min\n",
      "[Parallel(n_jobs=2)]: Done  64 tasks      | elapsed: 434.6min\n",
      "[Parallel(n_jobs=2)]: Done  65 tasks      | elapsed: 447.1min\n",
      "[Parallel(n_jobs=2)]: Done  66 tasks      | elapsed: 447.3min\n",
      "[Parallel(n_jobs=2)]: Done  67 tasks      | elapsed: 459.8min\n",
      "[Parallel(n_jobs=2)]: Done  68 tasks      | elapsed: 460.0min\n",
      "[Parallel(n_jobs=2)]: Done  69 tasks      | elapsed: 472.4min\n",
      "[Parallel(n_jobs=2)]: Done  70 tasks      | elapsed: 472.7min\n",
      "[Parallel(n_jobs=2)]: Done  71 tasks      | elapsed: 486.6min\n",
      "[Parallel(n_jobs=2)]: Done  72 tasks      | elapsed: 486.9min\n",
      "[Parallel(n_jobs=2)]: Done  73 tasks      | elapsed: 500.8min\n",
      "[Parallel(n_jobs=2)]: Done  74 tasks      | elapsed: 500.9min\n",
      "[Parallel(n_jobs=2)]: Done  75 tasks      | elapsed: 514.8min\n",
      "[Parallel(n_jobs=2)]: Done  76 tasks      | elapsed: 514.8min\n",
      "[Parallel(n_jobs=2)]: Done  77 tasks      | elapsed: 528.6min\n",
      "[Parallel(n_jobs=2)]: Done  78 tasks      | elapsed: 528.7min\n",
      "[Parallel(n_jobs=2)]: Done  79 tasks      | elapsed: 542.6min\n",
      "[Parallel(n_jobs=2)]: Done  80 tasks      | elapsed: 542.6min\n",
      "[Parallel(n_jobs=2)]: Done  81 tasks      | elapsed: 558.4min\n",
      "[Parallel(n_jobs=2)]: Done  82 tasks      | elapsed: 558.5min\n",
      "[Parallel(n_jobs=2)]: Done  83 tasks      | elapsed: 574.1min\n",
      "[Parallel(n_jobs=2)]: Done  84 tasks      | elapsed: 574.5min\n",
      "[Parallel(n_jobs=2)]: Done  85 tasks      | elapsed: 589.5min\n",
      "[Parallel(n_jobs=2)]: Done  86 tasks      | elapsed: 590.0min\n",
      "[Parallel(n_jobs=2)]: Done  87 tasks      | elapsed: 604.9min\n",
      "[Parallel(n_jobs=2)]: Done  88 tasks      | elapsed: 605.4min\n",
      "[Parallel(n_jobs=2)]: Done  89 tasks      | elapsed: 620.4min\n",
      "[Parallel(n_jobs=2)]: Done  90 tasks      | elapsed: 621.0min\n",
      "[Parallel(n_jobs=2)]: Done  91 tasks      | elapsed: 632.7min\n",
      "[Parallel(n_jobs=2)]: Done  92 tasks      | elapsed: 633.2min\n",
      "[Parallel(n_jobs=2)]: Done  93 tasks      | elapsed: 645.2min\n",
      "[Parallel(n_jobs=2)]: Done  94 tasks      | elapsed: 645.2min\n",
      "[Parallel(n_jobs=2)]: Done  95 tasks      | elapsed: 657.2min\n",
      "[Parallel(n_jobs=2)]: Done  96 tasks      | elapsed: 657.3min\n",
      "[Parallel(n_jobs=2)]: Done  97 tasks      | elapsed: 669.2min\n",
      "[Parallel(n_jobs=2)]: Done 100 out of 100 | elapsed: 681.3min finished\n"
     ]
    },
    {
     "name": "stdout",
     "output_type": "stream",
     "text": [
      "Sauvegarde modele ...\n",
      "Meilleur model \n",
      " XGBClassifier(base_score=0.5, booster='gbtree', colsample_bylevel=0.6,\n",
      "       colsample_bytree=0.7, gamma=0.0, learning_rate=0.012,\n",
      "       max_delta_step=3, max_depth=14, max_features='sqrt',\n",
      "       min_child_weight=6, missing=nan, n_estimators=2100, n_jobs=3,\n",
      "       nthread=None, objective='binary:logistic', random_state=42,\n",
      "       reg_alpha=0.1, reg_lambda=5.0, scale_pos_weight=1, seed=900,\n",
      "       silent=False, subsample=1)\n"
     ]
    },
    {
     "name": "stderr",
     "output_type": "stream",
     "text": [
      "c:\\python\\lib\\site-packages\\sklearn\\preprocessing\\label.py:151: DeprecationWarning: The truth value of an empty array is ambiguous. Returning False, but in future this will result in an error. Use `array.size > 0` to check that an array is not empty.\n",
      "  if diff:\n"
     ]
    },
    {
     "name": "stdout",
     "output_type": "stream",
     "text": [
      ">>>>  Accuracy: 79.63%\n",
      "             precision    recall  f1-score   support\n",
      "\n",
      "          0       0.82      0.94      0.88     46360\n",
      "          1       0.60      0.29      0.39     13435\n",
      "\n",
      "avg / total       0.77      0.80      0.77     59795\n",
      "\n",
      "\n",
      "EVAL SET ....\n"
     ]
    },
    {
     "name": "stderr",
     "output_type": "stream",
     "text": [
      "c:\\python\\lib\\site-packages\\sklearn\\preprocessing\\label.py:151: DeprecationWarning: The truth value of an empty array is ambiguous. Returning False, but in future this will result in an error. Use `array.size > 0` to check that an array is not empty.\n",
      "  if diff:\n",
      "c:\\python\\lib\\site-packages\\sklearn\\preprocessing\\label.py:151: DeprecationWarning: The truth value of an empty array is ambiguous. Returning False, but in future this will result in an error. Use `array.size > 0` to check that an array is not empty.\n",
      "  if diff:\n"
     ]
    },
    {
     "name": "stdout",
     "output_type": "stream",
     "text": [
      "Evaluation TEST-----------------------------------------------------------------------\n",
      "TEST roc_auc_score :  0.6174731145678567\n"
     ]
    },
    {
     "name": "stderr",
     "output_type": "stream",
     "text": [
      "c:\\python\\lib\\site-packages\\sklearn\\preprocessing\\label.py:151: DeprecationWarning: The truth value of an empty array is ambiguous. Returning False, but in future this will result in an error. Use `array.size > 0` to check that an array is not empty.\n",
      "  if diff:\n"
     ]
    },
    {
     "name": "stdout",
     "output_type": "stream",
     "text": [
      "[[137698   1577]\n",
      " [ 16440 122835]]\n"
     ]
    },
    {
     "name": "stderr",
     "output_type": "stream",
     "text": [
      "c:\\python\\lib\\site-packages\\sklearn\\preprocessing\\label.py:151: DeprecationWarning: The truth value of an empty array is ambiguous. Returning False, but in future this will result in an error. Use `array.size > 0` to check that an array is not empty.\n",
      "  if diff:\n"
     ]
    },
    {
     "name": "stdout",
     "output_type": "stream",
     "text": [
      "[[43684  2676]\n",
      " [ 9503  3932]]\n",
      "Classification Correcte des données de test : 47616/59795    79.632%\n"
     ]
    },
    {
     "name": "stderr",
     "output_type": "stream",
     "text": [
      "c:\\python\\lib\\site-packages\\sklearn\\preprocessing\\label.py:151: DeprecationWarning: The truth value of an empty array is ambiguous. Returning False, but in future this will result in an error. Use `array.size > 0` to check that an array is not empty.\n",
      "  if diff:\n"
     ]
    },
    {
     "name": "stdout",
     "output_type": "stream",
     "text": [
      "\n",
      "Score  TEST  :   79.632  ************************\n",
      "-----------------------------------------------------------------------------------------------------------------------------------------------------\n"
     ]
    },
    {
     "data": {
      "image/png": "[encoded data removed]",
      "text/plain": [
       "<Figure size 288x288 with 2 Axes>"
      ]
     },
     "metadata": {},
     "output_type": "display_data"
    }
   ],
   "source": [
    "#save_mymodel(model,0)\n",
    "model = load_mymodel(allure_etudier)\n",
    "print(model)\n",
    "            \n",
    "param_dist = {                                         \n",
    "                         'gamma':[i/10.0 for i in range(0,5)  ],      'subsample':[0.8,0.9,1],\n",
    "                  'colsample_bytree':[0.5,0.6,0.7]\n",
    "    \n",
    "                        }    \n",
    "\n",
    "    \n",
    "model=rechercheXGBClassifier(model, param_dist,train_x, train_y,  test_x, test_y,feature_columns=feature_columns,iter_search=10)"
   ]
  },
  {
   "cell_type": "code",
   "execution_count": 35,
   "metadata": {
    "scrolled": false
   },
   "outputs": [
    {
     "name": "stdout",
     "output_type": "stream",
     "text": [
      "Restauration modele ...\n",
      "XGBClassifier(base_score=0.5, booster='gbtree', colsample_bylevel=0.6,\n",
      "       colsample_bytree=0.7, gamma=0.0, learning_rate=0.012,\n",
      "       max_delta_step=3, max_depth=14, max_features='sqrt',\n",
      "       min_child_weight=6, missing=nan, n_estimators=2100, n_jobs=3,\n",
      "       nthread=None, objective='binary:logistic', random_state=42,\n",
      "       reg_alpha=0.1, reg_lambda=5.0, scale_pos_weight=1, seed=900,\n",
      "       silent=False, subsample=1)\n",
      "Fitting 10 folds for each of 7 candidates, totalling 70 fits\n"
     ]
    },
    {
     "name": "stderr",
     "output_type": "stream",
     "text": [
      "[Parallel(n_jobs=2)]: Done   1 tasks      | elapsed: 15.8min\n",
      "[Parallel(n_jobs=2)]: Done   2 tasks      | elapsed: 15.9min\n",
      "[Parallel(n_jobs=2)]: Done   3 tasks      | elapsed: 31.2min\n",
      "[Parallel(n_jobs=2)]: Done   4 tasks      | elapsed: 31.7min\n",
      "[Parallel(n_jobs=2)]: Done   5 tasks      | elapsed: 46.6min\n",
      "[Parallel(n_jobs=2)]: Done   6 tasks      | elapsed: 47.2min\n",
      "[Parallel(n_jobs=2)]: Done   7 tasks      | elapsed: 61.9min\n",
      "[Parallel(n_jobs=2)]: Done   8 tasks      | elapsed: 62.5min\n",
      "[Parallel(n_jobs=2)]: Done   9 tasks      | elapsed: 77.3min\n",
      "[Parallel(n_jobs=2)]: Done  10 tasks      | elapsed: 77.9min\n",
      "[Parallel(n_jobs=2)]: Done  11 tasks      | elapsed: 90.5min\n",
      "[Parallel(n_jobs=2)]: Done  12 tasks      | elapsed: 91.2min\n",
      "[Parallel(n_jobs=2)]: Done  13 tasks      | elapsed: 103.9min\n",
      "[Parallel(n_jobs=2)]: Done  14 tasks      | elapsed: 104.4min\n",
      "[Parallel(n_jobs=2)]: Done  15 tasks      | elapsed: 116.9min\n",
      "[Parallel(n_jobs=2)]: Done  16 tasks      | elapsed: 117.6min\n",
      "[Parallel(n_jobs=2)]: Done  17 tasks      | elapsed: 130.0min\n",
      "[Parallel(n_jobs=2)]: Done  18 tasks      | elapsed: 130.6min\n",
      "[Parallel(n_jobs=2)]: Done  19 tasks      | elapsed: 143.3min\n",
      "[Parallel(n_jobs=2)]: Done  20 tasks      | elapsed: 143.6min\n",
      "[Parallel(n_jobs=2)]: Done  21 tasks      | elapsed: 159.1min\n",
      "[Parallel(n_jobs=2)]: Done  22 tasks      | elapsed: 159.5min\n",
      "[Parallel(n_jobs=2)]: Done  23 tasks      | elapsed: 174.9min\n",
      "[Parallel(n_jobs=2)]: Done  24 tasks      | elapsed: 175.1min\n",
      "[Parallel(n_jobs=2)]: Done  25 tasks      | elapsed: 190.3min\n",
      "[Parallel(n_jobs=2)]: Done  26 tasks      | elapsed: 190.5min\n",
      "[Parallel(n_jobs=2)]: Done  27 tasks      | elapsed: 205.8min\n",
      "[Parallel(n_jobs=2)]: Done  28 tasks      | elapsed: 206.2min\n",
      "[Parallel(n_jobs=2)]: Done  29 tasks      | elapsed: 221.1min\n",
      "[Parallel(n_jobs=2)]: Done  30 tasks      | elapsed: 221.6min\n",
      "[Parallel(n_jobs=2)]: Done  31 tasks      | elapsed: 237.4min\n",
      "[Parallel(n_jobs=2)]: Done  32 tasks      | elapsed: 237.6min\n",
      "[Parallel(n_jobs=2)]: Done  33 tasks      | elapsed: 253.2min\n",
      "[Parallel(n_jobs=2)]: Done  34 tasks      | elapsed: 253.5min\n",
      "[Parallel(n_jobs=2)]: Done  35 tasks      | elapsed: 268.8min\n",
      "[Parallel(n_jobs=2)]: Done  36 tasks      | elapsed: 269.1min\n",
      "[Parallel(n_jobs=2)]: Done  37 tasks      | elapsed: 284.3min\n",
      "[Parallel(n_jobs=2)]: Done  38 tasks      | elapsed: 284.7min\n",
      "[Parallel(n_jobs=2)]: Done  39 tasks      | elapsed: 299.8min\n",
      "[Parallel(n_jobs=2)]: Done  40 tasks      | elapsed: 300.3min\n",
      "[Parallel(n_jobs=2)]: Done  41 tasks      | elapsed: 314.6min\n",
      "[Parallel(n_jobs=2)]: Done  42 tasks      | elapsed: 315.3min\n",
      "[Parallel(n_jobs=2)]: Done  43 tasks      | elapsed: 329.6min\n",
      "[Parallel(n_jobs=2)]: Done  44 tasks      | elapsed: 329.8min\n",
      "[Parallel(n_jobs=2)]: Done  45 tasks      | elapsed: 344.1min\n",
      "[Parallel(n_jobs=2)]: Done  46 tasks      | elapsed: 344.4min\n",
      "[Parallel(n_jobs=2)]: Done  47 tasks      | elapsed: 358.6min\n",
      "[Parallel(n_jobs=2)]: Done  48 tasks      | elapsed: 358.9min\n",
      "[Parallel(n_jobs=2)]: Done  49 tasks      | elapsed: 373.1min\n",
      "[Parallel(n_jobs=2)]: Done  50 tasks      | elapsed: 373.4min\n",
      "[Parallel(n_jobs=2)]: Done  51 tasks      | elapsed: 389.1min\n",
      "[Parallel(n_jobs=2)]: Done  52 tasks      | elapsed: 389.3min\n",
      "[Parallel(n_jobs=2)]: Done  53 tasks      | elapsed: 404.9min\n",
      "[Parallel(n_jobs=2)]: Done  54 tasks      | elapsed: 405.2min\n",
      "[Parallel(n_jobs=2)]: Done  55 tasks      | elapsed: 420.5min\n",
      "[Parallel(n_jobs=2)]: Done  56 tasks      | elapsed: 420.7min\n",
      "[Parallel(n_jobs=2)]: Done  57 tasks      | elapsed: 436.1min\n",
      "[Parallel(n_jobs=2)]: Done  58 tasks      | elapsed: 436.1min\n",
      "[Parallel(n_jobs=2)]: Done  59 tasks      | elapsed: 451.5min\n",
      "[Parallel(n_jobs=2)]: Done  60 tasks      | elapsed: 451.5min\n",
      "[Parallel(n_jobs=2)]: Done  61 tasks      | elapsed: 467.3min\n",
      "[Parallel(n_jobs=2)]: Done  62 tasks      | elapsed: 467.5min\n",
      "[Parallel(n_jobs=2)]: Done  63 tasks      | elapsed: 482.9min\n",
      "[Parallel(n_jobs=2)]: Done  64 tasks      | elapsed: 483.3min\n",
      "[Parallel(n_jobs=2)]: Done  65 tasks      | elapsed: 498.4min\n",
      "[Parallel(n_jobs=2)]: Done  66 tasks      | elapsed: 498.8min\n",
      "[Parallel(n_jobs=2)]: Done  67 tasks      | elapsed: 513.8min\n",
      "[Parallel(n_jobs=2)]: Done  70 out of  70 | elapsed: 529.7min finished\n"
     ]
    },
    {
     "name": "stdout",
     "output_type": "stream",
     "text": [
      "Sauvegarde modele ...\n",
      "Meilleur model \n",
      " XGBClassifier(base_score=0.5, booster='gbtree', colsample_bylevel=0.6,\n",
      "       colsample_bytree=0.7, gamma=0.0, learning_rate=0.012,\n",
      "       max_delta_step=3, max_depth=14, max_features='sqrt',\n",
      "       min_child_weight=6, missing=nan, n_estimators=2100, n_jobs=3,\n",
      "       nthread=None, objective='binary:logistic', random_state=42,\n",
      "       reg_alpha=1e-05, reg_lambda=5.0, scale_pos_weight=1, seed=900,\n",
      "       silent=False, subsample=1)\n"
     ]
    },
    {
     "name": "stderr",
     "output_type": "stream",
     "text": [
      "c:\\python\\lib\\site-packages\\sklearn\\preprocessing\\label.py:151: DeprecationWarning: The truth value of an empty array is ambiguous. Returning False, but in future this will result in an error. Use `array.size > 0` to check that an array is not empty.\n",
      "  if diff:\n"
     ]
    },
    {
     "name": "stdout",
     "output_type": "stream",
     "text": [
      ">>>>  Accuracy: 79.69%\n",
      "             precision    recall  f1-score   support\n",
      "\n",
      "          0       0.82      0.94      0.88     46360\n",
      "          1       0.60      0.29      0.39     13435\n",
      "\n",
      "avg / total       0.77      0.80      0.77     59795\n",
      "\n",
      "\n",
      "EVAL SET ....\n"
     ]
    },
    {
     "name": "stderr",
     "output_type": "stream",
     "text": [
      "c:\\python\\lib\\site-packages\\sklearn\\preprocessing\\label.py:151: DeprecationWarning: The truth value of an empty array is ambiguous. Returning False, but in future this will result in an error. Use `array.size > 0` to check that an array is not empty.\n",
      "  if diff:\n",
      "c:\\python\\lib\\site-packages\\sklearn\\preprocessing\\label.py:151: DeprecationWarning: The truth value of an empty array is ambiguous. Returning False, but in future this will result in an error. Use `array.size > 0` to check that an array is not empty.\n",
      "  if diff:\n"
     ]
    },
    {
     "name": "stdout",
     "output_type": "stream",
     "text": [
      "Evaluation TEST-----------------------------------------------------------------------\n",
      "TEST roc_auc_score :  0.6174012670214464\n"
     ]
    },
    {
     "name": "stderr",
     "output_type": "stream",
     "text": [
      "c:\\python\\lib\\site-packages\\sklearn\\preprocessing\\label.py:151: DeprecationWarning: The truth value of an empty array is ambiguous. Returning False, but in future this will result in an error. Use `array.size > 0` to check that an array is not empty.\n",
      "  if diff:\n"
     ]
    },
    {
     "name": "stdout",
     "output_type": "stream",
     "text": [
      "[[137692   1583]\n",
      " [ 16355 122920]]\n"
     ]
    },
    {
     "name": "stderr",
     "output_type": "stream",
     "text": [
      "c:\\python\\lib\\site-packages\\sklearn\\preprocessing\\label.py:151: DeprecationWarning: The truth value of an empty array is ambiguous. Returning False, but in future this will result in an error. Use `array.size > 0` to check that an array is not empty.\n",
      "  if diff:\n"
     ]
    },
    {
     "name": "stdout",
     "output_type": "stream",
     "text": [
      "[[43736  2624]\n",
      " [ 9520  3915]]\n",
      "Classification Correcte des données de test : 47651/59795    79.691%\n",
      "\n",
      "Score  TEST  :   79.691  ************************\n",
      "-----------------------------------------------------------------------------------------------------------------------------------------------------\n"
     ]
    },
    {
     "name": "stderr",
     "output_type": "stream",
     "text": [
      "c:\\python\\lib\\site-packages\\sklearn\\preprocessing\\label.py:151: DeprecationWarning: The truth value of an empty array is ambiguous. Returning False, but in future this will result in an error. Use `array.size > 0` to check that an array is not empty.\n",
      "  if diff:\n"
     ]
    },
    {
     "data": {
      "image/png": "[encoded data removed]",
      "text/plain": [
       "<Figure size 288x288 with 2 Axes>"
      ]
     },
     "metadata": {},
     "output_type": "display_data"
    }
   ],
   "source": [
    "model = load_mymodel(allure_etudier)\n",
    "print(model)            \n",
    "param_dist = {\n",
    "                         \n",
    "                \n",
    "     'reg_alpha':[0,1e-5, 1e-2, 0.1,0.2,0.3, 1, 100]\n",
    "                       \n",
    "                        }    \n",
    "    \n",
    "model=rechercheXGBClassifier(model, param_dist,train_x, train_y,  test_x, test_y,feature_columns=feature_columns,iter_search=7)"
   ]
  },
  {
   "cell_type": "code",
   "execution_count": 17,
   "metadata": {},
   "outputs": [
    {
     "name": "stdout",
     "output_type": "stream",
     "text": [
      "Restauration modele ...\nXGBClassifier(base_score=0.5, booster='gbtree', colsample_bylevel=1,\n       colsample_bytree=0.9, gamma=0.3, learning_rate=0.07,\n       max_delta_step=4, max_depth=11, max_features='sqrt',\n       min_child_weight=12, missing=nan, n_estimators=1300, n_jobs=3,\n       nthread=None, objective='binary:logistic', random_state=10,\n       reg_alpha=0.2, reg_lambda=1, scale_pos_weight=1, seed=400,\n       silent=False, subsample=0.9)\nFitting 10 folds for each of 5 candidates, totalling 50 fits\n"
     ]
    },
    {
     "name": "stderr",
     "output_type": "stream",
     "text": [
      "[Parallel(n_jobs=2)]: Done   1 tasks      | elapsed: 22.0min\n"
     ]
    },
    {
     "name": "stderr",
     "output_type": "stream",
     "text": [
      "[Parallel(n_jobs=2)]: Done   2 tasks      | elapsed: 28.0min\n"
     ]
    },
    {
     "name": "stderr",
     "output_type": "stream",
     "text": [
      "[Parallel(n_jobs=2)]: Done   3 tasks      | elapsed: 49.6min\n"
     ]
    },
    {
     "name": "stderr",
     "output_type": "stream",
     "text": [
      "[Parallel(n_jobs=2)]: Done   4 tasks      | elapsed: 55.7min\n"
     ]
    },
    {
     "name": "stderr",
     "output_type": "stream",
     "text": [
      "[Parallel(n_jobs=2)]: Done   5 tasks      | elapsed: 77.3min\n"
     ]
    },
    {
     "name": "stderr",
     "output_type": "stream",
     "text": [
      "[Parallel(n_jobs=2)]: Done   6 tasks      | elapsed: 83.5min\n"
     ]
    },
    {
     "name": "stderr",
     "output_type": "stream",
     "text": [
      "[Parallel(n_jobs=2)]: Done   7 tasks      | elapsed: 105.0min\n"
     ]
    },
    {
     "name": "stderr",
     "output_type": "stream",
     "text": [
      "[Parallel(n_jobs=2)]: Done   8 tasks      | elapsed: 111.2min\n"
     ]
    },
    {
     "name": "stderr",
     "output_type": "stream",
     "text": [
      "[Parallel(n_jobs=2)]: Done   9 tasks      | elapsed: 132.6min\n"
     ]
    },
    {
     "name": "stderr",
     "output_type": "stream",
     "text": [
      "[Parallel(n_jobs=2)]: Done  10 tasks      | elapsed: 139.0min\n"
     ]
    },
    {
     "name": "stderr",
     "output_type": "stream",
     "text": [
      "[Parallel(n_jobs=2)]: Done  11 tasks      | elapsed: 152.8min\n"
     ]
    },
    {
     "name": "stderr",
     "output_type": "stream",
     "text": [
      "[Parallel(n_jobs=2)]: Done  12 tasks      | elapsed: 168.6min\n"
     ]
    },
    {
     "name": "stderr",
     "output_type": "stream",
     "text": [
      "[Parallel(n_jobs=2)]: Done  13 tasks      | elapsed: 182.4min\n"
     ]
    },
    {
     "name": "stderr",
     "output_type": "stream",
     "text": [
      "[Parallel(n_jobs=2)]: Done  14 tasks      | elapsed: 198.2min\n"
     ]
    },
    {
     "name": "stderr",
     "output_type": "stream",
     "text": [
      "[Parallel(n_jobs=2)]: Done  15 tasks      | elapsed: 211.9min\n"
     ]
    },
    {
     "name": "stderr",
     "output_type": "stream",
     "text": [
      "[Parallel(n_jobs=2)]: Done  16 tasks      | elapsed: 227.6min\n"
     ]
    },
    {
     "name": "stderr",
     "output_type": "stream",
     "text": [
      "[Parallel(n_jobs=2)]: Done  17 tasks      | elapsed: 241.3min\n"
     ]
    },
    {
     "name": "stderr",
     "output_type": "stream",
     "text": [
      "[Parallel(n_jobs=2)]: Done  18 tasks      | elapsed: 257.1min\n"
     ]
    },
    {
     "name": "stderr",
     "output_type": "stream",
     "text": [
      "[Parallel(n_jobs=2)]: Done  19 tasks      | elapsed: 270.6min\n"
     ]
    },
    {
     "name": "stderr",
     "output_type": "stream",
     "text": [
      "[Parallel(n_jobs=2)]: Done  20 tasks      | elapsed: 286.6min\n"
     ]
    },
    {
     "name": "stderr",
     "output_type": "stream",
     "text": [
      "[Parallel(n_jobs=2)]: Done  21 tasks      | elapsed: 289.9min\n"
     ]
    },
    {
     "name": "stderr",
     "output_type": "stream",
     "text": [
      "[Parallel(n_jobs=2)]: Done  22 tasks      | elapsed: 316.0min\n"
     ]
    },
    {
     "name": "stderr",
     "output_type": "stream",
     "text": [
      "[Parallel(n_jobs=2)]: Done  23 tasks      | elapsed: 319.3min\n"
     ]
    },
    {
     "name": "stderr",
     "output_type": "stream",
     "text": [
      "[Parallel(n_jobs=2)]: Done  24 tasks      | elapsed: 345.5min\n"
     ]
    },
    {
     "name": "stderr",
     "output_type": "stream",
     "text": [
      "[Parallel(n_jobs=2)]: Done  25 tasks      | elapsed: 348.8min\n"
     ]
    },
    {
     "name": "stderr",
     "output_type": "stream",
     "text": [
      "[Parallel(n_jobs=2)]: Done  26 tasks      | elapsed: 375.0min\n"
     ]
    },
    {
     "name": "stderr",
     "output_type": "stream",
     "text": [
      "[Parallel(n_jobs=2)]: Done  27 tasks      | elapsed: 378.2min\n"
     ]
    },
    {
     "name": "stderr",
     "output_type": "stream",
     "text": [
      "[Parallel(n_jobs=2)]: Done  28 tasks      | elapsed: 404.5min\n"
     ]
    },
    {
     "name": "stderr",
     "output_type": "stream",
     "text": [
      "[Parallel(n_jobs=2)]: Done  29 tasks      | elapsed: 407.6min\n"
     ]
    },
    {
     "name": "stderr",
     "output_type": "stream",
     "text": [
      "[Parallel(n_jobs=2)]: Done  30 tasks      | elapsed: 419.6min\n"
     ]
    },
    {
     "name": "stderr",
     "output_type": "stream",
     "text": [
      "[Parallel(n_jobs=2)]: Done  31 tasks      | elapsed: 434.2min\n"
     ]
    },
    {
     "name": "stderr",
     "output_type": "stream",
     "text": [
      "[Parallel(n_jobs=2)]: Done  32 tasks      | elapsed: 437.7min\n"
     ]
    },
    {
     "name": "stderr",
     "output_type": "stream",
     "text": [
      "[Parallel(n_jobs=2)]: Done  33 tasks      | elapsed: 453.6min\n"
     ]
    },
    {
     "name": "stderr",
     "output_type": "stream",
     "text": [
      "[Parallel(n_jobs=2)]: Done  34 tasks      | elapsed: 457.4min\n"
     ]
    },
    {
     "name": "stderr",
     "output_type": "stream",
     "text": [
      "[Parallel(n_jobs=2)]: Done  35 tasks      | elapsed: 473.2min\n"
     ]
    },
    {
     "name": "stderr",
     "output_type": "stream",
     "text": [
      "[Parallel(n_jobs=2)]: Done  36 tasks      | elapsed: 477.0min\n"
     ]
    },
    {
     "name": "stderr",
     "output_type": "stream",
     "text": [
      "[Parallel(n_jobs=2)]: Done  37 tasks      | elapsed: 491.1min\n"
     ]
    },
    {
     "name": "stderr",
     "output_type": "stream",
     "text": [
      "[Parallel(n_jobs=2)]: Done  38 tasks      | elapsed: 494.7min\n"
     ]
    },
    {
     "name": "stderr",
     "output_type": "stream",
     "text": [
      "[Parallel(n_jobs=2)]: Done  39 tasks      | elapsed: 508.9min\n"
     ]
    },
    {
     "name": "stderr",
     "output_type": "stream",
     "text": [
      "[Parallel(n_jobs=2)]: Done  40 tasks      | elapsed: 512.5min\n"
     ]
    },
    {
     "name": "stderr",
     "output_type": "stream",
     "text": [
      "[Parallel(n_jobs=2)]: Done  41 tasks      | elapsed: 529.4min\n"
     ]
    },
    {
     "name": "stderr",
     "output_type": "stream",
     "text": [
      "[Parallel(n_jobs=2)]: Done  42 tasks      | elapsed: 540.5min\n"
     ]
    },
    {
     "name": "stderr",
     "output_type": "stream",
     "text": [
      "[Parallel(n_jobs=2)]: Done  43 tasks      | elapsed: 557.6min\n"
     ]
    },
    {
     "name": "stderr",
     "output_type": "stream",
     "text": [
      "[Parallel(n_jobs=2)]: Done  44 tasks      | elapsed: 568.6min\n"
     ]
    },
    {
     "name": "stderr",
     "output_type": "stream",
     "text": [
      "[Parallel(n_jobs=2)]: Done  45 tasks      | elapsed: 585.6min\n"
     ]
    },
    {
     "name": "stderr",
     "output_type": "stream",
     "text": [
      "[Parallel(n_jobs=2)]: Done  46 tasks      | elapsed: 596.3min\n"
     ]
    },
    {
     "name": "stderr",
     "output_type": "stream",
     "text": [
      "[Parallel(n_jobs=2)]: Done  47 tasks      | elapsed: 613.5min\n"
     ]
    },
    {
     "name": "stderr",
     "output_type": "stream",
     "text": [
      "[Parallel(n_jobs=2)]: Done  50 out of  50 | elapsed: 649.2min remaining:    0.0s\n[Parallel(n_jobs=2)]: Done  50 out of  50 | elapsed: 649.2min finished\n"
     ]
    },
    {
     "name": "stdout",
     "output_type": "stream",
     "text": [
      "Sauvegarde modele ...\nMeilleur model \n XGBClassifier(base_score=0.5, booster='gbtree', colsample_bylevel=1,\n       colsample_bytree=0.9, gamma=0.3, learning_rate=0.03,\n       max_delta_step=4, max_depth=11, max_features='sqrt',\n       min_child_weight=12, missing=nan, n_estimators=1700, n_jobs=3,\n       nthread=None, objective='binary:logistic', random_state=10,\n       reg_alpha=0.2, reg_lambda=1, scale_pos_weight=1, seed=400,\n       silent=False, subsample=0.9)\n"
     ]
    },
    {
     "name": "stdout",
     "output_type": "stream",
     "text": [
      ">>>>  Accuracy: 92.47%\n             precision    recall  f1-score   support\n\n          0       0.93      0.99      0.96     66394\n          1       0.45      0.09      0.15      5299\n\navg / total       0.90      0.92      0.90     71693\n\n-----------------------------------------------------------------------------------------------------------------------------------------------------\n"
     ]
    },
    {
     "name": "stderr",
     "output_type": "stream",
     "text": [
      "c:\\python\\lib\\site-packages\\sklearn\\preprocessing\\label.py:151: DeprecationWarning: The truth value of an empty array is ambiguous. Returning False, but in future this will result in an error. Use `array.size > 0` to check that an array is not empty.\n  if diff:\n"
     ]
    }
   ],
   "source": [
    "model = load_mymodel(allure_etudier)\n",
    "print(model)            \n",
    "param_dist = {                                         \n",
    "           'n_estimators':range(1100, 2000, 100),\n",
    "           'learning_rate':[i/100.0 for i in range(3,10)]                                 \n",
    "                        }    \n",
    "    \n",
    "model=rechercheXGBClassifier(model, param_dist,train_x, train_y,  test_x, test_y,feature_columns=feature_columns,iter_search=5)"
   ]
  },
  {
   "cell_type": "code",
   "execution_count": 37,
   "metadata": {},
   "outputs": [
    {
     "name": "stdout",
     "output_type": "stream",
     "text": [
      "Restauration modele ...\n",
      "XGBClassifier(base_score=0.5, booster='gbtree', colsample_bylevel=0.6,\n",
      "       colsample_bytree=0.7, gamma=0.0, learning_rate=0.04,\n",
      "       max_delta_step=3, max_depth=14, max_features='sqrt',\n",
      "       min_child_weight=6, missing=nan, n_estimators=1330, n_jobs=3,\n",
      "       nthread=None, objective='binary:logistic', random_state=42,\n",
      "       reg_alpha=1e-05, reg_lambda=5.0, scale_pos_weight=1, seed=900,\n",
      "       silent=False, subsample=1)\n",
      "Fitting 10 folds for each of 1 candidates, totalling 10 fits\n"
     ]
    },
    {
     "name": "stderr",
     "output_type": "stream",
     "text": [
      "[Parallel(n_jobs=2)]: Done   1 tasks      | elapsed:  9.6min\n",
      "[Parallel(n_jobs=2)]: Done   2 tasks      | elapsed:  9.6min\n",
      "[Parallel(n_jobs=2)]: Done   3 tasks      | elapsed: 18.8min\n",
      "[Parallel(n_jobs=2)]: Done   4 tasks      | elapsed: 19.2min\n",
      "[Parallel(n_jobs=2)]: Done   5 tasks      | elapsed: 28.1min\n",
      "[Parallel(n_jobs=2)]: Done   6 tasks      | elapsed: 28.6min\n",
      "[Parallel(n_jobs=2)]: Done   7 tasks      | elapsed: 37.5min\n",
      "[Parallel(n_jobs=2)]: Done   8 out of  10 | elapsed: 37.9min remaining:  9.5min\n",
      "[Parallel(n_jobs=2)]: Done  10 out of  10 | elapsed: 47.1min remaining:    0.0s\n",
      "[Parallel(n_jobs=2)]: Done  10 out of  10 | elapsed: 47.1min finished\n"
     ]
    },
    {
     "name": "stdout",
     "output_type": "stream",
     "text": [
      "Sauvegarde modele ...\n",
      "Meilleur model \n",
      " XGBClassifier(base_score=0.5, booster='gbtree', colsample_bylevel=0.6,\n",
      "       colsample_bytree=0.7, gamma=0.0, learning_rate=0.04,\n",
      "       max_delta_step=3, max_depth=14, max_features='sqrt',\n",
      "       min_child_weight=6, missing=nan, n_estimators=1330, n_jobs=3,\n",
      "       nthread=None, objective='binary:logistic', random_state=42,\n",
      "       reg_alpha=1e-05, reg_lambda=5.0, scale_pos_weight=1, seed=100,\n",
      "       silent=False, subsample=1)\n"
     ]
    },
    {
     "name": "stderr",
     "output_type": "stream",
     "text": [
      "c:\\python\\lib\\site-packages\\sklearn\\preprocessing\\label.py:151: DeprecationWarning: The truth value of an empty array is ambiguous. Returning False, but in future this will result in an error. Use `array.size > 0` to check that an array is not empty.\n",
      "  if diff:\n"
     ]
    },
    {
     "name": "stdout",
     "output_type": "stream",
     "text": [
      ">>>>  Accuracy: 79.27%\n",
      "             precision    recall  f1-score   support\n",
      "\n",
      "          0       0.82      0.94      0.88     46360\n",
      "          1       0.58      0.29      0.39     13435\n",
      "\n",
      "avg / total       0.77      0.79      0.77     59795\n",
      "\n",
      "\n",
      "EVAL SET ....\n"
     ]
    },
    {
     "name": "stderr",
     "output_type": "stream",
     "text": [
      "c:\\python\\lib\\site-packages\\sklearn\\preprocessing\\label.py:151: DeprecationWarning: The truth value of an empty array is ambiguous. Returning False, but in future this will result in an error. Use `array.size > 0` to check that an array is not empty.\n",
      "  if diff:\n",
      "c:\\python\\lib\\site-packages\\sklearn\\preprocessing\\label.py:151: DeprecationWarning: The truth value of an empty array is ambiguous. Returning False, but in future this will result in an error. Use `array.size > 0` to check that an array is not empty.\n",
      "  if diff:\n"
     ]
    },
    {
     "name": "stdout",
     "output_type": "stream",
     "text": [
      "Evaluation TEST-----------------------------------------------------------------------\n",
      "TEST roc_auc_score :  0.6153501078756791\n"
     ]
    },
    {
     "name": "stderr",
     "output_type": "stream",
     "text": [
      "c:\\python\\lib\\site-packages\\sklearn\\preprocessing\\label.py:151: DeprecationWarning: The truth value of an empty array is ambiguous. Returning False, but in future this will result in an error. Use `array.size > 0` to check that an array is not empty.\n",
      "  if diff:\n"
     ]
    },
    {
     "name": "stdout",
     "output_type": "stream",
     "text": [
      "[[138964    311]\n",
      " [  7651 131624]]\n"
     ]
    },
    {
     "name": "stderr",
     "output_type": "stream",
     "text": [
      "c:\\python\\lib\\site-packages\\sklearn\\preprocessing\\label.py:151: DeprecationWarning: The truth value of an empty array is ambiguous. Returning False, but in future this will result in an error. Use `array.size > 0` to check that an array is not empty.\n",
      "  if diff:\n"
     ]
    },
    {
     "name": "stdout",
     "output_type": "stream",
     "text": [
      "[[43463  2897]\n",
      " [ 9496  3939]]\n",
      "Classification Correcte des données de test : 47402/59795    79.274%\n",
      "\n",
      "Score  TEST  :   79.274  ************************\n",
      "-----------------------------------------------------------------------------------------------------------------------------------------------------\n"
     ]
    },
    {
     "name": "stderr",
     "output_type": "stream",
     "text": [
      "c:\\python\\lib\\site-packages\\sklearn\\preprocessing\\label.py:151: DeprecationWarning: The truth value of an empty array is ambiguous. Returning False, but in future this will result in an error. Use `array.size > 0` to check that an array is not empty.\n",
      "  if diff:\n"
     ]
    },
    {
     "data": {
      "image/png": "[encoded data removed]",
      "text/plain": [
       "<Figure size 288x288 with 2 Axes>"
      ]
     },
     "metadata": {},
     "output_type": "display_data"
    }
   ],
   "source": [
    "model = load_mymodel(allure_etudier)\n",
    "print(model)            \n",
    "param_dist = {                                         \n",
    "           'seed':range(100, 1500, 90),\n",
    "           'max_delta_step':range(1, 10, 1),                                 \n",
    "                        }    \n",
    "model=rechercheXGBClassifier(model, param_dist,train_x, train_y,  test_x, test_y,feature_columns=feature_columns,iter_search=1)"
   ]
  },
  {
   "cell_type": "code",
   "execution_count": null,
   "metadata": {},
   "outputs": [
    {
     "name": "stdout",
     "output_type": "stream",
     "text": [
      "Restauration modele ...\n",
      "XGBClassifier(base_score=0.5, booster='gbtree', colsample_bylevel=0.6,\n",
      "       colsample_bytree=0.7, gamma=0.0, learning_rate=0.04,\n",
      "       max_delta_step=3, max_depth=14, max_features='sqrt',\n",
      "       min_child_weight=6, missing=nan, n_estimators=1330, n_jobs=3,\n",
      "       nthread=None, objective='binary:logistic', random_state=42,\n",
      "       reg_alpha=1e-05, reg_lambda=5.0, scale_pos_weight=1, seed=100,\n",
      "       silent=False, subsample=1)\n",
      "Fitting 10 folds for each of 30 candidates, totalling 300 fits\n"
     ]
    },
    {
     "name": "stderr",
     "output_type": "stream",
     "text": [
      "[Parallel(n_jobs=2)]: Done   1 tasks      | elapsed:  9.7min\n",
      "[Parallel(n_jobs=2)]: Done   2 tasks      | elapsed:  9.7min\n",
      "[Parallel(n_jobs=2)]: Done   3 tasks      | elapsed: 19.0min\n",
      "[Parallel(n_jobs=2)]: Done   4 tasks      | elapsed: 19.4min\n",
      "[Parallel(n_jobs=2)]: Done   5 tasks      | elapsed: 28.4min\n",
      "[Parallel(n_jobs=2)]: Done   6 tasks      | elapsed: 28.9min\n",
      "[Parallel(n_jobs=2)]: Done   7 tasks      | elapsed: 37.8min\n",
      "[Parallel(n_jobs=2)]: Done   8 tasks      | elapsed: 38.3min\n",
      "[Parallel(n_jobs=2)]: Done   9 tasks      | elapsed: 47.2min\n",
      "[Parallel(n_jobs=2)]: Done  10 tasks      | elapsed: 47.8min\n",
      "[Parallel(n_jobs=2)]: Done  11 tasks      | elapsed: 54.6min\n",
      "[Parallel(n_jobs=2)]: Done  12 tasks      | elapsed: 55.3min\n",
      "[Parallel(n_jobs=2)]: Done  13 tasks      | elapsed: 62.2min\n",
      "[Parallel(n_jobs=2)]: Done  14 tasks      | elapsed: 62.6min\n",
      "[Parallel(n_jobs=2)]: Done  15 tasks      | elapsed: 69.6min\n",
      "[Parallel(n_jobs=2)]: Done  16 tasks      | elapsed: 70.0min\n",
      "[Parallel(n_jobs=2)]: Done  17 tasks      | elapsed: 76.9min\n",
      "[Parallel(n_jobs=2)]: Done  18 tasks      | elapsed: 77.3min\n",
      "[Parallel(n_jobs=2)]: Done  19 tasks      | elapsed: 84.2min\n",
      "[Parallel(n_jobs=2)]: Done  20 tasks      | elapsed: 84.6min\n",
      "[Parallel(n_jobs=2)]: Done  21 tasks      | elapsed: 91.8min\n",
      "[Parallel(n_jobs=2)]: Done  22 tasks      | elapsed: 92.2min\n",
      "[Parallel(n_jobs=2)]: Done  23 tasks      | elapsed: 99.3min\n",
      "[Parallel(n_jobs=2)]: Done  24 tasks      | elapsed: 99.6min\n",
      "[Parallel(n_jobs=2)]: Done  25 tasks      | elapsed: 106.7min\n",
      "[Parallel(n_jobs=2)]: Done  26 tasks      | elapsed: 107.0min\n",
      "[Parallel(n_jobs=2)]: Done  27 tasks      | elapsed: 114.1min\n",
      "[Parallel(n_jobs=2)]: Done  28 tasks      | elapsed: 114.4min\n",
      "[Parallel(n_jobs=2)]: Done  29 tasks      | elapsed: 121.4min\n",
      "[Parallel(n_jobs=2)]: Done  30 tasks      | elapsed: 121.7min\n",
      "[Parallel(n_jobs=2)]: Done  31 tasks      | elapsed: 125.7min\n",
      "[Parallel(n_jobs=2)]: Done  32 tasks      | elapsed: 126.0min\n",
      "[Parallel(n_jobs=2)]: Done  33 tasks      | elapsed: 129.9min\n",
      "[Parallel(n_jobs=2)]: Done  34 tasks      | elapsed: 130.1min\n",
      "[Parallel(n_jobs=2)]: Done  35 tasks      | elapsed: 134.1min\n",
      "[Parallel(n_jobs=2)]: Done  36 tasks      | elapsed: 134.2min\n",
      "[Parallel(n_jobs=2)]: Done  37 tasks      | elapsed: 138.3min\n",
      "[Parallel(n_jobs=2)]: Done  38 tasks      | elapsed: 138.3min\n",
      "[Parallel(n_jobs=2)]: Done  39 tasks      | elapsed: 142.4min\n",
      "[Parallel(n_jobs=2)]: Done  40 tasks      | elapsed: 142.5min\n",
      "[Parallel(n_jobs=2)]: Done  41 tasks      | elapsed: 147.6min\n",
      "[Parallel(n_jobs=2)]: Done  42 tasks      | elapsed: 147.7min\n",
      "[Parallel(n_jobs=2)]: Done  43 tasks      | elapsed: 152.9min\n",
      "[Parallel(n_jobs=2)]: Done  44 tasks      | elapsed: 152.9min\n",
      "[Parallel(n_jobs=2)]: Done  45 tasks      | elapsed: 158.0min\n",
      "[Parallel(n_jobs=2)]: Done  46 tasks      | elapsed: 158.0min\n",
      "[Parallel(n_jobs=2)]: Done  47 tasks      | elapsed: 163.2min\n",
      "[Parallel(n_jobs=2)]: Done  48 tasks      | elapsed: 163.2min\n",
      "[Parallel(n_jobs=2)]: Done  49 tasks      | elapsed: 168.4min\n",
      "[Parallel(n_jobs=2)]: Done  50 tasks      | elapsed: 168.5min\n",
      "[Parallel(n_jobs=2)]: Done  51 tasks      | elapsed: 176.1min\n",
      "[Parallel(n_jobs=2)]: Done  52 tasks      | elapsed: 176.1min\n",
      "[Parallel(n_jobs=2)]: Done  53 tasks      | elapsed: 183.4min\n",
      "[Parallel(n_jobs=2)]: Done  54 tasks      | elapsed: 183.7min\n",
      "[Parallel(n_jobs=2)]: Done  55 tasks      | elapsed: 190.8min\n",
      "[Parallel(n_jobs=2)]: Done  56 tasks      | elapsed: 191.1min\n",
      "[Parallel(n_jobs=2)]: Done  57 tasks      | elapsed: 198.1min\n",
      "[Parallel(n_jobs=2)]: Done  58 tasks      | elapsed: 198.4min\n",
      "[Parallel(n_jobs=2)]: Done  59 tasks      | elapsed: 205.5min\n",
      "[Parallel(n_jobs=2)]: Done  60 tasks      | elapsed: 205.8min\n",
      "[Parallel(n_jobs=2)]: Done  61 tasks      | elapsed: 211.7min\n",
      "[Parallel(n_jobs=2)]: Done  62 tasks      | elapsed: 212.1min\n",
      "[Parallel(n_jobs=2)]: Done  63 tasks      | elapsed: 218.0min\n",
      "[Parallel(n_jobs=2)]: Done  64 tasks      | elapsed: 218.2min\n",
      "[Parallel(n_jobs=2)]: Done  65 tasks      | elapsed: 224.1min\n",
      "[Parallel(n_jobs=2)]: Done  66 tasks      | elapsed: 224.3min\n",
      "[Parallel(n_jobs=2)]: Done  67 tasks      | elapsed: 230.2min\n",
      "[Parallel(n_jobs=2)]: Done  68 tasks      | elapsed: 230.4min\n",
      "[Parallel(n_jobs=2)]: Done  69 tasks      | elapsed: 236.2min\n",
      "[Parallel(n_jobs=2)]: Done  70 tasks      | elapsed: 236.5min\n",
      "[Parallel(n_jobs=2)]: Done  71 tasks      | elapsed: 241.5min\n",
      "[Parallel(n_jobs=2)]: Done  72 tasks      | elapsed: 241.9min\n",
      "[Parallel(n_jobs=2)]: Done  73 tasks      | elapsed: 246.9min\n",
      "[Parallel(n_jobs=2)]: Done  74 tasks      | elapsed: 247.2min\n",
      "[Parallel(n_jobs=2)]: Done  75 tasks      | elapsed: 252.1min\n",
      "[Parallel(n_jobs=2)]: Done  76 tasks      | elapsed: 252.4min\n",
      "[Parallel(n_jobs=2)]: Done  77 tasks      | elapsed: 257.3min\n",
      "[Parallel(n_jobs=2)]: Done  78 tasks      | elapsed: 257.7min\n",
      "[Parallel(n_jobs=2)]: Done  79 tasks      | elapsed: 262.5min\n",
      "[Parallel(n_jobs=2)]: Done  80 tasks      | elapsed: 262.9min\n",
      "[Parallel(n_jobs=2)]: Done  81 tasks      | elapsed: 268.7min\n",
      "[Parallel(n_jobs=2)]: Done  82 tasks      | elapsed: 269.1min\n",
      "[Parallel(n_jobs=2)]: Done  83 tasks      | elapsed: 274.9min\n",
      "[Parallel(n_jobs=2)]: Done  84 tasks      | elapsed: 275.2min\n",
      "[Parallel(n_jobs=2)]: Done  85 tasks      | elapsed: 281.0min\n",
      "[Parallel(n_jobs=2)]: Done  86 tasks      | elapsed: 281.3min\n",
      "[Parallel(n_jobs=2)]: Done  87 tasks      | elapsed: 287.0min\n",
      "[Parallel(n_jobs=2)]: Done  88 tasks      | elapsed: 287.4min\n",
      "[Parallel(n_jobs=2)]: Done  89 tasks      | elapsed: 293.0min\n",
      "[Parallel(n_jobs=2)]: Done  90 tasks      | elapsed: 293.5min\n",
      "[Parallel(n_jobs=2)]: Done  91 tasks      | elapsed: 303.5min\n",
      "[Parallel(n_jobs=2)]: Done  92 tasks      | elapsed: 304.0min\n",
      "[Parallel(n_jobs=2)]: Done  93 tasks      | elapsed: 314.0min\n",
      "[Parallel(n_jobs=2)]: Done  94 tasks      | elapsed: 314.1min\n",
      "[Parallel(n_jobs=2)]: Done  95 tasks      | elapsed: 324.2min\n",
      "[Parallel(n_jobs=2)]: Done  96 tasks      | elapsed: 324.3min\n",
      "[Parallel(n_jobs=2)]: Done  97 tasks      | elapsed: 334.3min\n",
      "[Parallel(n_jobs=2)]: Done  98 tasks      | elapsed: 334.4min\n",
      "[Parallel(n_jobs=2)]: Done  99 tasks      | elapsed: 344.4min\n",
      "[Parallel(n_jobs=2)]: Done 100 tasks      | elapsed: 344.7min\n",
      "[Parallel(n_jobs=2)]: Done 101 tasks      | elapsed: 350.6min\n",
      "[Parallel(n_jobs=2)]: Done 102 tasks      | elapsed: 350.9min\n",
      "[Parallel(n_jobs=2)]: Done 103 tasks      | elapsed: 356.8min\n",
      "[Parallel(n_jobs=2)]: Done 104 tasks      | elapsed: 357.0min\n",
      "[Parallel(n_jobs=2)]: Done 105 tasks      | elapsed: 362.9min\n",
      "[Parallel(n_jobs=2)]: Done 106 tasks      | elapsed: 363.1min\n",
      "[Parallel(n_jobs=2)]: Done 107 tasks      | elapsed: 369.0min\n",
      "[Parallel(n_jobs=2)]: Done 108 tasks      | elapsed: 369.1min\n",
      "[Parallel(n_jobs=2)]: Done 109 tasks      | elapsed: 375.1min\n",
      "[Parallel(n_jobs=2)]: Done 110 tasks      | elapsed: 375.2min\n",
      "[Parallel(n_jobs=2)]: Done 111 tasks      | elapsed: 382.7min\n",
      "[Parallel(n_jobs=2)]: Done 112 tasks      | elapsed: 382.8min\n",
      "[Parallel(n_jobs=2)]: Done 113 tasks      | elapsed: 390.3min\n",
      "[Parallel(n_jobs=2)]: Done 114 tasks      | elapsed: 390.3min\n",
      "[Parallel(n_jobs=2)]: Done 115 tasks      | elapsed: 397.7min\n",
      "[Parallel(n_jobs=2)]: Done 116 tasks      | elapsed: 397.7min\n",
      "[Parallel(n_jobs=2)]: Done 117 tasks      | elapsed: 405.2min\n",
      "[Parallel(n_jobs=2)]: Done 118 tasks      | elapsed: 405.3min\n",
      "[Parallel(n_jobs=2)]: Done 119 tasks      | elapsed: 412.6min\n",
      "[Parallel(n_jobs=2)]: Done 120 tasks      | elapsed: 412.7min\n",
      "[Parallel(n_jobs=2)]: Done 121 tasks      | elapsed: 420.3min\n",
      "[Parallel(n_jobs=2)]: Done 122 tasks      | elapsed: 420.4min\n",
      "[Parallel(n_jobs=2)]: Done 123 tasks      | elapsed: 427.8min\n",
      "[Parallel(n_jobs=2)]: Done 124 tasks      | elapsed: 427.9min\n",
      "[Parallel(n_jobs=2)]: Done 125 tasks      | elapsed: 435.1min\n",
      "[Parallel(n_jobs=2)]: Done 126 tasks      | elapsed: 435.3min\n",
      "[Parallel(n_jobs=2)]: Done 127 tasks      | elapsed: 442.5min\n",
      "[Parallel(n_jobs=2)]: Done 128 tasks      | elapsed: 442.7min\n",
      "[Parallel(n_jobs=2)]: Done 129 tasks      | elapsed: 450.0min\n",
      "[Parallel(n_jobs=2)]: Done 130 tasks      | elapsed: 450.1min\n",
      "[Parallel(n_jobs=2)]: Done 131 tasks      | elapsed: 457.6min\n",
      "[Parallel(n_jobs=2)]: Done 132 tasks      | elapsed: 457.8min\n",
      "[Parallel(n_jobs=2)]: Done 133 tasks      | elapsed: 465.2min\n"
     ]
    },
    {
     "name": "stderr",
     "output_type": "stream",
     "text": [
      "[Parallel(n_jobs=2)]: Done 134 tasks      | elapsed: 465.3min\n",
      "[Parallel(n_jobs=2)]: Done 135 tasks      | elapsed: 472.8min\n",
      "[Parallel(n_jobs=2)]: Done 136 tasks      | elapsed: 472.8min\n",
      "[Parallel(n_jobs=2)]: Done 137 tasks      | elapsed: 480.2min\n",
      "[Parallel(n_jobs=2)]: Done 138 tasks      | elapsed: 480.2min\n",
      "[Parallel(n_jobs=2)]: Done 139 tasks      | elapsed: 487.7min\n",
      "[Parallel(n_jobs=2)]: Done 140 tasks      | elapsed: 487.7min\n",
      "[Parallel(n_jobs=2)]: Done 141 tasks      | elapsed: 495.3min\n",
      "[Parallel(n_jobs=2)]: Done 142 tasks      | elapsed: 495.4min\n",
      "[Parallel(n_jobs=2)]: Done 143 tasks      | elapsed: 502.8min\n",
      "[Parallel(n_jobs=2)]: Done 144 tasks      | elapsed: 503.0min\n",
      "[Parallel(n_jobs=2)]: Done 145 tasks      | elapsed: 510.2min\n",
      "[Parallel(n_jobs=2)]: Done 146 tasks      | elapsed: 510.4min\n",
      "[Parallel(n_jobs=2)]: Done 147 tasks      | elapsed: 517.6min\n",
      "[Parallel(n_jobs=2)]: Done 148 tasks      | elapsed: 517.8min\n",
      "[Parallel(n_jobs=2)]: Done 149 tasks      | elapsed: 525.1min\n",
      "[Parallel(n_jobs=2)]: Done 150 tasks      | elapsed: 525.3min\n",
      "[Parallel(n_jobs=2)]: Done 151 tasks      | elapsed: 531.2min\n",
      "[Parallel(n_jobs=2)]: Done 152 tasks      | elapsed: 531.6min\n",
      "[Parallel(n_jobs=2)]: Done 153 tasks      | elapsed: 537.5min\n",
      "[Parallel(n_jobs=2)]: Done 154 tasks      | elapsed: 537.7min\n",
      "[Parallel(n_jobs=2)]: Done 155 tasks      | elapsed: 543.6min\n",
      "[Parallel(n_jobs=2)]: Done 156 tasks      | elapsed: 543.8min\n",
      "[Parallel(n_jobs=2)]: Done 157 tasks      | elapsed: 549.6min\n",
      "[Parallel(n_jobs=2)]: Done 158 tasks      | elapsed: 549.9min\n",
      "[Parallel(n_jobs=2)]: Done 159 tasks      | elapsed: 555.8min\n",
      "[Parallel(n_jobs=2)]: Done 160 tasks      | elapsed: 556.0min\n",
      "[Parallel(n_jobs=2)]: Done 161 tasks      | elapsed: 565.4min\n",
      "[Parallel(n_jobs=2)]: Done 162 tasks      | elapsed: 565.7min\n",
      "[Parallel(n_jobs=2)]: Done 163 tasks      | elapsed: 575.0min\n",
      "[Parallel(n_jobs=2)]: Done 164 tasks      | elapsed: 575.2min\n",
      "[Parallel(n_jobs=2)]: Done 165 tasks      | elapsed: 584.5min\n",
      "[Parallel(n_jobs=2)]: Done 166 tasks      | elapsed: 584.7min\n",
      "[Parallel(n_jobs=2)]: Done 167 tasks      | elapsed: 593.9min\n",
      "[Parallel(n_jobs=2)]: Done 168 tasks      | elapsed: 594.2min\n",
      "[Parallel(n_jobs=2)]: Done 169 tasks      | elapsed: 603.3min\n",
      "[Parallel(n_jobs=2)]: Done 170 tasks      | elapsed: 603.6min\n",
      "[Parallel(n_jobs=2)]: Done 171 tasks      | elapsed: 607.6min\n",
      "[Parallel(n_jobs=2)]: Done 172 tasks      | elapsed: 607.9min\n",
      "[Parallel(n_jobs=2)]: Done 173 tasks      | elapsed: 612.0min\n",
      "[Parallel(n_jobs=2)]: Done 174 tasks      | elapsed: 612.1min\n",
      "[Parallel(n_jobs=2)]: Done 175 tasks      | elapsed: 616.2min\n",
      "[Parallel(n_jobs=2)]: Done 176 tasks      | elapsed: 616.3min\n",
      "[Parallel(n_jobs=2)]: Done 177 tasks      | elapsed: 620.4min\n",
      "[Parallel(n_jobs=2)]: Done 178 tasks      | elapsed: 620.5min\n",
      "[Parallel(n_jobs=2)]: Done 179 tasks      | elapsed: 624.6min\n",
      "[Parallel(n_jobs=2)]: Done 180 tasks      | elapsed: 624.8min\n",
      "[Parallel(n_jobs=2)]: Done 181 tasks      | elapsed: 636.2min\n",
      "[Parallel(n_jobs=2)]: Done 182 tasks      | elapsed: 636.5min\n",
      "[Parallel(n_jobs=2)]: Done 183 tasks      | elapsed: 647.9min\n",
      "[Parallel(n_jobs=2)]: Done 184 tasks      | elapsed: 648.0min\n",
      "[Parallel(n_jobs=2)]: Done 185 tasks      | elapsed: 659.3min\n",
      "[Parallel(n_jobs=2)]: Done 186 tasks      | elapsed: 659.3min\n",
      "[Parallel(n_jobs=2)]: Done 187 tasks      | elapsed: 670.7min\n",
      "[Parallel(n_jobs=2)]: Done 188 tasks      | elapsed: 670.8min\n",
      "[Parallel(n_jobs=2)]: Done 189 tasks      | elapsed: 682.1min\n",
      "[Parallel(n_jobs=2)]: Done 190 tasks      | elapsed: 682.3min\n",
      "[Parallel(n_jobs=2)]: Done 191 tasks      | elapsed: 690.5min\n",
      "[Parallel(n_jobs=2)]: Done 192 tasks      | elapsed: 690.7min\n",
      "[Parallel(n_jobs=2)]: Done 193 tasks      | elapsed: 698.9min\n",
      "[Parallel(n_jobs=2)]: Done 194 tasks      | elapsed: 698.9min\n",
      "[Parallel(n_jobs=2)]: Done 195 tasks      | elapsed: 707.1min\n",
      "[Parallel(n_jobs=2)]: Done 196 tasks      | elapsed: 707.1min\n",
      "[Parallel(n_jobs=2)]: Done 197 tasks      | elapsed: 715.5min\n",
      "[Parallel(n_jobs=2)]: Done 198 tasks      | elapsed: 715.7min\n",
      "[Parallel(n_jobs=2)]: Done 199 tasks      | elapsed: 725.2min\n",
      "[Parallel(n_jobs=2)]: Done 200 tasks      | elapsed: 725.4min\n",
      "[Parallel(n_jobs=2)]: Done 201 tasks      | elapsed: 738.5min\n",
      "[Parallel(n_jobs=2)]: Done 202 tasks      | elapsed: 738.8min\n",
      "[Parallel(n_jobs=2)]: Done 203 tasks      | elapsed: 750.9min\n",
      "[Parallel(n_jobs=2)]: Done 204 tasks      | elapsed: 750.9min\n",
      "[Parallel(n_jobs=2)]: Done 205 tasks      | elapsed: 762.4min\n",
      "[Parallel(n_jobs=2)]: Done 206 tasks      | elapsed: 762.5min\n",
      "[Parallel(n_jobs=2)]: Done 207 tasks      | elapsed: 773.8min\n",
      "[Parallel(n_jobs=2)]: Done 208 tasks      | elapsed: 773.9min\n",
      "[Parallel(n_jobs=2)]: Done 209 tasks      | elapsed: 785.2min\n",
      "[Parallel(n_jobs=2)]: Done 210 tasks      | elapsed: 785.2min\n",
      "[Parallel(n_jobs=2)]: Done 211 tasks      | elapsed: 791.5min\n",
      "[Parallel(n_jobs=2)]: Done 212 tasks      | elapsed: 791.6min\n",
      "[Parallel(n_jobs=2)]: Done 213 tasks      | elapsed: 797.7min\n",
      "[Parallel(n_jobs=2)]: Done 214 tasks      | elapsed: 797.9min\n",
      "[Parallel(n_jobs=2)]: Done 215 tasks      | elapsed: 804.0min\n",
      "[Parallel(n_jobs=2)]: Done 216 tasks      | elapsed: 804.1min\n",
      "[Parallel(n_jobs=2)]: Done 217 tasks      | elapsed: 810.3min\n",
      "[Parallel(n_jobs=2)]: Done 218 tasks      | elapsed: 810.4min\n",
      "[Parallel(n_jobs=2)]: Done 219 tasks      | elapsed: 816.5min\n",
      "[Parallel(n_jobs=2)]: Done 220 tasks      | elapsed: 816.5min\n",
      "[Parallel(n_jobs=2)]: Done 221 tasks      | elapsed: 828.4min\n",
      "[Parallel(n_jobs=2)]: Done 222 tasks      | elapsed: 828.5min\n",
      "[Parallel(n_jobs=2)]: Done 223 tasks      | elapsed: 840.1min\n",
      "[Parallel(n_jobs=2)]: Done 224 tasks      | elapsed: 840.3min\n",
      "[Parallel(n_jobs=2)]: Done 225 tasks      | elapsed: 851.6min\n",
      "[Parallel(n_jobs=2)]: Done 226 tasks      | elapsed: 851.8min\n",
      "[Parallel(n_jobs=2)]: Done 227 tasks      | elapsed: 863.2min\n",
      "[Parallel(n_jobs=2)]: Done 228 tasks      | elapsed: 863.3min\n",
      "[Parallel(n_jobs=2)]: Done 229 tasks      | elapsed: 874.5min\n",
      "[Parallel(n_jobs=2)]: Done 230 tasks      | elapsed: 874.8min\n",
      "[Parallel(n_jobs=2)]: Done 231 tasks      | elapsed: 879.9min\n",
      "[Parallel(n_jobs=2)]: Done 232 tasks      | elapsed: 880.1min\n",
      "[Parallel(n_jobs=2)]: Done 233 tasks      | elapsed: 885.3min\n",
      "[Parallel(n_jobs=2)]: Done 234 tasks      | elapsed: 885.3min\n",
      "[Parallel(n_jobs=2)]: Done 235 tasks      | elapsed: 890.5min\n",
      "[Parallel(n_jobs=2)]: Done 236 tasks      | elapsed: 890.5min\n",
      "[Parallel(n_jobs=2)]: Done 237 tasks      | elapsed: 895.8min\n",
      "[Parallel(n_jobs=2)]: Done 238 tasks      | elapsed: 895.9min\n",
      "[Parallel(n_jobs=2)]: Done 239 tasks      | elapsed: 901.6min\n",
      "[Parallel(n_jobs=2)]: Done 240 tasks      | elapsed: 901.8min\n",
      "[Parallel(n_jobs=2)]: Done 241 tasks      | elapsed: 912.6min\n",
      "[Parallel(n_jobs=2)]: Done 242 tasks      | elapsed: 912.9min\n"
     ]
    }
   ],
   "source": [
    "model = load_mymodel(allure_etudier)\n",
    "print(model)            \n",
    "param_dist = {                                         \n",
    "           'colsample_bylevel':[i/10.0 for i in range(1,9)],\n",
    "           'reg_lambda':range(1, 10, 1),                     \n",
    "    'scale_pos_weight':range(1, 10, 1),                                 \n",
    "                        }    \n",
    "model=rechercheXGBClassifier(model, param_dist,train_x, train_y,  test_x, test_y,feature_columns=feature_columns,iter_search=30)"
   ]
  },
  {
   "cell_type": "code",
   "execution_count": null,
   "metadata": {},
   "outputs": [],
   "source": [
    "model = load_mymodel(allure_etudier)\n",
    "print(\"Modele final ...........\")\n",
    "print(model)            "
   ]
  },
  {
   "cell_type": "code",
   "execution_count": null,
   "metadata": {},
   "outputs": [],
   "source": [
    "start_time=timer()\n",
    "eval_set = [(train_x, train_y), (test_x, test_x)]\n",
    "model.fit(train_x, train_y, eval_metric=[\"error\", \"auc\"], eval_set=eval_set, verbose=False, early_stopping_rounds=300)\n",
    "\n",
    "print(\"***********\")\n",
    "timer(start_time)          \n"
   ]
  },
  {
   "cell_type": "code",
   "execution_count": null,
   "metadata": {},
   "outputs": [],
   "source": [
    "courbe_de_roc(estimator, test_x,test_y)"
   ]
  },
  {
   "cell_type": "code",
   "execution_count": null,
   "metadata": {},
   "outputs": [],
   "source": [
    "y_pred = model.predict(test_x)\n",
    "predictions = [round(value) for value in y_pred]\n",
    "PROBA = model.predict_proba(test_x)\n",
    " # evaluate predictions\n",
    "accuracy = accuracy_score(test_y, predictions)\n",
    "print(\">>>>>>>>>>  Accuracy: %.2f%%\" % (accuracy * 100.0))\n",
    "        "
   ]
  },
  {
   "cell_type": "code",
   "execution_count": null,
   "metadata": {},
   "outputs": [],
   "source": [
    "    print(classification_report(test_y, predictions))"
   ]
  },
  {
   "cell_type": "code",
   "execution_count": null,
   "metadata": {},
   "outputs": [],
   "source": [
    "\n",
    "        # retrieve performance metrics\n",
    "results = model.evals_result()\n",
    "epochs = len(results['validation_0']['auc'])\n",
    "x_axis = range(0, epochs)\n",
    "\n",
    " # plot log loss\n",
    "fig, ax = pyplot.subplots()\n",
    "ax.plot(x_axis, results['validation_0']['error'], label='Train')\n",
    "ax.plot(x_axis, results['validation_1']['error'], label='Test')\n",
    "ax.legend()\n",
    "pyplot.ylabel('auc')\n",
    "pyplot.title('XGBoost auc')\n",
    "pyplot.show()\n",
    "\n",
    "        # plot classification error\n",
    "fig, ax = pyplot.subplots()\n",
    "ax.plot(x_axis, results['validation_0']['auc'], label='Train')\n",
    "ax.plot(x_axis, results['validation_1']['auc'], label='Test')\n",
    "ax.legend()\n",
    "pyplot.ylabel('Classification Error')\n",
    "pyplot.title('XGBoost Classification Error')\n",
    "pyplot.show()\n",
    "\n",
    "        #Plot_predictor_importance(best_model=model, feature_columns=featurecolums)\n",
    "\n",
    "plot_importance(feature_columns=feature_columns,model=model)\n"
   ]
  },
  {
   "cell_type": "code",
   "execution_count": null,
   "metadata": {},
   "outputs": [],
   "source": [
    "afficheEvalSet(model,train_x,train_y,test_x,test_y,type_eval=1)\n",
    "afficheEvalSet(model,train_x,train_y,test_x,test_y,type_eval=2)\n",
    "y_pred = model.predict(test_x)\n",
    "metrique_classe(y_pred=y_pred,y_true=test_y,xclass=0)\n",
    "metrique_classe(y_pred=y_pred, y_true=test_y, xclass=1)\n"
   ]
  },
  {
   "cell_type": "code",
   "execution_count": null,
   "metadata": {},
   "outputs": [],
   "source": []
  },
  {
   "cell_type": "code",
   "execution_count": null,
   "metadata": {},
   "outputs": [],
   "source": []
  },
  {
   "cell_type": "code",
   "execution_count": null,
   "metadata": {},
   "outputs": [],
   "source": []
  },
  {
   "cell_type": "code",
   "execution_count": null,
   "metadata": {},
   "outputs": [],
   "source": []
  },
  {
   "cell_type": "code",
   "execution_count": null,
   "metadata": {},
   "outputs": [],
   "source": []
  }
 ],
 "metadata": {
  "celltoolbar": "Attachments",
  "kernelspec": {
   "display_name": "Python 3",
   "language": "python",
   "name": "python3"
  },
  "language_info": {
   "codemirror_mode": {
    "name": "ipython",
    "version": 3
   },
   "file_extension": ".py",
   "mimetype": "text/x-python",
   "name": "python",
   "nbconvert_exporter": "python",
   "pygments_lexer": "ipython3",
   "version": "3.6.5rc1"
  }
 },
 "nbformat": 4,
 "nbformat_minor": 2
}
